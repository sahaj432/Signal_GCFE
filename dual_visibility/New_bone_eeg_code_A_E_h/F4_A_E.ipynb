{
 "cells": [
  {
   "cell_type": "code",
   "execution_count": 1,
   "id": "d05515c8",
   "metadata": {},
   "outputs": [
    {
     "name": "stdout",
     "output_type": "stream",
     "text": [
      "Loading PyIOmica 1.3.3 (https://github.com/gmiaslab/pyiomica by G. Mias Lab)\n"
     ]
    }
   ],
   "source": [
    "#%matplotlib notebook\n",
    "import numpy as np\n",
    "import os\n",
    "import glob\n",
    "import seaborn as sns\n",
    "import matplotlib.pyplot as plt\n",
    "from pyiomica_master import pyiomica as pio\n",
    "from pyiomica_master.pyiomica import visualizationFunctions\n",
    "from pyiomica_master.pyiomica import visibilityGraphCommunityDetection\n",
    "import matplotlib as mpl\n",
    "import networkx as nx\n",
    "from tqdm import tqdm\n",
    "from sklearn.model_selection import train_test_split\n",
    "\n",
    "%matplotlib inline"
   ]
  },
  {
   "cell_type": "code",
   "execution_count": 2,
   "id": "686a7503",
   "metadata": {},
   "outputs": [],
   "source": [
    "data_path=\"/home/nvekariy/signal_code/datasets/Bonn_seizure_dataset/\""
   ]
  },
  {
   "cell_type": "code",
   "execution_count": 3,
   "id": "614feb36",
   "metadata": {},
   "outputs": [],
   "source": [
    "df_path=glob.glob(data_path+\"***\")"
   ]
  },
  {
   "cell_type": "code",
   "execution_count": 4,
   "id": "b6d6ce99",
   "metadata": {},
   "outputs": [
    {
     "data": {
      "text/plain": [
       "['/home/nvekariy/signal_code/datasets/Bonn_seizure_dataset/Set_A',\n",
       " '/home/nvekariy/signal_code/datasets/Bonn_seizure_dataset/Set_B',\n",
       " '/home/nvekariy/signal_code/datasets/Bonn_seizure_dataset/Set_C',\n",
       " '/home/nvekariy/signal_code/datasets/Bonn_seizure_dataset/Set_D',\n",
       " '/home/nvekariy/signal_code/datasets/Bonn_seizure_dataset/Set_E']"
      ]
     },
     "execution_count": 4,
     "metadata": {},
     "output_type": "execute_result"
    }
   ],
   "source": [
    "df_path"
   ]
  },
  {
   "cell_type": "code",
   "execution_count": 5,
   "id": "63b0db82",
   "metadata": {},
   "outputs": [],
   "source": [
    "LABEL_C1 = 0\n",
    "LABEL_C2 = 1"
   ]
  },
  {
   "cell_type": "code",
   "execution_count": 6,
   "id": "0af44a00",
   "metadata": {},
   "outputs": [],
   "source": [
    "def load_data():\n",
    "    data = []\n",
    "    nbFiles = 0\n",
    "    df=glob.glob(df_path[0]+\"/***\")\n",
    "    for fname in tqdm(df):\n",
    "        img = np.loadtxt(fname)\n",
    "        data.append([img, np.array(LABEL_C1)])\n",
    "        nbFiles+=1\n",
    "        \n",
    "    df1=glob.glob(df_path[-1]+\"/***\")\n",
    "    for fname in tqdm(df1):\n",
    "        img = np.loadtxt(fname)\n",
    "        data.append([np.array(img), np.array(LABEL_C2)])\n",
    "        nbFiles+=1\n",
    "    \n",
    "    return data"
   ]
  },
  {
   "cell_type": "code",
   "execution_count": 7,
   "id": "7eb10476",
   "metadata": {},
   "outputs": [
    {
     "name": "stderr",
     "output_type": "stream",
     "text": [
      "100%|██████████| 100/100 [00:02<00:00, 47.32it/s]\n",
      "100%|██████████| 100/100 [00:02<00:00, 49.38it/s]"
     ]
    },
    {
     "name": "stdout",
     "output_type": "stream",
     "text": [
      "200 Files\n"
     ]
    },
    {
     "name": "stderr",
     "output_type": "stream",
     "text": [
      "\n"
     ]
    }
   ],
   "source": [
    "data = load_data()\n",
    "print(len(data), \"Files\")"
   ]
  },
  {
   "cell_type": "code",
   "execution_count": 8,
   "id": "4b171d1d",
   "metadata": {},
   "outputs": [],
   "source": [
    "from sklearn.utils import shuffle\n",
    "data = shuffle(data,random_state=40)\n",
    "\n",
    "\n",
    "X = np.array([d[0] for d in data])\n",
    "Y = np.array([d[1] for d in data])\n",
    "\n"
   ]
  },
  {
   "cell_type": "code",
   "execution_count": 9,
   "id": "debcb8b8",
   "metadata": {},
   "outputs": [
    {
     "data": {
      "text/plain": [
       "(200, 4097)"
      ]
     },
     "execution_count": 9,
     "metadata": {},
     "output_type": "execute_result"
    }
   ],
   "source": [
    "X.shape"
   ]
  },
  {
   "cell_type": "code",
   "execution_count": 10,
   "id": "4c2a9453",
   "metadata": {},
   "outputs": [],
   "source": [
    "def min_max_normalize(matrix):\n",
    "    \"\"\"\n",
    "    Perform min-max normalization on a 2D array (matrix).\n",
    "    \"\"\"\n",
    "    min_vals = np.min(matrix, axis=0)\n",
    "    max_vals = np.max(matrix, axis=0)\n",
    "    normalized = (matrix - min_vals) / (max_vals - min_vals)\n",
    "    return normalized"
   ]
  },
  {
   "cell_type": "code",
   "execution_count": 11,
   "id": "db6481d9",
   "metadata": {},
   "outputs": [],
   "source": [
    "X_n=np.array([min_max_normalize(i) for i in X])\n"
   ]
  },
  {
   "cell_type": "code",
   "execution_count": 12,
   "id": "8076da9e",
   "metadata": {},
   "outputs": [],
   "source": [
    "X_temp=[]\n",
    "Y_temp=[]\n",
    "for i in range(len(X)):\n",
    "        raw=X_n[i]\n",
    "        X_temp.append(raw[:1024])\n",
    "        X_temp.append(raw[1024:2048])\n",
    "        X_temp.append(raw[2048:3072])\n",
    "        X_temp.append(raw[3072:4096])\n",
    "        \n",
    "        Y_temp.extend(np.repeat(Y[i],4))\n",
    "\n",
    "        "
   ]
  },
  {
   "cell_type": "code",
   "execution_count": 13,
   "id": "b12c9280",
   "metadata": {},
   "outputs": [],
   "source": [
    "X_temp=np.array(X_temp)\n",
    "Y_temp=np.array(Y_temp)"
   ]
  },
  {
   "cell_type": "code",
   "execution_count": 14,
   "id": "e193f953",
   "metadata": {},
   "outputs": [
    {
     "name": "stdout",
     "output_type": "stream",
     "text": [
      "(800, 1024)\n",
      "(800,)\n"
     ]
    }
   ],
   "source": [
    "print(X_temp.shape)\n",
    "print(Y_temp.shape)"
   ]
  },
  {
   "cell_type": "code",
   "execution_count": 15,
   "id": "c2649374",
   "metadata": {},
   "outputs": [],
   "source": [
    "from sklearn.utils import shuffle\n",
    "X_s,Y_s = shuffle(X_temp,Y_temp,random_state=40)\n"
   ]
  },
  {
   "cell_type": "code",
   "execution_count": 16,
   "id": "d146de01",
   "metadata": {},
   "outputs": [
    {
     "name": "stdout",
     "output_type": "stream",
     "text": [
      "Number of unique elements: 2\n",
      "Unique elements: [0 1]\n",
      "Element counts: [400 400]\n"
     ]
    }
   ],
   "source": [
    "unique_elements, element_counts = np.unique(Y_s, return_counts=True)\n",
    "\n",
    "print(\"Number of unique elements:\", len(unique_elements))\n",
    "print(\"Unique elements:\", unique_elements)\n",
    "print(\"Element counts:\", element_counts)\n"
   ]
  },
  {
   "cell_type": "code",
   "execution_count": 17,
   "id": "435d1111",
   "metadata": {},
   "outputs": [],
   "source": [
    "def calculate_visibility(data):\n",
    "    temp1=[]\n",
    "    for p, i in enumerate(data):\n",
    "        #print(f'Converting ==> {p+1} \\r', end=\"\",flush=True)\n",
    "        vs_out = visibilityGraphCommunityDetection.createVisibilityGraph(i, range(len(i)), \"dual_natural\", weight='tan')\n",
    "        vs_out=np.array(vs_out)\n",
    "        temp1.append(vs_out)\n",
    "        \n",
    "    return temp1"
   ]
  },
  {
   "cell_type": "code",
   "execution_count": 18,
   "id": "f814f207",
   "metadata": {},
   "outputs": [
    {
     "name": "stdout",
     "output_type": "stream",
     "text": [
      "Number of CPU cores: 48\n"
     ]
    }
   ],
   "source": [
    "from multiprocessing import Pool\n",
    "import multiprocessing\n",
    "\n",
    "if __name__ == '__main__':\n",
    "    num_cores = multiprocessing.cpu_count()\n",
    "    print(\"Number of CPU cores:\", num_cores)\n"
   ]
  },
  {
   "cell_type": "code",
   "execution_count": 19,
   "id": "8658c689",
   "metadata": {},
   "outputs": [],
   "source": [
    "df=np.array_split(X_s, num_cores)\n"
   ]
  },
  {
   "cell_type": "code",
   "execution_count": 20,
   "id": "d503a8f1",
   "metadata": {},
   "outputs": [
    {
     "name": "stdout",
     "output_type": "stream",
     "text": [
      "17\n"
     ]
    }
   ],
   "source": [
    "print(len(df[0]))"
   ]
  },
  {
   "cell_type": "code",
   "execution_count": 21,
   "id": "0a1b59a3",
   "metadata": {},
   "outputs": [],
   "source": [
    "with Pool(processes=num_cores) as pool:\n",
    "    results = pool.map(calculate_visibility, df)\n",
    "\n",
    "pool.close()\n",
    "pool.join()"
   ]
  },
  {
   "cell_type": "code",
   "execution_count": 22,
   "id": "a34da891",
   "metadata": {},
   "outputs": [],
   "source": [
    "x_adj=[]\n",
    "for submatrix in results:\n",
    "    x_adj.extend(submatrix)"
   ]
  },
  {
   "cell_type": "code",
   "execution_count": 23,
   "id": "663f8024",
   "metadata": {},
   "outputs": [
    {
     "name": "stdout",
     "output_type": "stream",
     "text": [
      "800\n"
     ]
    }
   ],
   "source": [
    "print(len(x_adj))"
   ]
  },
  {
   "cell_type": "code",
   "execution_count": 24,
   "id": "37e26890",
   "metadata": {},
   "outputs": [],
   "source": [
    "x_adj=np.array(x_adj)"
   ]
  },
  {
   "cell_type": "code",
   "execution_count": 25,
   "id": "8fe37ec4",
   "metadata": {},
   "outputs": [],
   "source": [
    "def degree(data): #The node strengths (or weighted degrees) \n",
    "    return np.average(np.sum(data, axis=0))"
   ]
  },
  {
   "cell_type": "code",
   "execution_count": 26,
   "id": "fe9d74c9",
   "metadata": {},
   "outputs": [],
   "source": [
    "def runall(data):\n",
    "    temp1=[]\n",
    "    for i in data:\n",
    "        G = nx.from_numpy_array(i, parallel_edges=False)\n",
    "        \n",
    "        cpl=[nx.average_shortest_path_length(G)]\n",
    "        cc=list(nx.clustering(G).values())\n",
    "        temp1.append(cpl+cc) #+cpl+ge+le+ac+cc\n",
    "    return temp1"
   ]
  },
  {
   "cell_type": "code",
   "execution_count": 27,
   "id": "6c582fda",
   "metadata": {},
   "outputs": [
    {
     "name": "stdout",
     "output_type": "stream",
     "text": [
      "Number of CPU cores: 48\n",
      "17\n"
     ]
    }
   ],
   "source": [
    "from multiprocessing import Pool\n",
    "import multiprocessing\n",
    "\n",
    "if __name__ == '__main__':\n",
    "    num_cores = multiprocessing.cpu_count()\n",
    "    print(\"Number of CPU cores:\", num_cores)\n",
    "\n",
    "\n",
    "df1=np.array_split(x_adj[:], num_cores)\n",
    "\n",
    "\n",
    "print(len(df[0]))\n",
    "\n",
    "\n"
   ]
  },
  {
   "cell_type": "code",
   "execution_count": 28,
   "id": "489e53ab",
   "metadata": {},
   "outputs": [
    {
     "name": "stdout",
     "output_type": "stream",
     "text": [
      "--- 44.83670163154602 seconds ---\n"
     ]
    }
   ],
   "source": [
    "\n",
    "import time\n",
    "start_time = time.time()\n",
    "with Pool(processes=num_cores) as pool1:\n",
    "    results1 = pool1.map(runall, df1)\n",
    "\n",
    "pool1.close()\n",
    "pool1.join()\n",
    "\n",
    "print(\"--- %s seconds ---\" % (time.time() - start_time))\n"
   ]
  },
  {
   "cell_type": "code",
   "execution_count": 29,
   "id": "4bd5c260",
   "metadata": {},
   "outputs": [],
   "source": [
    "x_g=[]\n",
    "for submatrix in results1:\n",
    "    x_g.extend(submatrix)"
   ]
  },
  {
   "cell_type": "code",
   "execution_count": 30,
   "id": "e7087c73",
   "metadata": {},
   "outputs": [],
   "source": [
    "x_g=np.array(x_g)\n"
   ]
  },
  {
   "cell_type": "code",
   "execution_count": 31,
   "id": "6a1404fa",
   "metadata": {},
   "outputs": [
    {
     "name": "stdout",
     "output_type": "stream",
     "text": [
      "(800, 1025)\n"
     ]
    }
   ],
   "source": [
    "print(x_g.shape)"
   ]
  },
  {
   "cell_type": "code",
   "execution_count": 32,
   "id": "584b0d16",
   "metadata": {},
   "outputs": [],
   "source": [
    "x_train, x_test, y_train, y_test = train_test_split(x_g, Y_s, test_size=0.30, random_state=42)\n"
   ]
  },
  {
   "cell_type": "code",
   "execution_count": 33,
   "id": "87ff4de7",
   "metadata": {},
   "outputs": [
    {
     "name": "stdout",
     "output_type": "stream",
     "text": [
      "(560, 1025)\n",
      "(240, 1025)\n"
     ]
    }
   ],
   "source": [
    "print(x_train.shape)\n",
    "print(x_test.shape)"
   ]
  },
  {
   "cell_type": "code",
   "execution_count": 34,
   "id": "5ee715d8",
   "metadata": {},
   "outputs": [
    {
     "name": "stderr",
     "output_type": "stream",
     "text": [
      "2023-08-12 07:43:57.092749: I tensorflow/core/platform/cpu_feature_guard.cc:193] This TensorFlow binary is optimized with oneAPI Deep Neural Network Library (oneDNN) to use the following CPU instructions in performance-critical operations:  AVX2 AVX512F AVX512_VNNI FMA\n",
      "To enable them in other operations, rebuild TensorFlow with the appropriate compiler flags.\n",
      "2023-08-12 07:43:59.906447: I tensorflow/core/util/port.cc:104] oneDNN custom operations are on. You may see slightly different numerical results due to floating-point round-off errors from different computation orders. To turn them off, set the environment variable `TF_ENABLE_ONEDNN_OPTS=0`.\n",
      "2023-08-12 07:44:01.911500: W tensorflow/compiler/xla/stream_executor/platform/default/dso_loader.cc:64] Could not load dynamic library 'libcudart.so.11.0'; dlerror: libcudart.so.11.0: cannot open shared object file: No such file or directory; LD_LIBRARY_PATH: /cm/shared/apps/slurm/18.08.9/lib64/slurm:/cm/shared/apps/slurm/18.08.9/lib64\n",
      "2023-08-12 07:44:01.911544: I tensorflow/compiler/xla/stream_executor/cuda/cudart_stub.cc:29] Ignore above cudart dlerror if you do not have a GPU set up on your machine.\n",
      "2023-08-12 07:44:13.794287: W tensorflow/compiler/xla/stream_executor/platform/default/dso_loader.cc:64] Could not load dynamic library 'libnvinfer.so.7'; dlerror: libnvinfer.so.7: cannot open shared object file: No such file or directory; LD_LIBRARY_PATH: /cm/shared/apps/slurm/18.08.9/lib64/slurm:/cm/shared/apps/slurm/18.08.9/lib64\n",
      "2023-08-12 07:44:13.794404: W tensorflow/compiler/xla/stream_executor/platform/default/dso_loader.cc:64] Could not load dynamic library 'libnvinfer_plugin.so.7'; dlerror: libnvinfer_plugin.so.7: cannot open shared object file: No such file or directory; LD_LIBRARY_PATH: /cm/shared/apps/slurm/18.08.9/lib64/slurm:/cm/shared/apps/slurm/18.08.9/lib64\n",
      "2023-08-12 07:44:13.794413: W tensorflow/compiler/tf2tensorrt/utils/py_utils.cc:38] TF-TRT Warning: Cannot dlopen some TensorRT libraries. If you would like to use Nvidia GPU with TensorRT, please make sure the missing libraries mentioned above are installed properly.\n"
     ]
    }
   ],
   "source": [
    "import tensorflow as tf\n"
   ]
  },
  {
   "cell_type": "code",
   "execution_count": 35,
   "id": "a51d8943",
   "metadata": {},
   "outputs": [
    {
     "name": "stderr",
     "output_type": "stream",
     "text": [
      "2023-08-12 07:44:19.798878: W tensorflow/compiler/xla/stream_executor/platform/default/dso_loader.cc:64] Could not load dynamic library 'libcuda.so.1'; dlerror: libcuda.so.1: cannot open shared object file: No such file or directory; LD_LIBRARY_PATH: /cm/shared/apps/slurm/18.08.9/lib64/slurm:/cm/shared/apps/slurm/18.08.9/lib64\n",
      "2023-08-12 07:44:19.798941: W tensorflow/compiler/xla/stream_executor/cuda/cuda_driver.cc:265] failed call to cuInit: UNKNOWN ERROR (303)\n",
      "2023-08-12 07:44:19.798970: I tensorflow/compiler/xla/stream_executor/cuda/cuda_diagnostics.cc:156] kernel driver does not appear to be running on this host (c0188): /proc/driver/nvidia/version does not exist\n",
      "2023-08-12 07:44:19.799990: I tensorflow/core/platform/cpu_feature_guard.cc:193] This TensorFlow binary is optimized with oneAPI Deep Neural Network Library (oneDNN) to use the following CPU instructions in performance-critical operations:  AVX2 AVX512F AVX512_VNNI FMA\n",
      "To enable them in other operations, rebuild TensorFlow with the appropriate compiler flags.\n"
     ]
    }
   ],
   "source": [
    "input_shape = (x_train.shape[1],1)\n",
    "num_classes = 4\n",
    "model3 = tf.keras.models.Sequential()\n",
    "model3.add(tf.keras.layers.Conv1D(filters= 32, kernel_size=3, activation='relu',padding='same',input_shape= input_shape))\n",
    "model3.add(tf.keras.layers.MaxPooling1D(pool_size=2,strides=None,padding='valid'))\n",
    "\n",
    "model3.add(tf.keras.layers.Conv1D(filters=32, kernel_size=3,padding='same',activation='relu'))\n",
    "model3.add(tf.keras.layers.MaxPooling1D(pool_size=2,strides=None,padding='valid'))\n",
    "\n",
    "model3.add(tf.keras.layers.Conv1D(filters=32, kernel_size=3,padding='same',activation='relu'))\n",
    "model3.add(tf.keras.layers.MaxPooling1D(pool_size=2,strides=None,padding='valid'))\n",
    "model3.add(tf.keras.layers.Conv1D(filters=32, kernel_size=3,padding='same',activation='relu'))\n",
    "model3.add(tf.keras.layers.MaxPooling1D(pool_size=2,strides=None,padding='valid'))\n",
    "model3.add(tf.keras.layers.Conv1D(filters=32, kernel_size=3,padding='same',activation='relu'))\n",
    "model3.add(tf.keras.layers.MaxPooling1D(pool_size=2,strides=None,padding='valid'))\n",
    "model3.add(tf.keras.layers.Conv1D(filters=32, kernel_size=3,padding='same',activation='relu'))\n",
    "model3.add(tf.keras.layers.MaxPooling1D(pool_size=2,strides=None,padding='valid'))\n",
    "model3.add(tf.keras.layers.Flatten())\n",
    "\n",
    "model3.add(tf.keras.layers.Dense(100, activation='relu'))\n",
    "model3.add(tf.keras.layers.Dropout(0.1))\n",
    "model3.add(tf.keras.layers.Dense(100, activation='relu'))\n",
    "model3.add(tf.keras.layers.Dense(num_classes, activation='softmax'))"
   ]
  },
  {
   "cell_type": "code",
   "execution_count": 36,
   "id": "09f1d97c",
   "metadata": {},
   "outputs": [
    {
     "name": "stdout",
     "output_type": "stream",
     "text": [
      "Model: \"sequential\"\n",
      "_________________________________________________________________\n",
      " Layer (type)                Output Shape              Param #   \n",
      "=================================================================\n",
      " conv1d (Conv1D)             (None, 1025, 32)          128       \n",
      "                                                                 \n",
      " max_pooling1d (MaxPooling1D  (None, 512, 32)          0         \n",
      " )                                                               \n",
      "                                                                 \n",
      " conv1d_1 (Conv1D)           (None, 512, 32)           3104      \n",
      "                                                                 \n",
      " max_pooling1d_1 (MaxPooling  (None, 256, 32)          0         \n",
      " 1D)                                                             \n",
      "                                                                 \n",
      " conv1d_2 (Conv1D)           (None, 256, 32)           3104      \n",
      "                                                                 \n",
      " max_pooling1d_2 (MaxPooling  (None, 128, 32)          0         \n",
      " 1D)                                                             \n",
      "                                                                 \n",
      " conv1d_3 (Conv1D)           (None, 128, 32)           3104      \n",
      "                                                                 \n",
      " max_pooling1d_3 (MaxPooling  (None, 64, 32)           0         \n",
      " 1D)                                                             \n",
      "                                                                 \n",
      " conv1d_4 (Conv1D)           (None, 64, 32)            3104      \n",
      "                                                                 \n",
      " max_pooling1d_4 (MaxPooling  (None, 32, 32)           0         \n",
      " 1D)                                                             \n",
      "                                                                 \n",
      " conv1d_5 (Conv1D)           (None, 32, 32)            3104      \n",
      "                                                                 \n",
      " max_pooling1d_5 (MaxPooling  (None, 16, 32)           0         \n",
      " 1D)                                                             \n",
      "                                                                 \n",
      " flatten (Flatten)           (None, 512)               0         \n",
      "                                                                 \n",
      " dense (Dense)               (None, 100)               51300     \n",
      "                                                                 \n",
      " dropout (Dropout)           (None, 100)               0         \n",
      "                                                                 \n",
      " dense_1 (Dense)             (None, 100)               10100     \n",
      "                                                                 \n",
      " dense_2 (Dense)             (None, 4)                 404       \n",
      "                                                                 \n",
      "=================================================================\n",
      "Total params: 77,452\n",
      "Trainable params: 77,452\n",
      "Non-trainable params: 0\n",
      "_________________________________________________________________\n"
     ]
    }
   ],
   "source": [
    "model3.summary()"
   ]
  },
  {
   "cell_type": "code",
   "execution_count": 37,
   "id": "5691f34f",
   "metadata": {},
   "outputs": [],
   "source": [
    "model3.compile(loss='SparseCategoricalCrossentropy', optimizer='Adam', metrics=['acc'])\n"
   ]
  },
  {
   "cell_type": "code",
   "execution_count": 38,
   "id": "7c7a8a58",
   "metadata": {},
   "outputs": [],
   "source": [
    "from tensorflow.keras.callbacks import ModelCheckpoint\n",
    "from tensorflow.keras.models import load_model\n",
    "\n",
    "\n",
    "\n",
    "checkpoint = ModelCheckpoint('F4.h5', monitor='val_accuracy', verbose=1, save_best_only=True, mode='max')\n"
   ]
  },
  {
   "cell_type": "code",
   "execution_count": 39,
   "id": "43bf0926",
   "metadata": {
    "scrolled": true
   },
   "outputs": [
    {
     "name": "stdout",
     "output_type": "stream",
     "text": [
      "Epoch 1/30\n",
      "18/18 [==============================] - ETA: 0s - loss: 0.9174 - acc: 0.4982WARNING:tensorflow:Can save best model only with val_accuracy available, skipping.\n",
      "18/18 [==============================] - 2s 27ms/step - loss: 0.9174 - acc: 0.4982 - val_loss: 0.6934 - val_acc: 0.5375\n",
      "Epoch 2/30\n",
      "13/18 [====================>.........] - ETA: 0s - loss: 0.7284 - acc: 0.4663WARNING:tensorflow:Can save best model only with val_accuracy available, skipping.\n",
      "18/18 [==============================] - 0s 11ms/step - loss: 0.7330 - acc: 0.4661 - val_loss: 0.7047 - val_acc: 0.4625\n",
      "Epoch 3/30\n",
      "14/18 [======================>.......] - ETA: 0s - loss: 0.7046 - acc: 0.5446WARNING:tensorflow:Can save best model only with val_accuracy available, skipping.\n",
      "18/18 [==============================] - 0s 11ms/step - loss: 0.7027 - acc: 0.5375 - val_loss: 0.7127 - val_acc: 0.4625\n",
      "Epoch 4/30\n",
      "15/18 [========================>.....] - ETA: 0s - loss: 0.6998 - acc: 0.5250WARNING:tensorflow:Can save best model only with val_accuracy available, skipping.\n",
      "18/18 [==============================] - 0s 11ms/step - loss: 0.7015 - acc: 0.5179 - val_loss: 0.7001 - val_acc: 0.5375\n",
      "Epoch 5/30\n",
      "14/18 [======================>.......] - ETA: 0s - loss: 0.7147 - acc: 0.4888WARNING:tensorflow:Can save best model only with val_accuracy available, skipping.\n",
      "18/18 [==============================] - 0s 12ms/step - loss: 0.7167 - acc: 0.4839 - val_loss: 0.7060 - val_acc: 0.4625\n",
      "Epoch 6/30\n",
      "15/18 [========================>.....] - ETA: 0s - loss: 0.7076 - acc: 0.4688WARNING:tensorflow:Can save best model only with val_accuracy available, skipping.\n",
      "18/18 [==============================] - 0s 11ms/step - loss: 0.7051 - acc: 0.4804 - val_loss: 0.6959 - val_acc: 0.4625\n",
      "Epoch 7/30\n",
      "15/18 [========================>.....] - ETA: 0s - loss: 0.6896 - acc: 0.5250WARNING:tensorflow:Can save best model only with val_accuracy available, skipping.\n",
      "18/18 [==============================] - 0s 11ms/step - loss: 0.6899 - acc: 0.5214 - val_loss: 0.6846 - val_acc: 0.5375\n",
      "Epoch 8/30\n",
      "15/18 [========================>.....] - ETA: 0s - loss: 0.6786 - acc: 0.5708WARNING:tensorflow:Can save best model only with val_accuracy available, skipping.\n",
      "18/18 [==============================] - 0s 10ms/step - loss: 0.6787 - acc: 0.5661 - val_loss: 0.6485 - val_acc: 0.4625\n",
      "Epoch 9/30\n",
      "14/18 [======================>.......] - ETA: 0s - loss: 0.5630 - acc: 0.7589WARNING:tensorflow:Can save best model only with val_accuracy available, skipping.\n",
      "18/18 [==============================] - 0s 11ms/step - loss: 0.5261 - acc: 0.7857 - val_loss: 0.4907 - val_acc: 0.7583\n",
      "Epoch 10/30\n",
      "15/18 [========================>.....] - ETA: 0s - loss: 0.3531 - acc: 0.8542WARNING:tensorflow:Can save best model only with val_accuracy available, skipping.\n",
      "18/18 [==============================] - 0s 11ms/step - loss: 0.3260 - acc: 0.8661 - val_loss: 0.2067 - val_acc: 0.9250\n",
      "Epoch 11/30\n",
      "15/18 [========================>.....] - ETA: 0s - loss: 0.1642 - acc: 0.9354WARNING:tensorflow:Can save best model only with val_accuracy available, skipping.\n",
      "18/18 [==============================] - 0s 11ms/step - loss: 0.1722 - acc: 0.9304 - val_loss: 0.2481 - val_acc: 0.9208\n",
      "Epoch 12/30\n",
      "15/18 [========================>.....] - ETA: 0s - loss: 0.3536 - acc: 0.8500WARNING:tensorflow:Can save best model only with val_accuracy available, skipping.\n",
      "18/18 [==============================] - 0s 11ms/step - loss: 0.3554 - acc: 0.8536 - val_loss: 0.1944 - val_acc: 0.9542\n",
      "Epoch 13/30\n",
      "15/18 [========================>.....] - ETA: 0s - loss: 0.1403 - acc: 0.9604WARNING:tensorflow:Can save best model only with val_accuracy available, skipping.\n",
      "18/18 [==============================] - 0s 10ms/step - loss: 0.1281 - acc: 0.9625 - val_loss: 0.1322 - val_acc: 0.9667\n",
      "Epoch 14/30\n",
      "15/18 [========================>.....] - ETA: 0s - loss: 0.0977 - acc: 0.9604WARNING:tensorflow:Can save best model only with val_accuracy available, skipping.\n",
      "18/18 [==============================] - 0s 10ms/step - loss: 0.0915 - acc: 0.9607 - val_loss: 0.1848 - val_acc: 0.9583\n",
      "Epoch 15/30\n",
      "15/18 [========================>.....] - ETA: 0s - loss: 0.1063 - acc: 0.9667WARNING:tensorflow:Can save best model only with val_accuracy available, skipping.\n",
      "18/18 [==============================] - 0s 10ms/step - loss: 0.1012 - acc: 0.9696 - val_loss: 0.1301 - val_acc: 0.9708\n",
      "Epoch 16/30\n",
      "15/18 [========================>.....] - ETA: 0s - loss: 0.0569 - acc: 0.9833WARNING:tensorflow:Can save best model only with val_accuracy available, skipping.\n",
      "18/18 [==============================] - 0s 11ms/step - loss: 0.0606 - acc: 0.9821 - val_loss: 0.1255 - val_acc: 0.9708\n",
      "Epoch 17/30\n",
      "14/18 [======================>.......] - ETA: 0s - loss: 0.0535 - acc: 0.9844WARNING:tensorflow:Can save best model only with val_accuracy available, skipping.\n",
      "18/18 [==============================] - 0s 11ms/step - loss: 0.0587 - acc: 0.9857 - val_loss: 0.1329 - val_acc: 0.9750\n",
      "Epoch 18/30\n",
      "15/18 [========================>.....] - ETA: 0s - loss: 0.0548 - acc: 0.9812WARNING:tensorflow:Can save best model only with val_accuracy available, skipping.\n",
      "18/18 [==============================] - 0s 11ms/step - loss: 0.0529 - acc: 0.9821 - val_loss: 0.1304 - val_acc: 0.9667\n",
      "Epoch 19/30\n",
      "15/18 [========================>.....] - ETA: 0s - loss: 0.0477 - acc: 0.9833WARNING:tensorflow:Can save best model only with val_accuracy available, skipping.\n",
      "18/18 [==============================] - 0s 10ms/step - loss: 0.0491 - acc: 0.9804 - val_loss: 0.1179 - val_acc: 0.9750\n",
      "Epoch 20/30\n",
      "15/18 [========================>.....] - ETA: 0s - loss: 0.1173 - acc: 0.9604WARNING:tensorflow:Can save best model only with val_accuracy available, skipping.\n",
      "18/18 [==============================] - 0s 11ms/step - loss: 0.1093 - acc: 0.9643 - val_loss: 0.2819 - val_acc: 0.9083\n",
      "Epoch 21/30\n",
      "15/18 [========================>.....] - ETA: 0s - loss: 0.1877 - acc: 0.9208WARNING:tensorflow:Can save best model only with val_accuracy available, skipping.\n",
      "18/18 [==============================] - 0s 10ms/step - loss: 0.1919 - acc: 0.9179 - val_loss: 0.1111 - val_acc: 0.9750\n",
      "Epoch 22/30\n",
      "15/18 [========================>.....] - ETA: 0s - loss: 0.1144 - acc: 0.9521WARNING:tensorflow:Can save best model only with val_accuracy available, skipping.\n",
      "18/18 [==============================] - 0s 11ms/step - loss: 0.1161 - acc: 0.9518 - val_loss: 0.1118 - val_acc: 0.9750\n",
      "Epoch 23/30\n",
      "15/18 [========================>.....] - ETA: 0s - loss: 0.0414 - acc: 0.9896WARNING:tensorflow:Can save best model only with val_accuracy available, skipping.\n",
      "18/18 [==============================] - 0s 11ms/step - loss: 0.0484 - acc: 0.9893 - val_loss: 0.1367 - val_acc: 0.9667\n",
      "Epoch 24/30\n",
      "15/18 [========================>.....] - ETA: 0s - loss: 0.0615 - acc: 0.9792WARNING:tensorflow:Can save best model only with val_accuracy available, skipping.\n",
      "18/18 [==============================] - 0s 10ms/step - loss: 0.0598 - acc: 0.9786 - val_loss: 0.1223 - val_acc: 0.9708\n",
      "Epoch 25/30\n",
      "15/18 [========================>.....] - ETA: 0s - loss: 0.0465 - acc: 0.9812WARNING:tensorflow:Can save best model only with val_accuracy available, skipping.\n",
      "18/18 [==============================] - 0s 10ms/step - loss: 0.0412 - acc: 0.9839 - val_loss: 0.1342 - val_acc: 0.9667\n",
      "Epoch 26/30\n",
      "15/18 [========================>.....] - ETA: 0s - loss: 0.0449 - acc: 0.9896WARNING:tensorflow:Can save best model only with val_accuracy available, skipping.\n",
      "18/18 [==============================] - 0s 10ms/step - loss: 0.0467 - acc: 0.9875 - val_loss: 0.1522 - val_acc: 0.9625\n",
      "Epoch 27/30\n",
      "14/18 [======================>.......] - ETA: 0s - loss: 0.0579 - acc: 0.9799WARNING:tensorflow:Can save best model only with val_accuracy available, skipping.\n",
      "18/18 [==============================] - 0s 11ms/step - loss: 0.0560 - acc: 0.9804 - val_loss: 0.1389 - val_acc: 0.9667\n",
      "Epoch 28/30\n",
      "15/18 [========================>.....] - ETA: 0s - loss: 0.1952 - acc: 0.9146WARNING:tensorflow:Can save best model only with val_accuracy available, skipping.\n",
      "18/18 [==============================] - 0s 10ms/step - loss: 0.1883 - acc: 0.9161 - val_loss: 0.1546 - val_acc: 0.9458\n",
      "Epoch 29/30\n"
     ]
    },
    {
     "name": "stdout",
     "output_type": "stream",
     "text": [
      "15/18 [========================>.....] - ETA: 0s - loss: 0.0559 - acc: 0.9854WARNING:tensorflow:Can save best model only with val_accuracy available, skipping.\n",
      "18/18 [==============================] - 0s 11ms/step - loss: 0.0602 - acc: 0.9839 - val_loss: 0.1641 - val_acc: 0.9542\n",
      "Epoch 30/30\n",
      "15/18 [========================>.....] - ETA: 0s - loss: 0.0668 - acc: 0.9688WARNING:tensorflow:Can save best model only with val_accuracy available, skipping.\n",
      "18/18 [==============================] - 0s 10ms/step - loss: 0.0670 - acc: 0.9696 - val_loss: 0.1265 - val_acc: 0.9750\n"
     ]
    }
   ],
   "source": [
    "history_log = model3.fit(x_train, y_train, epochs=30, verbose=1, validation_data=(x_test, y_test), callbacks=[checkpoint])\n"
   ]
  },
  {
   "cell_type": "code",
   "execution_count": 40,
   "id": "f70df6eb",
   "metadata": {},
   "outputs": [],
   "source": [
    "model3.save_weights('/home/nvekariy/signal_code/New_bone_eeg_code_A_E_h/F4.h5')\n"
   ]
  },
  {
   "cell_type": "code",
   "execution_count": 41,
   "id": "bbb54b6d",
   "metadata": {},
   "outputs": [],
   "source": [
    "model3.load_weights('/home/nvekariy/signal_code/New_bone_eeg_code_A_E_h/F4.h5')\n"
   ]
  },
  {
   "cell_type": "code",
   "execution_count": 42,
   "id": "994f96a7",
   "metadata": {},
   "outputs": [
    {
     "name": "stdout",
     "output_type": "stream",
     "text": [
      "8/8 [==============================] - 0s 4ms/step\n"
     ]
    }
   ],
   "source": [
    "predictions = model3.predict(x_test)\n",
    "pred_arg = np.argmax(predictions, axis=1)"
   ]
  },
  {
   "cell_type": "code",
   "execution_count": 43,
   "id": "abb59028",
   "metadata": {},
   "outputs": [
    {
     "name": "stdout",
     "output_type": "stream",
     "text": [
      "cnf_matrix_2.0_70\n",
      "\n",
      "[[110   1]\n",
      " [  5 124]]\n"
     ]
    }
   ],
   "source": [
    "from sklearn.metrics import confusion_matrix\n",
    "cnf_matrix=confusion_matrix(y_test,pred_arg)\n",
    "print(\"cnf_matrix_2.0_70\")\n",
    "print(\"\")\n",
    "print(cnf_matrix)"
   ]
  },
  {
   "cell_type": "code",
   "execution_count": 44,
   "id": "9f134881",
   "metadata": {},
   "outputs": [],
   "source": [
    "from sklearn.metrics import accuracy_score, recall_score,precision_score,roc_auc_score,roc_curve,f1_score\n"
   ]
  },
  {
   "cell_type": "code",
   "execution_count": 45,
   "id": "0f419b16",
   "metadata": {},
   "outputs": [
    {
     "name": "stdout",
     "output_type": "stream",
     "text": [
      "97.5\n",
      "97.49146400947669\n",
      "97.5\n",
      "97.55913043478262\n"
     ]
    }
   ],
   "source": [
    "print(accuracy_score(y_test,pred_arg)*100)\n",
    "print(f1_score(y_test,pred_arg,average='macro')*100)\n",
    "print(recall_score(y_test,pred_arg, average=\"weighted\")*100)\n",
    "print(precision_score(y_test,pred_arg, average=\"weighted\")*100)"
   ]
  },
  {
   "cell_type": "code",
   "execution_count": null,
   "id": "9a6122db",
   "metadata": {},
   "outputs": [],
   "source": []
  },
  {
   "cell_type": "code",
   "execution_count": null,
   "id": "92dedc27",
   "metadata": {},
   "outputs": [],
   "source": []
  },
  {
   "cell_type": "code",
   "execution_count": null,
   "id": "1c3eacb0",
   "metadata": {},
   "outputs": [],
   "source": []
  }
 ],
 "metadata": {
  "anaconda-cloud": {},
  "kernelspec": {
   "display_name": "Python [conda env:root] *",
   "language": "python",
   "name": "conda-root-py"
  },
  "language_info": {
   "codemirror_mode": {
    "name": "ipython",
    "version": 3
   },
   "file_extension": ".py",
   "mimetype": "text/x-python",
   "name": "python",
   "nbconvert_exporter": "python",
   "pygments_lexer": "ipython3",
   "version": "3.9.12"
  }
 },
 "nbformat": 4,
 "nbformat_minor": 5
}
