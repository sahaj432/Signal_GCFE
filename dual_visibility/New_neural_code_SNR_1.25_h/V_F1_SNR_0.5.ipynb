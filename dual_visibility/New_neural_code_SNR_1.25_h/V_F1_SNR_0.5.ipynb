{
 "cells": [
  {
   "cell_type": "code",
   "execution_count": 1,
   "id": "9c4dc733",
   "metadata": {},
   "outputs": [
    {
     "name": "stdout",
     "output_type": "stream",
     "text": [
      "Loading PyIOmica 1.3.3 (https://github.com/gmiaslab/pyiomica by G. Mias Lab)\n"
     ]
    }
   ],
   "source": [
    "import numpy as np\n",
    "import os\n",
    "import glob\n",
    "import seaborn as sns\n",
    "import matplotlib.pyplot as plt\n",
    "from pyiomica_master import pyiomica as pio\n",
    "from pyiomica_master.pyiomica import visualizationFunctions\n",
    "from pyiomica_master.pyiomica import visibilityGraphCommunityDetection\n",
    "import matplotlib as mpl\n",
    "from sklearn.utils import shuffle\n",
    "from sklearn.model_selection import train_test_split\n",
    "\n",
    "from tqdm import tqdm\n",
    "%matplotlib inline"
   ]
  },
  {
   "cell_type": "code",
   "execution_count": 2,
   "id": "b297825b",
   "metadata": {},
   "outputs": [],
   "source": [
    "x_frame1_05 = np.genfromtxt('/home/nvekariy/signal_code/datasets/neural_4_class/x_frame1_1.25_seed.csv', delimiter=',')\n",
    "x_frame2_05 = np.genfromtxt('/home/nvekariy/signal_code/datasets/neural_4_class/x_frame2_1.25_seed.csv', delimiter=',')\n",
    "x_frame3_05 = np.genfromtxt('/home/nvekariy/signal_code/datasets/neural_4_class/x_frame3_1.25_seed.csv', delimiter=',')\n",
    "x_framen_05= np.genfromtxt('/home/nvekariy/signal_code/datasets/neural_4_class/x_frame_noise_1.25_seed.csv', delimiter=',')"
   ]
  },
  {
   "cell_type": "code",
   "execution_count": null,
   "id": "81f7372f",
   "metadata": {},
   "outputs": [],
   "source": []
  },
  {
   "cell_type": "code",
   "execution_count": 3,
   "id": "79eaf877",
   "metadata": {},
   "outputs": [],
   "source": [
    "x=np.concatenate((x_frame1_05,x_frame2_05,x_frame3_05,x_framen_05[:6000]),axis=0)\n",
    "y=np.concatenate((np.zeros(len(x_frame1_05)),np.zeros(len(x_frame2_05))+1,np.zeros(len(x_frame3_05))+2,np.zeros(len(x_framen_05[:6000]))+3),axis=0)"
   ]
  },
  {
   "cell_type": "code",
   "execution_count": 4,
   "id": "3ea7e902",
   "metadata": {},
   "outputs": [],
   "source": [
    "X, Y = shuffle(x,y, random_state=1)"
   ]
  },
  {
   "cell_type": "code",
   "execution_count": 5,
   "id": "b78a4e4f",
   "metadata": {},
   "outputs": [],
   "source": [
    "def calculate_adj(data):\n",
    "    temp1=[]\n",
    "    for p, i in enumerate(data):\n",
    "        #print(f'Converting ==> {p+1} \\r', end=\"\",flush=True)\n",
    "        vs_out = visibilityGraphCommunityDetection.createVisibilityGraph(i, range(len(i)), \"dual_natural\", weight='tan')\n",
    "        vs_out=np.asarray(vs_out)\n",
    "        temp1.append(vs_out)\n",
    "        \n",
    "    return temp1"
   ]
  },
  {
   "cell_type": "code",
   "execution_count": 6,
   "id": "0f432dd6",
   "metadata": {},
   "outputs": [
    {
     "name": "stdout",
     "output_type": "stream",
     "text": [
      "Number of CPU cores: 48\n"
     ]
    }
   ],
   "source": [
    "from multiprocessing import Pool\n",
    "import multiprocessing\n",
    "\n",
    "if __name__ == '__main__':\n",
    "    num_cores = multiprocessing.cpu_count()\n",
    "    print(\"Number of CPU cores:\", num_cores)"
   ]
  },
  {
   "cell_type": "code",
   "execution_count": 7,
   "id": "14587307",
   "metadata": {},
   "outputs": [
    {
     "name": "stdout",
     "output_type": "stream",
     "text": [
      "533\n"
     ]
    }
   ],
   "source": [
    "df=np.array_split(X, num_cores)\n",
    "print(len(df[0]))"
   ]
  },
  {
   "cell_type": "code",
   "execution_count": 8,
   "id": "c6423065",
   "metadata": {},
   "outputs": [],
   "source": [
    "with Pool(processes=num_cores) as pool:\n",
    "    results = pool.map(calculate_adj, df)\n",
    "\n",
    "pool.close()\n",
    "pool.join()"
   ]
  },
  {
   "cell_type": "code",
   "execution_count": 9,
   "id": "a34da891",
   "metadata": {},
   "outputs": [],
   "source": [
    "x_adj=[]\n",
    "for submatrix in results:\n",
    "    x_adj.extend(submatrix)"
   ]
  },
  {
   "cell_type": "code",
   "execution_count": 10,
   "id": "663f8024",
   "metadata": {},
   "outputs": [
    {
     "name": "stdout",
     "output_type": "stream",
     "text": [
      "25578\n"
     ]
    }
   ],
   "source": [
    "print(len(x_adj))"
   ]
  },
  {
   "cell_type": "code",
   "execution_count": 11,
   "id": "517065c8",
   "metadata": {},
   "outputs": [],
   "source": [
    "x_adj=np.array(x_adj)"
   ]
  },
  {
   "cell_type": "code",
   "execution_count": 12,
   "id": "79d3d717",
   "metadata": {},
   "outputs": [],
   "source": [
    "def graph_index_complexity(matrix):\n",
    "    N = len(matrix) # Number of nodes\n",
    "    E = np.sum(matrix > 0) / 2 # Number of edges (since matrix is symmetric for undirected graphs)\n",
    "    \n",
    "    if N == 0 or E == 0:\n",
    "        return 0\n",
    "    \n",
    "    GIC = (E / N) * np.log(N)\n",
    "    return GIC"
   ]
  },
  {
   "cell_type": "code",
   "execution_count": 13,
   "id": "fe9d74c9",
   "metadata": {},
   "outputs": [],
   "source": [
    "import networkx as nx\n",
    "def runall(data):\n",
    "    temp1=[]\n",
    "    for i in data:\n",
    "        G = nx.from_numpy_array(i, parallel_edges=False)\n",
    "        gic=[graph_index_complexity(i)]\n",
    "        cpl=[nx.average_shortest_path_length(G)]\n",
    "        ge=[nx.global_efficiency(G)]\n",
    "        le=[nx.local_efficiency(G)]\n",
    "        ac=[nx.degree_assortativity_coefficient(G)]\n",
    "        cc=list(nx.clustering(G).values())\n",
    "        temp1.append(gic+cpl+ge+le+ac+cc) #+cpl+ge+le+ac+cc\n",
    "    return temp1"
   ]
  },
  {
   "cell_type": "code",
   "execution_count": 14,
   "id": "6c582fda",
   "metadata": {},
   "outputs": [
    {
     "name": "stdout",
     "output_type": "stream",
     "text": [
      "Number of CPU cores: 48\n",
      "533\n"
     ]
    }
   ],
   "source": [
    "from multiprocessing import Pool\n",
    "import multiprocessing\n",
    "\n",
    "if __name__ == '__main__':\n",
    "    num_cores = multiprocessing.cpu_count()\n",
    "    print(\"Number of CPU cores:\", num_cores)\n",
    "\n",
    "\n",
    "df1=np.array_split(x_adj[:], num_cores)\n",
    "\n",
    "\n",
    "print(len(df[0]))\n",
    "\n",
    "\n"
   ]
  },
  {
   "cell_type": "code",
   "execution_count": 15,
   "id": "489e53ab",
   "metadata": {},
   "outputs": [
    {
     "name": "stdout",
     "output_type": "stream",
     "text": [
      "--- 28.9857017993927 seconds ---\n"
     ]
    }
   ],
   "source": [
    "\n",
    "import time\n",
    "start_time = time.time()\n",
    "with Pool(processes=num_cores) as pool1:\n",
    "    results1 = pool1.map(runall, df1)\n",
    "\n",
    "pool1.close()\n",
    "pool1.join()\n",
    "\n",
    "print(\"--- %s seconds ---\" % (time.time() - start_time))\n"
   ]
  },
  {
   "cell_type": "code",
   "execution_count": 16,
   "id": "4bd5c260",
   "metadata": {},
   "outputs": [],
   "source": [
    "x_g=[]\n",
    "for submatrix in results1:\n",
    "    x_g.extend(submatrix)"
   ]
  },
  {
   "cell_type": "code",
   "execution_count": 17,
   "id": "e7087c73",
   "metadata": {},
   "outputs": [],
   "source": [
    "x_g=np.array(x_g)\n"
   ]
  },
  {
   "cell_type": "code",
   "execution_count": 18,
   "id": "6a1404fa",
   "metadata": {},
   "outputs": [
    {
     "name": "stdout",
     "output_type": "stream",
     "text": [
      "(25578, 61)\n"
     ]
    }
   ],
   "source": [
    "print(x_g.shape)"
   ]
  },
  {
   "cell_type": "code",
   "execution_count": 19,
   "id": "584b0d16",
   "metadata": {},
   "outputs": [],
   "source": [
    "x_train, x_temp, y_train, y_temp = train_test_split(x_g, Y, test_size=0.30, random_state=42)\n",
    "x_val,x_test,y_val,y_test=train_test_split(x_temp,y_temp,test_size=0.50, random_state=42)"
   ]
  },
  {
   "cell_type": "code",
   "execution_count": 20,
   "id": "87ff4de7",
   "metadata": {},
   "outputs": [
    {
     "name": "stdout",
     "output_type": "stream",
     "text": [
      "(17904, 61)\n",
      "(3837, 61)\n",
      "(3837, 61)\n"
     ]
    }
   ],
   "source": [
    "print(x_train.shape)\n",
    "print(x_val.shape)\n",
    "print(x_test.shape)"
   ]
  },
  {
   "cell_type": "code",
   "execution_count": 21,
   "id": "5ee715d8",
   "metadata": {},
   "outputs": [
    {
     "name": "stderr",
     "output_type": "stream",
     "text": [
      "2023-08-13 10:09:40.252460: I tensorflow/core/platform/cpu_feature_guard.cc:193] This TensorFlow binary is optimized with oneAPI Deep Neural Network Library (oneDNN) to use the following CPU instructions in performance-critical operations:  AVX2 AVX512F AVX512_VNNI FMA\n",
      "To enable them in other operations, rebuild TensorFlow with the appropriate compiler flags.\n",
      "2023-08-13 10:09:42.258885: I tensorflow/core/util/port.cc:104] oneDNN custom operations are on. You may see slightly different numerical results due to floating-point round-off errors from different computation orders. To turn them off, set the environment variable `TF_ENABLE_ONEDNN_OPTS=0`.\n",
      "2023-08-13 10:09:43.398777: W tensorflow/compiler/xla/stream_executor/platform/default/dso_loader.cc:64] Could not load dynamic library 'libcudart.so.11.0'; dlerror: libcudart.so.11.0: cannot open shared object file: No such file or directory; LD_LIBRARY_PATH: /cm/shared/apps/slurm/18.08.9/lib64/slurm:/cm/shared/apps/slurm/18.08.9/lib64\n",
      "2023-08-13 10:09:43.398825: I tensorflow/compiler/xla/stream_executor/cuda/cudart_stub.cc:29] Ignore above cudart dlerror if you do not have a GPU set up on your machine.\n",
      "2023-08-13 10:09:55.189584: W tensorflow/compiler/xla/stream_executor/platform/default/dso_loader.cc:64] Could not load dynamic library 'libnvinfer.so.7'; dlerror: libnvinfer.so.7: cannot open shared object file: No such file or directory; LD_LIBRARY_PATH: /cm/shared/apps/slurm/18.08.9/lib64/slurm:/cm/shared/apps/slurm/18.08.9/lib64\n",
      "2023-08-13 10:09:55.189699: W tensorflow/compiler/xla/stream_executor/platform/default/dso_loader.cc:64] Could not load dynamic library 'libnvinfer_plugin.so.7'; dlerror: libnvinfer_plugin.so.7: cannot open shared object file: No such file or directory; LD_LIBRARY_PATH: /cm/shared/apps/slurm/18.08.9/lib64/slurm:/cm/shared/apps/slurm/18.08.9/lib64\n",
      "2023-08-13 10:09:55.189708: W tensorflow/compiler/tf2tensorrt/utils/py_utils.cc:38] TF-TRT Warning: Cannot dlopen some TensorRT libraries. If you would like to use Nvidia GPU with TensorRT, please make sure the missing libraries mentioned above are installed properly.\n"
     ]
    }
   ],
   "source": [
    "import tensorflow as tf\n"
   ]
  },
  {
   "cell_type": "code",
   "execution_count": 22,
   "id": "a51d8943",
   "metadata": {},
   "outputs": [
    {
     "name": "stderr",
     "output_type": "stream",
     "text": [
      "2023-08-13 10:10:10.710432: W tensorflow/compiler/xla/stream_executor/platform/default/dso_loader.cc:64] Could not load dynamic library 'libcuda.so.1'; dlerror: libcuda.so.1: cannot open shared object file: No such file or directory; LD_LIBRARY_PATH: /cm/shared/apps/slurm/18.08.9/lib64/slurm:/cm/shared/apps/slurm/18.08.9/lib64\n",
      "2023-08-13 10:10:10.710512: W tensorflow/compiler/xla/stream_executor/cuda/cuda_driver.cc:265] failed call to cuInit: UNKNOWN ERROR (303)\n",
      "2023-08-13 10:10:10.710542: I tensorflow/compiler/xla/stream_executor/cuda/cuda_diagnostics.cc:156] kernel driver does not appear to be running on this host (c0188): /proc/driver/nvidia/version does not exist\n",
      "2023-08-13 10:10:10.711555: I tensorflow/core/platform/cpu_feature_guard.cc:193] This TensorFlow binary is optimized with oneAPI Deep Neural Network Library (oneDNN) to use the following CPU instructions in performance-critical operations:  AVX2 AVX512F AVX512_VNNI FMA\n",
      "To enable them in other operations, rebuild TensorFlow with the appropriate compiler flags.\n"
     ]
    }
   ],
   "source": [
    "input_shape = (x_train.shape[1],1)\n",
    "num_classes = 4\n",
    "model3 = tf.keras.models.Sequential()\n",
    "model3.add(tf.keras.layers.Conv1D(filters= 32, kernel_size=3, activation='relu',padding='same',input_shape= input_shape))\n",
    "model3.add(tf.keras.layers.MaxPooling1D(pool_size=2,strides=None,padding='valid'))\n",
    "\n",
    "model3.add(tf.keras.layers.Conv1D(filters=32, kernel_size=3,padding='same',activation='relu'))\n",
    "model3.add(tf.keras.layers.MaxPooling1D(pool_size=2,strides=None,padding='valid'))\n",
    "\n",
    "# model3.add(tf.keras.layers.Conv1D(filters=32, kernel_size=3,padding='same',activation='relu'))\n",
    "# model3.add(tf.keras.layers.MaxPooling1D(pool_size=2,strides=None,padding='valid'))\n",
    "# model3.add(tf.keras.layers.Conv1D(filters=32, kernel_size=3,padding='same',activation='relu'))\n",
    "# model3.add(tf.keras.layers.MaxPooling1D(pool_size=2,strides=None,padding='valid'))\n",
    "# model3.add(tf.keras.layers.Conv1D(filters=32, kernel_size=3,padding='same',activation='relu'))\n",
    "# model3.add(tf.keras.layers.MaxPooling1D(pool_size=2,strides=None,padding='valid'))\n",
    "# model3.add(tf.keras.layers.Conv1D(filters=32, kernel_size=3,padding='same',activation='relu'))\n",
    "# model3.add(tf.keras.layers.MaxPooling1D(pool_size=2,strides=None,padding='valid'))\n",
    "model3.add(tf.keras.layers.Flatten())\n",
    "\n",
    "model3.add(tf.keras.layers.Dense(100, activation='relu'))\n",
    "model3.add(tf.keras.layers.Dropout(0.1))\n",
    "model3.add(tf.keras.layers.Dense(100, activation='relu'))\n",
    "model3.add(tf.keras.layers.Dense(num_classes, activation='softmax'))"
   ]
  },
  {
   "cell_type": "code",
   "execution_count": 23,
   "id": "09f1d97c",
   "metadata": {},
   "outputs": [
    {
     "name": "stdout",
     "output_type": "stream",
     "text": [
      "Model: \"sequential\"\n",
      "_________________________________________________________________\n",
      " Layer (type)                Output Shape              Param #   \n",
      "=================================================================\n",
      " conv1d (Conv1D)             (None, 61, 32)            128       \n",
      "                                                                 \n",
      " max_pooling1d (MaxPooling1D  (None, 30, 32)           0         \n",
      " )                                                               \n",
      "                                                                 \n",
      " conv1d_1 (Conv1D)           (None, 30, 32)            3104      \n",
      "                                                                 \n",
      " max_pooling1d_1 (MaxPooling  (None, 15, 32)           0         \n",
      " 1D)                                                             \n",
      "                                                                 \n",
      " flatten (Flatten)           (None, 480)               0         \n",
      "                                                                 \n",
      " dense (Dense)               (None, 100)               48100     \n",
      "                                                                 \n",
      " dropout (Dropout)           (None, 100)               0         \n",
      "                                                                 \n",
      " dense_1 (Dense)             (None, 100)               10100     \n",
      "                                                                 \n",
      " dense_2 (Dense)             (None, 4)                 404       \n",
      "                                                                 \n",
      "=================================================================\n",
      "Total params: 61,836\n",
      "Trainable params: 61,836\n",
      "Non-trainable params: 0\n",
      "_________________________________________________________________\n"
     ]
    }
   ],
   "source": [
    "model3.summary()"
   ]
  },
  {
   "cell_type": "code",
   "execution_count": 24,
   "id": "5691f34f",
   "metadata": {},
   "outputs": [],
   "source": [
    "model3.compile(loss='SparseCategoricalCrossentropy', optimizer='Adam', metrics=['acc'])\n"
   ]
  },
  {
   "cell_type": "code",
   "execution_count": 25,
   "id": "e2276cd0",
   "metadata": {},
   "outputs": [],
   "source": [
    "from tensorflow.keras.callbacks import ModelCheckpoint\n",
    "from tensorflow.keras.models import load_model\n",
    "\n",
    "\n",
    "\n",
    "checkpoint = ModelCheckpoint('F1.h5', monitor='val_accuracy', verbose=1, save_best_only=True, mode='max')\n"
   ]
  },
  {
   "cell_type": "code",
   "execution_count": 26,
   "id": "43bf0926",
   "metadata": {
    "scrolled": true
   },
   "outputs": [
    {
     "name": "stdout",
     "output_type": "stream",
     "text": [
      "Epoch 1/30\n",
      "554/560 [============================>.] - ETA: 0s - loss: 0.4898 - acc: 0.7972WARNING:tensorflow:Can save best model only with val_accuracy available, skipping.\n",
      "560/560 [==============================] - 4s 4ms/step - loss: 0.4869 - acc: 0.7985 - val_loss: 0.2478 - val_acc: 0.8989\n",
      "Epoch 2/30\n",
      "551/560 [============================>.] - ETA: 0s - loss: 0.2597 - acc: 0.8945WARNING:tensorflow:Can save best model only with val_accuracy available, skipping.\n",
      "560/560 [==============================] - 2s 3ms/step - loss: 0.2594 - acc: 0.8947 - val_loss: 0.2144 - val_acc: 0.9153\n",
      "Epoch 3/30\n",
      "552/560 [============================>.] - ETA: 0s - loss: 0.2299 - acc: 0.9099WARNING:tensorflow:Can save best model only with val_accuracy available, skipping.\n",
      "560/560 [==============================] - 2s 3ms/step - loss: 0.2297 - acc: 0.9101 - val_loss: 0.1960 - val_acc: 0.9242\n",
      "Epoch 4/30\n",
      "546/560 [============================>.] - ETA: 0s - loss: 0.2152 - acc: 0.9172WARNING:tensorflow:Can save best model only with val_accuracy available, skipping.\n",
      "560/560 [==============================] - 2s 3ms/step - loss: 0.2145 - acc: 0.9174 - val_loss: 0.1916 - val_acc: 0.9252\n",
      "Epoch 5/30\n",
      "552/560 [============================>.] - ETA: 0s - loss: 0.2104 - acc: 0.9179WARNING:tensorflow:Can save best model only with val_accuracy available, skipping.\n",
      "560/560 [==============================] - 2s 3ms/step - loss: 0.2105 - acc: 0.9179 - val_loss: 0.1930 - val_acc: 0.9239\n",
      "Epoch 6/30\n",
      "550/560 [============================>.] - ETA: 0s - loss: 0.2043 - acc: 0.9215WARNING:tensorflow:Can save best model only with val_accuracy available, skipping.\n",
      "560/560 [==============================] - 2s 3ms/step - loss: 0.2040 - acc: 0.9215 - val_loss: 0.1855 - val_acc: 0.9268\n",
      "Epoch 7/30\n",
      "548/560 [============================>.] - ETA: 0s - loss: 0.1957 - acc: 0.9238WARNING:tensorflow:Can save best model only with val_accuracy available, skipping.\n",
      "560/560 [==============================] - 2s 3ms/step - loss: 0.1969 - acc: 0.9231 - val_loss: 0.1862 - val_acc: 0.9249\n",
      "Epoch 8/30\n",
      "546/560 [============================>.] - ETA: 0s - loss: 0.1918 - acc: 0.9270WARNING:tensorflow:Can save best model only with val_accuracy available, skipping.\n",
      "560/560 [==============================] - 2s 3ms/step - loss: 0.1926 - acc: 0.9268 - val_loss: 0.1857 - val_acc: 0.9268\n",
      "Epoch 9/30\n",
      "546/560 [============================>.] - ETA: 0s - loss: 0.1841 - acc: 0.9287WARNING:tensorflow:Can save best model only with val_accuracy available, skipping.\n",
      "560/560 [==============================] - 2s 3ms/step - loss: 0.1848 - acc: 0.9286 - val_loss: 0.1838 - val_acc: 0.9275\n",
      "Epoch 10/30\n",
      "557/560 [============================>.] - ETA: 0s - loss: 0.1847 - acc: 0.9286WARNING:tensorflow:Can save best model only with val_accuracy available, skipping.\n",
      "560/560 [==============================] - 2s 3ms/step - loss: 0.1849 - acc: 0.9285 - val_loss: 0.1955 - val_acc: 0.9257\n",
      "Epoch 11/30\n",
      "552/560 [============================>.] - ETA: 0s - loss: 0.1808 - acc: 0.9292WARNING:tensorflow:Can save best model only with val_accuracy available, skipping.\n",
      "560/560 [==============================] - 2s 3ms/step - loss: 0.1803 - acc: 0.9292 - val_loss: 0.1861 - val_acc: 0.9260\n",
      "Epoch 12/30\n",
      "546/560 [============================>.] - ETA: 0s - loss: 0.1772 - acc: 0.9325WARNING:tensorflow:Can save best model only with val_accuracy available, skipping.\n",
      "560/560 [==============================] - 2s 3ms/step - loss: 0.1777 - acc: 0.9319 - val_loss: 0.1935 - val_acc: 0.9247\n",
      "Epoch 13/30\n",
      "548/560 [============================>.] - ETA: 0s - loss: 0.1742 - acc: 0.9320WARNING:tensorflow:Can save best model only with val_accuracy available, skipping.\n",
      "560/560 [==============================] - 2s 3ms/step - loss: 0.1742 - acc: 0.9317 - val_loss: 0.1947 - val_acc: 0.9242\n",
      "Epoch 14/30\n",
      "555/560 [============================>.] - ETA: 0s - loss: 0.1679 - acc: 0.9337WARNING:tensorflow:Can save best model only with val_accuracy available, skipping.\n",
      "560/560 [==============================] - 2s 3ms/step - loss: 0.1678 - acc: 0.9338 - val_loss: 0.1893 - val_acc: 0.9247\n",
      "Epoch 15/30\n",
      "548/560 [============================>.] - ETA: 0s - loss: 0.1652 - acc: 0.9356WARNING:tensorflow:Can save best model only with val_accuracy available, skipping.\n",
      "560/560 [==============================] - 2s 3ms/step - loss: 0.1656 - acc: 0.9353 - val_loss: 0.1874 - val_acc: 0.9231\n",
      "Epoch 16/30\n",
      "549/560 [============================>.] - ETA: 0s - loss: 0.1640 - acc: 0.9360WARNING:tensorflow:Can save best model only with val_accuracy available, skipping.\n",
      "560/560 [==============================] - 2s 3ms/step - loss: 0.1637 - acc: 0.9358 - val_loss: 0.1895 - val_acc: 0.9286\n",
      "Epoch 17/30\n",
      "559/560 [============================>.] - ETA: 0s - loss: 0.1542 - acc: 0.9406WARNING:tensorflow:Can save best model only with val_accuracy available, skipping.\n",
      "560/560 [==============================] - 2s 3ms/step - loss: 0.1541 - acc: 0.9406 - val_loss: 0.1925 - val_acc: 0.9244\n",
      "Epoch 18/30\n",
      "550/560 [============================>.] - ETA: 0s - loss: 0.1544 - acc: 0.9407WARNING:tensorflow:Can save best model only with val_accuracy available, skipping.\n",
      "560/560 [==============================] - 2s 3ms/step - loss: 0.1548 - acc: 0.9408 - val_loss: 0.2051 - val_acc: 0.9216\n",
      "Epoch 19/30\n",
      "554/560 [============================>.] - ETA: 0s - loss: 0.1469 - acc: 0.9435WARNING:tensorflow:Can save best model only with val_accuracy available, skipping.\n",
      "560/560 [==============================] - 2s 3ms/step - loss: 0.1470 - acc: 0.9435 - val_loss: 0.2089 - val_acc: 0.9229\n",
      "Epoch 20/30\n",
      "556/560 [============================>.] - ETA: 0s - loss: 0.1439 - acc: 0.9444WARNING:tensorflow:Can save best model only with val_accuracy available, skipping.\n",
      "560/560 [==============================] - 2s 3ms/step - loss: 0.1444 - acc: 0.9444 - val_loss: 0.2101 - val_acc: 0.9244\n",
      "Epoch 21/30\n",
      "559/560 [============================>.] - ETA: 0s - loss: 0.1381 - acc: 0.9467WARNING:tensorflow:Can save best model only with val_accuracy available, skipping.\n",
      "560/560 [==============================] - 2s 3ms/step - loss: 0.1380 - acc: 0.9467 - val_loss: 0.2367 - val_acc: 0.9158\n",
      "Epoch 22/30\n",
      "553/560 [============================>.] - ETA: 0s - loss: 0.1357 - acc: 0.9476WARNING:tensorflow:Can save best model only with val_accuracy available, skipping.\n",
      "560/560 [==============================] - 2s 3ms/step - loss: 0.1358 - acc: 0.9476 - val_loss: 0.2165 - val_acc: 0.9216\n",
      "Epoch 23/30\n",
      "547/560 [============================>.] - ETA: 0s - loss: 0.1305 - acc: 0.9494WARNING:tensorflow:Can save best model only with val_accuracy available, skipping.\n",
      "560/560 [==============================] - 2s 3ms/step - loss: 0.1312 - acc: 0.9489 - val_loss: 0.2043 - val_acc: 0.9247\n",
      "Epoch 24/30\n",
      "557/560 [============================>.] - ETA: 0s - loss: 0.1203 - acc: 0.9533WARNING:tensorflow:Can save best model only with val_accuracy available, skipping.\n",
      "560/560 [==============================] - 2s 3ms/step - loss: 0.1202 - acc: 0.9534 - val_loss: 0.2203 - val_acc: 0.9221\n",
      "Epoch 25/30\n",
      "552/560 [============================>.] - ETA: 0s - loss: 0.1227 - acc: 0.9507WARNING:tensorflow:Can save best model only with val_accuracy available, skipping.\n",
      "560/560 [==============================] - 2s 3ms/step - loss: 0.1226 - acc: 0.9509 - val_loss: 0.2215 - val_acc: 0.9247\n",
      "Epoch 26/30\n",
      "552/560 [============================>.] - ETA: 0s - loss: 0.1144 - acc: 0.9550WARNING:tensorflow:Can save best model only with val_accuracy available, skipping.\n",
      "560/560 [==============================] - 2s 3ms/step - loss: 0.1155 - acc: 0.9544 - val_loss: 0.2420 - val_acc: 0.9169\n",
      "Epoch 27/30\n",
      "548/560 [============================>.] - ETA: 0s - loss: 0.1067 - acc: 0.9592WARNING:tensorflow:Can save best model only with val_accuracy available, skipping.\n",
      "560/560 [==============================] - 2s 3ms/step - loss: 0.1070 - acc: 0.9591 - val_loss: 0.3249 - val_acc: 0.8986\n",
      "Epoch 28/30\n",
      "545/560 [============================>.] - ETA: 0s - loss: 0.1049 - acc: 0.9584WARNING:tensorflow:Can save best model only with val_accuracy available, skipping.\n",
      "560/560 [==============================] - 2s 3ms/step - loss: 0.1052 - acc: 0.9583 - val_loss: 0.2425 - val_acc: 0.9223\n"
     ]
    },
    {
     "name": "stdout",
     "output_type": "stream",
     "text": [
      "Epoch 29/30\n",
      "556/560 [============================>.] - ETA: 0s - loss: 0.0978 - acc: 0.9626WARNING:tensorflow:Can save best model only with val_accuracy available, skipping.\n",
      "560/560 [==============================] - 2s 3ms/step - loss: 0.0977 - acc: 0.9626 - val_loss: 0.2536 - val_acc: 0.9213\n",
      "Epoch 30/30\n",
      "558/560 [============================>.] - ETA: 0s - loss: 0.0924 - acc: 0.9654WARNING:tensorflow:Can save best model only with val_accuracy available, skipping.\n",
      "560/560 [==============================] - 2s 3ms/step - loss: 0.0924 - acc: 0.9654 - val_loss: 0.2601 - val_acc: 0.9192\n"
     ]
    }
   ],
   "source": [
    "history_log = model3.fit(x_train, y_train, epochs=30, verbose=1, validation_data=(x_test, y_test), callbacks=[checkpoint])\n"
   ]
  },
  {
   "cell_type": "code",
   "execution_count": 27,
   "id": "de84a26f",
   "metadata": {},
   "outputs": [],
   "source": [
    "model3.save_weights('/home/nvekariy/signal_code/New_neural_code_SNR_1.25_h/F1.h5')\n"
   ]
  },
  {
   "cell_type": "code",
   "execution_count": 28,
   "id": "30fd3f17",
   "metadata": {},
   "outputs": [],
   "source": [
    "model3.load_weights('/home/nvekariy/signal_code/New_neural_code_SNR_1.25_h/F1.h5')\n"
   ]
  },
  {
   "cell_type": "code",
   "execution_count": 29,
   "id": "994f96a7",
   "metadata": {},
   "outputs": [
    {
     "name": "stdout",
     "output_type": "stream",
     "text": [
      "120/120 [==============================] - 0s 1ms/step\n"
     ]
    }
   ],
   "source": [
    "predictions = model3.predict(x_test)\n",
    "pred_arg = np.argmax(predictions, axis=1)"
   ]
  },
  {
   "cell_type": "code",
   "execution_count": 30,
   "id": "abb59028",
   "metadata": {},
   "outputs": [
    {
     "name": "stdout",
     "output_type": "stream",
     "text": [
      "cnf_matrix_2.0_70\n",
      "\n",
      "[[930   1   1  31]\n",
      " [  0 863 108  30]\n",
      " [  0  94 888   0]\n",
      " [ 33  11   1 846]]\n"
     ]
    }
   ],
   "source": [
    "from sklearn.metrics import confusion_matrix\n",
    "cnf_matrix=confusion_matrix(y_test,pred_arg)\n",
    "print(\"cnf_matrix_2.0_70\")\n",
    "print(\"\")\n",
    "print(cnf_matrix)"
   ]
  },
  {
   "cell_type": "code",
   "execution_count": 31,
   "id": "9f134881",
   "metadata": {},
   "outputs": [],
   "source": [
    "from sklearn.metrics import accuracy_score, recall_score,precision_score,roc_auc_score,roc_curve,f1_score\n"
   ]
  },
  {
   "cell_type": "code",
   "execution_count": 32,
   "id": "0f419b16",
   "metadata": {},
   "outputs": [
    {
     "name": "stdout",
     "output_type": "stream",
     "text": [
      "91.92077143601772\n",
      "91.99723806014876\n",
      "91.92077143601772\n",
      "91.90354667789087\n"
     ]
    }
   ],
   "source": [
    "print(accuracy_score(y_test,pred_arg)*100)\n",
    "print(f1_score(y_test,pred_arg,average='macro')*100)\n",
    "print(recall_score(y_test,pred_arg, average=\"weighted\")*100)\n",
    "print(precision_score(y_test,pred_arg, average=\"weighted\")*100)"
   ]
  },
  {
   "cell_type": "code",
   "execution_count": null,
   "id": "90845a20",
   "metadata": {},
   "outputs": [],
   "source": []
  },
  {
   "cell_type": "code",
   "execution_count": null,
   "id": "dd00c7be",
   "metadata": {},
   "outputs": [],
   "source": []
  }
 ],
 "metadata": {
  "anaconda-cloud": {},
  "kernelspec": {
   "display_name": "Python [conda env:root] *",
   "language": "python",
   "name": "conda-root-py"
  },
  "language_info": {
   "codemirror_mode": {
    "name": "ipython",
    "version": 3
   },
   "file_extension": ".py",
   "mimetype": "text/x-python",
   "name": "python",
   "nbconvert_exporter": "python",
   "pygments_lexer": "ipython3",
   "version": "3.9.12"
  }
 },
 "nbformat": 4,
 "nbformat_minor": 5
}
