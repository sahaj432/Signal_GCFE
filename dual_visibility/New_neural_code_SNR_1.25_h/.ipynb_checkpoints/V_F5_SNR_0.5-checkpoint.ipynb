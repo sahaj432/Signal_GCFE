{
 "cells": [
  {
   "cell_type": "code",
   "execution_count": 1,
   "id": "9c4dc733",
   "metadata": {},
   "outputs": [
    {
     "name": "stdout",
     "output_type": "stream",
     "text": [
      "Loading PyIOmica 1.3.3 (https://github.com/gmiaslab/pyiomica by G. Mias Lab)\n"
     ]
    }
   ],
   "source": [
    "import numpy as np\n",
    "import os\n",
    "import glob\n",
    "import seaborn as sns\n",
    "import matplotlib.pyplot as plt\n",
    "from pyiomica_master import pyiomica as pio\n",
    "from pyiomica_master.pyiomica import visualizationFunctions\n",
    "from pyiomica_master.pyiomica import visibilityGraphCommunityDetection\n",
    "import matplotlib as mpl\n",
    "from sklearn.utils import shuffle\n",
    "from sklearn.model_selection import train_test_split\n",
    "\n",
    "from tqdm import tqdm\n",
    "%matplotlib inline"
   ]
  },
  {
   "cell_type": "code",
   "execution_count": 2,
   "id": "b297825b",
   "metadata": {},
   "outputs": [],
   "source": [
    "x_frame1_05 = np.genfromtxt('/home/nvekariy/signal_code/datasets/neural_4_class/x_frame1_1.25_seed.csv', delimiter=',')\n",
    "x_frame2_05 = np.genfromtxt('/home/nvekariy/signal_code/datasets/neural_4_class/x_frame2_1.25_seed.csv', delimiter=',')\n",
    "x_frame3_05 = np.genfromtxt('/home/nvekariy/signal_code/datasets/neural_4_class/x_frame3_1.25_seed.csv', delimiter=',')\n",
    "x_framen_05= np.genfromtxt('/home/nvekariy/signal_code/datasets/neural_4_class/x_frame_noise_1.25_seed.csv', delimiter=',')"
   ]
  },
  {
   "cell_type": "code",
   "execution_count": null,
   "id": "81f7372f",
   "metadata": {},
   "outputs": [],
   "source": []
  },
  {
   "cell_type": "code",
   "execution_count": 3,
   "id": "79eaf877",
   "metadata": {},
   "outputs": [],
   "source": [
    "x=np.concatenate((x_frame1_05,x_frame2_05,x_frame3_05,x_framen_05[:6000]),axis=0)\n",
    "y=np.concatenate((np.zeros(len(x_frame1_05)),np.zeros(len(x_frame2_05))+1,np.zeros(len(x_frame3_05))+2,np.zeros(len(x_framen_05[:6000]))+3),axis=0)"
   ]
  },
  {
   "cell_type": "code",
   "execution_count": 4,
   "id": "3ea7e902",
   "metadata": {},
   "outputs": [],
   "source": [
    "X, Y = shuffle(x,y, random_state=1)"
   ]
  },
  {
   "cell_type": "code",
   "execution_count": 5,
   "id": "b78a4e4f",
   "metadata": {},
   "outputs": [],
   "source": [
    "def calculate_adj(data):\n",
    "    temp1=[]\n",
    "    for p, i in enumerate(data):\n",
    "        #print(f'Converting ==> {p+1} \\r', end=\"\",flush=True)\n",
    "        vs_out = visibilityGraphCommunityDetection.createVisibilityGraph(i, range(len(i)), \"dual_natural\", weight='tan')\n",
    "        vs_out=np.asarray(vs_out)\n",
    "        temp1.append(vs_out)\n",
    "        \n",
    "    return temp1"
   ]
  },
  {
   "cell_type": "code",
   "execution_count": 6,
   "id": "a666b1e1",
   "metadata": {
    "scrolled": true
   },
   "outputs": [
    {
     "name": "stdout",
     "output_type": "stream",
     "text": [
      "Number of CPU cores: 48\n"
     ]
    }
   ],
   "source": [
    "from multiprocessing import Pool\n",
    "import multiprocessing\n",
    "\n",
    "if __name__ == '__main__':\n",
    "    num_cores = multiprocessing.cpu_count()\n",
    "    print(\"Number of CPU cores:\", num_cores)"
   ]
  },
  {
   "cell_type": "code",
   "execution_count": 7,
   "id": "1c9f289e",
   "metadata": {},
   "outputs": [
    {
     "name": "stdout",
     "output_type": "stream",
     "text": [
      "533\n"
     ]
    }
   ],
   "source": [
    "df=np.array_split(X, num_cores)\n",
    "print(len(df[0]))"
   ]
  },
  {
   "cell_type": "code",
   "execution_count": 8,
   "id": "25c7ec9d",
   "metadata": {},
   "outputs": [],
   "source": [
    "with Pool(processes=num_cores) as pool:\n",
    "    results = pool.map(calculate_adj, df)\n",
    "\n",
    "pool.close()\n",
    "pool.join()"
   ]
  },
  {
   "cell_type": "code",
   "execution_count": 9,
   "id": "2d507239",
   "metadata": {},
   "outputs": [],
   "source": [
    "x_adj=[]\n",
    "for submatrix in results:\n",
    "    x_adj.extend(submatrix)"
   ]
  },
  {
   "cell_type": "code",
   "execution_count": 10,
   "id": "fb4be57d",
   "metadata": {},
   "outputs": [
    {
     "name": "stdout",
     "output_type": "stream",
     "text": [
      "25578\n"
     ]
    }
   ],
   "source": [
    "print(len(x_adj))"
   ]
  },
  {
   "cell_type": "code",
   "execution_count": 11,
   "id": "37e26890",
   "metadata": {},
   "outputs": [],
   "source": [
    "x_adj=np.array(x_adj)"
   ]
  },
  {
   "cell_type": "code",
   "execution_count": 12,
   "id": "8fe37ec4",
   "metadata": {},
   "outputs": [],
   "source": [
    "def degree(data): #The node strengths (or weighted degrees) \n",
    "    return np.average(np.sum(data, axis=0))"
   ]
  },
  {
   "cell_type": "code",
   "execution_count": 13,
   "id": "fe9d74c9",
   "metadata": {},
   "outputs": [],
   "source": [
    "import networkx as nx\n",
    "def runall(data):\n",
    "    temp1=[]\n",
    "    for i in data:\n",
    "        G = nx.from_numpy_array(i, parallel_edges=False)\n",
    "        \n",
    "        t=[nx.transitivity(G)]\n",
    "        ge=[nx.global_efficiency(G)]\n",
    "        le=[nx.local_efficiency(G)]\n",
    "        \n",
    "        cc=list(nx.clustering(G).values())\n",
    "        temp1.append(t+ge+le+cc) #+cpl+ge+le+ac+cc\n",
    "    return temp1"
   ]
  },
  {
   "cell_type": "code",
   "execution_count": 14,
   "id": "6c582fda",
   "metadata": {},
   "outputs": [
    {
     "name": "stdout",
     "output_type": "stream",
     "text": [
      "Number of CPU cores: 48\n",
      "533\n"
     ]
    }
   ],
   "source": [
    "from multiprocessing import Pool\n",
    "import multiprocessing\n",
    "\n",
    "if __name__ == '__main__':\n",
    "    num_cores = multiprocessing.cpu_count()\n",
    "    print(\"Number of CPU cores:\", num_cores)\n",
    "\n",
    "\n",
    "df1=np.array_split(x_adj[:], num_cores)\n",
    "\n",
    "\n",
    "print(len(df[0]))\n",
    "\n",
    "\n"
   ]
  },
  {
   "cell_type": "code",
   "execution_count": 15,
   "id": "489e53ab",
   "metadata": {},
   "outputs": [
    {
     "name": "stdout",
     "output_type": "stream",
     "text": [
      "--- 25.84965467453003 seconds ---\n"
     ]
    }
   ],
   "source": [
    "\n",
    "import time\n",
    "start_time = time.time()\n",
    "with Pool(processes=num_cores) as pool1:\n",
    "    results1 = pool1.map(runall, df1)\n",
    "\n",
    "pool1.close()\n",
    "pool1.join()\n",
    "\n",
    "print(\"--- %s seconds ---\" % (time.time() - start_time))\n"
   ]
  },
  {
   "cell_type": "code",
   "execution_count": 16,
   "id": "4bd5c260",
   "metadata": {},
   "outputs": [],
   "source": [
    "x_g=[]\n",
    "for submatrix in results1:\n",
    "    x_g.extend(submatrix)"
   ]
  },
  {
   "cell_type": "code",
   "execution_count": 17,
   "id": "e7087c73",
   "metadata": {},
   "outputs": [],
   "source": [
    "x_g=np.array(x_g)\n"
   ]
  },
  {
   "cell_type": "code",
   "execution_count": 18,
   "id": "6a1404fa",
   "metadata": {},
   "outputs": [
    {
     "name": "stdout",
     "output_type": "stream",
     "text": [
      "(25578, 59)\n"
     ]
    }
   ],
   "source": [
    "print(x_g.shape)"
   ]
  },
  {
   "cell_type": "code",
   "execution_count": 19,
   "id": "584b0d16",
   "metadata": {},
   "outputs": [],
   "source": [
    "x_train, x_temp, y_train, y_temp = train_test_split(x_g, Y, test_size=0.30, random_state=42)\n",
    "x_val,x_test,y_val,y_test=train_test_split(x_temp,y_temp,test_size=0.50, random_state=42)"
   ]
  },
  {
   "cell_type": "code",
   "execution_count": 20,
   "id": "87ff4de7",
   "metadata": {},
   "outputs": [
    {
     "name": "stdout",
     "output_type": "stream",
     "text": [
      "(17904, 59)\n",
      "(3837, 59)\n",
      "(3837, 59)\n"
     ]
    }
   ],
   "source": [
    "print(x_train.shape)\n",
    "print(x_val.shape)\n",
    "print(x_test.shape)"
   ]
  },
  {
   "cell_type": "code",
   "execution_count": 21,
   "id": "5ee715d8",
   "metadata": {},
   "outputs": [
    {
     "name": "stderr",
     "output_type": "stream",
     "text": [
      "2023-08-13 10:14:56.987070: I tensorflow/core/platform/cpu_feature_guard.cc:193] This TensorFlow binary is optimized with oneAPI Deep Neural Network Library (oneDNN) to use the following CPU instructions in performance-critical operations:  AVX2 AVX512F AVX512_VNNI FMA\n",
      "To enable them in other operations, rebuild TensorFlow with the appropriate compiler flags.\n",
      "2023-08-13 10:15:01.200543: I tensorflow/core/util/port.cc:104] oneDNN custom operations are on. You may see slightly different numerical results due to floating-point round-off errors from different computation orders. To turn them off, set the environment variable `TF_ENABLE_ONEDNN_OPTS=0`.\n",
      "2023-08-13 10:15:02.481451: W tensorflow/compiler/xla/stream_executor/platform/default/dso_loader.cc:64] Could not load dynamic library 'libcudart.so.11.0'; dlerror: libcudart.so.11.0: cannot open shared object file: No such file or directory; LD_LIBRARY_PATH: /cm/shared/apps/slurm/18.08.9/lib64/slurm:/cm/shared/apps/slurm/18.08.9/lib64\n",
      "2023-08-13 10:15:02.481505: I tensorflow/compiler/xla/stream_executor/cuda/cudart_stub.cc:29] Ignore above cudart dlerror if you do not have a GPU set up on your machine.\n",
      "2023-08-13 10:15:14.465214: W tensorflow/compiler/xla/stream_executor/platform/default/dso_loader.cc:64] Could not load dynamic library 'libnvinfer.so.7'; dlerror: libnvinfer.so.7: cannot open shared object file: No such file or directory; LD_LIBRARY_PATH: /cm/shared/apps/slurm/18.08.9/lib64/slurm:/cm/shared/apps/slurm/18.08.9/lib64\n",
      "2023-08-13 10:15:14.465333: W tensorflow/compiler/xla/stream_executor/platform/default/dso_loader.cc:64] Could not load dynamic library 'libnvinfer_plugin.so.7'; dlerror: libnvinfer_plugin.so.7: cannot open shared object file: No such file or directory; LD_LIBRARY_PATH: /cm/shared/apps/slurm/18.08.9/lib64/slurm:/cm/shared/apps/slurm/18.08.9/lib64\n",
      "2023-08-13 10:15:14.465342: W tensorflow/compiler/tf2tensorrt/utils/py_utils.cc:38] TF-TRT Warning: Cannot dlopen some TensorRT libraries. If you would like to use Nvidia GPU with TensorRT, please make sure the missing libraries mentioned above are installed properly.\n"
     ]
    }
   ],
   "source": [
    "import tensorflow as tf\n"
   ]
  },
  {
   "cell_type": "code",
   "execution_count": 22,
   "id": "a51d8943",
   "metadata": {},
   "outputs": [
    {
     "name": "stderr",
     "output_type": "stream",
     "text": [
      "2023-08-13 10:15:28.411724: W tensorflow/compiler/xla/stream_executor/platform/default/dso_loader.cc:64] Could not load dynamic library 'libcuda.so.1'; dlerror: libcuda.so.1: cannot open shared object file: No such file or directory; LD_LIBRARY_PATH: /cm/shared/apps/slurm/18.08.9/lib64/slurm:/cm/shared/apps/slurm/18.08.9/lib64\n",
      "2023-08-13 10:15:28.411792: W tensorflow/compiler/xla/stream_executor/cuda/cuda_driver.cc:265] failed call to cuInit: UNKNOWN ERROR (303)\n",
      "2023-08-13 10:15:28.411861: I tensorflow/compiler/xla/stream_executor/cuda/cuda_diagnostics.cc:156] kernel driver does not appear to be running on this host (c0193): /proc/driver/nvidia/version does not exist\n",
      "2023-08-13 10:15:28.412724: I tensorflow/core/platform/cpu_feature_guard.cc:193] This TensorFlow binary is optimized with oneAPI Deep Neural Network Library (oneDNN) to use the following CPU instructions in performance-critical operations:  AVX2 AVX512F AVX512_VNNI FMA\n",
      "To enable them in other operations, rebuild TensorFlow with the appropriate compiler flags.\n"
     ]
    }
   ],
   "source": [
    "input_shape = (x_train.shape[1],1)\n",
    "num_classes = 4\n",
    "model3 = tf.keras.models.Sequential()\n",
    "model3.add(tf.keras.layers.Conv1D(filters= 32, kernel_size=3, activation='relu',padding='same',input_shape= input_shape))\n",
    "model3.add(tf.keras.layers.MaxPooling1D(pool_size=2,strides=None,padding='valid'))\n",
    "\n",
    "model3.add(tf.keras.layers.Conv1D(filters=32, kernel_size=3,padding='same',activation='relu'))\n",
    "model3.add(tf.keras.layers.MaxPooling1D(pool_size=2,strides=None,padding='valid'))\n",
    "\n",
    "# model3.add(tf.keras.layers.Conv1D(filters=32, kernel_size=3,padding='same',activation='relu'))\n",
    "# model3.add(tf.keras.layers.MaxPooling1D(pool_size=2,strides=None,padding='valid'))\n",
    "# model3.add(tf.keras.layers.Conv1D(filters=32, kernel_size=3,padding='same',activation='relu'))\n",
    "# model3.add(tf.keras.layers.MaxPooling1D(pool_size=2,strides=None,padding='valid'))\n",
    "# model3.add(tf.keras.layers.Conv1D(filters=32, kernel_size=3,padding='same',activation='relu'))\n",
    "# model3.add(tf.keras.layers.MaxPooling1D(pool_size=2,strides=None,padding='valid'))\n",
    "# model3.add(tf.keras.layers.Conv1D(filters=32, kernel_size=3,padding='same',activation='relu'))\n",
    "# model3.add(tf.keras.layers.MaxPooling1D(pool_size=2,strides=None,padding='valid'))\n",
    "model3.add(tf.keras.layers.Flatten())\n",
    "\n",
    "model3.add(tf.keras.layers.Dense(100, activation='relu'))\n",
    "model3.add(tf.keras.layers.Dropout(0.1))\n",
    "model3.add(tf.keras.layers.Dense(100, activation='relu'))\n",
    "model3.add(tf.keras.layers.Dense(num_classes, activation='softmax'))"
   ]
  },
  {
   "cell_type": "code",
   "execution_count": 23,
   "id": "09f1d97c",
   "metadata": {},
   "outputs": [
    {
     "name": "stdout",
     "output_type": "stream",
     "text": [
      "Model: \"sequential\"\n",
      "_________________________________________________________________\n",
      " Layer (type)                Output Shape              Param #   \n",
      "=================================================================\n",
      " conv1d (Conv1D)             (None, 59, 32)            128       \n",
      "                                                                 \n",
      " max_pooling1d (MaxPooling1D  (None, 29, 32)           0         \n",
      " )                                                               \n",
      "                                                                 \n",
      " conv1d_1 (Conv1D)           (None, 29, 32)            3104      \n",
      "                                                                 \n",
      " max_pooling1d_1 (MaxPooling  (None, 14, 32)           0         \n",
      " 1D)                                                             \n",
      "                                                                 \n",
      " flatten (Flatten)           (None, 448)               0         \n",
      "                                                                 \n",
      " dense (Dense)               (None, 100)               44900     \n",
      "                                                                 \n",
      " dropout (Dropout)           (None, 100)               0         \n",
      "                                                                 \n",
      " dense_1 (Dense)             (None, 100)               10100     \n",
      "                                                                 \n",
      " dense_2 (Dense)             (None, 4)                 404       \n",
      "                                                                 \n",
      "=================================================================\n",
      "Total params: 58,636\n",
      "Trainable params: 58,636\n",
      "Non-trainable params: 0\n",
      "_________________________________________________________________\n"
     ]
    }
   ],
   "source": [
    "model3.summary()"
   ]
  },
  {
   "cell_type": "code",
   "execution_count": 24,
   "id": "5691f34f",
   "metadata": {},
   "outputs": [],
   "source": [
    "model3.compile(loss='SparseCategoricalCrossentropy', optimizer='Adam', metrics=['acc'])\n"
   ]
  },
  {
   "cell_type": "code",
   "execution_count": 25,
   "id": "e2276cd0",
   "metadata": {},
   "outputs": [],
   "source": [
    "from tensorflow.keras.callbacks import ModelCheckpoint\n",
    "from tensorflow.keras.models import load_model\n",
    "\n",
    "\n",
    "\n",
    "checkpoint = ModelCheckpoint('F5.h5', monitor='val_accuracy', verbose=1, save_best_only=True, mode='max')\n"
   ]
  },
  {
   "cell_type": "code",
   "execution_count": 26,
   "id": "43bf0926",
   "metadata": {
    "scrolled": true
   },
   "outputs": [
    {
     "name": "stdout",
     "output_type": "stream",
     "text": [
      "Epoch 1/30\n",
      "560/560 [==============================] - ETA: 0s - loss: 0.4743 - acc: 0.7993WARNING:tensorflow:Can save best model only with val_accuracy available, skipping.\n",
      "560/560 [==============================] - 4s 4ms/step - loss: 0.4743 - acc: 0.7993 - val_loss: 0.2660 - val_acc: 0.8900\n",
      "Epoch 2/30\n",
      "543/560 [============================>.] - ETA: 0s - loss: 0.2564 - acc: 0.8959WARNING:tensorflow:Can save best model only with val_accuracy available, skipping.\n",
      "560/560 [==============================] - 2s 3ms/step - loss: 0.2558 - acc: 0.8962 - val_loss: 0.2173 - val_acc: 0.9124\n",
      "Epoch 3/30\n",
      "551/560 [============================>.] - ETA: 0s - loss: 0.2274 - acc: 0.9101WARNING:tensorflow:Can save best model only with val_accuracy available, skipping.\n",
      "560/560 [==============================] - 2s 3ms/step - loss: 0.2273 - acc: 0.9102 - val_loss: 0.2142 - val_acc: 0.9116\n",
      "Epoch 4/30\n",
      "549/560 [============================>.] - ETA: 0s - loss: 0.2191 - acc: 0.9147WARNING:tensorflow:Can save best model only with val_accuracy available, skipping.\n",
      "560/560 [==============================] - 2s 3ms/step - loss: 0.2184 - acc: 0.9148 - val_loss: 0.1956 - val_acc: 0.9200\n",
      "Epoch 5/30\n",
      "553/560 [============================>.] - ETA: 0s - loss: 0.2125 - acc: 0.9163WARNING:tensorflow:Can save best model only with val_accuracy available, skipping.\n",
      "560/560 [==============================] - 2s 3ms/step - loss: 0.2118 - acc: 0.9165 - val_loss: 0.2054 - val_acc: 0.9187\n",
      "Epoch 6/30\n",
      "543/560 [============================>.] - ETA: 0s - loss: 0.2038 - acc: 0.9187WARNING:tensorflow:Can save best model only with val_accuracy available, skipping.\n",
      "560/560 [==============================] - 2s 3ms/step - loss: 0.2041 - acc: 0.9183 - val_loss: 0.1917 - val_acc: 0.9260\n",
      "Epoch 7/30\n",
      "550/560 [============================>.] - ETA: 0s - loss: 0.1995 - acc: 0.9219WARNING:tensorflow:Can save best model only with val_accuracy available, skipping.\n",
      "560/560 [==============================] - 2s 3ms/step - loss: 0.1995 - acc: 0.9220 - val_loss: 0.1879 - val_acc: 0.9242\n",
      "Epoch 8/30\n",
      "549/560 [============================>.] - ETA: 0s - loss: 0.1914 - acc: 0.9251WARNING:tensorflow:Can save best model only with val_accuracy available, skipping.\n",
      "560/560 [==============================] - 2s 3ms/step - loss: 0.1909 - acc: 0.9254 - val_loss: 0.1910 - val_acc: 0.9255\n",
      "Epoch 9/30\n",
      "555/560 [============================>.] - ETA: 0s - loss: 0.1899 - acc: 0.9266WARNING:tensorflow:Can save best model only with val_accuracy available, skipping.\n",
      "560/560 [==============================] - 2s 3ms/step - loss: 0.1897 - acc: 0.9268 - val_loss: 0.2042 - val_acc: 0.9234\n",
      "Epoch 10/30\n",
      "553/560 [============================>.] - ETA: 0s - loss: 0.1858 - acc: 0.9269WARNING:tensorflow:Can save best model only with val_accuracy available, skipping.\n",
      "560/560 [==============================] - 2s 3ms/step - loss: 0.1854 - acc: 0.9271 - val_loss: 0.2009 - val_acc: 0.9216\n",
      "Epoch 11/30\n",
      "544/560 [============================>.] - ETA: 0s - loss: 0.1793 - acc: 0.9301WARNING:tensorflow:Can save best model only with val_accuracy available, skipping.\n",
      "560/560 [==============================] - 2s 3ms/step - loss: 0.1781 - acc: 0.9307 - val_loss: 0.1972 - val_acc: 0.9223\n",
      "Epoch 12/30\n",
      "543/560 [============================>.] - ETA: 0s - loss: 0.1754 - acc: 0.9329WARNING:tensorflow:Can save best model only with val_accuracy available, skipping.\n",
      "560/560 [==============================] - 2s 3ms/step - loss: 0.1753 - acc: 0.9325 - val_loss: 0.2246 - val_acc: 0.9132\n",
      "Epoch 13/30\n",
      "544/560 [============================>.] - ETA: 0s - loss: 0.1779 - acc: 0.9310WARNING:tensorflow:Can save best model only with val_accuracy available, skipping.\n",
      "560/560 [==============================] - 2s 3ms/step - loss: 0.1786 - acc: 0.9307 - val_loss: 0.1922 - val_acc: 0.9226\n",
      "Epoch 14/30\n",
      "549/560 [============================>.] - ETA: 0s - loss: 0.1677 - acc: 0.9334WARNING:tensorflow:Can save best model only with val_accuracy available, skipping.\n",
      "560/560 [==============================] - 2s 3ms/step - loss: 0.1679 - acc: 0.9330 - val_loss: 0.1961 - val_acc: 0.9221\n",
      "Epoch 15/30\n",
      "556/560 [============================>.] - ETA: 0s - loss: 0.1673 - acc: 0.9341WARNING:tensorflow:Can save best model only with val_accuracy available, skipping.\n",
      "560/560 [==============================] - 2s 3ms/step - loss: 0.1670 - acc: 0.9342 - val_loss: 0.2130 - val_acc: 0.9205\n",
      "Epoch 16/30\n",
      "559/560 [============================>.] - ETA: 0s - loss: 0.1615 - acc: 0.9359WARNING:tensorflow:Can save best model only with val_accuracy available, skipping.\n",
      "560/560 [==============================] - 2s 3ms/step - loss: 0.1616 - acc: 0.9359 - val_loss: 0.1934 - val_acc: 0.9247\n",
      "Epoch 17/30\n",
      "555/560 [============================>.] - ETA: 0s - loss: 0.1569 - acc: 0.9385WARNING:tensorflow:Can save best model only with val_accuracy available, skipping.\n",
      "560/560 [==============================] - 2s 3ms/step - loss: 0.1571 - acc: 0.9384 - val_loss: 0.2069 - val_acc: 0.9208\n",
      "Epoch 18/30\n",
      "557/560 [============================>.] - ETA: 0s - loss: 0.1553 - acc: 0.9401WARNING:tensorflow:Can save best model only with val_accuracy available, skipping.\n",
      "560/560 [==============================] - 2s 3ms/step - loss: 0.1557 - acc: 0.9400 - val_loss: 0.2059 - val_acc: 0.9221\n",
      "Epoch 19/30\n",
      "558/560 [============================>.] - ETA: 0s - loss: 0.1544 - acc: 0.9391WARNING:tensorflow:Can save best model only with val_accuracy available, skipping.\n",
      "560/560 [==============================] - 2s 3ms/step - loss: 0.1544 - acc: 0.9391 - val_loss: 0.2107 - val_acc: 0.9176\n",
      "Epoch 20/30\n",
      "552/560 [============================>.] - ETA: 0s - loss: 0.1469 - acc: 0.9424WARNING:tensorflow:Can save best model only with val_accuracy available, skipping.\n",
      "560/560 [==============================] - 2s 3ms/step - loss: 0.1470 - acc: 0.9422 - val_loss: 0.2204 - val_acc: 0.9161\n",
      "Epoch 21/30\n",
      "556/560 [============================>.] - ETA: 0s - loss: 0.1435 - acc: 0.9438WARNING:tensorflow:Can save best model only with val_accuracy available, skipping.\n",
      "560/560 [==============================] - 2s 3ms/step - loss: 0.1433 - acc: 0.9439 - val_loss: 0.2092 - val_acc: 0.9234\n",
      "Epoch 22/30\n",
      "553/560 [============================>.] - ETA: 0s - loss: 0.1433 - acc: 0.9451WARNING:tensorflow:Can save best model only with val_accuracy available, skipping.\n",
      "560/560 [==============================] - 2s 3ms/step - loss: 0.1434 - acc: 0.9449 - val_loss: 0.2192 - val_acc: 0.9203\n",
      "Epoch 23/30\n",
      "556/560 [============================>.] - ETA: 0s - loss: 0.1365 - acc: 0.9481WARNING:tensorflow:Can save best model only with val_accuracy available, skipping.\n",
      "560/560 [==============================] - 2s 3ms/step - loss: 0.1362 - acc: 0.9482 - val_loss: 0.2279 - val_acc: 0.9171\n",
      "Epoch 24/30\n",
      "547/560 [============================>.] - ETA: 0s - loss: 0.1330 - acc: 0.9480WARNING:tensorflow:Can save best model only with val_accuracy available, skipping.\n",
      "560/560 [==============================] - 2s 3ms/step - loss: 0.1327 - acc: 0.9479 - val_loss: 0.2180 - val_acc: 0.9208\n",
      "Epoch 25/30\n",
      "549/560 [============================>.] - ETA: 0s - loss: 0.1285 - acc: 0.9493WARNING:tensorflow:Can save best model only with val_accuracy available, skipping.\n",
      "560/560 [==============================] - 2s 3ms/step - loss: 0.1280 - acc: 0.9494 - val_loss: 0.2636 - val_acc: 0.9057\n",
      "Epoch 26/30\n",
      "543/560 [============================>.] - ETA: 0s - loss: 0.1250 - acc: 0.9506WARNING:tensorflow:Can save best model only with val_accuracy available, skipping.\n",
      "560/560 [==============================] - 2s 3ms/step - loss: 0.1250 - acc: 0.9504 - val_loss: 0.2364 - val_acc: 0.9205\n",
      "Epoch 27/30\n",
      "560/560 [==============================] - ETA: 0s - loss: 0.1200 - acc: 0.9522WARNING:tensorflow:Can save best model only with val_accuracy available, skipping.\n",
      "560/560 [==============================] - 2s 3ms/step - loss: 0.1200 - acc: 0.9522 - val_loss: 0.2238 - val_acc: 0.9205\n",
      "Epoch 28/30\n",
      "557/560 [============================>.] - ETA: 0s - loss: 0.1144 - acc: 0.9556WARNING:tensorflow:Can save best model only with val_accuracy available, skipping.\n",
      "560/560 [==============================] - 2s 3ms/step - loss: 0.1143 - acc: 0.9555 - val_loss: 0.2449 - val_acc: 0.9213\n"
     ]
    },
    {
     "name": "stdout",
     "output_type": "stream",
     "text": [
      "Epoch 29/30\n",
      "549/560 [============================>.] - ETA: 0s - loss: 0.1075 - acc: 0.9588WARNING:tensorflow:Can save best model only with val_accuracy available, skipping.\n",
      "560/560 [==============================] - 2s 3ms/step - loss: 0.1079 - acc: 0.9587 - val_loss: 0.2340 - val_acc: 0.9213\n",
      "Epoch 30/30\n",
      "554/560 [============================>.] - ETA: 0s - loss: 0.1070 - acc: 0.9583WARNING:tensorflow:Can save best model only with val_accuracy available, skipping.\n",
      "560/560 [==============================] - 2s 3ms/step - loss: 0.1070 - acc: 0.9583 - val_loss: 0.2530 - val_acc: 0.9171\n"
     ]
    }
   ],
   "source": [
    "history_log = model3.fit(x_train, y_train, epochs=30, verbose=1, validation_data=(x_test, y_test), callbacks=[checkpoint])\n"
   ]
  },
  {
   "cell_type": "code",
   "execution_count": 27,
   "id": "de84a26f",
   "metadata": {},
   "outputs": [],
   "source": [
    "model3.save_weights('/home/nvekariy/signal_code/New_neural_code_SNR_1.25_h/F5.h5')\n"
   ]
  },
  {
   "cell_type": "code",
   "execution_count": 28,
   "id": "30fd3f17",
   "metadata": {},
   "outputs": [],
   "source": [
    "model3.load_weights('/home/nvekariy/signal_code/New_neural_code_SNR_1.25_h/F5.h5')\n"
   ]
  },
  {
   "cell_type": "code",
   "execution_count": 29,
   "id": "994f96a7",
   "metadata": {},
   "outputs": [
    {
     "name": "stdout",
     "output_type": "stream",
     "text": [
      "120/120 [==============================] - 0s 1ms/step\n"
     ]
    }
   ],
   "source": [
    "predictions = model3.predict(x_test)\n",
    "pred_arg = np.argmax(predictions, axis=1)"
   ]
  },
  {
   "cell_type": "code",
   "execution_count": 30,
   "id": "abb59028",
   "metadata": {},
   "outputs": [
    {
     "name": "stdout",
     "output_type": "stream",
     "text": [
      "cnf_matrix_2.0_70\n",
      "\n",
      "[[939   1   1  22]\n",
      " [  0 918  64  19]\n",
      " [  0 150 832   0]\n",
      " [ 37  24   0 830]]\n"
     ]
    }
   ],
   "source": [
    "from sklearn.metrics import confusion_matrix\n",
    "cnf_matrix=confusion_matrix(y_test,pred_arg)\n",
    "print(\"cnf_matrix_2.0_70\")\n",
    "print(\"\")\n",
    "print(cnf_matrix)"
   ]
  },
  {
   "cell_type": "code",
   "execution_count": 31,
   "id": "9f134881",
   "metadata": {},
   "outputs": [],
   "source": [
    "from sklearn.metrics import accuracy_score, recall_score,precision_score,roc_auc_score,roc_curve,f1_score\n"
   ]
  },
  {
   "cell_type": "code",
   "execution_count": 32,
   "id": "0f419b16",
   "metadata": {},
   "outputs": [
    {
     "name": "stdout",
     "output_type": "stream",
     "text": [
      "91.71227521501173\n",
      "91.82549969419247\n",
      "91.71227521501173\n",
      "91.92395260897442\n"
     ]
    }
   ],
   "source": [
    "print(accuracy_score(y_test,pred_arg)*100)\n",
    "print(f1_score(y_test,pred_arg,average='macro')*100)\n",
    "print(recall_score(y_test,pred_arg, average=\"weighted\")*100)\n",
    "print(precision_score(y_test,pred_arg, average=\"weighted\")*100)"
   ]
  },
  {
   "cell_type": "code",
   "execution_count": null,
   "id": "9a6122db",
   "metadata": {},
   "outputs": [],
   "source": []
  },
  {
   "cell_type": "code",
   "execution_count": null,
   "id": "90845a20",
   "metadata": {},
   "outputs": [],
   "source": []
  },
  {
   "cell_type": "code",
   "execution_count": null,
   "id": "dd00c7be",
   "metadata": {},
   "outputs": [],
   "source": []
  }
 ],
 "metadata": {
  "anaconda-cloud": {},
  "kernelspec": {
   "display_name": "Python [conda env:root] *",
   "language": "python",
   "name": "conda-root-py"
  },
  "language_info": {
   "codemirror_mode": {
    "name": "ipython",
    "version": 3
   },
   "file_extension": ".py",
   "mimetype": "text/x-python",
   "name": "python",
   "nbconvert_exporter": "python",
   "pygments_lexer": "ipython3",
   "version": "3.9.12"
  }
 },
 "nbformat": 4,
 "nbformat_minor": 5
}
