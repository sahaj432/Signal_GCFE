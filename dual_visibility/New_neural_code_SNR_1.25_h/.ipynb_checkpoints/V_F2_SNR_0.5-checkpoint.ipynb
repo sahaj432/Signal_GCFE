{
 "cells": [
  {
   "cell_type": "code",
   "execution_count": 1,
   "id": "9c4dc733",
   "metadata": {},
   "outputs": [
    {
     "name": "stdout",
     "output_type": "stream",
     "text": [
      "Loading PyIOmica 1.3.3 (https://github.com/gmiaslab/pyiomica by G. Mias Lab)\n"
     ]
    }
   ],
   "source": [
    "import numpy as np\n",
    "import os\n",
    "import glob\n",
    "import seaborn as sns\n",
    "import matplotlib.pyplot as plt\n",
    "from pyiomica_master import pyiomica as pio\n",
    "from pyiomica_master.pyiomica import visualizationFunctions\n",
    "from pyiomica_master.pyiomica import visibilityGraphCommunityDetection\n",
    "import matplotlib as mpl\n",
    "from sklearn.utils import shuffle\n",
    "from sklearn.model_selection import train_test_split\n",
    "\n",
    "from tqdm import tqdm\n",
    "%matplotlib inline"
   ]
  },
  {
   "cell_type": "code",
   "execution_count": 2,
   "id": "b297825b",
   "metadata": {},
   "outputs": [],
   "source": [
    "x_frame1_05 = np.genfromtxt('/home/nvekariy/signal_code/datasets/neural_4_class/x_frame1_1.25_seed.csv', delimiter=',')\n",
    "x_frame2_05 = np.genfromtxt('/home/nvekariy/signal_code/datasets/neural_4_class/x_frame2_1.25_seed.csv', delimiter=',')\n",
    "x_frame3_05 = np.genfromtxt('/home/nvekariy/signal_code/datasets/neural_4_class/x_frame3_1.25_seed.csv', delimiter=',')\n",
    "x_framen_05= np.genfromtxt('/home/nvekariy/signal_code/datasets/neural_4_class/x_frame_noise_1.25_seed.csv', delimiter=',')"
   ]
  },
  {
   "cell_type": "code",
   "execution_count": null,
   "id": "81f7372f",
   "metadata": {},
   "outputs": [],
   "source": []
  },
  {
   "cell_type": "code",
   "execution_count": 3,
   "id": "79eaf877",
   "metadata": {},
   "outputs": [],
   "source": [
    "x=np.concatenate((x_frame1_05,x_frame2_05,x_frame3_05,x_framen_05[:6000]),axis=0)\n",
    "y=np.concatenate((np.zeros(len(x_frame1_05)),np.zeros(len(x_frame2_05))+1,np.zeros(len(x_frame3_05))+2,np.zeros(len(x_framen_05[:6000]))+3),axis=0)"
   ]
  },
  {
   "cell_type": "code",
   "execution_count": 4,
   "id": "3ea7e902",
   "metadata": {},
   "outputs": [],
   "source": [
    "X, Y = shuffle(x,y, random_state=1)"
   ]
  },
  {
   "cell_type": "code",
   "execution_count": 5,
   "id": "b78a4e4f",
   "metadata": {},
   "outputs": [],
   "source": [
    "def calculate_adj(data):\n",
    "    temp1=[]\n",
    "    for p, i in enumerate(data):\n",
    "        #print(f'Converting ==> {p+1} \\r', end=\"\",flush=True)\n",
    "        vs_out = visibilityGraphCommunityDetection.createVisibilityGraph(i, range(len(i)), \"dual_natural\", weight='tan')\n",
    "        vs_out=np.asarray(vs_out)\n",
    "        temp1.append(vs_out)\n",
    "        \n",
    "    return temp1"
   ]
  },
  {
   "cell_type": "code",
   "execution_count": 6,
   "id": "d76d37e4",
   "metadata": {},
   "outputs": [
    {
     "name": "stdout",
     "output_type": "stream",
     "text": [
      "Number of CPU cores: 48\n"
     ]
    }
   ],
   "source": [
    "from multiprocessing import Pool\n",
    "import multiprocessing\n",
    "\n",
    "if __name__ == '__main__':\n",
    "    num_cores = multiprocessing.cpu_count()\n",
    "    print(\"Number of CPU cores:\", num_cores)"
   ]
  },
  {
   "cell_type": "code",
   "execution_count": 7,
   "id": "7c17ff90",
   "metadata": {},
   "outputs": [
    {
     "name": "stdout",
     "output_type": "stream",
     "text": [
      "533\n"
     ]
    }
   ],
   "source": [
    "df=np.array_split(X, num_cores)\n",
    "print(len(df[0]))"
   ]
  },
  {
   "cell_type": "code",
   "execution_count": 8,
   "id": "83c17a05",
   "metadata": {},
   "outputs": [],
   "source": [
    "with Pool(processes=num_cores) as pool:\n",
    "    results = pool.map(calculate_adj, df)\n",
    "\n",
    "pool.close()\n",
    "pool.join()"
   ]
  },
  {
   "cell_type": "code",
   "execution_count": 9,
   "id": "8f6e3323",
   "metadata": {},
   "outputs": [],
   "source": [
    "x_adj=[]\n",
    "for submatrix in results:\n",
    "    x_adj.extend(submatrix)"
   ]
  },
  {
   "cell_type": "code",
   "execution_count": 10,
   "id": "f5de6f8d",
   "metadata": {},
   "outputs": [
    {
     "name": "stdout",
     "output_type": "stream",
     "text": [
      "25578\n"
     ]
    }
   ],
   "source": [
    "print(len(x_adj))"
   ]
  },
  {
   "cell_type": "code",
   "execution_count": 11,
   "id": "37e26890",
   "metadata": {},
   "outputs": [],
   "source": [
    "x_adj=np.array(x_adj)"
   ]
  },
  {
   "cell_type": "code",
   "execution_count": 12,
   "id": "79d3d717",
   "metadata": {},
   "outputs": [],
   "source": [
    "def graph_index_complexity(matrix):\n",
    "    N = len(matrix) # Number of nodes\n",
    "    E = np.sum(matrix > 0) / 2 # Number of edges (since matrix is symmetric for undirected graphs)\n",
    "    \n",
    "    if N == 0 or E == 0:\n",
    "        return 0\n",
    "    \n",
    "    GIC = (E / N) * np.log(N)\n",
    "    return GIC"
   ]
  },
  {
   "cell_type": "code",
   "execution_count": 13,
   "id": "baccf05e",
   "metadata": {},
   "outputs": [],
   "source": [
    "def degree(data): #The node strengths (or weighted degrees) \n",
    "    return np.sum(data, axis=0).flatten()"
   ]
  },
  {
   "cell_type": "code",
   "execution_count": 14,
   "id": "fe9d74c9",
   "metadata": {},
   "outputs": [],
   "source": [
    "import networkx as nx\n",
    "def runall(data):\n",
    "    temp1=[]\n",
    "    for i in data:\n",
    "        G = nx.from_numpy_array(i, parallel_edges=False)\n",
    "        \n",
    "        cpl=[nx.average_shortest_path_length(G)]\n",
    "        ge=[nx.global_efficiency(G)]\n",
    "        le=[nx.local_efficiency(G)]\n",
    "        ac=[nx.degree_assortativity_coefficient(G)]\n",
    "        d=degree(i).tolist()\n",
    "        bc=list(nx.betweenness_centrality(G).values())\n",
    "        cc=list(nx.clustering(G).values())\n",
    "        temp1.append(cpl+ge+le+ac+d+bc+cc) #+cpl+ge+le+ac+cc\n",
    "    return temp1"
   ]
  },
  {
   "cell_type": "code",
   "execution_count": 15,
   "id": "6c582fda",
   "metadata": {},
   "outputs": [
    {
     "name": "stdout",
     "output_type": "stream",
     "text": [
      "Number of CPU cores: 48\n",
      "533\n"
     ]
    }
   ],
   "source": [
    "from multiprocessing import Pool\n",
    "import multiprocessing\n",
    "\n",
    "if __name__ == '__main__':\n",
    "    num_cores = multiprocessing.cpu_count()\n",
    "    print(\"Number of CPU cores:\", num_cores)\n",
    "\n",
    "\n",
    "df1=np.array_split(x_adj[:], num_cores)\n",
    "\n",
    "\n",
    "print(len(df[0]))\n",
    "\n",
    "\n"
   ]
  },
  {
   "cell_type": "code",
   "execution_count": 16,
   "id": "489e53ab",
   "metadata": {},
   "outputs": [
    {
     "name": "stdout",
     "output_type": "stream",
     "text": [
      "--- 38.209426164627075 seconds ---\n"
     ]
    }
   ],
   "source": [
    "\n",
    "import time\n",
    "start_time = time.time()\n",
    "with Pool(processes=num_cores) as pool1:\n",
    "    results1 = pool1.map(runall, df1)\n",
    "\n",
    "pool1.close()\n",
    "pool1.join()\n",
    "\n",
    "print(\"--- %s seconds ---\" % (time.time() - start_time))\n"
   ]
  },
  {
   "cell_type": "code",
   "execution_count": 17,
   "id": "4bd5c260",
   "metadata": {},
   "outputs": [],
   "source": [
    "x_g=[]\n",
    "for submatrix in results1:\n",
    "    x_g.extend(submatrix)"
   ]
  },
  {
   "cell_type": "code",
   "execution_count": 18,
   "id": "e7087c73",
   "metadata": {},
   "outputs": [],
   "source": [
    "x_g=np.array(x_g)\n"
   ]
  },
  {
   "cell_type": "code",
   "execution_count": 19,
   "id": "8755a166",
   "metadata": {},
   "outputs": [
    {
     "name": "stdout",
     "output_type": "stream",
     "text": [
      "(25578, 172)\n"
     ]
    }
   ],
   "source": [
    "print(x_g.shape)"
   ]
  },
  {
   "cell_type": "code",
   "execution_count": 20,
   "id": "584b0d16",
   "metadata": {},
   "outputs": [],
   "source": [
    "x_train, x_temp, y_train, y_temp = train_test_split(x_g, Y, test_size=0.30, random_state=42)\n",
    "x_val,x_test,y_val,y_test=train_test_split(x_temp,y_temp,test_size=0.50, random_state=42)"
   ]
  },
  {
   "cell_type": "code",
   "execution_count": 21,
   "id": "87ff4de7",
   "metadata": {},
   "outputs": [
    {
     "name": "stdout",
     "output_type": "stream",
     "text": [
      "(17904, 172)\n",
      "(3837, 172)\n",
      "(3837, 172)\n"
     ]
    }
   ],
   "source": [
    "print(x_train.shape)\n",
    "print(x_val.shape)\n",
    "print(x_test.shape)"
   ]
  },
  {
   "cell_type": "code",
   "execution_count": 22,
   "id": "5ee715d8",
   "metadata": {},
   "outputs": [
    {
     "name": "stderr",
     "output_type": "stream",
     "text": [
      "2023-08-13 10:13:18.717378: I tensorflow/core/platform/cpu_feature_guard.cc:193] This TensorFlow binary is optimized with oneAPI Deep Neural Network Library (oneDNN) to use the following CPU instructions in performance-critical operations:  AVX2 AVX512F AVX512_VNNI FMA\n",
      "To enable them in other operations, rebuild TensorFlow with the appropriate compiler flags.\n",
      "2023-08-13 10:13:21.374790: I tensorflow/core/util/port.cc:104] oneDNN custom operations are on. You may see slightly different numerical results due to floating-point round-off errors from different computation orders. To turn them off, set the environment variable `TF_ENABLE_ONEDNN_OPTS=0`.\n",
      "2023-08-13 10:13:22.863935: W tensorflow/compiler/xla/stream_executor/platform/default/dso_loader.cc:64] Could not load dynamic library 'libcudart.so.11.0'; dlerror: libcudart.so.11.0: cannot open shared object file: No such file or directory; LD_LIBRARY_PATH: /cm/shared/apps/slurm/18.08.9/lib64/slurm:/cm/shared/apps/slurm/18.08.9/lib64\n",
      "2023-08-13 10:13:22.863986: I tensorflow/compiler/xla/stream_executor/cuda/cudart_stub.cc:29] Ignore above cudart dlerror if you do not have a GPU set up on your machine.\n",
      "2023-08-13 10:13:35.438142: W tensorflow/compiler/xla/stream_executor/platform/default/dso_loader.cc:64] Could not load dynamic library 'libnvinfer.so.7'; dlerror: libnvinfer.so.7: cannot open shared object file: No such file or directory; LD_LIBRARY_PATH: /cm/shared/apps/slurm/18.08.9/lib64/slurm:/cm/shared/apps/slurm/18.08.9/lib64\n",
      "2023-08-13 10:13:35.438250: W tensorflow/compiler/xla/stream_executor/platform/default/dso_loader.cc:64] Could not load dynamic library 'libnvinfer_plugin.so.7'; dlerror: libnvinfer_plugin.so.7: cannot open shared object file: No such file or directory; LD_LIBRARY_PATH: /cm/shared/apps/slurm/18.08.9/lib64/slurm:/cm/shared/apps/slurm/18.08.9/lib64\n",
      "2023-08-13 10:13:35.438259: W tensorflow/compiler/tf2tensorrt/utils/py_utils.cc:38] TF-TRT Warning: Cannot dlopen some TensorRT libraries. If you would like to use Nvidia GPU with TensorRT, please make sure the missing libraries mentioned above are installed properly.\n"
     ]
    }
   ],
   "source": [
    "import tensorflow as tf\n"
   ]
  },
  {
   "cell_type": "code",
   "execution_count": 23,
   "id": "a51d8943",
   "metadata": {},
   "outputs": [
    {
     "name": "stderr",
     "output_type": "stream",
     "text": [
      "2023-08-13 10:13:50.810599: W tensorflow/compiler/xla/stream_executor/platform/default/dso_loader.cc:64] Could not load dynamic library 'libcuda.so.1'; dlerror: libcuda.so.1: cannot open shared object file: No such file or directory; LD_LIBRARY_PATH: /cm/shared/apps/slurm/18.08.9/lib64/slurm:/cm/shared/apps/slurm/18.08.9/lib64\n",
      "2023-08-13 10:13:50.810664: W tensorflow/compiler/xla/stream_executor/cuda/cuda_driver.cc:265] failed call to cuInit: UNKNOWN ERROR (303)\n",
      "2023-08-13 10:13:50.810694: I tensorflow/compiler/xla/stream_executor/cuda/cuda_diagnostics.cc:156] kernel driver does not appear to be running on this host (c0153): /proc/driver/nvidia/version does not exist\n",
      "2023-08-13 10:13:50.811589: I tensorflow/core/platform/cpu_feature_guard.cc:193] This TensorFlow binary is optimized with oneAPI Deep Neural Network Library (oneDNN) to use the following CPU instructions in performance-critical operations:  AVX2 AVX512F AVX512_VNNI FMA\n",
      "To enable them in other operations, rebuild TensorFlow with the appropriate compiler flags.\n"
     ]
    }
   ],
   "source": [
    "input_shape = (x_train.shape[1],1)\n",
    "num_classes = 4\n",
    "model3 = tf.keras.models.Sequential()\n",
    "model3.add(tf.keras.layers.Conv1D(filters= 32, kernel_size=3, activation='relu',padding='same',input_shape= input_shape))\n",
    "model3.add(tf.keras.layers.MaxPooling1D(pool_size=2,strides=None,padding='valid'))\n",
    "\n",
    "model3.add(tf.keras.layers.Conv1D(filters=32, kernel_size=3,padding='same',activation='relu'))\n",
    "model3.add(tf.keras.layers.MaxPooling1D(pool_size=2,strides=None,padding='valid'))\n",
    "\n",
    "# model3.add(tf.keras.layers.Conv1D(filters=32, kernel_size=3,padding='same',activation='relu'))\n",
    "# model3.add(tf.keras.layers.MaxPooling1D(pool_size=2,strides=None,padding='valid'))\n",
    "# model3.add(tf.keras.layers.Conv1D(filters=32, kernel_size=3,padding='same',activation='relu'))\n",
    "# model3.add(tf.keras.layers.MaxPooling1D(pool_size=2,strides=None,padding='valid'))\n",
    "# model3.add(tf.keras.layers.Conv1D(filters=32, kernel_size=3,padding='same',activation='relu'))\n",
    "# model3.add(tf.keras.layers.MaxPooling1D(pool_size=2,strides=None,padding='valid'))\n",
    "# model3.add(tf.keras.layers.Conv1D(filters=32, kernel_size=3,padding='same',activation='relu'))\n",
    "# model3.add(tf.keras.layers.MaxPooling1D(pool_size=2,strides=None,padding='valid'))\n",
    "model3.add(tf.keras.layers.Flatten())\n",
    "\n",
    "model3.add(tf.keras.layers.Dense(100, activation='relu'))\n",
    "model3.add(tf.keras.layers.Dropout(0.1))\n",
    "model3.add(tf.keras.layers.Dense(100, activation='relu'))\n",
    "model3.add(tf.keras.layers.Dense(num_classes, activation='softmax'))"
   ]
  },
  {
   "cell_type": "code",
   "execution_count": 24,
   "id": "09f1d97c",
   "metadata": {},
   "outputs": [
    {
     "name": "stdout",
     "output_type": "stream",
     "text": [
      "Model: \"sequential\"\n",
      "_________________________________________________________________\n",
      " Layer (type)                Output Shape              Param #   \n",
      "=================================================================\n",
      " conv1d (Conv1D)             (None, 172, 32)           128       \n",
      "                                                                 \n",
      " max_pooling1d (MaxPooling1D  (None, 86, 32)           0         \n",
      " )                                                               \n",
      "                                                                 \n",
      " conv1d_1 (Conv1D)           (None, 86, 32)            3104      \n",
      "                                                                 \n",
      " max_pooling1d_1 (MaxPooling  (None, 43, 32)           0         \n",
      " 1D)                                                             \n",
      "                                                                 \n",
      " flatten (Flatten)           (None, 1376)              0         \n",
      "                                                                 \n",
      " dense (Dense)               (None, 100)               137700    \n",
      "                                                                 \n",
      " dropout (Dropout)           (None, 100)               0         \n",
      "                                                                 \n",
      " dense_1 (Dense)             (None, 100)               10100     \n",
      "                                                                 \n",
      " dense_2 (Dense)             (None, 4)                 404       \n",
      "                                                                 \n",
      "=================================================================\n",
      "Total params: 151,436\n",
      "Trainable params: 151,436\n",
      "Non-trainable params: 0\n",
      "_________________________________________________________________\n"
     ]
    }
   ],
   "source": [
    "model3.summary()"
   ]
  },
  {
   "cell_type": "code",
   "execution_count": 25,
   "id": "5691f34f",
   "metadata": {},
   "outputs": [],
   "source": [
    "model3.compile(loss='SparseCategoricalCrossentropy', optimizer='Adam', metrics=['acc'])\n"
   ]
  },
  {
   "cell_type": "code",
   "execution_count": 26,
   "id": "e2276cd0",
   "metadata": {},
   "outputs": [],
   "source": [
    "from tensorflow.keras.callbacks import ModelCheckpoint\n",
    "from tensorflow.keras.models import load_model\n",
    "\n",
    "\n",
    "\n",
    "checkpoint = ModelCheckpoint('F2.h5', monitor='val_accuracy', verbose=1, save_best_only=True, mode='max')\n"
   ]
  },
  {
   "cell_type": "code",
   "execution_count": 27,
   "id": "43bf0926",
   "metadata": {
    "scrolled": true
   },
   "outputs": [
    {
     "name": "stdout",
     "output_type": "stream",
     "text": [
      "Epoch 1/30\n",
      "560/560 [==============================] - ETA: 0s - loss: 0.2070 - acc: 0.9319WARNING:tensorflow:Can save best model only with val_accuracy available, skipping.\n",
      "560/560 [==============================] - 5s 5ms/step - loss: 0.2070 - acc: 0.9319 - val_loss: 0.0892 - val_acc: 0.9666\n",
      "Epoch 2/30\n",
      "556/560 [============================>.] - ETA: 0s - loss: 0.0814 - acc: 0.9722WARNING:tensorflow:Can save best model only with val_accuracy available, skipping.\n",
      "560/560 [==============================] - 2s 4ms/step - loss: 0.0811 - acc: 0.9724 - val_loss: 0.0573 - val_acc: 0.9810\n",
      "Epoch 3/30\n",
      "553/560 [============================>.] - ETA: 0s - loss: 0.0715 - acc: 0.9767WARNING:tensorflow:Can save best model only with val_accuracy available, skipping.\n",
      "560/560 [==============================] - 2s 4ms/step - loss: 0.0716 - acc: 0.9765 - val_loss: 0.0513 - val_acc: 0.9838\n",
      "Epoch 4/30\n",
      "547/560 [============================>.] - ETA: 0s - loss: 0.0649 - acc: 0.9781WARNING:tensorflow:Can save best model only with val_accuracy available, skipping.\n",
      "560/560 [==============================] - 2s 4ms/step - loss: 0.0655 - acc: 0.9778 - val_loss: 0.0593 - val_acc: 0.9781\n",
      "Epoch 5/30\n",
      "555/560 [============================>.] - ETA: 0s - loss: 0.0565 - acc: 0.9822WARNING:tensorflow:Can save best model only with val_accuracy available, skipping.\n",
      "560/560 [==============================] - 2s 4ms/step - loss: 0.0572 - acc: 0.9820 - val_loss: 0.0640 - val_acc: 0.9789\n",
      "Epoch 6/30\n",
      "555/560 [============================>.] - ETA: 0s - loss: 0.0569 - acc: 0.9814WARNING:tensorflow:Can save best model only with val_accuracy available, skipping.\n",
      "560/560 [==============================] - 2s 4ms/step - loss: 0.0566 - acc: 0.9815 - val_loss: 0.0466 - val_acc: 0.9846\n",
      "Epoch 7/30\n",
      "552/560 [============================>.] - ETA: 0s - loss: 0.0537 - acc: 0.9817WARNING:tensorflow:Can save best model only with val_accuracy available, skipping.\n",
      "560/560 [==============================] - 2s 4ms/step - loss: 0.0539 - acc: 0.9817 - val_loss: 0.0581 - val_acc: 0.9828\n",
      "Epoch 8/30\n",
      "553/560 [============================>.] - ETA: 0s - loss: 0.0491 - acc: 0.9838WARNING:tensorflow:Can save best model only with val_accuracy available, skipping.\n",
      "560/560 [==============================] - 2s 4ms/step - loss: 0.0493 - acc: 0.9838 - val_loss: 0.0478 - val_acc: 0.9851\n",
      "Epoch 9/30\n",
      "556/560 [============================>.] - ETA: 0s - loss: 0.0482 - acc: 0.9837WARNING:tensorflow:Can save best model only with val_accuracy available, skipping.\n",
      "560/560 [==============================] - 2s 4ms/step - loss: 0.0487 - acc: 0.9836 - val_loss: 0.0508 - val_acc: 0.9831\n",
      "Epoch 10/30\n",
      "551/560 [============================>.] - ETA: 0s - loss: 0.0474 - acc: 0.9843WARNING:tensorflow:Can save best model only with val_accuracy available, skipping.\n",
      "560/560 [==============================] - 2s 4ms/step - loss: 0.0470 - acc: 0.9845 - val_loss: 0.0541 - val_acc: 0.9836\n",
      "Epoch 11/30\n",
      "549/560 [============================>.] - ETA: 0s - loss: 0.0446 - acc: 0.9849WARNING:tensorflow:Can save best model only with val_accuracy available, skipping.\n",
      "560/560 [==============================] - 2s 4ms/step - loss: 0.0456 - acc: 0.9846 - val_loss: 0.0499 - val_acc: 0.9825\n",
      "Epoch 12/30\n",
      "552/560 [============================>.] - ETA: 0s - loss: 0.0427 - acc: 0.9856WARNING:tensorflow:Can save best model only with val_accuracy available, skipping.\n",
      "560/560 [==============================] - 2s 4ms/step - loss: 0.0424 - acc: 0.9856 - val_loss: 0.0552 - val_acc: 0.9810\n",
      "Epoch 13/30\n",
      "550/560 [============================>.] - ETA: 0s - loss: 0.0407 - acc: 0.9857WARNING:tensorflow:Can save best model only with val_accuracy available, skipping.\n",
      "560/560 [==============================] - 2s 4ms/step - loss: 0.0404 - acc: 0.9859 - val_loss: 0.0548 - val_acc: 0.9838\n",
      "Epoch 14/30\n",
      "550/560 [============================>.] - ETA: 0s - loss: 0.0374 - acc: 0.9884WARNING:tensorflow:Can save best model only with val_accuracy available, skipping.\n",
      "560/560 [==============================] - 2s 4ms/step - loss: 0.0375 - acc: 0.9883 - val_loss: 0.0716 - val_acc: 0.9760\n",
      "Epoch 15/30\n",
      "557/560 [============================>.] - ETA: 0s - loss: 0.0371 - acc: 0.9879WARNING:tensorflow:Can save best model only with val_accuracy available, skipping.\n",
      "560/560 [==============================] - 2s 4ms/step - loss: 0.0370 - acc: 0.9880 - val_loss: 0.0716 - val_acc: 0.9786\n",
      "Epoch 16/30\n",
      "550/560 [============================>.] - ETA: 0s - loss: 0.0369 - acc: 0.9872WARNING:tensorflow:Can save best model only with val_accuracy available, skipping.\n",
      "560/560 [==============================] - 2s 4ms/step - loss: 0.0365 - acc: 0.9873 - val_loss: 0.0675 - val_acc: 0.9812\n",
      "Epoch 17/30\n",
      "554/560 [============================>.] - ETA: 0s - loss: 0.0358 - acc: 0.9874WARNING:tensorflow:Can save best model only with val_accuracy available, skipping.\n",
      "560/560 [==============================] - 2s 4ms/step - loss: 0.0358 - acc: 0.9874 - val_loss: 0.0557 - val_acc: 0.9846\n",
      "Epoch 18/30\n",
      "552/560 [============================>.] - ETA: 0s - loss: 0.0343 - acc: 0.9888WARNING:tensorflow:Can save best model only with val_accuracy available, skipping.\n",
      "560/560 [==============================] - 2s 4ms/step - loss: 0.0342 - acc: 0.9889 - val_loss: 0.0578 - val_acc: 0.9825\n",
      "Epoch 19/30\n",
      "551/560 [============================>.] - ETA: 0s - loss: 0.0309 - acc: 0.9889WARNING:tensorflow:Can save best model only with val_accuracy available, skipping.\n",
      "560/560 [==============================] - 2s 4ms/step - loss: 0.0306 - acc: 0.9891 - val_loss: 0.0524 - val_acc: 0.9833\n",
      "Epoch 20/30\n",
      "549/560 [============================>.] - ETA: 0s - loss: 0.0288 - acc: 0.9903WARNING:tensorflow:Can save best model only with val_accuracy available, skipping.\n",
      "560/560 [==============================] - 2s 4ms/step - loss: 0.0295 - acc: 0.9901 - val_loss: 0.0778 - val_acc: 0.9828\n",
      "Epoch 21/30\n",
      "548/560 [============================>.] - ETA: 0s - loss: 0.0280 - acc: 0.9909WARNING:tensorflow:Can save best model only with val_accuracy available, skipping.\n",
      "560/560 [==============================] - 2s 4ms/step - loss: 0.0285 - acc: 0.9908 - val_loss: 0.0623 - val_acc: 0.9807\n",
      "Epoch 22/30\n",
      "550/560 [============================>.] - ETA: 0s - loss: 0.0267 - acc: 0.9901WARNING:tensorflow:Can save best model only with val_accuracy available, skipping.\n",
      "560/560 [==============================] - 2s 4ms/step - loss: 0.0267 - acc: 0.9902 - val_loss: 0.0529 - val_acc: 0.9849\n",
      "Epoch 23/30\n",
      "553/560 [============================>.] - ETA: 0s - loss: 0.0256 - acc: 0.9908WARNING:tensorflow:Can save best model only with val_accuracy available, skipping.\n",
      "560/560 [==============================] - 2s 4ms/step - loss: 0.0254 - acc: 0.9909 - val_loss: 0.0881 - val_acc: 0.9794\n",
      "Epoch 24/30\n",
      "554/560 [============================>.] - ETA: 0s - loss: 0.0236 - acc: 0.9916WARNING:tensorflow:Can save best model only with val_accuracy available, skipping.\n",
      "560/560 [==============================] - 2s 4ms/step - loss: 0.0235 - acc: 0.9917 - val_loss: 0.0820 - val_acc: 0.9786\n",
      "Epoch 25/30\n",
      "550/560 [============================>.] - ETA: 0s - loss: 0.0215 - acc: 0.9928WARNING:tensorflow:Can save best model only with val_accuracy available, skipping.\n",
      "560/560 [==============================] - 2s 4ms/step - loss: 0.0218 - acc: 0.9927 - val_loss: 0.0782 - val_acc: 0.9786\n",
      "Epoch 26/30\n",
      "550/560 [============================>.] - ETA: 0s - loss: 0.0219 - acc: 0.9923WARNING:tensorflow:Can save best model only with val_accuracy available, skipping.\n",
      "560/560 [==============================] - 2s 4ms/step - loss: 0.0225 - acc: 0.9921 - val_loss: 0.0817 - val_acc: 0.9776\n",
      "Epoch 27/30\n",
      "551/560 [============================>.] - ETA: 0s - loss: 0.0179 - acc: 0.9935WARNING:tensorflow:Can save best model only with val_accuracy available, skipping.\n",
      "560/560 [==============================] - 2s 4ms/step - loss: 0.0179 - acc: 0.9935 - val_loss: 0.0735 - val_acc: 0.9807\n",
      "Epoch 28/30\n",
      "553/560 [============================>.] - ETA: 0s - loss: 0.0155 - acc: 0.9948WARNING:tensorflow:Can save best model only with val_accuracy available, skipping.\n",
      "560/560 [==============================] - 2s 4ms/step - loss: 0.0158 - acc: 0.9948 - val_loss: 0.0800 - val_acc: 0.9799\n"
     ]
    },
    {
     "name": "stdout",
     "output_type": "stream",
     "text": [
      "Epoch 29/30\n",
      "554/560 [============================>.] - ETA: 0s - loss: 0.0186 - acc: 0.9936WARNING:tensorflow:Can save best model only with val_accuracy available, skipping.\n",
      "560/560 [==============================] - 2s 4ms/step - loss: 0.0186 - acc: 0.9936 - val_loss: 0.0998 - val_acc: 0.9763\n",
      "Epoch 30/30\n",
      "554/560 [============================>.] - ETA: 0s - loss: 0.0178 - acc: 0.9937WARNING:tensorflow:Can save best model only with val_accuracy available, skipping.\n",
      "560/560 [==============================] - 2s 4ms/step - loss: 0.0178 - acc: 0.9937 - val_loss: 0.0706 - val_acc: 0.9812\n"
     ]
    }
   ],
   "source": [
    "history_log = model3.fit(x_train, y_train, epochs=30, verbose=1, validation_data=(x_test, y_test), callbacks=[checkpoint])\n"
   ]
  },
  {
   "cell_type": "code",
   "execution_count": 28,
   "id": "de84a26f",
   "metadata": {},
   "outputs": [],
   "source": [
    "model3.save_weights('/home/nvekariy/signal_code/New_neural_code_SNR_1.25_h/F2.h5')\n"
   ]
  },
  {
   "cell_type": "code",
   "execution_count": 29,
   "id": "30fd3f17",
   "metadata": {},
   "outputs": [],
   "source": [
    "model3.load_weights('/home/nvekariy/signal_code/New_neural_code_SNR_1.25_h/F2.h5')\n"
   ]
  },
  {
   "cell_type": "code",
   "execution_count": 30,
   "id": "994f96a7",
   "metadata": {},
   "outputs": [
    {
     "name": "stdout",
     "output_type": "stream",
     "text": [
      "120/120 [==============================] - 0s 2ms/step\n"
     ]
    }
   ],
   "source": [
    "predictions = model3.predict(x_test)\n",
    "pred_arg = np.argmax(predictions, axis=1)"
   ]
  },
  {
   "cell_type": "code",
   "execution_count": 31,
   "id": "abb59028",
   "metadata": {},
   "outputs": [
    {
     "name": "stdout",
     "output_type": "stream",
     "text": [
      "cnf_matrix_2.0_70\n",
      "\n",
      "[[958   1   0   4]\n",
      " [  0 957  39   5]\n",
      " [  0  19 963   0]\n",
      " [  4   0   0 887]]\n"
     ]
    }
   ],
   "source": [
    "from sklearn.metrics import confusion_matrix\n",
    "cnf_matrix=confusion_matrix(y_test,pred_arg)\n",
    "print(\"cnf_matrix_2.0_70\")\n",
    "print(\"\")\n",
    "print(cnf_matrix)"
   ]
  },
  {
   "cell_type": "code",
   "execution_count": 32,
   "id": "9f134881",
   "metadata": {},
   "outputs": [],
   "source": [
    "from sklearn.metrics import accuracy_score, recall_score,precision_score,roc_auc_score,roc_curve,f1_score\n"
   ]
  },
  {
   "cell_type": "code",
   "execution_count": 33,
   "id": "0f419b16",
   "metadata": {},
   "outputs": [
    {
     "name": "stdout",
     "output_type": "stream",
     "text": [
      "98.12353401094606\n",
      "98.16150317799935\n",
      "98.12353401094606\n",
      "98.13221809815622\n"
     ]
    }
   ],
   "source": [
    "print(accuracy_score(y_test,pred_arg)*100)\n",
    "print(f1_score(y_test,pred_arg,average='macro')*100)\n",
    "print(recall_score(y_test,pred_arg, average=\"weighted\")*100)\n",
    "print(precision_score(y_test,pred_arg, average=\"weighted\")*100)"
   ]
  },
  {
   "cell_type": "code",
   "execution_count": null,
   "id": "90845a20",
   "metadata": {},
   "outputs": [],
   "source": []
  },
  {
   "cell_type": "code",
   "execution_count": null,
   "id": "dd00c7be",
   "metadata": {},
   "outputs": [],
   "source": []
  }
 ],
 "metadata": {
  "anaconda-cloud": {},
  "kernelspec": {
   "display_name": "Python [conda env:root] *",
   "language": "python",
   "name": "conda-root-py"
  },
  "language_info": {
   "codemirror_mode": {
    "name": "ipython",
    "version": 3
   },
   "file_extension": ".py",
   "mimetype": "text/x-python",
   "name": "python",
   "nbconvert_exporter": "python",
   "pygments_lexer": "ipython3",
   "version": "3.9.12"
  }
 },
 "nbformat": 4,
 "nbformat_minor": 5
}
