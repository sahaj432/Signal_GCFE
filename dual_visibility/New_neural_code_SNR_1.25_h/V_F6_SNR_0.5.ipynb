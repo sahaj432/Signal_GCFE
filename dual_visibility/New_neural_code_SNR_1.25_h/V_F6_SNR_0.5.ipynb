{
 "cells": [
  {
   "cell_type": "code",
   "execution_count": 1,
   "id": "9c4dc733",
   "metadata": {},
   "outputs": [
    {
     "name": "stdout",
     "output_type": "stream",
     "text": [
      "Loading PyIOmica 1.3.3 (https://github.com/gmiaslab/pyiomica by G. Mias Lab)\n"
     ]
    }
   ],
   "source": [
    "import numpy as np\n",
    "import os\n",
    "import glob\n",
    "import seaborn as sns\n",
    "import matplotlib.pyplot as plt\n",
    "from pyiomica_master import pyiomica as pio\n",
    "from pyiomica_master.pyiomica import visualizationFunctions\n",
    "from pyiomica_master.pyiomica import visibilityGraphCommunityDetection\n",
    "import matplotlib as mpl\n",
    "from sklearn.utils import shuffle\n",
    "from sklearn.model_selection import train_test_split\n",
    "\n",
    "from tqdm import tqdm\n",
    "%matplotlib inline"
   ]
  },
  {
   "cell_type": "code",
   "execution_count": 2,
   "id": "b297825b",
   "metadata": {},
   "outputs": [],
   "source": [
    "x_frame1_05 = np.genfromtxt('/home/nvekariy/signal_code/datasets/neural_4_class/x_frame1_1.25_seed.csv', delimiter=',')\n",
    "x_frame2_05 = np.genfromtxt('/home/nvekariy/signal_code/datasets/neural_4_class/x_frame2_1.25_seed.csv', delimiter=',')\n",
    "x_frame3_05 = np.genfromtxt('/home/nvekariy/signal_code/datasets/neural_4_class/x_frame3_1.25_seed.csv', delimiter=',')\n",
    "x_framen_05= np.genfromtxt('/home/nvekariy/signal_code/datasets/neural_4_class/x_frame_noise_1.25_seed.csv', delimiter=',')"
   ]
  },
  {
   "cell_type": "code",
   "execution_count": null,
   "id": "81f7372f",
   "metadata": {},
   "outputs": [],
   "source": []
  },
  {
   "cell_type": "code",
   "execution_count": 3,
   "id": "79eaf877",
   "metadata": {},
   "outputs": [],
   "source": [
    "x=np.concatenate((x_frame1_05,x_frame2_05,x_frame3_05,x_framen_05[:6000]),axis=0)\n",
    "y=np.concatenate((np.zeros(len(x_frame1_05)),np.zeros(len(x_frame2_05))+1,np.zeros(len(x_frame3_05))+2,np.zeros(len(x_framen_05[:6000]))+3),axis=0)"
   ]
  },
  {
   "cell_type": "code",
   "execution_count": 4,
   "id": "3ea7e902",
   "metadata": {},
   "outputs": [],
   "source": [
    "X, Y = shuffle(x,y, random_state=1)"
   ]
  },
  {
   "cell_type": "code",
   "execution_count": 5,
   "id": "b78a4e4f",
   "metadata": {},
   "outputs": [],
   "source": [
    "def calculate_adj(data):\n",
    "    temp1=[]\n",
    "    for p, i in enumerate(data):\n",
    "        #print(f'Converting ==> {p+1} \\r', end=\"\",flush=True)\n",
    "        vs_out = visibilityGraphCommunityDetection.createVisibilityGraph(i, range(len(i)), \"dual_natural\", weight='tan')\n",
    "        vs_out=np.asarray(vs_out)\n",
    "        temp1.append(vs_out)\n",
    "        \n",
    "    return temp1"
   ]
  },
  {
   "cell_type": "code",
   "execution_count": 6,
   "id": "3d605bfd",
   "metadata": {
    "scrolled": true
   },
   "outputs": [
    {
     "name": "stdout",
     "output_type": "stream",
     "text": [
      "Number of CPU cores: 48\n"
     ]
    }
   ],
   "source": [
    "from multiprocessing import Pool\n",
    "import multiprocessing\n",
    "\n",
    "if __name__ == '__main__':\n",
    "    num_cores = multiprocessing.cpu_count()\n",
    "    print(\"Number of CPU cores:\", num_cores)"
   ]
  },
  {
   "cell_type": "code",
   "execution_count": 7,
   "id": "46772fd9",
   "metadata": {},
   "outputs": [
    {
     "name": "stdout",
     "output_type": "stream",
     "text": [
      "533\n"
     ]
    }
   ],
   "source": [
    "df=np.array_split(X, num_cores)\n",
    "print(len(df[0]))"
   ]
  },
  {
   "cell_type": "code",
   "execution_count": 8,
   "id": "06f240a8",
   "metadata": {},
   "outputs": [],
   "source": [
    "with Pool(processes=num_cores) as pool:\n",
    "    results = pool.map(calculate_adj, df)\n",
    "\n",
    "pool.close()\n",
    "pool.join()"
   ]
  },
  {
   "cell_type": "code",
   "execution_count": 9,
   "id": "e7481290",
   "metadata": {},
   "outputs": [],
   "source": [
    "x_adj=[]\n",
    "for submatrix in results:\n",
    "    x_adj.extend(submatrix)"
   ]
  },
  {
   "cell_type": "code",
   "execution_count": 10,
   "id": "8c9fb616",
   "metadata": {},
   "outputs": [
    {
     "name": "stdout",
     "output_type": "stream",
     "text": [
      "25578\n"
     ]
    }
   ],
   "source": [
    "print(len(x_adj))"
   ]
  },
  {
   "cell_type": "code",
   "execution_count": 11,
   "id": "37e26890",
   "metadata": {},
   "outputs": [],
   "source": [
    "x_adj=np.array(x_adj)"
   ]
  },
  {
   "cell_type": "code",
   "execution_count": 12,
   "id": "8fe37ec4",
   "metadata": {},
   "outputs": [],
   "source": [
    "def degree(data): #The node strengths (or weighted degrees) \n",
    "    return np.sum(data, axis=0)"
   ]
  },
  {
   "cell_type": "code",
   "execution_count": 13,
   "id": "fe9d74c9",
   "metadata": {},
   "outputs": [],
   "source": [
    "import networkx as nx\n",
    "\n",
    "def runall(data):\n",
    "    temp1=[]\n",
    "    for i in data:\n",
    "        G = nx.from_numpy_array(i, parallel_edges=False)\n",
    "        \n",
    "       \n",
    "        d=degree(i).tolist()\n",
    "        \n",
    "        cc=list(nx.clustering(G).values())\n",
    "        temp1.append(d+cc) #+cpl+ge+le+ac+cc\n",
    "    return temp1"
   ]
  },
  {
   "cell_type": "code",
   "execution_count": 14,
   "id": "6c582fda",
   "metadata": {},
   "outputs": [
    {
     "name": "stdout",
     "output_type": "stream",
     "text": [
      "Number of CPU cores: 48\n",
      "533\n"
     ]
    }
   ],
   "source": [
    "from multiprocessing import Pool\n",
    "import multiprocessing\n",
    "\n",
    "if __name__ == '__main__':\n",
    "    num_cores = multiprocessing.cpu_count()\n",
    "    print(\"Number of CPU cores:\", num_cores)\n",
    "\n",
    "\n",
    "df1=np.array_split(x_adj[:], num_cores)\n",
    "\n",
    "\n",
    "print(len(df[0]))\n",
    "\n",
    "\n"
   ]
  },
  {
   "cell_type": "code",
   "execution_count": 15,
   "id": "489e53ab",
   "metadata": {},
   "outputs": [
    {
     "name": "stdout",
     "output_type": "stream",
     "text": [
      "--- 2.890864610671997 seconds ---\n"
     ]
    }
   ],
   "source": [
    "\n",
    "import time\n",
    "start_time = time.time()\n",
    "with Pool(processes=num_cores) as pool1:\n",
    "    results1 = pool1.map(runall, df1)\n",
    "\n",
    "pool1.close()\n",
    "pool1.join()\n",
    "\n",
    "print(\"--- %s seconds ---\" % (time.time() - start_time))\n"
   ]
  },
  {
   "cell_type": "code",
   "execution_count": 16,
   "id": "4bd5c260",
   "metadata": {},
   "outputs": [],
   "source": [
    "x_g=[]\n",
    "for submatrix in results1:\n",
    "    x_g.extend(submatrix)"
   ]
  },
  {
   "cell_type": "code",
   "execution_count": 17,
   "id": "e7087c73",
   "metadata": {},
   "outputs": [],
   "source": [
    "x_g=np.array(x_g)\n"
   ]
  },
  {
   "cell_type": "code",
   "execution_count": 18,
   "id": "6a1404fa",
   "metadata": {},
   "outputs": [
    {
     "name": "stdout",
     "output_type": "stream",
     "text": [
      "(25578, 112)\n"
     ]
    }
   ],
   "source": [
    "print(x_g.shape)"
   ]
  },
  {
   "cell_type": "code",
   "execution_count": 19,
   "id": "584b0d16",
   "metadata": {},
   "outputs": [],
   "source": [
    "x_train, x_temp, y_train, y_temp = train_test_split(x_g, Y, test_size=0.30, random_state=42)\n",
    "x_val,x_test,y_val,y_test=train_test_split(x_temp,y_temp,test_size=0.50, random_state=42)"
   ]
  },
  {
   "cell_type": "code",
   "execution_count": 20,
   "id": "87ff4de7",
   "metadata": {},
   "outputs": [
    {
     "name": "stdout",
     "output_type": "stream",
     "text": [
      "(17904, 112)\n",
      "(3837, 112)\n",
      "(3837, 112)\n"
     ]
    }
   ],
   "source": [
    "print(x_train.shape)\n",
    "print(x_val.shape)\n",
    "print(x_test.shape)"
   ]
  },
  {
   "cell_type": "code",
   "execution_count": 21,
   "id": "5ee715d8",
   "metadata": {},
   "outputs": [
    {
     "name": "stderr",
     "output_type": "stream",
     "text": [
      "2023-08-13 10:16:38.964449: I tensorflow/core/platform/cpu_feature_guard.cc:193] This TensorFlow binary is optimized with oneAPI Deep Neural Network Library (oneDNN) to use the following CPU instructions in performance-critical operations:  AVX2 AVX512F AVX512_VNNI FMA\n",
      "To enable them in other operations, rebuild TensorFlow with the appropriate compiler flags.\n",
      "2023-08-13 10:16:39.098938: I tensorflow/core/util/port.cc:104] oneDNN custom operations are on. You may see slightly different numerical results due to floating-point round-off errors from different computation orders. To turn them off, set the environment variable `TF_ENABLE_ONEDNN_OPTS=0`.\n",
      "2023-08-13 10:16:39.103379: W tensorflow/compiler/xla/stream_executor/platform/default/dso_loader.cc:64] Could not load dynamic library 'libcudart.so.11.0'; dlerror: libcudart.so.11.0: cannot open shared object file: No such file or directory; LD_LIBRARY_PATH: /cm/shared/apps/slurm/18.08.9/lib64/slurm:/cm/shared/apps/slurm/18.08.9/lib64\n",
      "2023-08-13 10:16:39.103396: I tensorflow/compiler/xla/stream_executor/cuda/cudart_stub.cc:29] Ignore above cudart dlerror if you do not have a GPU set up on your machine.\n",
      "2023-08-13 10:16:50.456104: W tensorflow/compiler/xla/stream_executor/platform/default/dso_loader.cc:64] Could not load dynamic library 'libnvinfer.so.7'; dlerror: libnvinfer.so.7: cannot open shared object file: No such file or directory; LD_LIBRARY_PATH: /cm/shared/apps/slurm/18.08.9/lib64/slurm:/cm/shared/apps/slurm/18.08.9/lib64\n",
      "2023-08-13 10:16:50.456208: W tensorflow/compiler/xla/stream_executor/platform/default/dso_loader.cc:64] Could not load dynamic library 'libnvinfer_plugin.so.7'; dlerror: libnvinfer_plugin.so.7: cannot open shared object file: No such file or directory; LD_LIBRARY_PATH: /cm/shared/apps/slurm/18.08.9/lib64/slurm:/cm/shared/apps/slurm/18.08.9/lib64\n",
      "2023-08-13 10:16:50.456217: W tensorflow/compiler/tf2tensorrt/utils/py_utils.cc:38] TF-TRT Warning: Cannot dlopen some TensorRT libraries. If you would like to use Nvidia GPU with TensorRT, please make sure the missing libraries mentioned above are installed properly.\n"
     ]
    }
   ],
   "source": [
    "import tensorflow as tf\n"
   ]
  },
  {
   "cell_type": "code",
   "execution_count": 22,
   "id": "a51d8943",
   "metadata": {},
   "outputs": [
    {
     "name": "stderr",
     "output_type": "stream",
     "text": [
      "2023-08-13 10:17:03.686361: W tensorflow/compiler/xla/stream_executor/platform/default/dso_loader.cc:64] Could not load dynamic library 'libcuda.so.1'; dlerror: libcuda.so.1: cannot open shared object file: No such file or directory; LD_LIBRARY_PATH: /cm/shared/apps/slurm/18.08.9/lib64/slurm:/cm/shared/apps/slurm/18.08.9/lib64\n",
      "2023-08-13 10:17:03.686394: W tensorflow/compiler/xla/stream_executor/cuda/cuda_driver.cc:265] failed call to cuInit: UNKNOWN ERROR (303)\n",
      "2023-08-13 10:17:03.686416: I tensorflow/compiler/xla/stream_executor/cuda/cuda_diagnostics.cc:156] kernel driver does not appear to be running on this host (c0188): /proc/driver/nvidia/version does not exist\n",
      "2023-08-13 10:17:03.687185: I tensorflow/core/platform/cpu_feature_guard.cc:193] This TensorFlow binary is optimized with oneAPI Deep Neural Network Library (oneDNN) to use the following CPU instructions in performance-critical operations:  AVX2 AVX512F AVX512_VNNI FMA\n",
      "To enable them in other operations, rebuild TensorFlow with the appropriate compiler flags.\n"
     ]
    }
   ],
   "source": [
    "input_shape = (x_train.shape[1],1)\n",
    "num_classes = 4\n",
    "model3 = tf.keras.models.Sequential()\n",
    "model3.add(tf.keras.layers.Conv1D(filters= 32, kernel_size=3, activation='relu',padding='same',input_shape= input_shape))\n",
    "model3.add(tf.keras.layers.MaxPooling1D(pool_size=2,strides=None,padding='valid'))\n",
    "\n",
    "model3.add(tf.keras.layers.Conv1D(filters=32, kernel_size=3,padding='same',activation='relu'))\n",
    "model3.add(tf.keras.layers.MaxPooling1D(pool_size=2,strides=None,padding='valid'))\n",
    "\n",
    "# model3.add(tf.keras.layers.Conv1D(filters=32, kernel_size=3,padding='same',activation='relu'))\n",
    "# model3.add(tf.keras.layers.MaxPooling1D(pool_size=2,strides=None,padding='valid'))\n",
    "# model3.add(tf.keras.layers.Conv1D(filters=32, kernel_size=3,padding='same',activation='relu'))\n",
    "# model3.add(tf.keras.layers.MaxPooling1D(pool_size=2,strides=None,padding='valid'))\n",
    "# model3.add(tf.keras.layers.Conv1D(filters=32, kernel_size=3,padding='same',activation='relu'))\n",
    "# model3.add(tf.keras.layers.MaxPooling1D(pool_size=2,strides=None,padding='valid'))\n",
    "# model3.add(tf.keras.layers.Conv1D(filters=32, kernel_size=3,padding='same',activation='relu'))\n",
    "# model3.add(tf.keras.layers.MaxPooling1D(pool_size=2,strides=None,padding='valid'))\n",
    "model3.add(tf.keras.layers.Flatten())\n",
    "\n",
    "model3.add(tf.keras.layers.Dense(100, activation='relu'))\n",
    "model3.add(tf.keras.layers.Dropout(0.1))\n",
    "model3.add(tf.keras.layers.Dense(100, activation='relu'))\n",
    "model3.add(tf.keras.layers.Dense(num_classes, activation='softmax'))"
   ]
  },
  {
   "cell_type": "code",
   "execution_count": 23,
   "id": "09f1d97c",
   "metadata": {},
   "outputs": [
    {
     "name": "stdout",
     "output_type": "stream",
     "text": [
      "Model: \"sequential\"\n",
      "_________________________________________________________________\n",
      " Layer (type)                Output Shape              Param #   \n",
      "=================================================================\n",
      " conv1d (Conv1D)             (None, 112, 32)           128       \n",
      "                                                                 \n",
      " max_pooling1d (MaxPooling1D  (None, 56, 32)           0         \n",
      " )                                                               \n",
      "                                                                 \n",
      " conv1d_1 (Conv1D)           (None, 56, 32)            3104      \n",
      "                                                                 \n",
      " max_pooling1d_1 (MaxPooling  (None, 28, 32)           0         \n",
      " 1D)                                                             \n",
      "                                                                 \n",
      " flatten (Flatten)           (None, 896)               0         \n",
      "                                                                 \n",
      " dense (Dense)               (None, 100)               89700     \n",
      "                                                                 \n",
      " dropout (Dropout)           (None, 100)               0         \n",
      "                                                                 \n",
      " dense_1 (Dense)             (None, 100)               10100     \n",
      "                                                                 \n",
      " dense_2 (Dense)             (None, 4)                 404       \n",
      "                                                                 \n",
      "=================================================================\n",
      "Total params: 103,436\n",
      "Trainable params: 103,436\n",
      "Non-trainable params: 0\n",
      "_________________________________________________________________\n"
     ]
    }
   ],
   "source": [
    "model3.summary()"
   ]
  },
  {
   "cell_type": "code",
   "execution_count": 24,
   "id": "5691f34f",
   "metadata": {},
   "outputs": [],
   "source": [
    "model3.compile(loss='SparseCategoricalCrossentropy', optimizer='Adam', metrics=['acc'])\n"
   ]
  },
  {
   "cell_type": "code",
   "execution_count": 25,
   "id": "e2276cd0",
   "metadata": {},
   "outputs": [],
   "source": [
    "from tensorflow.keras.callbacks import ModelCheckpoint\n",
    "from tensorflow.keras.models import load_model\n",
    "\n",
    "\n",
    "\n",
    "checkpoint = ModelCheckpoint('F6.h5', monitor='val_accuracy', verbose=1, save_best_only=True, mode='max')\n"
   ]
  },
  {
   "cell_type": "code",
   "execution_count": 26,
   "id": "43bf0926",
   "metadata": {
    "scrolled": true
   },
   "outputs": [
    {
     "name": "stdout",
     "output_type": "stream",
     "text": [
      "Epoch 1/30\n",
      "556/560 [============================>.] - ETA: 0s - loss: 0.2753 - acc: 0.8956WARNING:tensorflow:Can save best model only with val_accuracy available, skipping.\n",
      "560/560 [==============================] - 3s 4ms/step - loss: 0.2741 - acc: 0.8959 - val_loss: 0.0660 - val_acc: 0.9768\n",
      "Epoch 2/30\n",
      "560/560 [==============================] - ETA: 0s - loss: 0.0905 - acc: 0.9711WARNING:tensorflow:Can save best model only with val_accuracy available, skipping.\n",
      "560/560 [==============================] - 2s 4ms/step - loss: 0.0905 - acc: 0.9711 - val_loss: 0.0664 - val_acc: 0.9755\n",
      "Epoch 3/30\n",
      "555/560 [============================>.] - ETA: 0s - loss: 0.0744 - acc: 0.9767WARNING:tensorflow:Can save best model only with val_accuracy available, skipping.\n",
      "560/560 [==============================] - 2s 4ms/step - loss: 0.0742 - acc: 0.9768 - val_loss: 0.0607 - val_acc: 0.9802\n",
      "Epoch 4/30\n",
      "545/560 [============================>.] - ETA: 0s - loss: 0.0685 - acc: 0.9774WARNING:tensorflow:Can save best model only with val_accuracy available, skipping.\n",
      "560/560 [==============================] - 2s 4ms/step - loss: 0.0679 - acc: 0.9778 - val_loss: 0.0541 - val_acc: 0.9802\n",
      "Epoch 5/30\n",
      "555/560 [============================>.] - ETA: 0s - loss: 0.0633 - acc: 0.9791WARNING:tensorflow:Can save best model only with val_accuracy available, skipping.\n",
      "560/560 [==============================] - 2s 4ms/step - loss: 0.0636 - acc: 0.9789 - val_loss: 0.0596 - val_acc: 0.9805\n",
      "Epoch 6/30\n",
      "549/560 [============================>.] - ETA: 0s - loss: 0.0597 - acc: 0.9800WARNING:tensorflow:Can save best model only with val_accuracy available, skipping.\n",
      "560/560 [==============================] - 2s 4ms/step - loss: 0.0601 - acc: 0.9799 - val_loss: 0.0482 - val_acc: 0.9838\n",
      "Epoch 7/30\n",
      "547/560 [============================>.] - ETA: 0s - loss: 0.0576 - acc: 0.9816WARNING:tensorflow:Can save best model only with val_accuracy available, skipping.\n",
      "560/560 [==============================] - 2s 4ms/step - loss: 0.0571 - acc: 0.9817 - val_loss: 0.0618 - val_acc: 0.9760\n",
      "Epoch 8/30\n",
      "551/560 [============================>.] - ETA: 0s - loss: 0.0565 - acc: 0.9817WARNING:tensorflow:Can save best model only with val_accuracy available, skipping.\n",
      "560/560 [==============================] - 2s 4ms/step - loss: 0.0566 - acc: 0.9815 - val_loss: 0.0671 - val_acc: 0.9781\n",
      "Epoch 9/30\n",
      "553/560 [============================>.] - ETA: 0s - loss: 0.0524 - acc: 0.9822WARNING:tensorflow:Can save best model only with val_accuracy available, skipping.\n",
      "560/560 [==============================] - 2s 4ms/step - loss: 0.0527 - acc: 0.9822 - val_loss: 0.0490 - val_acc: 0.9820\n",
      "Epoch 10/30\n",
      "554/560 [============================>.] - ETA: 0s - loss: 0.0494 - acc: 0.9836WARNING:tensorflow:Can save best model only with val_accuracy available, skipping.\n",
      "560/560 [==============================] - 2s 4ms/step - loss: 0.0492 - acc: 0.9837 - val_loss: 0.0532 - val_acc: 0.9805\n",
      "Epoch 11/30\n",
      "549/560 [============================>.] - ETA: 0s - loss: 0.0497 - acc: 0.9826WARNING:tensorflow:Can save best model only with val_accuracy available, skipping.\n",
      "560/560 [==============================] - 2s 4ms/step - loss: 0.0497 - acc: 0.9827 - val_loss: 0.0497 - val_acc: 0.9820\n",
      "Epoch 12/30\n",
      "556/560 [============================>.] - ETA: 0s - loss: 0.0456 - acc: 0.9844WARNING:tensorflow:Can save best model only with val_accuracy available, skipping.\n",
      "560/560 [==============================] - 2s 4ms/step - loss: 0.0458 - acc: 0.9842 - val_loss: 0.0503 - val_acc: 0.9825\n",
      "Epoch 13/30\n",
      "557/560 [============================>.] - ETA: 0s - loss: 0.0440 - acc: 0.9851WARNING:tensorflow:Can save best model only with val_accuracy available, skipping.\n",
      "560/560 [==============================] - 2s 4ms/step - loss: 0.0443 - acc: 0.9851 - val_loss: 0.0479 - val_acc: 0.9846\n",
      "Epoch 14/30\n",
      "552/560 [============================>.] - ETA: 0s - loss: 0.0449 - acc: 0.9852WARNING:tensorflow:Can save best model only with val_accuracy available, skipping.\n",
      "560/560 [==============================] - 2s 4ms/step - loss: 0.0447 - acc: 0.9853 - val_loss: 0.0534 - val_acc: 0.9818\n",
      "Epoch 15/30\n",
      "557/560 [============================>.] - ETA: 0s - loss: 0.0410 - acc: 0.9859WARNING:tensorflow:Can save best model only with val_accuracy available, skipping.\n",
      "560/560 [==============================] - 2s 4ms/step - loss: 0.0410 - acc: 0.9859 - val_loss: 0.0493 - val_acc: 0.9823\n",
      "Epoch 16/30\n",
      "545/560 [============================>.] - ETA: 0s - loss: 0.0409 - acc: 0.9862WARNING:tensorflow:Can save best model only with val_accuracy available, skipping.\n",
      "560/560 [==============================] - 2s 4ms/step - loss: 0.0404 - acc: 0.9862 - val_loss: 0.0555 - val_acc: 0.9823\n",
      "Epoch 17/30\n",
      "546/560 [============================>.] - ETA: 0s - loss: 0.0396 - acc: 0.9864WARNING:tensorflow:Can save best model only with val_accuracy available, skipping.\n",
      "560/560 [==============================] - 2s 4ms/step - loss: 0.0389 - acc: 0.9867 - val_loss: 0.0499 - val_acc: 0.9844\n",
      "Epoch 18/30\n",
      "545/560 [============================>.] - ETA: 0s - loss: 0.0364 - acc: 0.9886WARNING:tensorflow:Can save best model only with val_accuracy available, skipping.\n",
      "560/560 [==============================] - 2s 4ms/step - loss: 0.0366 - acc: 0.9884 - val_loss: 0.0494 - val_acc: 0.9836\n",
      "Epoch 19/30\n",
      "553/560 [============================>.] - ETA: 0s - loss: 0.0327 - acc: 0.9893WARNING:tensorflow:Can save best model only with val_accuracy available, skipping.\n",
      "560/560 [==============================] - 2s 4ms/step - loss: 0.0328 - acc: 0.9892 - val_loss: 0.0781 - val_acc: 0.9760\n",
      "Epoch 20/30\n",
      "553/560 [============================>.] - ETA: 0s - loss: 0.0322 - acc: 0.9889WARNING:tensorflow:Can save best model only with val_accuracy available, skipping.\n",
      "560/560 [==============================] - 2s 4ms/step - loss: 0.0324 - acc: 0.9888 - val_loss: 0.0508 - val_acc: 0.9836\n",
      "Epoch 21/30\n",
      "555/560 [============================>.] - ETA: 0s - loss: 0.0311 - acc: 0.9895WARNING:tensorflow:Can save best model only with val_accuracy available, skipping.\n",
      "560/560 [==============================] - 2s 4ms/step - loss: 0.0313 - acc: 0.9895 - val_loss: 0.0855 - val_acc: 0.9747\n",
      "Epoch 22/30\n",
      "546/560 [============================>.] - ETA: 0s - loss: 0.0302 - acc: 0.9888WARNING:tensorflow:Can save best model only with val_accuracy available, skipping.\n",
      "560/560 [==============================] - 2s 4ms/step - loss: 0.0302 - acc: 0.9886 - val_loss: 0.0540 - val_acc: 0.9844\n",
      "Epoch 23/30\n",
      "552/560 [============================>.] - ETA: 0s - loss: 0.0294 - acc: 0.9895WARNING:tensorflow:Can save best model only with val_accuracy available, skipping.\n",
      "560/560 [==============================] - 2s 4ms/step - loss: 0.0300 - acc: 0.9894 - val_loss: 0.0507 - val_acc: 0.9838\n",
      "Epoch 24/30\n",
      "558/560 [============================>.] - ETA: 0s - loss: 0.0255 - acc: 0.9910WARNING:tensorflow:Can save best model only with val_accuracy available, skipping.\n",
      "560/560 [==============================] - 2s 4ms/step - loss: 0.0254 - acc: 0.9910 - val_loss: 0.0651 - val_acc: 0.9823\n",
      "Epoch 25/30\n",
      "560/560 [==============================] - ETA: 0s - loss: 0.0233 - acc: 0.9922WARNING:tensorflow:Can save best model only with val_accuracy available, skipping.\n",
      "560/560 [==============================] - 2s 4ms/step - loss: 0.0233 - acc: 0.9922 - val_loss: 0.0724 - val_acc: 0.9812\n",
      "Epoch 26/30\n",
      "556/560 [============================>.] - ETA: 0s - loss: 0.0256 - acc: 0.9915WARNING:tensorflow:Can save best model only with val_accuracy available, skipping.\n",
      "560/560 [==============================] - 2s 4ms/step - loss: 0.0256 - acc: 0.9915 - val_loss: 0.0624 - val_acc: 0.9833\n",
      "Epoch 27/30\n",
      "556/560 [============================>.] - ETA: 0s - loss: 0.0213 - acc: 0.9926WARNING:tensorflow:Can save best model only with val_accuracy available, skipping.\n",
      "560/560 [==============================] - 2s 4ms/step - loss: 0.0212 - acc: 0.9926 - val_loss: 0.0649 - val_acc: 0.9833\n",
      "Epoch 28/30\n",
      "558/560 [============================>.] - ETA: 0s - loss: 0.0171 - acc: 0.9937WARNING:tensorflow:Can save best model only with val_accuracy available, skipping.\n",
      "560/560 [==============================] - 2s 4ms/step - loss: 0.0171 - acc: 0.9937 - val_loss: 0.0829 - val_acc: 0.9807\n"
     ]
    },
    {
     "name": "stdout",
     "output_type": "stream",
     "text": [
      "Epoch 29/30\n",
      "548/560 [============================>.] - ETA: 0s - loss: 0.0235 - acc: 0.9921WARNING:tensorflow:Can save best model only with val_accuracy available, skipping.\n",
      "560/560 [==============================] - 2s 4ms/step - loss: 0.0234 - acc: 0.9922 - val_loss: 0.0797 - val_acc: 0.9789\n",
      "Epoch 30/30\n",
      "553/560 [============================>.] - ETA: 0s - loss: 0.0160 - acc: 0.9943WARNING:tensorflow:Can save best model only with val_accuracy available, skipping.\n",
      "560/560 [==============================] - 2s 4ms/step - loss: 0.0160 - acc: 0.9944 - val_loss: 0.0781 - val_acc: 0.9799\n"
     ]
    }
   ],
   "source": [
    "history_log = model3.fit(x_train, y_train, epochs=30, verbose=1, validation_data=(x_test, y_test), callbacks=[checkpoint])\n"
   ]
  },
  {
   "cell_type": "code",
   "execution_count": 27,
   "id": "de84a26f",
   "metadata": {},
   "outputs": [],
   "source": [
    "model3.save_weights('/home/nvekariy/signal_code/New_neural_code_SNR_1.25_h/F6.h5')\n"
   ]
  },
  {
   "cell_type": "code",
   "execution_count": 28,
   "id": "30fd3f17",
   "metadata": {},
   "outputs": [],
   "source": [
    "model3.load_weights('/home/nvekariy/signal_code/New_neural_code_SNR_1.25_h/F6.h5')\n"
   ]
  },
  {
   "cell_type": "code",
   "execution_count": 29,
   "id": "994f96a7",
   "metadata": {},
   "outputs": [
    {
     "name": "stdout",
     "output_type": "stream",
     "text": [
      "120/120 [==============================] - 0s 1ms/step\n"
     ]
    }
   ],
   "source": [
    "predictions = model3.predict(x_test)\n",
    "pred_arg = np.argmax(predictions, axis=1)"
   ]
  },
  {
   "cell_type": "code",
   "execution_count": 30,
   "id": "abb59028",
   "metadata": {},
   "outputs": [
    {
     "name": "stdout",
     "output_type": "stream",
     "text": [
      "cnf_matrix_2.0_70\n",
      "\n",
      "[[955   2   3   3]\n",
      " [  0 964  34   3]\n",
      " [  0  21 961   0]\n",
      " [  6   5   0 880]]\n"
     ]
    }
   ],
   "source": [
    "from sklearn.metrics import confusion_matrix\n",
    "cnf_matrix=confusion_matrix(y_test,pred_arg)\n",
    "print(\"cnf_matrix_2.0_70\")\n",
    "print(\"\")\n",
    "print(cnf_matrix)"
   ]
  },
  {
   "cell_type": "code",
   "execution_count": 31,
   "id": "9f134881",
   "metadata": {},
   "outputs": [],
   "source": [
    "from sklearn.metrics import accuracy_score, recall_score,precision_score,roc_auc_score,roc_curve,f1_score\n"
   ]
  },
  {
   "cell_type": "code",
   "execution_count": 32,
   "id": "0f419b16",
   "metadata": {},
   "outputs": [
    {
     "name": "stdout",
     "output_type": "stream",
     "text": [
      "97.99322387281731\n",
      "98.03124321205897\n",
      "97.99322387281731\n",
      "98.00085501894237\n"
     ]
    }
   ],
   "source": [
    "print(accuracy_score(y_test,pred_arg)*100)\n",
    "print(f1_score(y_test,pred_arg,average='macro')*100)\n",
    "print(recall_score(y_test,pred_arg, average=\"weighted\")*100)\n",
    "print(precision_score(y_test,pred_arg, average=\"weighted\")*100)"
   ]
  },
  {
   "cell_type": "code",
   "execution_count": null,
   "id": "90845a20",
   "metadata": {},
   "outputs": [],
   "source": []
  },
  {
   "cell_type": "code",
   "execution_count": null,
   "id": "dd00c7be",
   "metadata": {},
   "outputs": [],
   "source": []
  }
 ],
 "metadata": {
  "anaconda-cloud": {},
  "kernelspec": {
   "display_name": "Python [conda env:root] *",
   "language": "python",
   "name": "conda-root-py"
  },
  "language_info": {
   "codemirror_mode": {
    "name": "ipython",
    "version": 3
   },
   "file_extension": ".py",
   "mimetype": "text/x-python",
   "name": "python",
   "nbconvert_exporter": "python",
   "pygments_lexer": "ipython3",
   "version": "3.9.12"
  }
 },
 "nbformat": 4,
 "nbformat_minor": 5
}
