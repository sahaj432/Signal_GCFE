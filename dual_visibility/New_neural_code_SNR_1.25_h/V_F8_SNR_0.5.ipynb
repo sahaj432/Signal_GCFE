{
 "cells": [
  {
   "cell_type": "code",
   "execution_count": 1,
   "id": "89e29f03",
   "metadata": {},
   "outputs": [
    {
     "name": "stdout",
     "output_type": "stream",
     "text": [
      "Loading PyIOmica 1.3.3 (https://github.com/gmiaslab/pyiomica by G. Mias Lab)\n"
     ]
    }
   ],
   "source": [
    "import numpy as np\n",
    "import os\n",
    "import glob\n",
    "import seaborn as sns\n",
    "import matplotlib.pyplot as plt\n",
    "from pyiomica_master import pyiomica as pio\n",
    "from pyiomica_master.pyiomica import visualizationFunctions\n",
    "from pyiomica_master.pyiomica import visibilityGraphCommunityDetection\n",
    "import matplotlib as mpl\n",
    "from sklearn.utils import shuffle\n",
    "from sklearn.model_selection import train_test_split\n",
    "\n",
    "from tqdm import tqdm\n",
    "%matplotlib inline"
   ]
  },
  {
   "cell_type": "code",
   "execution_count": 2,
   "id": "b297825b",
   "metadata": {},
   "outputs": [],
   "source": [
    "x_frame1_05 = np.genfromtxt('/home/nvekariy/signal_code/datasets/neural_4_class/x_frame1_1.25_seed.csv', delimiter=',')\n",
    "x_frame2_05 = np.genfromtxt('/home/nvekariy/signal_code/datasets/neural_4_class/x_frame2_1.25_seed.csv', delimiter=',')\n",
    "x_frame3_05 = np.genfromtxt('/home/nvekariy/signal_code/datasets/neural_4_class/x_frame3_1.25_seed.csv', delimiter=',')\n",
    "x_framen_05= np.genfromtxt('/home/nvekariy/signal_code/datasets/neural_4_class/x_frame_noise_1.25_seed.csv', delimiter=',')"
   ]
  },
  {
   "cell_type": "code",
   "execution_count": null,
   "id": "c61feafd",
   "metadata": {},
   "outputs": [],
   "source": []
  },
  {
   "cell_type": "code",
   "execution_count": 3,
   "id": "112c6fdf",
   "metadata": {},
   "outputs": [],
   "source": [
    "x=np.concatenate((x_frame1_05,x_frame2_05,x_frame3_05,x_framen_05),axis=0)\n",
    "y=np.concatenate((np.zeros(len(x_frame1_05)),np.zeros(len(x_frame2_05))+1,np.zeros(len(x_frame3_05))+2,np.zeros(len(x_framen_05))+3),axis=0)"
   ]
  },
  {
   "cell_type": "code",
   "execution_count": 4,
   "id": "cfcfbda9",
   "metadata": {},
   "outputs": [],
   "source": [
    "X, Y = shuffle(x,y, random_state=1)"
   ]
  },
  {
   "cell_type": "code",
   "execution_count": 5,
   "id": "7898816c",
   "metadata": {},
   "outputs": [],
   "source": [
    "def calculate_adj(data):\n",
    "    temp1=[]\n",
    "    for p, i in enumerate(data):\n",
    "        #print(f'Converting ==> {p+1} \\r', end=\"\",flush=True)\n",
    "        vs_out = visibilityGraphCommunityDetection.createVisibilityGraph(i, range(len(i)), \"dual_natural\", weight='tan')\n",
    "        temp1.append(vs_out)\n",
    "        \n",
    "    return temp1"
   ]
  },
  {
   "cell_type": "code",
   "execution_count": 6,
   "id": "5786a500",
   "metadata": {
    "scrolled": true
   },
   "outputs": [
    {
     "name": "stdout",
     "output_type": "stream",
     "text": [
      "Number of CPU cores: 48\n"
     ]
    }
   ],
   "source": [
    "from multiprocessing import Pool\n",
    "import multiprocessing\n",
    "\n",
    "if __name__ == '__main__':\n",
    "    num_cores = multiprocessing.cpu_count()\n",
    "    print(\"Number of CPU cores:\", num_cores)"
   ]
  },
  {
   "cell_type": "code",
   "execution_count": 7,
   "id": "2f35de61",
   "metadata": {},
   "outputs": [
    {
     "name": "stdout",
     "output_type": "stream",
     "text": [
      "658\n"
     ]
    }
   ],
   "source": [
    "df=np.array_split(X, num_cores)\n",
    "print(len(df[0]))"
   ]
  },
  {
   "cell_type": "code",
   "execution_count": 8,
   "id": "682fc94e",
   "metadata": {},
   "outputs": [],
   "source": [
    "with Pool(processes=num_cores) as pool:\n",
    "    results = pool.map(calculate_adj, df)\n",
    "\n",
    "pool.close()\n",
    "pool.join()"
   ]
  },
  {
   "cell_type": "code",
   "execution_count": 9,
   "id": "37086d28",
   "metadata": {},
   "outputs": [],
   "source": [
    "x_adj=[]\n",
    "for submatrix in results:\n",
    "    x_adj.extend(submatrix)"
   ]
  },
  {
   "cell_type": "code",
   "execution_count": 10,
   "id": "d8730cf6",
   "metadata": {},
   "outputs": [],
   "source": [
    "x_adj=np.array(x_adj)"
   ]
  },
  {
   "cell_type": "code",
   "execution_count": 11,
   "id": "c8699c57",
   "metadata": {},
   "outputs": [],
   "source": [
    "def calculate_g(data):\n",
    "    temp2=[]\n",
    "    for vs_out in data:\n",
    "        a = np.sum(vs_out, axis=0).reshape(-1, 1)\n",
    "        b = np.sum(vs_out != 0, axis=1).reshape(-1, 1)\n",
    "        temp2.append(np.concatenate((a, b), axis=1))\n",
    "        \n",
    "    return temp2"
   ]
  },
  {
   "cell_type": "code",
   "execution_count": 12,
   "id": "6c582fda",
   "metadata": {},
   "outputs": [
    {
     "name": "stdout",
     "output_type": "stream",
     "text": [
      "Number of CPU cores: 48\n",
      "658\n"
     ]
    }
   ],
   "source": [
    "from multiprocessing import Pool\n",
    "import multiprocessing\n",
    "\n",
    "if __name__ == '__main__':\n",
    "    num_cores = multiprocessing.cpu_count()\n",
    "    print(\"Number of CPU cores:\", num_cores)\n",
    "\n",
    "\n",
    "df1=np.array_split(x_adj[:], num_cores)\n",
    "\n",
    "\n",
    "print(len(df[0]))\n",
    "\n",
    "\n"
   ]
  },
  {
   "cell_type": "code",
   "execution_count": 13,
   "id": "489e53ab",
   "metadata": {},
   "outputs": [
    {
     "name": "stdout",
     "output_type": "stream",
     "text": [
      "--- 1.536695957183838 seconds ---\n"
     ]
    }
   ],
   "source": [
    "\n",
    "import time\n",
    "start_time = time.time()\n",
    "with Pool(processes=num_cores) as pool1:\n",
    "    results1 = pool1.map(calculate_g, df1)\n",
    "\n",
    "pool1.close()\n",
    "pool1.join()\n",
    "\n",
    "print(\"--- %s seconds ---\" % (time.time() - start_time))\n"
   ]
  },
  {
   "cell_type": "code",
   "execution_count": 14,
   "id": "4bd5c260",
   "metadata": {},
   "outputs": [],
   "source": [
    "x_g=[]\n",
    "for submatrix in results1:\n",
    "    x_g.extend(submatrix)"
   ]
  },
  {
   "cell_type": "code",
   "execution_count": 15,
   "id": "e7087c73",
   "metadata": {},
   "outputs": [],
   "source": [
    "x_g=np.array(x_g)\n"
   ]
  },
  {
   "cell_type": "code",
   "execution_count": 16,
   "id": "6a1404fa",
   "metadata": {},
   "outputs": [
    {
     "name": "stdout",
     "output_type": "stream",
     "text": [
      "(31578, 56, 2)\n"
     ]
    }
   ],
   "source": [
    "print(x_g.shape)"
   ]
  },
  {
   "cell_type": "code",
   "execution_count": null,
   "id": "4e388a66",
   "metadata": {},
   "outputs": [],
   "source": []
  },
  {
   "cell_type": "code",
   "execution_count": 17,
   "id": "f7c52f41",
   "metadata": {},
   "outputs": [
    {
     "data": {
      "text/plain": [
       "array([[ 0.09838868,  1.        ],\n",
       "       [ 0.11450197,  2.        ],\n",
       "       [ 0.07451176,  4.        ],\n",
       "       [ 0.11035158,  2.        ],\n",
       "       [ 0.13109312,  7.        ],\n",
       "       [ 0.15080921,  6.        ],\n",
       "       [ 0.12935389,  5.        ],\n",
       "       [ 0.14367679,  3.        ],\n",
       "       [ 0.12677007,  5.        ],\n",
       "       [ 0.10105801,  7.        ],\n",
       "       [ 0.0827637 ,  3.        ],\n",
       "       [ 0.0870013 ,  4.        ],\n",
       "       [ 0.26430969, 14.        ],\n",
       "       [ 0.09950301,  6.        ],\n",
       "       [ 0.08715825,  5.        ],\n",
       "       [ 0.07617193,  5.        ],\n",
       "       [ 0.09493006,  5.        ],\n",
       "       [ 0.20422802, 12.        ],\n",
       "       [ 0.10791018,  2.        ],\n",
       "       [ 0.09372972,  7.        ],\n",
       "       [ 0.08817553,  7.        ],\n",
       "       [ 0.04995122,  5.        ],\n",
       "       [ 0.0499268 ,  4.        ],\n",
       "       [ 0.06317146,  7.        ],\n",
       "       [ 0.06809787,  7.        ],\n",
       "       [ 0.10257979,  4.        ],\n",
       "       [ 0.3138469 , 19.        ],\n",
       "       [ 0.1254883 ,  2.        ],\n",
       "       [ 0.12046637, 11.        ],\n",
       "       [ 0.0387116 ,  5.        ],\n",
       "       [ 0.10339004,  8.        ],\n",
       "       [ 0.0942383 ,  2.        ],\n",
       "       [ 0.06958011,  3.        ],\n",
       "       [ 0.15655817,  9.        ],\n",
       "       [ 0.16375737,  5.        ],\n",
       "       [ 0.14444991,  4.        ],\n",
       "       [ 0.17590337,  5.        ],\n",
       "       [ 0.17297368,  5.        ],\n",
       "       [ 0.31122403, 15.        ],\n",
       "       [ 0.13431808,  5.        ],\n",
       "       [ 0.08544925,  3.        ],\n",
       "       [ 0.13407393,  4.        ],\n",
       "       [ 0.17243254,  9.        ],\n",
       "       [ 0.03649622,  7.        ],\n",
       "       [ 0.04361645,  5.        ],\n",
       "       [ 0.07914798, 10.        ],\n",
       "       [ 0.06982424,  2.        ],\n",
       "       [ 0.4746936 , 21.        ],\n",
       "       [ 0.13995366,  5.        ],\n",
       "       [ 0.10506189,  4.        ],\n",
       "       [ 0.12373866,  5.        ],\n",
       "       [ 0.12609866,  3.        ],\n",
       "       [ 0.14087329,  8.        ],\n",
       "       [ 0.04777022,  4.        ],\n",
       "       [ 0.05510607,  4.        ],\n",
       "       [ 0.07668055,  5.        ]])"
      ]
     },
     "execution_count": 17,
     "metadata": {},
     "output_type": "execute_result"
    }
   ],
   "source": [
    "x_g[0]"
   ]
  },
  {
   "cell_type": "code",
   "execution_count": 18,
   "id": "f5f0b6a9",
   "metadata": {},
   "outputs": [],
   "source": [
    "x_g_flat=np.array([np.array(i.T.flatten()).ravel() for i in x_g])\n"
   ]
  },
  {
   "cell_type": "code",
   "execution_count": 19,
   "id": "34ed68c8",
   "metadata": {},
   "outputs": [
    {
     "data": {
      "text/plain": [
       "array([ 0.09838868,  0.11450197,  0.07451176,  0.11035158,  0.13109312,\n",
       "        0.15080921,  0.12935389,  0.14367679,  0.12677007,  0.10105801,\n",
       "        0.0827637 ,  0.0870013 ,  0.26430969,  0.09950301,  0.08715825,\n",
       "        0.07617193,  0.09493006,  0.20422802,  0.10791018,  0.09372972,\n",
       "        0.08817553,  0.04995122,  0.0499268 ,  0.06317146,  0.06809787,\n",
       "        0.10257979,  0.3138469 ,  0.1254883 ,  0.12046637,  0.0387116 ,\n",
       "        0.10339004,  0.0942383 ,  0.06958011,  0.15655817,  0.16375737,\n",
       "        0.14444991,  0.17590337,  0.17297368,  0.31122403,  0.13431808,\n",
       "        0.08544925,  0.13407393,  0.17243254,  0.03649622,  0.04361645,\n",
       "        0.07914798,  0.06982424,  0.4746936 ,  0.13995366,  0.10506189,\n",
       "        0.12373866,  0.12609866,  0.14087329,  0.04777022,  0.05510607,\n",
       "        0.07668055,  1.        ,  2.        ,  4.        ,  2.        ,\n",
       "        7.        ,  6.        ,  5.        ,  3.        ,  5.        ,\n",
       "        7.        ,  3.        ,  4.        , 14.        ,  6.        ,\n",
       "        5.        ,  5.        ,  5.        , 12.        ,  2.        ,\n",
       "        7.        ,  7.        ,  5.        ,  4.        ,  7.        ,\n",
       "        7.        ,  4.        , 19.        ,  2.        , 11.        ,\n",
       "        5.        ,  8.        ,  2.        ,  3.        ,  9.        ,\n",
       "        5.        ,  4.        ,  5.        ,  5.        , 15.        ,\n",
       "        5.        ,  3.        ,  4.        ,  9.        ,  7.        ,\n",
       "        5.        , 10.        ,  2.        , 21.        ,  5.        ,\n",
       "        4.        ,  5.        ,  3.        ,  8.        ,  4.        ,\n",
       "        4.        ,  5.        ])"
      ]
     },
     "execution_count": 19,
     "metadata": {},
     "output_type": "execute_result"
    }
   ],
   "source": [
    "x_g_flat[0]"
   ]
  },
  {
   "cell_type": "code",
   "execution_count": 20,
   "id": "fcb8fbe5",
   "metadata": {},
   "outputs": [],
   "source": [
    "x_train, x_temp, y_train, y_temp = train_test_split(x_g_flat, Y, test_size=0.30, random_state=42)\n",
    "x_val,x_test,y_val,y_test=train_test_split(x_temp,y_temp,test_size=0.50, random_state=42)"
   ]
  },
  {
   "cell_type": "code",
   "execution_count": 21,
   "id": "4ab593cf",
   "metadata": {},
   "outputs": [
    {
     "name": "stdout",
     "output_type": "stream",
     "text": [
      "(22104, 112)\n",
      "(4737, 112)\n",
      "(4737, 112)\n"
     ]
    }
   ],
   "source": [
    "print(x_train.shape)\n",
    "print(x_val.shape)\n",
    "print(x_test.shape)"
   ]
  },
  {
   "cell_type": "code",
   "execution_count": 22,
   "id": "c1022f00",
   "metadata": {},
   "outputs": [
    {
     "name": "stderr",
     "output_type": "stream",
     "text": [
      "2023-08-13 10:18:05.576866: I tensorflow/core/platform/cpu_feature_guard.cc:193] This TensorFlow binary is optimized with oneAPI Deep Neural Network Library (oneDNN) to use the following CPU instructions in performance-critical operations:  AVX2 AVX512F AVX512_VNNI FMA\n",
      "To enable them in other operations, rebuild TensorFlow with the appropriate compiler flags.\n",
      "2023-08-13 10:18:05.745579: I tensorflow/core/util/port.cc:104] oneDNN custom operations are on. You may see slightly different numerical results due to floating-point round-off errors from different computation orders. To turn them off, set the environment variable `TF_ENABLE_ONEDNN_OPTS=0`.\n",
      "2023-08-13 10:18:05.749524: W tensorflow/compiler/xla/stream_executor/platform/default/dso_loader.cc:64] Could not load dynamic library 'libcudart.so.11.0'; dlerror: libcudart.so.11.0: cannot open shared object file: No such file or directory; LD_LIBRARY_PATH: /cm/shared/apps/slurm/18.08.9/lib64/slurm:/cm/shared/apps/slurm/18.08.9/lib64\n",
      "2023-08-13 10:18:05.749539: I tensorflow/compiler/xla/stream_executor/cuda/cudart_stub.cc:29] Ignore above cudart dlerror if you do not have a GPU set up on your machine.\n",
      "2023-08-13 10:18:08.150057: W tensorflow/compiler/xla/stream_executor/platform/default/dso_loader.cc:64] Could not load dynamic library 'libnvinfer.so.7'; dlerror: libnvinfer.so.7: cannot open shared object file: No such file or directory; LD_LIBRARY_PATH: /cm/shared/apps/slurm/18.08.9/lib64/slurm:/cm/shared/apps/slurm/18.08.9/lib64\n",
      "2023-08-13 10:18:08.150143: W tensorflow/compiler/xla/stream_executor/platform/default/dso_loader.cc:64] Could not load dynamic library 'libnvinfer_plugin.so.7'; dlerror: libnvinfer_plugin.so.7: cannot open shared object file: No such file or directory; LD_LIBRARY_PATH: /cm/shared/apps/slurm/18.08.9/lib64/slurm:/cm/shared/apps/slurm/18.08.9/lib64\n",
      "2023-08-13 10:18:08.150151: W tensorflow/compiler/tf2tensorrt/utils/py_utils.cc:38] TF-TRT Warning: Cannot dlopen some TensorRT libraries. If you would like to use Nvidia GPU with TensorRT, please make sure the missing libraries mentioned above are installed properly.\n"
     ]
    }
   ],
   "source": [
    "import tensorflow as tf\n"
   ]
  },
  {
   "cell_type": "code",
   "execution_count": 23,
   "id": "041aca53",
   "metadata": {},
   "outputs": [
    {
     "name": "stderr",
     "output_type": "stream",
     "text": [
      "2023-08-13 10:18:17.867601: W tensorflow/compiler/xla/stream_executor/platform/default/dso_loader.cc:64] Could not load dynamic library 'libcuda.so.1'; dlerror: libcuda.so.1: cannot open shared object file: No such file or directory; LD_LIBRARY_PATH: /cm/shared/apps/slurm/18.08.9/lib64/slurm:/cm/shared/apps/slurm/18.08.9/lib64\n",
      "2023-08-13 10:18:17.867636: W tensorflow/compiler/xla/stream_executor/cuda/cuda_driver.cc:265] failed call to cuInit: UNKNOWN ERROR (303)\n",
      "2023-08-13 10:18:17.867655: I tensorflow/compiler/xla/stream_executor/cuda/cuda_diagnostics.cc:156] kernel driver does not appear to be running on this host (c0155): /proc/driver/nvidia/version does not exist\n",
      "2023-08-13 10:18:17.868325: I tensorflow/core/platform/cpu_feature_guard.cc:193] This TensorFlow binary is optimized with oneAPI Deep Neural Network Library (oneDNN) to use the following CPU instructions in performance-critical operations:  AVX2 AVX512F AVX512_VNNI FMA\n",
      "To enable them in other operations, rebuild TensorFlow with the appropriate compiler flags.\n"
     ]
    }
   ],
   "source": [
    "input_shape = (x_train.shape[1],1)\n",
    "num_classes = 4\n",
    "model3 = tf.keras.models.Sequential()\n",
    "model3.add(tf.keras.layers.Conv1D(filters= 32, kernel_size=3, activation='relu',padding='same',input_shape= input_shape))\n",
    "model3.add(tf.keras.layers.MaxPooling1D(pool_size=2,strides=None,padding='valid'))\n",
    "\n",
    "model3.add(tf.keras.layers.Conv1D(filters=32, kernel_size=3,padding='same',activation='relu'))\n",
    "model3.add(tf.keras.layers.MaxPooling1D(pool_size=2,strides=None,padding='valid'))\n",
    "\n",
    "# model3.add(tf.keras.layers.Conv1D(filters=32, kernel_size=3,padding='same',activation='relu'))\n",
    "# model3.add(tf.keras.layers.MaxPooling1D(pool_size=2,strides=None,padding='valid'))\n",
    "# model3.add(tf.keras.layers.Conv1D(filters=32, kernel_size=3,padding='same',activation='relu'))\n",
    "# model3.add(tf.keras.layers.MaxPooling1D(pool_size=2,strides=None,padding='valid'))\n",
    "# model3.add(tf.keras.layers.Conv1D(filters=32, kernel_size=3,padding='same',activation='relu'))\n",
    "# model3.add(tf.keras.layers.MaxPooling1D(pool_size=2,strides=None,padding='valid'))\n",
    "# model3.add(tf.keras.layers.Conv1D(filters=32, kernel_size=3,padding='same',activation='relu'))\n",
    "# model3.add(tf.keras.layers.MaxPooling1D(pool_size=2,strides=None,padding='valid'))\n",
    "model3.add(tf.keras.layers.Flatten())\n",
    "\n",
    "model3.add(tf.keras.layers.Dense(100, activation='relu'))\n",
    "model3.add(tf.keras.layers.Dropout(0.1))\n",
    "model3.add(tf.keras.layers.Dense(100, activation='relu'))\n",
    "model3.add(tf.keras.layers.Dense(num_classes, activation='softmax'))"
   ]
  },
  {
   "cell_type": "code",
   "execution_count": 24,
   "id": "7d7a5c18",
   "metadata": {},
   "outputs": [
    {
     "name": "stdout",
     "output_type": "stream",
     "text": [
      "Model: \"sequential\"\n",
      "_________________________________________________________________\n",
      " Layer (type)                Output Shape              Param #   \n",
      "=================================================================\n",
      " conv1d (Conv1D)             (None, 112, 32)           128       \n",
      "                                                                 \n",
      " max_pooling1d (MaxPooling1D  (None, 56, 32)           0         \n",
      " )                                                               \n",
      "                                                                 \n",
      " conv1d_1 (Conv1D)           (None, 56, 32)            3104      \n",
      "                                                                 \n",
      " max_pooling1d_1 (MaxPooling  (None, 28, 32)           0         \n",
      " 1D)                                                             \n",
      "                                                                 \n",
      " flatten (Flatten)           (None, 896)               0         \n",
      "                                                                 \n",
      " dense (Dense)               (None, 100)               89700     \n",
      "                                                                 \n",
      " dropout (Dropout)           (None, 100)               0         \n",
      "                                                                 \n",
      " dense_1 (Dense)             (None, 100)               10100     \n",
      "                                                                 \n",
      " dense_2 (Dense)             (None, 4)                 404       \n",
      "                                                                 \n",
      "=================================================================\n",
      "Total params: 103,436\n",
      "Trainable params: 103,436\n",
      "Non-trainable params: 0\n",
      "_________________________________________________________________\n"
     ]
    }
   ],
   "source": [
    "model3.summary()"
   ]
  },
  {
   "cell_type": "code",
   "execution_count": 25,
   "id": "d6573d40",
   "metadata": {},
   "outputs": [],
   "source": [
    "model3.compile(loss='SparseCategoricalCrossentropy', optimizer='Adam', metrics=['acc'])\n"
   ]
  },
  {
   "cell_type": "code",
   "execution_count": 26,
   "id": "e2276cd0",
   "metadata": {},
   "outputs": [],
   "source": [
    "from tensorflow.keras.callbacks import ModelCheckpoint\n",
    "from tensorflow.keras.models import load_model\n",
    "\n",
    "\n",
    "\n",
    "checkpoint = ModelCheckpoint('F8.h5', monitor='val_accuracy', verbose=1, save_best_only=True, mode='max')\n"
   ]
  },
  {
   "cell_type": "code",
   "execution_count": 27,
   "id": "43bf0926",
   "metadata": {
    "scrolled": true
   },
   "outputs": [
    {
     "name": "stdout",
     "output_type": "stream",
     "text": [
      "Epoch 1/30\n",
      "686/691 [============================>.] - ETA: 0s - loss: 0.2292 - acc: 0.9115WARNING:tensorflow:Can save best model only with val_accuracy available, skipping.\n",
      "691/691 [==============================] - 4s 4ms/step - loss: 0.2282 - acc: 0.9120 - val_loss: 0.1097 - val_acc: 0.9609\n",
      "Epoch 2/30\n",
      "691/691 [==============================] - ETA: 0s - loss: 0.0862 - acc: 0.9705WARNING:tensorflow:Can save best model only with val_accuracy available, skipping.\n",
      "691/691 [==============================] - 3s 4ms/step - loss: 0.0862 - acc: 0.9705 - val_loss: 0.0804 - val_acc: 0.9759\n",
      "Epoch 3/30\n",
      "688/691 [============================>.] - ETA: 0s - loss: 0.0726 - acc: 0.9759WARNING:tensorflow:Can save best model only with val_accuracy available, skipping.\n",
      "691/691 [==============================] - 3s 4ms/step - loss: 0.0726 - acc: 0.9758 - val_loss: 0.0774 - val_acc: 0.9772\n",
      "Epoch 4/30\n",
      "677/691 [============================>.] - ETA: 0s - loss: 0.0708 - acc: 0.9760WARNING:tensorflow:Can save best model only with val_accuracy available, skipping.\n",
      "691/691 [==============================] - 3s 4ms/step - loss: 0.0707 - acc: 0.9759 - val_loss: 0.0969 - val_acc: 0.9681\n",
      "Epoch 5/30\n",
      "682/691 [============================>.] - ETA: 0s - loss: 0.0621 - acc: 0.9791WARNING:tensorflow:Can save best model only with val_accuracy available, skipping.\n",
      "691/691 [==============================] - 3s 4ms/step - loss: 0.0618 - acc: 0.9791 - val_loss: 0.0866 - val_acc: 0.9721\n",
      "Epoch 6/30\n",
      "680/691 [============================>.] - ETA: 0s - loss: 0.0614 - acc: 0.9797WARNING:tensorflow:Can save best model only with val_accuracy available, skipping.\n",
      "691/691 [==============================] - 3s 4ms/step - loss: 0.0613 - acc: 0.9798 - val_loss: 0.0837 - val_acc: 0.9747\n",
      "Epoch 7/30\n",
      "680/691 [============================>.] - ETA: 0s - loss: 0.0600 - acc: 0.9797WARNING:tensorflow:Can save best model only with val_accuracy available, skipping.\n",
      "691/691 [==============================] - 3s 4ms/step - loss: 0.0604 - acc: 0.9797 - val_loss: 0.0710 - val_acc: 0.9783\n",
      "Epoch 8/30\n",
      "679/691 [============================>.] - ETA: 0s - loss: 0.0537 - acc: 0.9821WARNING:tensorflow:Can save best model only with val_accuracy available, skipping.\n",
      "691/691 [==============================] - 3s 4ms/step - loss: 0.0539 - acc: 0.9820 - val_loss: 0.0767 - val_acc: 0.9780\n",
      "Epoch 9/30\n",
      "678/691 [============================>.] - ETA: 0s - loss: 0.0525 - acc: 0.9829WARNING:tensorflow:Can save best model only with val_accuracy available, skipping.\n",
      "691/691 [==============================] - 3s 4ms/step - loss: 0.0531 - acc: 0.9829 - val_loss: 0.0792 - val_acc: 0.9772\n",
      "Epoch 10/30\n",
      "689/691 [============================>.] - ETA: 0s - loss: 0.0471 - acc: 0.9844WARNING:tensorflow:Can save best model only with val_accuracy available, skipping.\n",
      "691/691 [==============================] - 3s 4ms/step - loss: 0.0472 - acc: 0.9843 - val_loss: 0.0788 - val_acc: 0.9780\n",
      "Epoch 11/30\n",
      "680/691 [============================>.] - ETA: 0s - loss: 0.0472 - acc: 0.9840WARNING:tensorflow:Can save best model only with val_accuracy available, skipping.\n",
      "691/691 [==============================] - 3s 4ms/step - loss: 0.0468 - acc: 0.9841 - val_loss: 0.0864 - val_acc: 0.9766\n",
      "Epoch 12/30\n",
      "680/691 [============================>.] - ETA: 0s - loss: 0.0437 - acc: 0.9845WARNING:tensorflow:Can save best model only with val_accuracy available, skipping.\n",
      "691/691 [==============================] - 3s 4ms/step - loss: 0.0445 - acc: 0.9843 - val_loss: 0.0852 - val_acc: 0.9751\n",
      "Epoch 13/30\n",
      "677/691 [============================>.] - ETA: 0s - loss: 0.0445 - acc: 0.9848WARNING:tensorflow:Can save best model only with val_accuracy available, skipping.\n",
      "691/691 [==============================] - 3s 4ms/step - loss: 0.0447 - acc: 0.9847 - val_loss: 0.0842 - val_acc: 0.9791\n",
      "Epoch 14/30\n",
      "686/691 [============================>.] - ETA: 0s - loss: 0.0390 - acc: 0.9866WARNING:tensorflow:Can save best model only with val_accuracy available, skipping.\n",
      "691/691 [==============================] - 3s 4ms/step - loss: 0.0391 - acc: 0.9865 - val_loss: 0.0834 - val_acc: 0.9789\n",
      "Epoch 15/30\n",
      "690/691 [============================>.] - ETA: 0s - loss: 0.0389 - acc: 0.9862WARNING:tensorflow:Can save best model only with val_accuracy available, skipping.\n",
      "691/691 [==============================] - 3s 4ms/step - loss: 0.0388 - acc: 0.9862 - val_loss: 0.1048 - val_acc: 0.9738\n",
      "Epoch 16/30\n",
      "679/691 [============================>.] - ETA: 0s - loss: 0.0348 - acc: 0.9873WARNING:tensorflow:Can save best model only with val_accuracy available, skipping.\n",
      "691/691 [==============================] - 3s 4ms/step - loss: 0.0352 - acc: 0.9873 - val_loss: 0.1429 - val_acc: 0.9620\n",
      "Epoch 17/30\n",
      "691/691 [==============================] - ETA: 0s - loss: 0.0377 - acc: 0.9875WARNING:tensorflow:Can save best model only with val_accuracy available, skipping.\n",
      "691/691 [==============================] - 3s 4ms/step - loss: 0.0377 - acc: 0.9875 - val_loss: 0.0901 - val_acc: 0.9785\n",
      "Epoch 18/30\n",
      "681/691 [============================>.] - ETA: 0s - loss: 0.0301 - acc: 0.9894WARNING:tensorflow:Can save best model only with val_accuracy available, skipping.\n",
      "691/691 [==============================] - 3s 4ms/step - loss: 0.0304 - acc: 0.9893 - val_loss: 0.1146 - val_acc: 0.9745\n",
      "Epoch 19/30\n",
      "690/691 [============================>.] - ETA: 0s - loss: 0.0371 - acc: 0.9866WARNING:tensorflow:Can save best model only with val_accuracy available, skipping.\n",
      "691/691 [==============================] - 3s 4ms/step - loss: 0.0370 - acc: 0.9866 - val_loss: 0.0975 - val_acc: 0.9778\n",
      "Epoch 20/30\n",
      "683/691 [============================>.] - ETA: 0s - loss: 0.0260 - acc: 0.9912WARNING:tensorflow:Can save best model only with val_accuracy available, skipping.\n",
      "691/691 [==============================] - 3s 4ms/step - loss: 0.0264 - acc: 0.9911 - val_loss: 0.1036 - val_acc: 0.9742\n",
      "Epoch 21/30\n",
      "689/691 [============================>.] - ETA: 0s - loss: 0.0258 - acc: 0.9909WARNING:tensorflow:Can save best model only with val_accuracy available, skipping.\n",
      "691/691 [==============================] - 3s 4ms/step - loss: 0.0257 - acc: 0.9909 - val_loss: 0.1098 - val_acc: 0.9747\n",
      "Epoch 22/30\n",
      "683/691 [============================>.] - ETA: 0s - loss: 0.0242 - acc: 0.9910WARNING:tensorflow:Can save best model only with val_accuracy available, skipping.\n",
      "691/691 [==============================] - 3s 4ms/step - loss: 0.0246 - acc: 0.9907 - val_loss: 0.1304 - val_acc: 0.9757\n",
      "Epoch 23/30\n",
      "691/691 [==============================] - ETA: 0s - loss: 0.0280 - acc: 0.9905WARNING:tensorflow:Can save best model only with val_accuracy available, skipping.\n",
      "691/691 [==============================] - 3s 4ms/step - loss: 0.0280 - acc: 0.9905 - val_loss: 0.1132 - val_acc: 0.9755\n",
      "Epoch 24/30\n",
      "687/691 [============================>.] - ETA: 0s - loss: 0.0235 - acc: 0.9914WARNING:tensorflow:Can save best model only with val_accuracy available, skipping.\n",
      "691/691 [==============================] - 3s 4ms/step - loss: 0.0234 - acc: 0.9914 - val_loss: 0.1075 - val_acc: 0.9772\n",
      "Epoch 25/30\n",
      "682/691 [============================>.] - ETA: 0s - loss: 0.0202 - acc: 0.9927WARNING:tensorflow:Can save best model only with val_accuracy available, skipping.\n",
      "691/691 [==============================] - 3s 4ms/step - loss: 0.0202 - acc: 0.9927 - val_loss: 0.1185 - val_acc: 0.9776\n",
      "Epoch 26/30\n",
      "685/691 [============================>.] - ETA: 0s - loss: 0.0178 - acc: 0.9935WARNING:tensorflow:Can save best model only with val_accuracy available, skipping.\n",
      "691/691 [==============================] - 3s 4ms/step - loss: 0.0181 - acc: 0.9933 - val_loss: 0.1080 - val_acc: 0.9789\n",
      "Epoch 27/30\n",
      "689/691 [============================>.] - ETA: 0s - loss: 0.0172 - acc: 0.9944WARNING:tensorflow:Can save best model only with val_accuracy available, skipping.\n",
      "691/691 [==============================] - 3s 4ms/step - loss: 0.0172 - acc: 0.9944 - val_loss: 0.1610 - val_acc: 0.9751\n",
      "Epoch 28/30\n",
      "687/691 [============================>.] - ETA: 0s - loss: 0.0213 - acc: 0.9923WARNING:tensorflow:Can save best model only with val_accuracy available, skipping.\n",
      "691/691 [==============================] - 3s 4ms/step - loss: 0.0211 - acc: 0.9923 - val_loss: 0.1192 - val_acc: 0.9791\n"
     ]
    },
    {
     "name": "stdout",
     "output_type": "stream",
     "text": [
      "Epoch 29/30\n",
      "676/691 [============================>.] - ETA: 0s - loss: 0.0192 - acc: 0.9930WARNING:tensorflow:Can save best model only with val_accuracy available, skipping.\n",
      "691/691 [==============================] - 3s 4ms/step - loss: 0.0191 - acc: 0.9930 - val_loss: 0.1272 - val_acc: 0.9776\n",
      "Epoch 30/30\n",
      "685/691 [============================>.] - ETA: 0s - loss: 0.0145 - acc: 0.9950WARNING:tensorflow:Can save best model only with val_accuracy available, skipping.\n",
      "691/691 [==============================] - 3s 4ms/step - loss: 0.0144 - acc: 0.9951 - val_loss: 0.1331 - val_acc: 0.9816\n"
     ]
    }
   ],
   "source": [
    "history_log = model3.fit(x_train, y_train, epochs=30, verbose=1, validation_data=(x_test, y_test), callbacks=[checkpoint])\n"
   ]
  },
  {
   "cell_type": "code",
   "execution_count": 28,
   "id": "de84a26f",
   "metadata": {},
   "outputs": [],
   "source": [
    "model3.save_weights('/home/nvekariy/signal_code/New_neural_code_SNR_1.25_h/F8.h5')\n"
   ]
  },
  {
   "cell_type": "code",
   "execution_count": 29,
   "id": "30fd3f17",
   "metadata": {},
   "outputs": [],
   "source": [
    "model3.load_weights('/home/nvekariy/signal_code/New_neural_code_SNR_1.25_h/F8.h5')\n"
   ]
  },
  {
   "cell_type": "code",
   "execution_count": 30,
   "id": "994f96a7",
   "metadata": {},
   "outputs": [
    {
     "name": "stdout",
     "output_type": "stream",
     "text": [
      "149/149 [==============================] - 0s 2ms/step\n"
     ]
    }
   ],
   "source": [
    "predictions = model3.predict(x_test)\n",
    "pred_arg = np.argmax(predictions, axis=1)"
   ]
  },
  {
   "cell_type": "code",
   "execution_count": 31,
   "id": "abb59028",
   "metadata": {},
   "outputs": [
    {
     "name": "stdout",
     "output_type": "stream",
     "text": [
      "cnf_matrix_2.0_70\n",
      "\n",
      "[[ 940    1    0    6]\n",
      " [   0  948   30    4]\n",
      " [   1   29  969    2]\n",
      " [   8    5    1 1793]]\n"
     ]
    }
   ],
   "source": [
    "from sklearn.metrics import confusion_matrix\n",
    "cnf_matrix=confusion_matrix(y_test,pred_arg)\n",
    "print(\"cnf_matrix_2.0_70\")\n",
    "print(\"\")\n",
    "print(cnf_matrix)"
   ]
  },
  {
   "cell_type": "code",
   "execution_count": 32,
   "id": "9f134881",
   "metadata": {},
   "outputs": [],
   "source": [
    "from sklearn.metrics import accuracy_score, recall_score,precision_score,roc_auc_score,roc_curve,f1_score\n"
   ]
  },
  {
   "cell_type": "code",
   "execution_count": 33,
   "id": "0f419b16",
   "metadata": {},
   "outputs": [
    {
     "name": "stdout",
     "output_type": "stream",
     "text": [
      "98.16339455351488\n",
      "97.94410479045699\n",
      "98.16339455351488\n",
      "98.16361148881302\n"
     ]
    }
   ],
   "source": [
    "print(accuracy_score(y_test,pred_arg)*100)\n",
    "print(f1_score(y_test,pred_arg,average='macro')*100)\n",
    "print(recall_score(y_test,pred_arg, average=\"weighted\")*100)\n",
    "print(precision_score(y_test,pred_arg, average=\"weighted\")*100)"
   ]
  },
  {
   "cell_type": "code",
   "execution_count": null,
   "id": "868acb03",
   "metadata": {},
   "outputs": [],
   "source": []
  },
  {
   "cell_type": "code",
   "execution_count": null,
   "id": "a8cadd42",
   "metadata": {},
   "outputs": [],
   "source": []
  },
  {
   "cell_type": "code",
   "execution_count": null,
   "id": "9ba39972",
   "metadata": {},
   "outputs": [],
   "source": []
  }
 ],
 "metadata": {
  "anaconda-cloud": {},
  "kernelspec": {
   "display_name": "Python [conda env:root] *",
   "language": "python",
   "name": "conda-root-py"
  },
  "language_info": {
   "codemirror_mode": {
    "name": "ipython",
    "version": 3
   },
   "file_extension": ".py",
   "mimetype": "text/x-python",
   "name": "python",
   "nbconvert_exporter": "python",
   "pygments_lexer": "ipython3",
   "version": "3.9.12"
  }
 },
 "nbformat": 4,
 "nbformat_minor": 5
}
