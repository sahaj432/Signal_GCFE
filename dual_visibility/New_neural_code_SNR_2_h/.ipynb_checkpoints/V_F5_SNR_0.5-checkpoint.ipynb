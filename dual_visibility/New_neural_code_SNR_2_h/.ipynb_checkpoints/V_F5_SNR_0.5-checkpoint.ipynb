{
 "cells": [
  {
   "cell_type": "code",
   "execution_count": 1,
   "id": "9c4dc733",
   "metadata": {},
   "outputs": [
    {
     "name": "stdout",
     "output_type": "stream",
     "text": [
      "Loading PyIOmica 1.3.3 (https://github.com/gmiaslab/pyiomica by G. Mias Lab)\n"
     ]
    }
   ],
   "source": [
    "import numpy as np\n",
    "import os\n",
    "import glob\n",
    "import seaborn as sns\n",
    "import matplotlib.pyplot as plt\n",
    "from pyiomica_master import pyiomica as pio\n",
    "from pyiomica_master.pyiomica import visualizationFunctions\n",
    "from pyiomica_master.pyiomica import visibilityGraphCommunityDetection\n",
    "import matplotlib as mpl\n",
    "from sklearn.utils import shuffle\n",
    "from sklearn.model_selection import train_test_split\n",
    "\n",
    "from tqdm import tqdm\n",
    "%matplotlib inline"
   ]
  },
  {
   "cell_type": "code",
   "execution_count": 2,
   "id": "b297825b",
   "metadata": {},
   "outputs": [],
   "source": [
    "x_frame1_05 = np.genfromtxt('/home/nvekariy/signal_code/datasets/neural_4_class/x_frame1_2_seed.csv', delimiter=',')\n",
    "x_frame2_05 = np.genfromtxt('/home/nvekariy/signal_code/datasets/neural_4_class/x_frame2_2_seed.csv', delimiter=',')\n",
    "x_frame3_05 = np.genfromtxt('/home/nvekariy/signal_code/datasets/neural_4_class/x_frame3_2_seed.csv', delimiter=',')\n",
    "x_framen_05= np.genfromtxt('/home/nvekariy/signal_code/datasets/neural_4_class/x_frame_noise_2_seed.csv', delimiter=',')"
   ]
  },
  {
   "cell_type": "code",
   "execution_count": null,
   "id": "81f7372f",
   "metadata": {},
   "outputs": [],
   "source": []
  },
  {
   "cell_type": "code",
   "execution_count": 3,
   "id": "79eaf877",
   "metadata": {},
   "outputs": [],
   "source": [
    "x=np.concatenate((x_frame1_05,x_frame2_05,x_frame3_05,x_framen_05[:6000]),axis=0)\n",
    "y=np.concatenate((np.zeros(len(x_frame1_05)),np.zeros(len(x_frame2_05))+1,np.zeros(len(x_frame3_05))+2,np.zeros(len(x_framen_05[:6000]))+3),axis=0)"
   ]
  },
  {
   "cell_type": "code",
   "execution_count": 4,
   "id": "3ea7e902",
   "metadata": {},
   "outputs": [],
   "source": [
    "X, Y = shuffle(x,y, random_state=1)"
   ]
  },
  {
   "cell_type": "code",
   "execution_count": 5,
   "id": "b78a4e4f",
   "metadata": {},
   "outputs": [],
   "source": [
    "def calculate_adj(data):\n",
    "    temp1=[]\n",
    "    for p, i in enumerate(data):\n",
    "        #print(f'Converting ==> {p+1} \\r', end=\"\",flush=True)\n",
    "        vs_out = visibilityGraphCommunityDetection.createVisibilityGraph(i, range(len(i)), \"dual_natural\", weight='tan')\n",
    "        vs_out=np.asarray(vs_out)\n",
    "        temp1.append(vs_out)\n",
    "        \n",
    "    return temp1"
   ]
  },
  {
   "cell_type": "code",
   "execution_count": 6,
   "id": "a666b1e1",
   "metadata": {
    "scrolled": true
   },
   "outputs": [
    {
     "name": "stdout",
     "output_type": "stream",
     "text": [
      "Number of CPU cores: 48\n"
     ]
    }
   ],
   "source": [
    "from multiprocessing import Pool\n",
    "import multiprocessing\n",
    "\n",
    "if __name__ == '__main__':\n",
    "    num_cores = multiprocessing.cpu_count()\n",
    "    print(\"Number of CPU cores:\", num_cores)"
   ]
  },
  {
   "cell_type": "code",
   "execution_count": 7,
   "id": "1c9f289e",
   "metadata": {},
   "outputs": [
    {
     "name": "stdout",
     "output_type": "stream",
     "text": [
      "517\n"
     ]
    }
   ],
   "source": [
    "df=np.array_split(X, num_cores)\n",
    "print(len(df[0]))"
   ]
  },
  {
   "cell_type": "code",
   "execution_count": 8,
   "id": "25c7ec9d",
   "metadata": {},
   "outputs": [],
   "source": [
    "with Pool(processes=num_cores) as pool:\n",
    "    results = pool.map(calculate_adj, df)\n",
    "\n",
    "pool.close()\n",
    "pool.join()"
   ]
  },
  {
   "cell_type": "code",
   "execution_count": 9,
   "id": "2d507239",
   "metadata": {},
   "outputs": [],
   "source": [
    "x_adj=[]\n",
    "for submatrix in results:\n",
    "    x_adj.extend(submatrix)"
   ]
  },
  {
   "cell_type": "code",
   "execution_count": 10,
   "id": "fb4be57d",
   "metadata": {},
   "outputs": [
    {
     "name": "stdout",
     "output_type": "stream",
     "text": [
      "24783\n"
     ]
    }
   ],
   "source": [
    "print(len(x_adj))"
   ]
  },
  {
   "cell_type": "code",
   "execution_count": 11,
   "id": "37e26890",
   "metadata": {},
   "outputs": [],
   "source": [
    "x_adj=np.array(x_adj)"
   ]
  },
  {
   "cell_type": "code",
   "execution_count": 12,
   "id": "8fe37ec4",
   "metadata": {},
   "outputs": [],
   "source": [
    "def degree(data): #The node strengths (or weighted degrees) \n",
    "    return np.average(np.sum(data, axis=0))"
   ]
  },
  {
   "cell_type": "code",
   "execution_count": 13,
   "id": "fe9d74c9",
   "metadata": {},
   "outputs": [],
   "source": [
    "import networkx as nx\n",
    "def runall(data):\n",
    "    temp1=[]\n",
    "    for i in data:\n",
    "        G = nx.from_numpy_array(i, parallel_edges=False)\n",
    "        \n",
    "        t=[nx.transitivity(G)]\n",
    "        ge=[nx.global_efficiency(G)]\n",
    "        le=[nx.local_efficiency(G)]\n",
    "        \n",
    "        cc=list(nx.clustering(G).values())\n",
    "        temp1.append(t+ge+le+cc) #+cpl+ge+le+ac+cc\n",
    "    return temp1"
   ]
  },
  {
   "cell_type": "code",
   "execution_count": 14,
   "id": "6c582fda",
   "metadata": {},
   "outputs": [
    {
     "name": "stdout",
     "output_type": "stream",
     "text": [
      "Number of CPU cores: 48\n",
      "517\n"
     ]
    }
   ],
   "source": [
    "from multiprocessing import Pool\n",
    "import multiprocessing\n",
    "\n",
    "if __name__ == '__main__':\n",
    "    num_cores = multiprocessing.cpu_count()\n",
    "    print(\"Number of CPU cores:\", num_cores)\n",
    "\n",
    "\n",
    "df1=np.array_split(x_adj[:], num_cores)\n",
    "\n",
    "\n",
    "print(len(df[0]))\n",
    "\n",
    "\n"
   ]
  },
  {
   "cell_type": "code",
   "execution_count": 15,
   "id": "489e53ab",
   "metadata": {},
   "outputs": [
    {
     "name": "stdout",
     "output_type": "stream",
     "text": [
      "--- 23.91480278968811 seconds ---\n"
     ]
    }
   ],
   "source": [
    "\n",
    "import time\n",
    "start_time = time.time()\n",
    "with Pool(processes=num_cores) as pool1:\n",
    "    results1 = pool1.map(runall, df1)\n",
    "\n",
    "pool1.close()\n",
    "pool1.join()\n",
    "\n",
    "print(\"--- %s seconds ---\" % (time.time() - start_time))\n"
   ]
  },
  {
   "cell_type": "code",
   "execution_count": 16,
   "id": "4bd5c260",
   "metadata": {},
   "outputs": [],
   "source": [
    "x_g=[]\n",
    "for submatrix in results1:\n",
    "    x_g.extend(submatrix)"
   ]
  },
  {
   "cell_type": "code",
   "execution_count": 17,
   "id": "e7087c73",
   "metadata": {},
   "outputs": [],
   "source": [
    "x_g=np.array(x_g)\n"
   ]
  },
  {
   "cell_type": "code",
   "execution_count": 18,
   "id": "6a1404fa",
   "metadata": {},
   "outputs": [
    {
     "name": "stdout",
     "output_type": "stream",
     "text": [
      "(24783, 59)\n"
     ]
    }
   ],
   "source": [
    "print(x_g.shape)"
   ]
  },
  {
   "cell_type": "code",
   "execution_count": 19,
   "id": "584b0d16",
   "metadata": {},
   "outputs": [],
   "source": [
    "x_train, x_temp, y_train, y_temp = train_test_split(x_g, Y, test_size=0.30, random_state=42)\n",
    "x_val,x_test,y_val,y_test=train_test_split(x_temp,y_temp,test_size=0.50, random_state=42)"
   ]
  },
  {
   "cell_type": "code",
   "execution_count": 20,
   "id": "87ff4de7",
   "metadata": {},
   "outputs": [
    {
     "name": "stdout",
     "output_type": "stream",
     "text": [
      "(17348, 59)\n",
      "(3717, 59)\n",
      "(3718, 59)\n"
     ]
    }
   ],
   "source": [
    "print(x_train.shape)\n",
    "print(x_val.shape)\n",
    "print(x_test.shape)"
   ]
  },
  {
   "cell_type": "code",
   "execution_count": 21,
   "id": "5ee715d8",
   "metadata": {},
   "outputs": [
    {
     "name": "stderr",
     "output_type": "stream",
     "text": [
      "2023-08-13 10:25:10.231671: I tensorflow/core/platform/cpu_feature_guard.cc:193] This TensorFlow binary is optimized with oneAPI Deep Neural Network Library (oneDNN) to use the following CPU instructions in performance-critical operations:  AVX2 AVX512F AVX512_VNNI FMA\n",
      "To enable them in other operations, rebuild TensorFlow with the appropriate compiler flags.\n",
      "2023-08-13 10:25:12.142438: I tensorflow/core/util/port.cc:104] oneDNN custom operations are on. You may see slightly different numerical results due to floating-point round-off errors from different computation orders. To turn them off, set the environment variable `TF_ENABLE_ONEDNN_OPTS=0`.\n",
      "2023-08-13 10:25:13.333217: W tensorflow/compiler/xla/stream_executor/platform/default/dso_loader.cc:64] Could not load dynamic library 'libcudart.so.11.0'; dlerror: libcudart.so.11.0: cannot open shared object file: No such file or directory; LD_LIBRARY_PATH: /cm/shared/apps/slurm/18.08.9/lib64/slurm:/cm/shared/apps/slurm/18.08.9/lib64\n",
      "2023-08-13 10:25:13.333250: I tensorflow/compiler/xla/stream_executor/cuda/cudart_stub.cc:29] Ignore above cudart dlerror if you do not have a GPU set up on your machine.\n",
      "2023-08-13 10:25:26.948856: W tensorflow/compiler/xla/stream_executor/platform/default/dso_loader.cc:64] Could not load dynamic library 'libnvinfer.so.7'; dlerror: libnvinfer.so.7: cannot open shared object file: No such file or directory; LD_LIBRARY_PATH: /cm/shared/apps/slurm/18.08.9/lib64/slurm:/cm/shared/apps/slurm/18.08.9/lib64\n",
      "2023-08-13 10:25:26.948957: W tensorflow/compiler/xla/stream_executor/platform/default/dso_loader.cc:64] Could not load dynamic library 'libnvinfer_plugin.so.7'; dlerror: libnvinfer_plugin.so.7: cannot open shared object file: No such file or directory; LD_LIBRARY_PATH: /cm/shared/apps/slurm/18.08.9/lib64/slurm:/cm/shared/apps/slurm/18.08.9/lib64\n",
      "2023-08-13 10:25:26.948966: W tensorflow/compiler/tf2tensorrt/utils/py_utils.cc:38] TF-TRT Warning: Cannot dlopen some TensorRT libraries. If you would like to use Nvidia GPU with TensorRT, please make sure the missing libraries mentioned above are installed properly.\n"
     ]
    }
   ],
   "source": [
    "import tensorflow as tf\n"
   ]
  },
  {
   "cell_type": "code",
   "execution_count": 22,
   "id": "a51d8943",
   "metadata": {},
   "outputs": [
    {
     "name": "stderr",
     "output_type": "stream",
     "text": [
      "2023-08-13 10:25:41.256999: W tensorflow/compiler/xla/stream_executor/platform/default/dso_loader.cc:64] Could not load dynamic library 'libcuda.so.1'; dlerror: libcuda.so.1: cannot open shared object file: No such file or directory; LD_LIBRARY_PATH: /cm/shared/apps/slurm/18.08.9/lib64/slurm:/cm/shared/apps/slurm/18.08.9/lib64\n",
      "2023-08-13 10:25:41.257081: W tensorflow/compiler/xla/stream_executor/cuda/cuda_driver.cc:265] failed call to cuInit: UNKNOWN ERROR (303)\n",
      "2023-08-13 10:25:41.257112: I tensorflow/compiler/xla/stream_executor/cuda/cuda_diagnostics.cc:156] kernel driver does not appear to be running on this host (c0188): /proc/driver/nvidia/version does not exist\n",
      "2023-08-13 10:25:41.257922: I tensorflow/core/platform/cpu_feature_guard.cc:193] This TensorFlow binary is optimized with oneAPI Deep Neural Network Library (oneDNN) to use the following CPU instructions in performance-critical operations:  AVX2 AVX512F AVX512_VNNI FMA\n",
      "To enable them in other operations, rebuild TensorFlow with the appropriate compiler flags.\n"
     ]
    }
   ],
   "source": [
    "input_shape = (x_train.shape[1],1)\n",
    "num_classes = 4\n",
    "model3 = tf.keras.models.Sequential()\n",
    "model3.add(tf.keras.layers.Conv1D(filters= 32, kernel_size=3, activation='relu',padding='same',input_shape= input_shape))\n",
    "model3.add(tf.keras.layers.MaxPooling1D(pool_size=2,strides=None,padding='valid'))\n",
    "\n",
    "model3.add(tf.keras.layers.Conv1D(filters=32, kernel_size=3,padding='same',activation='relu'))\n",
    "model3.add(tf.keras.layers.MaxPooling1D(pool_size=2,strides=None,padding='valid'))\n",
    "\n",
    "# model3.add(tf.keras.layers.Conv1D(filters=32, kernel_size=3,padding='same',activation='relu'))\n",
    "# model3.add(tf.keras.layers.MaxPooling1D(pool_size=2,strides=None,padding='valid'))\n",
    "# model3.add(tf.keras.layers.Conv1D(filters=32, kernel_size=3,padding='same',activation='relu'))\n",
    "# model3.add(tf.keras.layers.MaxPooling1D(pool_size=2,strides=None,padding='valid'))\n",
    "# model3.add(tf.keras.layers.Conv1D(filters=32, kernel_size=3,padding='same',activation='relu'))\n",
    "# model3.add(tf.keras.layers.MaxPooling1D(pool_size=2,strides=None,padding='valid'))\n",
    "# model3.add(tf.keras.layers.Conv1D(filters=32, kernel_size=3,padding='same',activation='relu'))\n",
    "# model3.add(tf.keras.layers.MaxPooling1D(pool_size=2,strides=None,padding='valid'))\n",
    "model3.add(tf.keras.layers.Flatten())\n",
    "\n",
    "model3.add(tf.keras.layers.Dense(100, activation='relu'))\n",
    "model3.add(tf.keras.layers.Dropout(0.1))\n",
    "model3.add(tf.keras.layers.Dense(100, activation='relu'))\n",
    "model3.add(tf.keras.layers.Dense(num_classes, activation='softmax'))"
   ]
  },
  {
   "cell_type": "code",
   "execution_count": 23,
   "id": "09f1d97c",
   "metadata": {},
   "outputs": [
    {
     "name": "stdout",
     "output_type": "stream",
     "text": [
      "Model: \"sequential\"\n",
      "_________________________________________________________________\n",
      " Layer (type)                Output Shape              Param #   \n",
      "=================================================================\n",
      " conv1d (Conv1D)             (None, 59, 32)            128       \n",
      "                                                                 \n",
      " max_pooling1d (MaxPooling1D  (None, 29, 32)           0         \n",
      " )                                                               \n",
      "                                                                 \n",
      " conv1d_1 (Conv1D)           (None, 29, 32)            3104      \n",
      "                                                                 \n",
      " max_pooling1d_1 (MaxPooling  (None, 14, 32)           0         \n",
      " 1D)                                                             \n",
      "                                                                 \n",
      " flatten (Flatten)           (None, 448)               0         \n",
      "                                                                 \n",
      " dense (Dense)               (None, 100)               44900     \n",
      "                                                                 \n",
      " dropout (Dropout)           (None, 100)               0         \n",
      "                                                                 \n",
      " dense_1 (Dense)             (None, 100)               10100     \n",
      "                                                                 \n",
      " dense_2 (Dense)             (None, 4)                 404       \n",
      "                                                                 \n",
      "=================================================================\n",
      "Total params: 58,636\n",
      "Trainable params: 58,636\n",
      "Non-trainable params: 0\n",
      "_________________________________________________________________\n"
     ]
    }
   ],
   "source": [
    "model3.summary()"
   ]
  },
  {
   "cell_type": "code",
   "execution_count": 24,
   "id": "5691f34f",
   "metadata": {},
   "outputs": [],
   "source": [
    "model3.compile(loss='SparseCategoricalCrossentropy', optimizer='Adam', metrics=['acc'])\n"
   ]
  },
  {
   "cell_type": "code",
   "execution_count": 25,
   "id": "e2276cd0",
   "metadata": {},
   "outputs": [],
   "source": [
    "from tensorflow.keras.callbacks import ModelCheckpoint\n",
    "from tensorflow.keras.models import load_model\n",
    "\n",
    "\n",
    "\n",
    "checkpoint = ModelCheckpoint('F5.h5', monitor='val_accuracy', verbose=1, save_best_only=True, mode='max')\n"
   ]
  },
  {
   "cell_type": "code",
   "execution_count": 26,
   "id": "43bf0926",
   "metadata": {
    "scrolled": true
   },
   "outputs": [
    {
     "name": "stdout",
     "output_type": "stream",
     "text": [
      "Epoch 1/30\n",
      "536/543 [============================>.] - ETA: 0s - loss: 0.6703 - acc: 0.7043WARNING:tensorflow:Can save best model only with val_accuracy available, skipping.\n",
      "543/543 [==============================] - 4s 4ms/step - loss: 0.6685 - acc: 0.7053 - val_loss: 0.4879 - val_acc: 0.7932\n",
      "Epoch 2/30\n",
      "539/543 [============================>.] - ETA: 0s - loss: 0.4690 - acc: 0.8005WARNING:tensorflow:Can save best model only with val_accuracy available, skipping.\n",
      "543/543 [==============================] - 2s 3ms/step - loss: 0.4693 - acc: 0.8004 - val_loss: 0.4498 - val_acc: 0.8128\n",
      "Epoch 3/30\n",
      "539/543 [============================>.] - ETA: 0s - loss: 0.4449 - acc: 0.8116WARNING:tensorflow:Can save best model only with val_accuracy available, skipping.\n",
      "543/543 [==============================] - 2s 3ms/step - loss: 0.4452 - acc: 0.8114 - val_loss: 0.4525 - val_acc: 0.8055\n",
      "Epoch 4/30\n",
      "538/543 [============================>.] - ETA: 0s - loss: 0.4358 - acc: 0.8171WARNING:tensorflow:Can save best model only with val_accuracy available, skipping.\n",
      "543/543 [==============================] - 2s 3ms/step - loss: 0.4350 - acc: 0.8173 - val_loss: 0.4417 - val_acc: 0.8117\n",
      "Epoch 5/30\n",
      "531/543 [============================>.] - ETA: 0s - loss: 0.4229 - acc: 0.8216WARNING:tensorflow:Can save best model only with val_accuracy available, skipping.\n",
      "543/543 [==============================] - 2s 3ms/step - loss: 0.4237 - acc: 0.8215 - val_loss: 0.4270 - val_acc: 0.8187\n",
      "Epoch 6/30\n",
      "538/543 [============================>.] - ETA: 0s - loss: 0.4147 - acc: 0.8229WARNING:tensorflow:Can save best model only with val_accuracy available, skipping.\n",
      "543/543 [==============================] - 2s 3ms/step - loss: 0.4145 - acc: 0.8229 - val_loss: 0.4504 - val_acc: 0.8133\n",
      "Epoch 7/30\n",
      "531/543 [============================>.] - ETA: 0s - loss: 0.4103 - acc: 0.8259WARNING:tensorflow:Can save best model only with val_accuracy available, skipping.\n",
      "543/543 [==============================] - 2s 3ms/step - loss: 0.4108 - acc: 0.8256 - val_loss: 0.4397 - val_acc: 0.8139\n",
      "Epoch 8/30\n",
      "534/543 [============================>.] - ETA: 0s - loss: 0.4058 - acc: 0.8283WARNING:tensorflow:Can save best model only with val_accuracy available, skipping.\n",
      "543/543 [==============================] - 2s 3ms/step - loss: 0.4060 - acc: 0.8285 - val_loss: 0.4288 - val_acc: 0.8174\n",
      "Epoch 9/30\n",
      "529/543 [============================>.] - ETA: 0s - loss: 0.3969 - acc: 0.8348WARNING:tensorflow:Can save best model only with val_accuracy available, skipping.\n",
      "543/543 [==============================] - 2s 3ms/step - loss: 0.3970 - acc: 0.8344 - val_loss: 0.4363 - val_acc: 0.8182\n",
      "Epoch 10/30\n",
      "536/543 [============================>.] - ETA: 0s - loss: 0.3921 - acc: 0.8342WARNING:tensorflow:Can save best model only with val_accuracy available, skipping.\n",
      "543/543 [==============================] - 2s 3ms/step - loss: 0.3924 - acc: 0.8343 - val_loss: 0.4496 - val_acc: 0.8061\n",
      "Epoch 11/30\n",
      "532/543 [============================>.] - ETA: 0s - loss: 0.3908 - acc: 0.8378WARNING:tensorflow:Can save best model only with val_accuracy available, skipping.\n",
      "543/543 [==============================] - 2s 3ms/step - loss: 0.3909 - acc: 0.8372 - val_loss: 0.4295 - val_acc: 0.8187\n",
      "Epoch 12/30\n",
      "533/543 [============================>.] - ETA: 0s - loss: 0.3845 - acc: 0.8392WARNING:tensorflow:Can save best model only with val_accuracy available, skipping.\n",
      "543/543 [==============================] - 2s 3ms/step - loss: 0.3843 - acc: 0.8395 - val_loss: 0.4434 - val_acc: 0.8117\n",
      "Epoch 13/30\n",
      "541/543 [============================>.] - ETA: 0s - loss: 0.3769 - acc: 0.8409WARNING:tensorflow:Can save best model only with val_accuracy available, skipping.\n",
      "543/543 [==============================] - 2s 3ms/step - loss: 0.3767 - acc: 0.8409 - val_loss: 0.4483 - val_acc: 0.8179\n",
      "Epoch 14/30\n",
      "528/543 [============================>.] - ETA: 0s - loss: 0.3725 - acc: 0.8451WARNING:tensorflow:Can save best model only with val_accuracy available, skipping.\n",
      "543/543 [==============================] - 2s 3ms/step - loss: 0.3727 - acc: 0.8453 - val_loss: 0.4428 - val_acc: 0.8107\n",
      "Epoch 15/30\n",
      "529/543 [============================>.] - ETA: 0s - loss: 0.3651 - acc: 0.8472WARNING:tensorflow:Can save best model only with val_accuracy available, skipping.\n",
      "543/543 [==============================] - 2s 3ms/step - loss: 0.3655 - acc: 0.8471 - val_loss: 0.4456 - val_acc: 0.8139\n",
      "Epoch 16/30\n",
      "534/543 [============================>.] - ETA: 0s - loss: 0.3636 - acc: 0.8480WARNING:tensorflow:Can save best model only with val_accuracy available, skipping.\n",
      "543/543 [==============================] - 2s 3ms/step - loss: 0.3627 - acc: 0.8485 - val_loss: 0.4602 - val_acc: 0.8117\n",
      "Epoch 17/30\n",
      "532/543 [============================>.] - ETA: 0s - loss: 0.3550 - acc: 0.8531WARNING:tensorflow:Can save best model only with val_accuracy available, skipping.\n",
      "543/543 [==============================] - 2s 3ms/step - loss: 0.3547 - acc: 0.8536 - val_loss: 0.4565 - val_acc: 0.8088\n",
      "Epoch 18/30\n",
      "536/543 [============================>.] - ETA: 0s - loss: 0.3485 - acc: 0.8573WARNING:tensorflow:Can save best model only with val_accuracy available, skipping.\n",
      "543/543 [==============================] - 2s 3ms/step - loss: 0.3480 - acc: 0.8576 - val_loss: 0.4542 - val_acc: 0.8061\n",
      "Epoch 19/30\n",
      "539/543 [============================>.] - ETA: 0s - loss: 0.3397 - acc: 0.8597WARNING:tensorflow:Can save best model only with val_accuracy available, skipping.\n",
      "543/543 [==============================] - 2s 3ms/step - loss: 0.3400 - acc: 0.8596 - val_loss: 0.4747 - val_acc: 0.8047\n",
      "Epoch 20/30\n",
      "527/543 [============================>.] - ETA: 0s - loss: 0.3302 - acc: 0.8634WARNING:tensorflow:Can save best model only with val_accuracy available, skipping.\n",
      "543/543 [==============================] - 2s 3ms/step - loss: 0.3314 - acc: 0.8630 - val_loss: 0.4683 - val_acc: 0.8004\n",
      "Epoch 21/30\n",
      "542/543 [============================>.] - ETA: 0s - loss: 0.3221 - acc: 0.8659WARNING:tensorflow:Can save best model only with val_accuracy available, skipping.\n",
      "543/543 [==============================] - 2s 3ms/step - loss: 0.3223 - acc: 0.8659 - val_loss: 0.4770 - val_acc: 0.8077\n",
      "Epoch 22/30\n",
      "528/543 [============================>.] - ETA: 0s - loss: 0.3212 - acc: 0.8663WARNING:tensorflow:Can save best model only with val_accuracy available, skipping.\n",
      "543/543 [==============================] - 2s 3ms/step - loss: 0.3214 - acc: 0.8666 - val_loss: 0.5081 - val_acc: 0.7945\n",
      "Epoch 23/30\n",
      "541/543 [============================>.] - ETA: 0s - loss: 0.3114 - acc: 0.8721WARNING:tensorflow:Can save best model only with val_accuracy available, skipping.\n",
      "543/543 [==============================] - 2s 3ms/step - loss: 0.3119 - acc: 0.8717 - val_loss: 0.4835 - val_acc: 0.7994\n",
      "Epoch 24/30\n",
      "532/543 [============================>.] - ETA: 0s - loss: 0.2995 - acc: 0.8773WARNING:tensorflow:Can save best model only with val_accuracy available, skipping.\n",
      "543/543 [==============================] - 2s 3ms/step - loss: 0.2993 - acc: 0.8773 - val_loss: 0.4897 - val_acc: 0.8096\n",
      "Epoch 25/30\n",
      "527/543 [============================>.] - ETA: 0s - loss: 0.2924 - acc: 0.8825WARNING:tensorflow:Can save best model only with val_accuracy available, skipping.\n",
      "543/543 [==============================] - 2s 3ms/step - loss: 0.2924 - acc: 0.8826 - val_loss: 0.4998 - val_acc: 0.8023\n",
      "Epoch 26/30\n",
      "531/543 [============================>.] - ETA: 0s - loss: 0.2833 - acc: 0.8835WARNING:tensorflow:Can save best model only with val_accuracy available, skipping.\n",
      "543/543 [==============================] - 2s 3ms/step - loss: 0.2832 - acc: 0.8833 - val_loss: 0.5132 - val_acc: 0.8026\n",
      "Epoch 27/30\n",
      "535/543 [============================>.] - ETA: 0s - loss: 0.2756 - acc: 0.8859WARNING:tensorflow:Can save best model only with val_accuracy available, skipping.\n",
      "543/543 [==============================] - 2s 3ms/step - loss: 0.2758 - acc: 0.8859 - val_loss: 0.5421 - val_acc: 0.7945\n",
      "Epoch 28/30\n",
      "540/543 [============================>.] - ETA: 0s - loss: 0.2680 - acc: 0.8927WARNING:tensorflow:Can save best model only with val_accuracy available, skipping.\n",
      "543/543 [==============================] - 2s 3ms/step - loss: 0.2679 - acc: 0.8927 - val_loss: 0.5259 - val_acc: 0.8077\n"
     ]
    },
    {
     "name": "stdout",
     "output_type": "stream",
     "text": [
      "Epoch 29/30\n",
      "529/543 [============================>.] - ETA: 0s - loss: 0.2621 - acc: 0.8924WARNING:tensorflow:Can save best model only with val_accuracy available, skipping.\n",
      "543/543 [==============================] - 2s 3ms/step - loss: 0.2614 - acc: 0.8925 - val_loss: 0.5481 - val_acc: 0.8012\n",
      "Epoch 30/30\n",
      "535/543 [============================>.] - ETA: 0s - loss: 0.2536 - acc: 0.8983WARNING:tensorflow:Can save best model only with val_accuracy available, skipping.\n",
      "543/543 [==============================] - 2s 3ms/step - loss: 0.2538 - acc: 0.8984 - val_loss: 0.5556 - val_acc: 0.7994\n"
     ]
    }
   ],
   "source": [
    "history_log = model3.fit(x_train, y_train, epochs=30, verbose=1, validation_data=(x_test, y_test), callbacks=[checkpoint])\n"
   ]
  },
  {
   "cell_type": "code",
   "execution_count": 27,
   "id": "de84a26f",
   "metadata": {},
   "outputs": [],
   "source": [
    "model3.save_weights('/home/nvekariy/signal_code/New_neural_code_SNR_2_h/F5.h5')\n"
   ]
  },
  {
   "cell_type": "code",
   "execution_count": 28,
   "id": "30fd3f17",
   "metadata": {},
   "outputs": [],
   "source": [
    "model3.load_weights('/home/nvekariy/signal_code/New_neural_code_SNR_2_h/F5.h5')\n"
   ]
  },
  {
   "cell_type": "code",
   "execution_count": 29,
   "id": "994f96a7",
   "metadata": {},
   "outputs": [
    {
     "name": "stdout",
     "output_type": "stream",
     "text": [
      "117/117 [==============================] - 0s 1ms/step\n"
     ]
    }
   ],
   "source": [
    "predictions = model3.predict(x_test)\n",
    "pred_arg = np.argmax(predictions, axis=1)"
   ]
  },
  {
   "cell_type": "code",
   "execution_count": 30,
   "id": "abb59028",
   "metadata": {},
   "outputs": [
    {
     "name": "stdout",
     "output_type": "stream",
     "text": [
      "cnf_matrix_2.0_70\n",
      "\n",
      "[[741   1   2  75]\n",
      " [  1 724 217  59]\n",
      " [  2 177 833   6]\n",
      " [ 91 108   7 674]]\n"
     ]
    }
   ],
   "source": [
    "from sklearn.metrics import confusion_matrix\n",
    "cnf_matrix=confusion_matrix(y_test,pred_arg)\n",
    "print(\"cnf_matrix_2.0_70\")\n",
    "print(\"\")\n",
    "print(cnf_matrix)"
   ]
  },
  {
   "cell_type": "code",
   "execution_count": 31,
   "id": "9f134881",
   "metadata": {},
   "outputs": [],
   "source": [
    "from sklearn.metrics import accuracy_score, recall_score,precision_score,roc_auc_score,roc_curve,f1_score\n"
   ]
  },
  {
   "cell_type": "code",
   "execution_count": 32,
   "id": "0f419b16",
   "metadata": {},
   "outputs": [
    {
     "name": "stdout",
     "output_type": "stream",
     "text": [
      "79.9354491662184\n",
      "80.34793999051284\n",
      "79.9354491662184\n",
      "79.98246705307042\n"
     ]
    }
   ],
   "source": [
    "print(accuracy_score(y_test,pred_arg)*100)\n",
    "print(f1_score(y_test,pred_arg,average='macro')*100)\n",
    "print(recall_score(y_test,pred_arg, average=\"weighted\")*100)\n",
    "print(precision_score(y_test,pred_arg, average=\"weighted\")*100)"
   ]
  },
  {
   "cell_type": "code",
   "execution_count": null,
   "id": "9a6122db",
   "metadata": {},
   "outputs": [],
   "source": []
  },
  {
   "cell_type": "code",
   "execution_count": null,
   "id": "90845a20",
   "metadata": {},
   "outputs": [],
   "source": []
  },
  {
   "cell_type": "code",
   "execution_count": null,
   "id": "dd00c7be",
   "metadata": {},
   "outputs": [],
   "source": []
  }
 ],
 "metadata": {
  "anaconda-cloud": {},
  "kernelspec": {
   "display_name": "Python [conda env:root] *",
   "language": "python",
   "name": "conda-root-py"
  },
  "language_info": {
   "codemirror_mode": {
    "name": "ipython",
    "version": 3
   },
   "file_extension": ".py",
   "mimetype": "text/x-python",
   "name": "python",
   "nbconvert_exporter": "python",
   "pygments_lexer": "ipython3",
   "version": "3.9.12"
  }
 },
 "nbformat": 4,
 "nbformat_minor": 5
}
