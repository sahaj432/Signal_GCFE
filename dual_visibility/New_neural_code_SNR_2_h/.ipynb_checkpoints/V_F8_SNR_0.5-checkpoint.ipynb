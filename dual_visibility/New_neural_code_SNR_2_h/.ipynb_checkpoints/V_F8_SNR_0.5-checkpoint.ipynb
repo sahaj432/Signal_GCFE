{
 "cells": [
  {
   "cell_type": "code",
   "execution_count": 1,
   "id": "89e29f03",
   "metadata": {},
   "outputs": [
    {
     "name": "stdout",
     "output_type": "stream",
     "text": [
      "Loading PyIOmica 1.3.3 (https://github.com/gmiaslab/pyiomica by G. Mias Lab)\n"
     ]
    }
   ],
   "source": [
    "import numpy as np\n",
    "import os\n",
    "import glob\n",
    "import seaborn as sns\n",
    "import matplotlib.pyplot as plt\n",
    "from pyiomica_master import pyiomica as pio\n",
    "from pyiomica_master.pyiomica import visualizationFunctions\n",
    "from pyiomica_master.pyiomica import visibilityGraphCommunityDetection\n",
    "import matplotlib as mpl\n",
    "from sklearn.utils import shuffle\n",
    "from sklearn.model_selection import train_test_split\n",
    "\n",
    "from tqdm import tqdm\n",
    "%matplotlib inline"
   ]
  },
  {
   "cell_type": "code",
   "execution_count": 2,
   "id": "b297825b",
   "metadata": {},
   "outputs": [],
   "source": [
    "x_frame1_05 = np.genfromtxt('/home/nvekariy/signal_code/datasets/neural_4_class/x_frame1_2_seed.csv', delimiter=',')\n",
    "x_frame2_05 = np.genfromtxt('/home/nvekariy/signal_code/datasets/neural_4_class/x_frame2_2_seed.csv', delimiter=',')\n",
    "x_frame3_05 = np.genfromtxt('/home/nvekariy/signal_code/datasets/neural_4_class/x_frame3_2_seed.csv', delimiter=',')\n",
    "x_framen_05= np.genfromtxt('/home/nvekariy/signal_code/datasets/neural_4_class/x_frame_noise_2_seed.csv', delimiter=',')"
   ]
  },
  {
   "cell_type": "code",
   "execution_count": null,
   "id": "c61feafd",
   "metadata": {},
   "outputs": [],
   "source": []
  },
  {
   "cell_type": "code",
   "execution_count": 3,
   "id": "112c6fdf",
   "metadata": {},
   "outputs": [],
   "source": [
    "x=np.concatenate((x_frame1_05,x_frame2_05,x_frame3_05,x_framen_05),axis=0)\n",
    "y=np.concatenate((np.zeros(len(x_frame1_05)),np.zeros(len(x_frame2_05))+1,np.zeros(len(x_frame3_05))+2,np.zeros(len(x_framen_05))+3),axis=0)"
   ]
  },
  {
   "cell_type": "code",
   "execution_count": 4,
   "id": "cfcfbda9",
   "metadata": {},
   "outputs": [],
   "source": [
    "X, Y = shuffle(x,y, random_state=1)"
   ]
  },
  {
   "cell_type": "code",
   "execution_count": 5,
   "id": "7898816c",
   "metadata": {},
   "outputs": [],
   "source": [
    "def calculate_adj(data):\n",
    "    temp1=[]\n",
    "    for p, i in enumerate(data):\n",
    "        #print(f'Converting ==> {p+1} \\r', end=\"\",flush=True)\n",
    "        vs_out = visibilityGraphCommunityDetection.createVisibilityGraph(i, range(len(i)), \"dual_natural\", weight='tan')\n",
    "        temp1.append(vs_out)\n",
    "        \n",
    "    return temp1"
   ]
  },
  {
   "cell_type": "code",
   "execution_count": 6,
   "id": "5786a500",
   "metadata": {
    "scrolled": true
   },
   "outputs": [
    {
     "name": "stdout",
     "output_type": "stream",
     "text": [
      "Number of CPU cores: 48\n"
     ]
    }
   ],
   "source": [
    "from multiprocessing import Pool\n",
    "import multiprocessing\n",
    "\n",
    "if __name__ == '__main__':\n",
    "    num_cores = multiprocessing.cpu_count()\n",
    "    print(\"Number of CPU cores:\", num_cores)"
   ]
  },
  {
   "cell_type": "code",
   "execution_count": 7,
   "id": "2f35de61",
   "metadata": {},
   "outputs": [
    {
     "name": "stdout",
     "output_type": "stream",
     "text": [
      "642\n"
     ]
    }
   ],
   "source": [
    "df=np.array_split(X, num_cores)\n",
    "print(len(df[0]))"
   ]
  },
  {
   "cell_type": "code",
   "execution_count": 8,
   "id": "682fc94e",
   "metadata": {},
   "outputs": [],
   "source": [
    "with Pool(processes=num_cores) as pool:\n",
    "    results = pool.map(calculate_adj, df)\n",
    "\n",
    "pool.close()\n",
    "pool.join()"
   ]
  },
  {
   "cell_type": "code",
   "execution_count": 9,
   "id": "37086d28",
   "metadata": {},
   "outputs": [],
   "source": [
    "x_adj=[]\n",
    "for submatrix in results:\n",
    "    x_adj.extend(submatrix)"
   ]
  },
  {
   "cell_type": "code",
   "execution_count": 10,
   "id": "d8730cf6",
   "metadata": {},
   "outputs": [],
   "source": [
    "x_adj=np.array(x_adj)"
   ]
  },
  {
   "cell_type": "code",
   "execution_count": 11,
   "id": "c8699c57",
   "metadata": {},
   "outputs": [],
   "source": [
    "def calculate_g(data):\n",
    "    temp2=[]\n",
    "    for vs_out in data:\n",
    "        a = np.sum(vs_out, axis=0).reshape(-1, 1)\n",
    "        b = np.sum(vs_out != 0, axis=1).reshape(-1, 1)\n",
    "        temp2.append(np.concatenate((a, b), axis=1))\n",
    "        \n",
    "    return temp2"
   ]
  },
  {
   "cell_type": "code",
   "execution_count": 12,
   "id": "6c582fda",
   "metadata": {},
   "outputs": [
    {
     "name": "stdout",
     "output_type": "stream",
     "text": [
      "Number of CPU cores: 48\n",
      "642\n"
     ]
    }
   ],
   "source": [
    "from multiprocessing import Pool\n",
    "import multiprocessing\n",
    "\n",
    "if __name__ == '__main__':\n",
    "    num_cores = multiprocessing.cpu_count()\n",
    "    print(\"Number of CPU cores:\", num_cores)\n",
    "\n",
    "\n",
    "df1=np.array_split(x_adj[:], num_cores)\n",
    "\n",
    "\n",
    "print(len(df[0]))\n",
    "\n",
    "\n"
   ]
  },
  {
   "cell_type": "code",
   "execution_count": 13,
   "id": "489e53ab",
   "metadata": {},
   "outputs": [
    {
     "name": "stdout",
     "output_type": "stream",
     "text": [
      "--- 1.4089527130126953 seconds ---\n"
     ]
    }
   ],
   "source": [
    "\n",
    "import time\n",
    "start_time = time.time()\n",
    "with Pool(processes=num_cores) as pool1:\n",
    "    results1 = pool1.map(calculate_g, df1)\n",
    "\n",
    "pool1.close()\n",
    "pool1.join()\n",
    "\n",
    "print(\"--- %s seconds ---\" % (time.time() - start_time))\n"
   ]
  },
  {
   "cell_type": "code",
   "execution_count": 14,
   "id": "4bd5c260",
   "metadata": {},
   "outputs": [],
   "source": [
    "x_g=[]\n",
    "for submatrix in results1:\n",
    "    x_g.extend(submatrix)"
   ]
  },
  {
   "cell_type": "code",
   "execution_count": 15,
   "id": "e7087c73",
   "metadata": {},
   "outputs": [],
   "source": [
    "x_g=np.array(x_g)\n"
   ]
  },
  {
   "cell_type": "code",
   "execution_count": 16,
   "id": "6a1404fa",
   "metadata": {},
   "outputs": [
    {
     "name": "stdout",
     "output_type": "stream",
     "text": [
      "(30783, 56, 2)\n"
     ]
    }
   ],
   "source": [
    "print(x_g.shape)"
   ]
  },
  {
   "cell_type": "code",
   "execution_count": null,
   "id": "4e388a66",
   "metadata": {},
   "outputs": [],
   "source": []
  },
  {
   "cell_type": "code",
   "execution_count": 17,
   "id": "f7c52f41",
   "metadata": {},
   "outputs": [
    {
     "data": {
      "text/plain": [
       "array([[ 0.09570313,  1.        ],\n",
       "       [ 0.11987307,  2.        ],\n",
       "       [ 0.11914065,  3.        ],\n",
       "       [ 0.18994143,  2.        ],\n",
       "       [ 0.35038152, 12.        ],\n",
       "       [ 0.1732972 ,  8.        ],\n",
       "       [ 0.15270999,  3.        ],\n",
       "       [ 0.14517016,  8.        ],\n",
       "       [ 0.08337406,  4.        ],\n",
       "       [ 0.08542485,  5.        ],\n",
       "       [ 0.15979825,  7.        ],\n",
       "       [ 0.08212721,  5.        ],\n",
       "       [ 0.10777594,  6.        ],\n",
       "       [ 0.10342422, 15.        ],\n",
       "       [ 0.14211756, 15.        ],\n",
       "       [ 0.23390311, 13.        ],\n",
       "       [ 0.17156986,  4.        ],\n",
       "       [ 0.1091309 ,  4.        ],\n",
       "       [ 0.13454189,  6.        ],\n",
       "       [ 0.07161869,  4.        ],\n",
       "       [ 0.22763133, 18.        ],\n",
       "       [ 0.08850103,  5.        ],\n",
       "       [ 0.07543948,  3.        ],\n",
       "       [ 0.07354064,  6.        ],\n",
       "       [ 0.04548456,  5.        ],\n",
       "       [ 0.12262109, 14.        ],\n",
       "       [ 0.07690432,  2.        ],\n",
       "       [ 0.09104356, 12.        ],\n",
       "       [ 0.05559751,  7.        ],\n",
       "       [ 0.05764149, 10.        ],\n",
       "       [ 0.27855795, 16.        ],\n",
       "       [ 0.18544113,  5.        ],\n",
       "       [ 0.17888731,  5.        ],\n",
       "       [ 0.20320641,  3.        ],\n",
       "       [ 0.37295281, 10.        ],\n",
       "       [ 0.39946703,  7.        ],\n",
       "       [ 0.30999759,  3.        ],\n",
       "       [ 0.28438318,  4.        ],\n",
       "       [ 0.51305349, 10.        ],\n",
       "       [ 0.31421278, 12.        ],\n",
       "       [ 0.45735069, 15.        ],\n",
       "       [ 0.93166468, 24.        ],\n",
       "       [ 0.44943721,  9.        ],\n",
       "       [ 0.21020512,  4.        ],\n",
       "       [ 0.20605472,  3.        ],\n",
       "       [ 0.13061527,  4.        ],\n",
       "       [ 0.29056812,  9.        ],\n",
       "       [ 0.13842776,  3.        ],\n",
       "       [ 0.17260745,  3.        ],\n",
       "       [ 0.12817389,  6.        ],\n",
       "       [ 0.09675435,  6.        ],\n",
       "       [ 0.09048942,  5.        ],\n",
       "       [ 0.15690927,  9.        ],\n",
       "       [ 0.07434085,  3.        ],\n",
       "       [ 0.0626221 ,  3.        ],\n",
       "       [ 0.07052762,  4.        ]])"
      ]
     },
     "execution_count": 17,
     "metadata": {},
     "output_type": "execute_result"
    }
   ],
   "source": [
    "x_g[0]"
   ]
  },
  {
   "cell_type": "code",
   "execution_count": 18,
   "id": "f5f0b6a9",
   "metadata": {},
   "outputs": [],
   "source": [
    "x_g_flat=np.array([np.array(i.T.flatten()).ravel() for i in x_g])\n"
   ]
  },
  {
   "cell_type": "code",
   "execution_count": 19,
   "id": "34ed68c8",
   "metadata": {},
   "outputs": [
    {
     "data": {
      "text/plain": [
       "array([ 0.09570313,  0.11987307,  0.11914065,  0.18994143,  0.35038152,\n",
       "        0.1732972 ,  0.15270999,  0.14517016,  0.08337406,  0.08542485,\n",
       "        0.15979825,  0.08212721,  0.10777594,  0.10342422,  0.14211756,\n",
       "        0.23390311,  0.17156986,  0.1091309 ,  0.13454189,  0.07161869,\n",
       "        0.22763133,  0.08850103,  0.07543948,  0.07354064,  0.04548456,\n",
       "        0.12262109,  0.07690432,  0.09104356,  0.05559751,  0.05764149,\n",
       "        0.27855795,  0.18544113,  0.17888731,  0.20320641,  0.37295281,\n",
       "        0.39946703,  0.30999759,  0.28438318,  0.51305349,  0.31421278,\n",
       "        0.45735069,  0.93166468,  0.44943721,  0.21020512,  0.20605472,\n",
       "        0.13061527,  0.29056812,  0.13842776,  0.17260745,  0.12817389,\n",
       "        0.09675435,  0.09048942,  0.15690927,  0.07434085,  0.0626221 ,\n",
       "        0.07052762,  1.        ,  2.        ,  3.        ,  2.        ,\n",
       "       12.        ,  8.        ,  3.        ,  8.        ,  4.        ,\n",
       "        5.        ,  7.        ,  5.        ,  6.        , 15.        ,\n",
       "       15.        , 13.        ,  4.        ,  4.        ,  6.        ,\n",
       "        4.        , 18.        ,  5.        ,  3.        ,  6.        ,\n",
       "        5.        , 14.        ,  2.        , 12.        ,  7.        ,\n",
       "       10.        , 16.        ,  5.        ,  5.        ,  3.        ,\n",
       "       10.        ,  7.        ,  3.        ,  4.        , 10.        ,\n",
       "       12.        , 15.        , 24.        ,  9.        ,  4.        ,\n",
       "        3.        ,  4.        ,  9.        ,  3.        ,  3.        ,\n",
       "        6.        ,  6.        ,  5.        ,  9.        ,  3.        ,\n",
       "        3.        ,  4.        ])"
      ]
     },
     "execution_count": 19,
     "metadata": {},
     "output_type": "execute_result"
    }
   ],
   "source": [
    "x_g_flat[0]"
   ]
  },
  {
   "cell_type": "code",
   "execution_count": 20,
   "id": "fcb8fbe5",
   "metadata": {},
   "outputs": [],
   "source": [
    "x_train, x_temp, y_train, y_temp = train_test_split(x_g_flat, Y, test_size=0.30, random_state=42)\n",
    "x_val,x_test,y_val,y_test=train_test_split(x_temp,y_temp,test_size=0.50, random_state=42)"
   ]
  },
  {
   "cell_type": "code",
   "execution_count": 21,
   "id": "4ab593cf",
   "metadata": {},
   "outputs": [
    {
     "name": "stdout",
     "output_type": "stream",
     "text": [
      "(21548, 112)\n",
      "(4617, 112)\n",
      "(4618, 112)\n"
     ]
    }
   ],
   "source": [
    "print(x_train.shape)\n",
    "print(x_val.shape)\n",
    "print(x_test.shape)"
   ]
  },
  {
   "cell_type": "code",
   "execution_count": 22,
   "id": "c1022f00",
   "metadata": {},
   "outputs": [
    {
     "name": "stderr",
     "output_type": "stream",
     "text": [
      "2023-08-13 10:30:33.831722: I tensorflow/core/platform/cpu_feature_guard.cc:193] This TensorFlow binary is optimized with oneAPI Deep Neural Network Library (oneDNN) to use the following CPU instructions in performance-critical operations:  AVX2 AVX512F AVX512_VNNI FMA\n",
      "To enable them in other operations, rebuild TensorFlow with the appropriate compiler flags.\n",
      "2023-08-13 10:30:33.944035: I tensorflow/core/util/port.cc:104] oneDNN custom operations are on. You may see slightly different numerical results due to floating-point round-off errors from different computation orders. To turn them off, set the environment variable `TF_ENABLE_ONEDNN_OPTS=0`.\n",
      "2023-08-13 10:30:33.947980: W tensorflow/compiler/xla/stream_executor/platform/default/dso_loader.cc:64] Could not load dynamic library 'libcudart.so.11.0'; dlerror: libcudart.so.11.0: cannot open shared object file: No such file or directory; LD_LIBRARY_PATH: /cm/shared/apps/slurm/18.08.9/lib64/slurm:/cm/shared/apps/slurm/18.08.9/lib64\n",
      "2023-08-13 10:30:33.947996: I tensorflow/compiler/xla/stream_executor/cuda/cudart_stub.cc:29] Ignore above cudart dlerror if you do not have a GPU set up on your machine.\n",
      "2023-08-13 10:30:35.759601: W tensorflow/compiler/xla/stream_executor/platform/default/dso_loader.cc:64] Could not load dynamic library 'libnvinfer.so.7'; dlerror: libnvinfer.so.7: cannot open shared object file: No such file or directory; LD_LIBRARY_PATH: /cm/shared/apps/slurm/18.08.9/lib64/slurm:/cm/shared/apps/slurm/18.08.9/lib64\n",
      "2023-08-13 10:30:35.759705: W tensorflow/compiler/xla/stream_executor/platform/default/dso_loader.cc:64] Could not load dynamic library 'libnvinfer_plugin.so.7'; dlerror: libnvinfer_plugin.so.7: cannot open shared object file: No such file or directory; LD_LIBRARY_PATH: /cm/shared/apps/slurm/18.08.9/lib64/slurm:/cm/shared/apps/slurm/18.08.9/lib64\n",
      "2023-08-13 10:30:35.759712: W tensorflow/compiler/tf2tensorrt/utils/py_utils.cc:38] TF-TRT Warning: Cannot dlopen some TensorRT libraries. If you would like to use Nvidia GPU with TensorRT, please make sure the missing libraries mentioned above are installed properly.\n"
     ]
    }
   ],
   "source": [
    "import tensorflow as tf\n"
   ]
  },
  {
   "cell_type": "code",
   "execution_count": 23,
   "id": "041aca53",
   "metadata": {},
   "outputs": [
    {
     "name": "stderr",
     "output_type": "stream",
     "text": [
      "2023-08-13 10:30:46.900001: W tensorflow/compiler/xla/stream_executor/platform/default/dso_loader.cc:64] Could not load dynamic library 'libcuda.so.1'; dlerror: libcuda.so.1: cannot open shared object file: No such file or directory; LD_LIBRARY_PATH: /cm/shared/apps/slurm/18.08.9/lib64/slurm:/cm/shared/apps/slurm/18.08.9/lib64\n",
      "2023-08-13 10:30:46.900031: W tensorflow/compiler/xla/stream_executor/cuda/cuda_driver.cc:265] failed call to cuInit: UNKNOWN ERROR (303)\n",
      "2023-08-13 10:30:46.900049: I tensorflow/compiler/xla/stream_executor/cuda/cuda_diagnostics.cc:156] kernel driver does not appear to be running on this host (c0155): /proc/driver/nvidia/version does not exist\n",
      "2023-08-13 10:30:46.900483: I tensorflow/core/platform/cpu_feature_guard.cc:193] This TensorFlow binary is optimized with oneAPI Deep Neural Network Library (oneDNN) to use the following CPU instructions in performance-critical operations:  AVX2 AVX512F AVX512_VNNI FMA\n",
      "To enable them in other operations, rebuild TensorFlow with the appropriate compiler flags.\n"
     ]
    }
   ],
   "source": [
    "input_shape = (x_train.shape[1],1)\n",
    "num_classes = 4\n",
    "model3 = tf.keras.models.Sequential()\n",
    "model3.add(tf.keras.layers.Conv1D(filters= 32, kernel_size=3, activation='relu',padding='same',input_shape= input_shape))\n",
    "model3.add(tf.keras.layers.MaxPooling1D(pool_size=2,strides=None,padding='valid'))\n",
    "\n",
    "model3.add(tf.keras.layers.Conv1D(filters=32, kernel_size=3,padding='same',activation='relu'))\n",
    "model3.add(tf.keras.layers.MaxPooling1D(pool_size=2,strides=None,padding='valid'))\n",
    "\n",
    "# model3.add(tf.keras.layers.Conv1D(filters=32, kernel_size=3,padding='same',activation='relu'))\n",
    "# model3.add(tf.keras.layers.MaxPooling1D(pool_size=2,strides=None,padding='valid'))\n",
    "# model3.add(tf.keras.layers.Conv1D(filters=32, kernel_size=3,padding='same',activation='relu'))\n",
    "# model3.add(tf.keras.layers.MaxPooling1D(pool_size=2,strides=None,padding='valid'))\n",
    "# model3.add(tf.keras.layers.Conv1D(filters=32, kernel_size=3,padding='same',activation='relu'))\n",
    "# model3.add(tf.keras.layers.MaxPooling1D(pool_size=2,strides=None,padding='valid'))\n",
    "# model3.add(tf.keras.layers.Conv1D(filters=32, kernel_size=3,padding='same',activation='relu'))\n",
    "# model3.add(tf.keras.layers.MaxPooling1D(pool_size=2,strides=None,padding='valid'))\n",
    "model3.add(tf.keras.layers.Flatten())\n",
    "\n",
    "model3.add(tf.keras.layers.Dense(100, activation='relu'))\n",
    "model3.add(tf.keras.layers.Dropout(0.1))\n",
    "model3.add(tf.keras.layers.Dense(100, activation='relu'))\n",
    "model3.add(tf.keras.layers.Dense(num_classes, activation='softmax'))"
   ]
  },
  {
   "cell_type": "code",
   "execution_count": 24,
   "id": "7d7a5c18",
   "metadata": {},
   "outputs": [
    {
     "name": "stdout",
     "output_type": "stream",
     "text": [
      "Model: \"sequential\"\n",
      "_________________________________________________________________\n",
      " Layer (type)                Output Shape              Param #   \n",
      "=================================================================\n",
      " conv1d (Conv1D)             (None, 112, 32)           128       \n",
      "                                                                 \n",
      " max_pooling1d (MaxPooling1D  (None, 56, 32)           0         \n",
      " )                                                               \n",
      "                                                                 \n",
      " conv1d_1 (Conv1D)           (None, 56, 32)            3104      \n",
      "                                                                 \n",
      " max_pooling1d_1 (MaxPooling  (None, 28, 32)           0         \n",
      " 1D)                                                             \n",
      "                                                                 \n",
      " flatten (Flatten)           (None, 896)               0         \n",
      "                                                                 \n",
      " dense (Dense)               (None, 100)               89700     \n",
      "                                                                 \n",
      " dropout (Dropout)           (None, 100)               0         \n",
      "                                                                 \n",
      " dense_1 (Dense)             (None, 100)               10100     \n",
      "                                                                 \n",
      " dense_2 (Dense)             (None, 4)                 404       \n",
      "                                                                 \n",
      "=================================================================\n",
      "Total params: 103,436\n",
      "Trainable params: 103,436\n",
      "Non-trainable params: 0\n",
      "_________________________________________________________________\n"
     ]
    }
   ],
   "source": [
    "model3.summary()"
   ]
  },
  {
   "cell_type": "code",
   "execution_count": 25,
   "id": "d6573d40",
   "metadata": {},
   "outputs": [],
   "source": [
    "model3.compile(loss='SparseCategoricalCrossentropy', optimizer='Adam', metrics=['acc'])\n"
   ]
  },
  {
   "cell_type": "code",
   "execution_count": 26,
   "id": "e2276cd0",
   "metadata": {},
   "outputs": [],
   "source": [
    "from tensorflow.keras.callbacks import ModelCheckpoint\n",
    "from tensorflow.keras.models import load_model\n",
    "\n",
    "\n",
    "\n",
    "checkpoint = ModelCheckpoint('F8.h5', monitor='val_accuracy', verbose=1, save_best_only=True, mode='max')\n"
   ]
  },
  {
   "cell_type": "code",
   "execution_count": 27,
   "id": "43bf0926",
   "metadata": {
    "scrolled": true
   },
   "outputs": [
    {
     "name": "stdout",
     "output_type": "stream",
     "text": [
      "Epoch 1/30\n",
      "674/674 [==============================] - ETA: 0s - loss: 0.4806 - acc: 0.7996WARNING:tensorflow:Can save best model only with val_accuracy available, skipping.\n",
      "674/674 [==============================] - 4s 4ms/step - loss: 0.4806 - acc: 0.7996 - val_loss: 0.2958 - val_acc: 0.8863\n",
      "Epoch 2/30\n",
      "665/674 [============================>.] - ETA: 0s - loss: 0.2853 - acc: 0.8884WARNING:tensorflow:Can save best model only with val_accuracy available, skipping.\n",
      "674/674 [==============================] - 2s 4ms/step - loss: 0.2854 - acc: 0.8884 - val_loss: 0.2859 - val_acc: 0.8885\n",
      "Epoch 3/30\n",
      "665/674 [============================>.] - ETA: 0s - loss: 0.2630 - acc: 0.8980WARNING:tensorflow:Can save best model only with val_accuracy available, skipping.\n",
      "674/674 [==============================] - 2s 4ms/step - loss: 0.2628 - acc: 0.8984 - val_loss: 0.2820 - val_acc: 0.8943\n",
      "Epoch 4/30\n",
      "668/674 [============================>.] - ETA: 0s - loss: 0.2506 - acc: 0.9022WARNING:tensorflow:Can save best model only with val_accuracy available, skipping.\n",
      "674/674 [==============================] - 2s 4ms/step - loss: 0.2500 - acc: 0.9025 - val_loss: 0.3307 - val_acc: 0.8790\n",
      "Epoch 5/30\n",
      "673/674 [============================>.] - ETA: 0s - loss: 0.2413 - acc: 0.9083WARNING:tensorflow:Can save best model only with val_accuracy available, skipping.\n",
      "674/674 [==============================] - 2s 4ms/step - loss: 0.2412 - acc: 0.9084 - val_loss: 0.2428 - val_acc: 0.9073\n",
      "Epoch 6/30\n",
      "665/674 [============================>.] - ETA: 0s - loss: 0.2339 - acc: 0.9094WARNING:tensorflow:Can save best model only with val_accuracy available, skipping.\n",
      "674/674 [==============================] - 2s 4ms/step - loss: 0.2340 - acc: 0.9093 - val_loss: 0.2582 - val_acc: 0.9019\n",
      "Epoch 7/30\n",
      "672/674 [============================>.] - ETA: 0s - loss: 0.2284 - acc: 0.9105WARNING:tensorflow:Can save best model only with val_accuracy available, skipping.\n",
      "674/674 [==============================] - 2s 4ms/step - loss: 0.2283 - acc: 0.9106 - val_loss: 0.2662 - val_acc: 0.8958\n",
      "Epoch 8/30\n",
      "666/674 [============================>.] - ETA: 0s - loss: 0.2170 - acc: 0.9148WARNING:tensorflow:Can save best model only with val_accuracy available, skipping.\n",
      "674/674 [==============================] - 3s 4ms/step - loss: 0.2175 - acc: 0.9147 - val_loss: 0.2481 - val_acc: 0.9054\n",
      "Epoch 9/30\n",
      "663/674 [============================>.] - ETA: 0s - loss: 0.2151 - acc: 0.9171WARNING:tensorflow:Can save best model only with val_accuracy available, skipping.\n",
      "674/674 [==============================] - 2s 4ms/step - loss: 0.2151 - acc: 0.9170 - val_loss: 0.2695 - val_acc: 0.8997\n",
      "Epoch 10/30\n",
      "668/674 [============================>.] - ETA: 0s - loss: 0.2041 - acc: 0.9201WARNING:tensorflow:Can save best model only with val_accuracy available, skipping.\n",
      "674/674 [==============================] - 2s 4ms/step - loss: 0.2043 - acc: 0.9199 - val_loss: 0.2446 - val_acc: 0.9075\n",
      "Epoch 11/30\n",
      "667/674 [============================>.] - ETA: 0s - loss: 0.1975 - acc: 0.9234WARNING:tensorflow:Can save best model only with val_accuracy available, skipping.\n",
      "674/674 [==============================] - 2s 4ms/step - loss: 0.1976 - acc: 0.9234 - val_loss: 0.2634 - val_acc: 0.9052\n",
      "Epoch 12/30\n",
      "674/674 [==============================] - ETA: 0s - loss: 0.1885 - acc: 0.9279WARNING:tensorflow:Can save best model only with val_accuracy available, skipping.\n",
      "674/674 [==============================] - 2s 4ms/step - loss: 0.1885 - acc: 0.9279 - val_loss: 0.2604 - val_acc: 0.9023\n",
      "Epoch 13/30\n",
      "674/674 [==============================] - ETA: 0s - loss: 0.1765 - acc: 0.9315WARNING:tensorflow:Can save best model only with val_accuracy available, skipping.\n",
      "674/674 [==============================] - 2s 4ms/step - loss: 0.1765 - acc: 0.9315 - val_loss: 0.2743 - val_acc: 0.9013\n",
      "Epoch 14/30\n",
      "673/674 [============================>.] - ETA: 0s - loss: 0.1702 - acc: 0.9338WARNING:tensorflow:Can save best model only with val_accuracy available, skipping.\n",
      "674/674 [==============================] - 2s 4ms/step - loss: 0.1701 - acc: 0.9339 - val_loss: 0.2689 - val_acc: 0.9017\n",
      "Epoch 15/30\n",
      "665/674 [============================>.] - ETA: 0s - loss: 0.1616 - acc: 0.9375WARNING:tensorflow:Can save best model only with val_accuracy available, skipping.\n",
      "674/674 [==============================] - 2s 4ms/step - loss: 0.1616 - acc: 0.9376 - val_loss: 0.2864 - val_acc: 0.8965\n",
      "Epoch 16/30\n",
      "660/674 [============================>.] - ETA: 0s - loss: 0.1506 - acc: 0.9408WARNING:tensorflow:Can save best model only with val_accuracy available, skipping.\n",
      "674/674 [==============================] - 3s 4ms/step - loss: 0.1502 - acc: 0.9407 - val_loss: 0.2987 - val_acc: 0.9008\n",
      "Epoch 17/30\n",
      "665/674 [============================>.] - ETA: 0s - loss: 0.1412 - acc: 0.9446WARNING:tensorflow:Can save best model only with val_accuracy available, skipping.\n",
      "674/674 [==============================] - 2s 4ms/step - loss: 0.1405 - acc: 0.9448 - val_loss: 0.3357 - val_acc: 0.8935\n",
      "Epoch 18/30\n",
      "667/674 [============================>.] - ETA: 0s - loss: 0.1392 - acc: 0.9457WARNING:tensorflow:Can save best model only with val_accuracy available, skipping.\n",
      "674/674 [==============================] - 2s 4ms/step - loss: 0.1394 - acc: 0.9456 - val_loss: 0.3110 - val_acc: 0.9004\n",
      "Epoch 19/30\n",
      "664/674 [============================>.] - ETA: 0s - loss: 0.1232 - acc: 0.9540WARNING:tensorflow:Can save best model only with val_accuracy available, skipping.\n",
      "674/674 [==============================] - 2s 4ms/step - loss: 0.1232 - acc: 0.9541 - val_loss: 0.3476 - val_acc: 0.8941\n",
      "Epoch 20/30\n",
      "671/674 [============================>.] - ETA: 0s - loss: 0.1142 - acc: 0.9560WARNING:tensorflow:Can save best model only with val_accuracy available, skipping.\n",
      "674/674 [==============================] - 3s 4ms/step - loss: 0.1141 - acc: 0.9560 - val_loss: 0.3450 - val_acc: 0.8963\n",
      "Epoch 21/30\n",
      "663/674 [============================>.] - ETA: 0s - loss: 0.1067 - acc: 0.9577WARNING:tensorflow:Can save best model only with val_accuracy available, skipping.\n",
      "674/674 [==============================] - 2s 4ms/step - loss: 0.1072 - acc: 0.9574 - val_loss: 0.3612 - val_acc: 0.8991\n",
      "Epoch 22/30\n",
      "673/674 [============================>.] - ETA: 0s - loss: 0.1016 - acc: 0.9617WARNING:tensorflow:Can save best model only with val_accuracy available, skipping.\n",
      "674/674 [==============================] - 3s 4ms/step - loss: 0.1018 - acc: 0.9617 - val_loss: 0.3494 - val_acc: 0.8991\n",
      "Epoch 23/30\n",
      "669/674 [============================>.] - ETA: 0s - loss: 0.0977 - acc: 0.9627WARNING:tensorflow:Can save best model only with val_accuracy available, skipping.\n",
      "674/674 [==============================] - 2s 4ms/step - loss: 0.0973 - acc: 0.9629 - val_loss: 0.3912 - val_acc: 0.9008\n",
      "Epoch 24/30\n",
      "665/674 [============================>.] - ETA: 0s - loss: 0.0924 - acc: 0.9645WARNING:tensorflow:Can save best model only with val_accuracy available, skipping.\n",
      "674/674 [==============================] - 2s 4ms/step - loss: 0.0924 - acc: 0.9645 - val_loss: 0.3771 - val_acc: 0.8965\n",
      "Epoch 25/30\n",
      "661/674 [============================>.] - ETA: 0s - loss: 0.0845 - acc: 0.9691WARNING:tensorflow:Can save best model only with val_accuracy available, skipping.\n",
      "674/674 [==============================] - 2s 4ms/step - loss: 0.0847 - acc: 0.9690 - val_loss: 0.4220 - val_acc: 0.9013\n",
      "Epoch 26/30\n",
      "668/674 [============================>.] - ETA: 0s - loss: 0.0849 - acc: 0.9672WARNING:tensorflow:Can save best model only with val_accuracy available, skipping.\n",
      "674/674 [==============================] - 2s 4ms/step - loss: 0.0850 - acc: 0.9672 - val_loss: 0.4255 - val_acc: 0.8950\n",
      "Epoch 27/30\n",
      "661/674 [============================>.] - ETA: 0s - loss: 0.0716 - acc: 0.9722WARNING:tensorflow:Can save best model only with val_accuracy available, skipping.\n",
      "674/674 [==============================] - 2s 4ms/step - loss: 0.0723 - acc: 0.9720 - val_loss: 0.4344 - val_acc: 0.8926\n",
      "Epoch 28/30\n",
      "664/674 [============================>.] - ETA: 0s - loss: 0.0789 - acc: 0.9705WARNING:tensorflow:Can save best model only with val_accuracy available, skipping.\n",
      "674/674 [==============================] - 2s 4ms/step - loss: 0.0790 - acc: 0.9705 - val_loss: 0.4621 - val_acc: 0.8915\n"
     ]
    },
    {
     "name": "stdout",
     "output_type": "stream",
     "text": [
      "Epoch 29/30\n",
      "672/674 [============================>.] - ETA: 0s - loss: 0.0725 - acc: 0.9731WARNING:tensorflow:Can save best model only with val_accuracy available, skipping.\n",
      "674/674 [==============================] - 2s 4ms/step - loss: 0.0726 - acc: 0.9730 - val_loss: 0.4596 - val_acc: 0.8913\n",
      "Epoch 30/30\n",
      "674/674 [==============================] - ETA: 0s - loss: 0.0718 - acc: 0.9726WARNING:tensorflow:Can save best model only with val_accuracy available, skipping.\n",
      "674/674 [==============================] - 2s 4ms/step - loss: 0.0718 - acc: 0.9726 - val_loss: 0.4720 - val_acc: 0.8935\n"
     ]
    }
   ],
   "source": [
    "history_log = model3.fit(x_train, y_train, epochs=30, verbose=1, validation_data=(x_test, y_test), callbacks=[checkpoint])\n"
   ]
  },
  {
   "cell_type": "code",
   "execution_count": 28,
   "id": "de84a26f",
   "metadata": {},
   "outputs": [],
   "source": [
    "model3.save_weights('/home/nvekariy/signal_code/New_neural_code_SNR_2_h/F8.h5')\n"
   ]
  },
  {
   "cell_type": "code",
   "execution_count": 29,
   "id": "30fd3f17",
   "metadata": {},
   "outputs": [],
   "source": [
    "model3.load_weights('/home/nvekariy/signal_code/New_neural_code_SNR_2_h/F8.h5')\n"
   ]
  },
  {
   "cell_type": "code",
   "execution_count": 30,
   "id": "994f96a7",
   "metadata": {},
   "outputs": [
    {
     "name": "stdout",
     "output_type": "stream",
     "text": [
      "145/145 [==============================] - 0s 1ms/step\n"
     ]
    }
   ],
   "source": [
    "predictions = model3.predict(x_test)\n",
    "pred_arg = np.argmax(predictions, axis=1)"
   ]
  },
  {
   "cell_type": "code",
   "execution_count": 31,
   "id": "abb59028",
   "metadata": {},
   "outputs": [
    {
     "name": "stdout",
     "output_type": "stream",
     "text": [
      "cnf_matrix_2.0_70\n",
      "\n",
      "[[ 823    1    0   59]\n",
      " [   1  746  182   53]\n",
      " [   0   65  862    1]\n",
      " [  51   76    3 1695]]\n"
     ]
    }
   ],
   "source": [
    "from sklearn.metrics import confusion_matrix\n",
    "cnf_matrix=confusion_matrix(y_test,pred_arg)\n",
    "print(\"cnf_matrix_2.0_70\")\n",
    "print(\"\")\n",
    "print(cnf_matrix)"
   ]
  },
  {
   "cell_type": "code",
   "execution_count": 32,
   "id": "9f134881",
   "metadata": {},
   "outputs": [],
   "source": [
    "from sklearn.metrics import accuracy_score, recall_score,precision_score,roc_auc_score,roc_curve,f1_score\n"
   ]
  },
  {
   "cell_type": "code",
   "execution_count": 33,
   "id": "0f419b16",
   "metadata": {},
   "outputs": [
    {
     "name": "stdout",
     "output_type": "stream",
     "text": [
      "89.34603724556085\n",
      "88.5044181165584\n",
      "89.34603724556085\n",
      "89.44255701542862\n"
     ]
    }
   ],
   "source": [
    "print(accuracy_score(y_test,pred_arg)*100)\n",
    "print(f1_score(y_test,pred_arg,average='macro')*100)\n",
    "print(recall_score(y_test,pred_arg, average=\"weighted\")*100)\n",
    "print(precision_score(y_test,pred_arg, average=\"weighted\")*100)"
   ]
  },
  {
   "cell_type": "code",
   "execution_count": null,
   "id": "9a6122db",
   "metadata": {},
   "outputs": [],
   "source": []
  },
  {
   "cell_type": "code",
   "execution_count": null,
   "id": "90845a20",
   "metadata": {},
   "outputs": [],
   "source": []
  },
  {
   "cell_type": "code",
   "execution_count": null,
   "id": "a8cadd42",
   "metadata": {},
   "outputs": [],
   "source": []
  },
  {
   "cell_type": "code",
   "execution_count": null,
   "id": "9ba39972",
   "metadata": {},
   "outputs": [],
   "source": []
  }
 ],
 "metadata": {
  "anaconda-cloud": {},
  "kernelspec": {
   "display_name": "Python [conda env:root] *",
   "language": "python",
   "name": "conda-root-py"
  },
  "language_info": {
   "codemirror_mode": {
    "name": "ipython",
    "version": 3
   },
   "file_extension": ".py",
   "mimetype": "text/x-python",
   "name": "python",
   "nbconvert_exporter": "python",
   "pygments_lexer": "ipython3",
   "version": "3.9.12"
  }
 },
 "nbformat": 4,
 "nbformat_minor": 5
}
