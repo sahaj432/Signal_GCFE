{
 "cells": [
  {
   "cell_type": "code",
   "execution_count": 1,
   "id": "89e29f03",
   "metadata": {},
   "outputs": [
    {
     "name": "stdout",
     "output_type": "stream",
     "text": [
      "Loading PyIOmica 1.3.3 (https://github.com/gmiaslab/pyiomica by G. Mias Lab)\n"
     ]
    }
   ],
   "source": [
    "import numpy as np\n",
    "import os\n",
    "import glob\n",
    "import seaborn as sns\n",
    "import matplotlib.pyplot as plt\n",
    "from pyiomica_master import pyiomica as pio\n",
    "from pyiomica_master.pyiomica import visualizationFunctions\n",
    "from pyiomica_master.pyiomica import visibilityGraphCommunityDetection\n",
    "import matplotlib as mpl\n",
    "from sklearn.utils import shuffle\n",
    "from sklearn.model_selection import train_test_split\n",
    "\n",
    "from tqdm import tqdm\n",
    "%matplotlib inline"
   ]
  },
  {
   "cell_type": "code",
   "execution_count": 2,
   "id": "b297825b",
   "metadata": {},
   "outputs": [],
   "source": [
    "x_frame1_05 = np.genfromtxt('/home/nvekariy/signal_code/datasets/neural_4_class/x_frame1_2_seed.csv', delimiter=',')\n",
    "x_frame2_05 = np.genfromtxt('/home/nvekariy/signal_code/datasets/neural_4_class/x_frame2_2_seed.csv', delimiter=',')\n",
    "x_frame3_05 = np.genfromtxt('/home/nvekariy/signal_code/datasets/neural_4_class/x_frame3_2_seed.csv', delimiter=',')\n",
    "x_framen_05= np.genfromtxt('/home/nvekariy/signal_code/datasets/neural_4_class/x_frame_noise_2_seed.csv', delimiter=',')"
   ]
  },
  {
   "cell_type": "code",
   "execution_count": null,
   "id": "c61feafd",
   "metadata": {},
   "outputs": [],
   "source": []
  },
  {
   "cell_type": "code",
   "execution_count": 3,
   "id": "112c6fdf",
   "metadata": {},
   "outputs": [],
   "source": [
    "x=np.concatenate((x_frame1_05,x_frame2_05,x_frame3_05,x_framen_05),axis=0)\n",
    "y=np.concatenate((np.zeros(len(x_frame1_05)),np.zeros(len(x_frame2_05))+1,np.zeros(len(x_frame3_05))+2,np.zeros(len(x_framen_05))+3),axis=0)"
   ]
  },
  {
   "cell_type": "code",
   "execution_count": 4,
   "id": "cfcfbda9",
   "metadata": {},
   "outputs": [],
   "source": [
    "X, Y = shuffle(x,y, random_state=1)"
   ]
  },
  {
   "cell_type": "code",
   "execution_count": 5,
   "id": "7898816c",
   "metadata": {},
   "outputs": [],
   "source": [
    "def calculate_adj(data):\n",
    "    temp1=[]\n",
    "    for p, i in enumerate(data):\n",
    "        #print(f'Converting ==> {p+1} \\r', end=\"\",flush=True)\n",
    "        vs_out = visibilityGraphCommunityDetection.createVisibilityGraph(i, range(len(i)), \"dual_natural\", weight='tan')\n",
    "        temp1.append(vs_out)\n",
    "        \n",
    "    return temp1"
   ]
  },
  {
   "cell_type": "code",
   "execution_count": 6,
   "id": "a609f105",
   "metadata": {
    "scrolled": true
   },
   "outputs": [
    {
     "name": "stdout",
     "output_type": "stream",
     "text": [
      "Number of CPU cores: 48\n"
     ]
    }
   ],
   "source": [
    "from multiprocessing import Pool\n",
    "import multiprocessing\n",
    "\n",
    "if __name__ == '__main__':\n",
    "    num_cores = multiprocessing.cpu_count()\n",
    "    print(\"Number of CPU cores:\", num_cores)"
   ]
  },
  {
   "cell_type": "code",
   "execution_count": 7,
   "id": "8cef4d3e",
   "metadata": {},
   "outputs": [
    {
     "name": "stdout",
     "output_type": "stream",
     "text": [
      "642\n"
     ]
    }
   ],
   "source": [
    "df=np.array_split(X, num_cores)\n",
    "print(len(df[0]))"
   ]
  },
  {
   "cell_type": "code",
   "execution_count": 8,
   "id": "1cf6a2bb",
   "metadata": {},
   "outputs": [],
   "source": [
    "with Pool(processes=num_cores) as pool:\n",
    "    results = pool.map(calculate_adj, df)\n",
    "\n",
    "pool.close()\n",
    "pool.join()"
   ]
  },
  {
   "cell_type": "code",
   "execution_count": 9,
   "id": "2f80b2a9",
   "metadata": {},
   "outputs": [],
   "source": [
    "x_adj=[]\n",
    "for submatrix in results:\n",
    "    x_adj.extend(submatrix)"
   ]
  },
  {
   "cell_type": "code",
   "execution_count": 10,
   "id": "55dc354c",
   "metadata": {},
   "outputs": [],
   "source": [
    "x_adj=np.array(x_adj)"
   ]
  },
  {
   "cell_type": "code",
   "execution_count": 11,
   "id": "65307fb4",
   "metadata": {},
   "outputs": [
    {
     "name": "stdout",
     "output_type": "stream",
     "text": [
      "(30783, 56, 56)\n"
     ]
    }
   ],
   "source": [
    "print(x_adj.shape)"
   ]
  },
  {
   "cell_type": "code",
   "execution_count": 12,
   "id": "39aadf37",
   "metadata": {},
   "outputs": [],
   "source": [
    "x_adj=x_adj.reshape(x_adj.shape[0],-1)"
   ]
  },
  {
   "cell_type": "code",
   "execution_count": 13,
   "id": "89f0a5a2",
   "metadata": {},
   "outputs": [
    {
     "name": "stdout",
     "output_type": "stream",
     "text": [
      "(30783, 3136)\n"
     ]
    }
   ],
   "source": [
    "print(x_adj.shape)"
   ]
  },
  {
   "cell_type": "code",
   "execution_count": 14,
   "id": "9f7b49ae",
   "metadata": {
    "scrolled": true
   },
   "outputs": [
    {
     "name": "stdout",
     "output_type": "stream",
     "text": [
      "--- 24.95644450187683 seconds ---\n"
     ]
    }
   ],
   "source": [
    "from sklearn.decomposition import IncrementalPCA\n",
    "n_components=112\n",
    "batch_size=2000\n",
    "ipca = IncrementalPCA(n_components=n_components, batch_size=batch_size)\n",
    "import time\n",
    "start_time = time.time()\n",
    "\n",
    "for i in range(0, x_adj.shape[0], batch_size):\n",
    "    ipca.partial_fit(x_adj[i:i+batch_size])\n",
    "\n",
    "X_ipca = ipca.transform(x_adj)\n",
    "    \n",
    "print(\"--- %s seconds ---\" % (time.time() - start_time))\n"
   ]
  },
  {
   "cell_type": "code",
   "execution_count": null,
   "id": "02c585c2",
   "metadata": {},
   "outputs": [],
   "source": [
    "\n"
   ]
  },
  {
   "cell_type": "code",
   "execution_count": 15,
   "id": "fcb8fbe5",
   "metadata": {},
   "outputs": [],
   "source": [
    "x_train, x_temp, y_train, y_temp = train_test_split(X_ipca, Y, test_size=0.30, random_state=42)\n",
    "x_val,x_test,y_val,y_test=train_test_split(x_temp,y_temp,test_size=0.50, random_state=42)"
   ]
  },
  {
   "cell_type": "code",
   "execution_count": 16,
   "id": "4ab593cf",
   "metadata": {},
   "outputs": [
    {
     "name": "stdout",
     "output_type": "stream",
     "text": [
      "(21548, 112)\n",
      "(4617, 112)\n",
      "(4618, 112)\n"
     ]
    }
   ],
   "source": [
    "print(x_train.shape)\n",
    "print(x_val.shape)\n",
    "print(x_test.shape)"
   ]
  },
  {
   "cell_type": "code",
   "execution_count": 17,
   "id": "c1022f00",
   "metadata": {},
   "outputs": [
    {
     "name": "stderr",
     "output_type": "stream",
     "text": [
      "2023-08-13 10:30:24.907747: I tensorflow/core/platform/cpu_feature_guard.cc:193] This TensorFlow binary is optimized with oneAPI Deep Neural Network Library (oneDNN) to use the following CPU instructions in performance-critical operations:  AVX2 AVX512F AVX512_VNNI FMA\n",
      "To enable them in other operations, rebuild TensorFlow with the appropriate compiler flags.\n",
      "2023-08-13 10:30:25.066115: I tensorflow/core/util/port.cc:104] oneDNN custom operations are on. You may see slightly different numerical results due to floating-point round-off errors from different computation orders. To turn them off, set the environment variable `TF_ENABLE_ONEDNN_OPTS=0`.\n",
      "2023-08-13 10:30:25.070648: W tensorflow/compiler/xla/stream_executor/platform/default/dso_loader.cc:64] Could not load dynamic library 'libcudart.so.11.0'; dlerror: libcudart.so.11.0: cannot open shared object file: No such file or directory; LD_LIBRARY_PATH: /cm/shared/apps/slurm/18.08.9/lib64/slurm:/cm/shared/apps/slurm/18.08.9/lib64\n",
      "2023-08-13 10:30:25.070665: I tensorflow/compiler/xla/stream_executor/cuda/cudart_stub.cc:29] Ignore above cudart dlerror if you do not have a GPU set up on your machine.\n",
      "2023-08-13 10:30:34.358203: W tensorflow/compiler/xla/stream_executor/platform/default/dso_loader.cc:64] Could not load dynamic library 'libnvinfer.so.7'; dlerror: libnvinfer.so.7: cannot open shared object file: No such file or directory; LD_LIBRARY_PATH: /cm/shared/apps/slurm/18.08.9/lib64/slurm:/cm/shared/apps/slurm/18.08.9/lib64\n",
      "2023-08-13 10:30:34.358321: W tensorflow/compiler/xla/stream_executor/platform/default/dso_loader.cc:64] Could not load dynamic library 'libnvinfer_plugin.so.7'; dlerror: libnvinfer_plugin.so.7: cannot open shared object file: No such file or directory; LD_LIBRARY_PATH: /cm/shared/apps/slurm/18.08.9/lib64/slurm:/cm/shared/apps/slurm/18.08.9/lib64\n",
      "2023-08-13 10:30:34.358330: W tensorflow/compiler/tf2tensorrt/utils/py_utils.cc:38] TF-TRT Warning: Cannot dlopen some TensorRT libraries. If you would like to use Nvidia GPU with TensorRT, please make sure the missing libraries mentioned above are installed properly.\n"
     ]
    }
   ],
   "source": [
    "import tensorflow as tf\n"
   ]
  },
  {
   "cell_type": "code",
   "execution_count": 18,
   "id": "041aca53",
   "metadata": {},
   "outputs": [
    {
     "name": "stderr",
     "output_type": "stream",
     "text": [
      "2023-08-13 10:30:46.896454: W tensorflow/compiler/xla/stream_executor/platform/default/dso_loader.cc:64] Could not load dynamic library 'libcuda.so.1'; dlerror: libcuda.so.1: cannot open shared object file: No such file or directory; LD_LIBRARY_PATH: /cm/shared/apps/slurm/18.08.9/lib64/slurm:/cm/shared/apps/slurm/18.08.9/lib64\n",
      "2023-08-13 10:30:46.896486: W tensorflow/compiler/xla/stream_executor/cuda/cuda_driver.cc:265] failed call to cuInit: UNKNOWN ERROR (303)\n",
      "2023-08-13 10:30:46.896507: I tensorflow/compiler/xla/stream_executor/cuda/cuda_diagnostics.cc:156] kernel driver does not appear to be running on this host (c0190): /proc/driver/nvidia/version does not exist\n",
      "2023-08-13 10:30:46.896837: I tensorflow/core/platform/cpu_feature_guard.cc:193] This TensorFlow binary is optimized with oneAPI Deep Neural Network Library (oneDNN) to use the following CPU instructions in performance-critical operations:  AVX2 AVX512F AVX512_VNNI FMA\n",
      "To enable them in other operations, rebuild TensorFlow with the appropriate compiler flags.\n"
     ]
    }
   ],
   "source": [
    "input_shape = (x_train.shape[1],1)\n",
    "num_classes = 4\n",
    "model3 = tf.keras.models.Sequential()\n",
    "model3.add(tf.keras.layers.Conv1D(filters= 32, kernel_size=3, activation='relu',padding='same',input_shape= input_shape))\n",
    "model3.add(tf.keras.layers.MaxPooling1D(pool_size=2,strides=None,padding='valid'))\n",
    "\n",
    "model3.add(tf.keras.layers.Conv1D(filters=32, kernel_size=3,padding='same',activation='relu'))\n",
    "model3.add(tf.keras.layers.MaxPooling1D(pool_size=2,strides=None,padding='valid'))\n",
    "\n",
    "# model3.add(tf.keras.layers.Conv1D(filters=32, kernel_size=3,padding='same',activation='relu'))\n",
    "# model3.add(tf.keras.layers.MaxPooling1D(pool_size=2,strides=None,padding='valid'))\n",
    "# model3.add(tf.keras.layers.Conv1D(filters=32, kernel_size=3,padding='same',activation='relu'))\n",
    "# model3.add(tf.keras.layers.MaxPooling1D(pool_size=2,strides=None,padding='valid'))\n",
    "# model3.add(tf.keras.layers.Conv1D(filters=32, kernel_size=3,padding='same',activation='relu'))\n",
    "# model3.add(tf.keras.layers.MaxPooling1D(pool_size=2,strides=None,padding='valid'))\n",
    "# model3.add(tf.keras.layers.Conv1D(filters=32, kernel_size=3,padding='same',activation='relu'))\n",
    "# model3.add(tf.keras.layers.MaxPooling1D(pool_size=2,strides=None,padding='valid'))\n",
    "model3.add(tf.keras.layers.Flatten())\n",
    "\n",
    "model3.add(tf.keras.layers.Dense(100, activation='relu'))\n",
    "model3.add(tf.keras.layers.Dropout(0.1))\n",
    "model3.add(tf.keras.layers.Dense(100, activation='relu'))\n",
    "model3.add(tf.keras.layers.Dense(num_classes, activation='softmax'))"
   ]
  },
  {
   "cell_type": "code",
   "execution_count": 19,
   "id": "7d7a5c18",
   "metadata": {},
   "outputs": [
    {
     "name": "stdout",
     "output_type": "stream",
     "text": [
      "Model: \"sequential\"\n",
      "_________________________________________________________________\n",
      " Layer (type)                Output Shape              Param #   \n",
      "=================================================================\n",
      " conv1d (Conv1D)             (None, 112, 32)           128       \n",
      "                                                                 \n",
      " max_pooling1d (MaxPooling1D  (None, 56, 32)           0         \n",
      " )                                                               \n",
      "                                                                 \n",
      " conv1d_1 (Conv1D)           (None, 56, 32)            3104      \n",
      "                                                                 \n",
      " max_pooling1d_1 (MaxPooling  (None, 28, 32)           0         \n",
      " 1D)                                                             \n",
      "                                                                 \n",
      " flatten (Flatten)           (None, 896)               0         \n",
      "                                                                 \n",
      " dense (Dense)               (None, 100)               89700     \n",
      "                                                                 \n",
      " dropout (Dropout)           (None, 100)               0         \n",
      "                                                                 \n",
      " dense_1 (Dense)             (None, 100)               10100     \n",
      "                                                                 \n",
      " dense_2 (Dense)             (None, 4)                 404       \n",
      "                                                                 \n",
      "=================================================================\n",
      "Total params: 103,436\n",
      "Trainable params: 103,436\n",
      "Non-trainable params: 0\n",
      "_________________________________________________________________\n"
     ]
    }
   ],
   "source": [
    "model3.summary()"
   ]
  },
  {
   "cell_type": "code",
   "execution_count": 20,
   "id": "d6573d40",
   "metadata": {},
   "outputs": [],
   "source": [
    "model3.compile(loss='SparseCategoricalCrossentropy', optimizer='Adam', metrics=['acc'])\n"
   ]
  },
  {
   "cell_type": "code",
   "execution_count": 21,
   "id": "e2276cd0",
   "metadata": {},
   "outputs": [],
   "source": [
    "from tensorflow.keras.callbacks import ModelCheckpoint\n",
    "from tensorflow.keras.models import load_model\n",
    "\n",
    "\n",
    "\n",
    "checkpoint = ModelCheckpoint('F7.h5', monitor='val_accuracy', verbose=1, save_best_only=True, mode='max')\n"
   ]
  },
  {
   "cell_type": "code",
   "execution_count": 22,
   "id": "43bf0926",
   "metadata": {
    "scrolled": true
   },
   "outputs": [
    {
     "name": "stdout",
     "output_type": "stream",
     "text": [
      "Epoch 1/30\n",
      "671/674 [============================>.] - ETA: 0s - loss: 0.5279 - acc: 0.7865WARNING:tensorflow:Can save best model only with val_accuracy available, skipping.\n",
      "674/674 [==============================] - 4s 4ms/step - loss: 0.5274 - acc: 0.7868 - val_loss: 0.3522 - val_acc: 0.8657\n",
      "Epoch 2/30\n",
      "671/674 [============================>.] - ETA: 0s - loss: 0.3332 - acc: 0.8708WARNING:tensorflow:Can save best model only with val_accuracy available, skipping.\n",
      "674/674 [==============================] - 3s 4ms/step - loss: 0.3331 - acc: 0.8708 - val_loss: 0.3211 - val_acc: 0.8755\n",
      "Epoch 3/30\n",
      "663/674 [============================>.] - ETA: 0s - loss: 0.2987 - acc: 0.8847WARNING:tensorflow:Can save best model only with val_accuracy available, skipping.\n",
      "674/674 [==============================] - 3s 4ms/step - loss: 0.2982 - acc: 0.8850 - val_loss: 0.2966 - val_acc: 0.8924\n",
      "Epoch 4/30\n",
      "670/674 [============================>.] - ETA: 0s - loss: 0.2775 - acc: 0.8924WARNING:tensorflow:Can save best model only with val_accuracy available, skipping.\n",
      "674/674 [==============================] - 3s 4ms/step - loss: 0.2775 - acc: 0.8923 - val_loss: 0.3033 - val_acc: 0.8848\n",
      "Epoch 5/30\n",
      "668/674 [============================>.] - ETA: 0s - loss: 0.2655 - acc: 0.8981WARNING:tensorflow:Can save best model only with val_accuracy available, skipping.\n",
      "674/674 [==============================] - 3s 4ms/step - loss: 0.2655 - acc: 0.8979 - val_loss: 0.2880 - val_acc: 0.8976\n",
      "Epoch 6/30\n",
      "674/674 [==============================] - ETA: 0s - loss: 0.2534 - acc: 0.9040WARNING:tensorflow:Can save best model only with val_accuracy available, skipping.\n",
      "674/674 [==============================] - 3s 4ms/step - loss: 0.2534 - acc: 0.9040 - val_loss: 0.2852 - val_acc: 0.8958\n",
      "Epoch 7/30\n",
      "663/674 [============================>.] - ETA: 0s - loss: 0.2412 - acc: 0.9090WARNING:tensorflow:Can save best model only with val_accuracy available, skipping.\n",
      "674/674 [==============================] - 3s 4ms/step - loss: 0.2420 - acc: 0.9086 - val_loss: 0.2915 - val_acc: 0.8935\n",
      "Epoch 8/30\n",
      "660/674 [============================>.] - ETA: 0s - loss: 0.2326 - acc: 0.9108WARNING:tensorflow:Can save best model only with val_accuracy available, skipping.\n",
      "674/674 [==============================] - 3s 4ms/step - loss: 0.2335 - acc: 0.9107 - val_loss: 0.2849 - val_acc: 0.8980\n",
      "Epoch 9/30\n",
      "662/674 [============================>.] - ETA: 0s - loss: 0.2222 - acc: 0.9159WARNING:tensorflow:Can save best model only with val_accuracy available, skipping.\n",
      "674/674 [==============================] - 3s 4ms/step - loss: 0.2221 - acc: 0.9161 - val_loss: 0.2981 - val_acc: 0.8956\n",
      "Epoch 10/30\n",
      "672/674 [============================>.] - ETA: 0s - loss: 0.2086 - acc: 0.9187WARNING:tensorflow:Can save best model only with val_accuracy available, skipping.\n",
      "674/674 [==============================] - 3s 4ms/step - loss: 0.2084 - acc: 0.9188 - val_loss: 0.3324 - val_acc: 0.8872\n",
      "Epoch 11/30\n",
      "660/674 [============================>.] - ETA: 0s - loss: 0.1970 - acc: 0.9267WARNING:tensorflow:Can save best model only with val_accuracy available, skipping.\n",
      "674/674 [==============================] - 3s 4ms/step - loss: 0.1970 - acc: 0.9266 - val_loss: 0.2943 - val_acc: 0.8967\n",
      "Epoch 12/30\n",
      "664/674 [============================>.] - ETA: 0s - loss: 0.1889 - acc: 0.9286WARNING:tensorflow:Can save best model only with val_accuracy available, skipping.\n",
      "674/674 [==============================] - 3s 4ms/step - loss: 0.1884 - acc: 0.9288 - val_loss: 0.3185 - val_acc: 0.8922\n",
      "Epoch 13/30\n",
      "662/674 [============================>.] - ETA: 0s - loss: 0.1733 - acc: 0.9343WARNING:tensorflow:Can save best model only with val_accuracy available, skipping.\n",
      "674/674 [==============================] - 3s 4ms/step - loss: 0.1734 - acc: 0.9343 - val_loss: 0.3081 - val_acc: 0.8915\n",
      "Epoch 14/30\n",
      "671/674 [============================>.] - ETA: 0s - loss: 0.1613 - acc: 0.9400WARNING:tensorflow:Can save best model only with val_accuracy available, skipping.\n",
      "674/674 [==============================] - 3s 4ms/step - loss: 0.1613 - acc: 0.9399 - val_loss: 0.3387 - val_acc: 0.8930\n",
      "Epoch 15/30\n",
      "674/674 [==============================] - ETA: 0s - loss: 0.1495 - acc: 0.9433WARNING:tensorflow:Can save best model only with val_accuracy available, skipping.\n",
      "674/674 [==============================] - 3s 4ms/step - loss: 0.1495 - acc: 0.9433 - val_loss: 0.3493 - val_acc: 0.8880\n",
      "Epoch 16/30\n",
      "662/674 [============================>.] - ETA: 0s - loss: 0.1364 - acc: 0.9490WARNING:tensorflow:Can save best model only with val_accuracy available, skipping.\n",
      "674/674 [==============================] - 3s 4ms/step - loss: 0.1373 - acc: 0.9486 - val_loss: 0.3745 - val_acc: 0.8861\n",
      "Epoch 17/30\n",
      "660/674 [============================>.] - ETA: 0s - loss: 0.1249 - acc: 0.9540WARNING:tensorflow:Can save best model only with val_accuracy available, skipping.\n",
      "674/674 [==============================] - 3s 4ms/step - loss: 0.1254 - acc: 0.9538 - val_loss: 0.3788 - val_acc: 0.8811\n",
      "Epoch 18/30\n",
      "672/674 [============================>.] - ETA: 0s - loss: 0.1136 - acc: 0.9579WARNING:tensorflow:Can save best model only with val_accuracy available, skipping.\n",
      "674/674 [==============================] - 3s 4ms/step - loss: 0.1140 - acc: 0.9579 - val_loss: 0.4159 - val_acc: 0.8824\n",
      "Epoch 19/30\n",
      "673/674 [============================>.] - ETA: 0s - loss: 0.1029 - acc: 0.9625WARNING:tensorflow:Can save best model only with val_accuracy available, skipping.\n",
      "674/674 [==============================] - 3s 4ms/step - loss: 0.1028 - acc: 0.9625 - val_loss: 0.4213 - val_acc: 0.8835\n",
      "Epoch 20/30\n",
      "668/674 [============================>.] - ETA: 0s - loss: 0.0983 - acc: 0.9644WARNING:tensorflow:Can save best model only with val_accuracy available, skipping.\n",
      "674/674 [==============================] - 3s 4ms/step - loss: 0.0982 - acc: 0.9645 - val_loss: 0.4378 - val_acc: 0.8779\n",
      "Epoch 21/30\n",
      "672/674 [============================>.] - ETA: 0s - loss: 0.0909 - acc: 0.9680WARNING:tensorflow:Can save best model only with val_accuracy available, skipping.\n",
      "674/674 [==============================] - 3s 4ms/step - loss: 0.0910 - acc: 0.9680 - val_loss: 0.4517 - val_acc: 0.8861\n",
      "Epoch 22/30\n",
      "665/674 [============================>.] - ETA: 0s - loss: 0.0803 - acc: 0.9706WARNING:tensorflow:Can save best model only with val_accuracy available, skipping.\n",
      "674/674 [==============================] - 3s 4ms/step - loss: 0.0805 - acc: 0.9706 - val_loss: 0.4815 - val_acc: 0.8826\n",
      "Epoch 23/30\n",
      "661/674 [============================>.] - ETA: 0s - loss: 0.0760 - acc: 0.9729WARNING:tensorflow:Can save best model only with val_accuracy available, skipping.\n",
      "674/674 [==============================] - 3s 4ms/step - loss: 0.0759 - acc: 0.9729 - val_loss: 0.4876 - val_acc: 0.8816\n",
      "Epoch 24/30\n",
      "664/674 [============================>.] - ETA: 0s - loss: 0.0728 - acc: 0.9744WARNING:tensorflow:Can save best model only with val_accuracy available, skipping.\n",
      "674/674 [==============================] - 3s 4ms/step - loss: 0.0728 - acc: 0.9744 - val_loss: 0.5050 - val_acc: 0.8768\n",
      "Epoch 25/30\n",
      "673/674 [============================>.] - ETA: 0s - loss: 0.0636 - acc: 0.9774WARNING:tensorflow:Can save best model only with val_accuracy available, skipping.\n",
      "674/674 [==============================] - 3s 4ms/step - loss: 0.0635 - acc: 0.9774 - val_loss: 0.5223 - val_acc: 0.8768\n",
      "Epoch 26/30\n",
      "660/674 [============================>.] - ETA: 0s - loss: 0.0610 - acc: 0.9789WARNING:tensorflow:Can save best model only with val_accuracy available, skipping.\n",
      "674/674 [==============================] - 3s 4ms/step - loss: 0.0614 - acc: 0.9787 - val_loss: 0.5498 - val_acc: 0.8772\n",
      "Epoch 27/30\n",
      "660/674 [============================>.] - ETA: 0s - loss: 0.0619 - acc: 0.9788WARNING:tensorflow:Can save best model only with val_accuracy available, skipping.\n",
      "674/674 [==============================] - 3s 4ms/step - loss: 0.0624 - acc: 0.9787 - val_loss: 0.6103 - val_acc: 0.8794\n",
      "Epoch 28/30\n",
      "673/674 [============================>.] - ETA: 0s - loss: 0.0588 - acc: 0.9775WARNING:tensorflow:Can save best model only with val_accuracy available, skipping.\n",
      "674/674 [==============================] - 3s 4ms/step - loss: 0.0588 - acc: 0.9775 - val_loss: 0.5737 - val_acc: 0.8800\n"
     ]
    },
    {
     "name": "stdout",
     "output_type": "stream",
     "text": [
      "Epoch 29/30\n",
      "660/674 [============================>.] - ETA: 0s - loss: 0.0512 - acc: 0.9830WARNING:tensorflow:Can save best model only with val_accuracy available, skipping.\n",
      "674/674 [==============================] - 3s 4ms/step - loss: 0.0513 - acc: 0.9829 - val_loss: 0.6421 - val_acc: 0.8770\n",
      "Epoch 30/30\n",
      "660/674 [============================>.] - ETA: 0s - loss: 0.0520 - acc: 0.9822WARNING:tensorflow:Can save best model only with val_accuracy available, skipping.\n",
      "674/674 [==============================] - 3s 4ms/step - loss: 0.0514 - acc: 0.9825 - val_loss: 0.6522 - val_acc: 0.8787\n"
     ]
    }
   ],
   "source": [
    "history_log = model3.fit(x_train, y_train, epochs=30, verbose=1, validation_data=(x_test, y_test), callbacks=[checkpoint])\n"
   ]
  },
  {
   "cell_type": "code",
   "execution_count": 23,
   "id": "de84a26f",
   "metadata": {},
   "outputs": [],
   "source": [
    "model3.save_weights('/home/nvekariy/signal_code/New_neural_code_SNR_2_h/F7.h5')\n"
   ]
  },
  {
   "cell_type": "code",
   "execution_count": 24,
   "id": "30fd3f17",
   "metadata": {},
   "outputs": [],
   "source": [
    "model3.load_weights('/home/nvekariy/signal_code/New_neural_code_SNR_2_h/F7.h5')\n"
   ]
  },
  {
   "cell_type": "code",
   "execution_count": 25,
   "id": "994f96a7",
   "metadata": {},
   "outputs": [
    {
     "name": "stdout",
     "output_type": "stream",
     "text": [
      "145/145 [==============================] - 0s 2ms/step\n"
     ]
    }
   ],
   "source": [
    "predictions = model3.predict(x_test)\n",
    "pred_arg = np.argmax(predictions, axis=1)"
   ]
  },
  {
   "cell_type": "code",
   "execution_count": 26,
   "id": "abb59028",
   "metadata": {},
   "outputs": [
    {
     "name": "stdout",
     "output_type": "stream",
     "text": [
      "cnf_matrix_2.0_70\n",
      "\n",
      "[[ 801    1    0   81]\n",
      " [   6  755  141   80]\n",
      " [   0  121  806    1]\n",
      " [  74   51    4 1696]]\n"
     ]
    }
   ],
   "source": [
    "from sklearn.metrics import confusion_matrix\n",
    "cnf_matrix=confusion_matrix(y_test,pred_arg)\n",
    "print(\"cnf_matrix_2.0_70\")\n",
    "print(\"\")\n",
    "print(cnf_matrix)"
   ]
  },
  {
   "cell_type": "code",
   "execution_count": 27,
   "id": "9f134881",
   "metadata": {},
   "outputs": [],
   "source": [
    "from sklearn.metrics import accuracy_score, recall_score,precision_score,roc_auc_score,roc_curve,f1_score\n"
   ]
  },
  {
   "cell_type": "code",
   "execution_count": 28,
   "id": "0f419b16",
   "metadata": {},
   "outputs": [
    {
     "name": "stdout",
     "output_type": "stream",
     "text": [
      "87.87353832828065\n",
      "86.94076615599569\n",
      "87.87353832828065\n",
      "87.78985925003981\n"
     ]
    }
   ],
   "source": [
    "print(accuracy_score(y_test,pred_arg)*100)\n",
    "print(f1_score(y_test,pred_arg,average='macro')*100)\n",
    "print(recall_score(y_test,pred_arg, average=\"weighted\")*100)\n",
    "print(precision_score(y_test,pred_arg, average=\"weighted\")*100)"
   ]
  },
  {
   "cell_type": "code",
   "execution_count": null,
   "id": "9a6122db",
   "metadata": {},
   "outputs": [],
   "source": []
  },
  {
   "cell_type": "code",
   "execution_count": null,
   "id": "90845a20",
   "metadata": {},
   "outputs": [],
   "source": []
  },
  {
   "cell_type": "code",
   "execution_count": null,
   "id": "868acb03",
   "metadata": {},
   "outputs": [],
   "source": []
  },
  {
   "cell_type": "code",
   "execution_count": null,
   "id": "a8cadd42",
   "metadata": {},
   "outputs": [],
   "source": []
  },
  {
   "cell_type": "code",
   "execution_count": null,
   "id": "9ba39972",
   "metadata": {},
   "outputs": [],
   "source": []
  }
 ],
 "metadata": {
  "anaconda-cloud": {},
  "kernelspec": {
   "display_name": "Python [conda env:root] *",
   "language": "python",
   "name": "conda-root-py"
  },
  "language_info": {
   "codemirror_mode": {
    "name": "ipython",
    "version": 3
   },
   "file_extension": ".py",
   "mimetype": "text/x-python",
   "name": "python",
   "nbconvert_exporter": "python",
   "pygments_lexer": "ipython3",
   "version": "3.9.12"
  }
 },
 "nbformat": 4,
 "nbformat_minor": 5
}
