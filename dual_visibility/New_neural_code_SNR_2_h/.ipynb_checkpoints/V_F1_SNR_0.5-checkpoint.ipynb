{
 "cells": [
  {
   "cell_type": "code",
   "execution_count": 1,
   "id": "9c4dc733",
   "metadata": {},
   "outputs": [
    {
     "name": "stdout",
     "output_type": "stream",
     "text": [
      "Loading PyIOmica 1.3.3 (https://github.com/gmiaslab/pyiomica by G. Mias Lab)\n"
     ]
    }
   ],
   "source": [
    "import numpy as np\n",
    "import os\n",
    "import glob\n",
    "import seaborn as sns\n",
    "import matplotlib.pyplot as plt\n",
    "from pyiomica_master import pyiomica as pio\n",
    "from pyiomica_master.pyiomica import visualizationFunctions\n",
    "from pyiomica_master.pyiomica import visibilityGraphCommunityDetection\n",
    "import matplotlib as mpl\n",
    "from sklearn.utils import shuffle\n",
    "from sklearn.model_selection import train_test_split\n",
    "\n",
    "from tqdm import tqdm\n",
    "%matplotlib inline"
   ]
  },
  {
   "cell_type": "code",
   "execution_count": 2,
   "id": "b297825b",
   "metadata": {},
   "outputs": [],
   "source": [
    "x_frame1_05 = np.genfromtxt('/home/nvekariy/signal_code/datasets/neural_4_class/x_frame1_2_seed.csv', delimiter=',')\n",
    "x_frame2_05 = np.genfromtxt('/home/nvekariy/signal_code/datasets/neural_4_class/x_frame2_2_seed.csv', delimiter=',')\n",
    "x_frame3_05 = np.genfromtxt('/home/nvekariy/signal_code/datasets/neural_4_class/x_frame3_2_seed.csv', delimiter=',')\n",
    "x_framen_05= np.genfromtxt('/home/nvekariy/signal_code/datasets/neural_4_class/x_frame_noise_2_seed.csv', delimiter=',')"
   ]
  },
  {
   "cell_type": "code",
   "execution_count": null,
   "id": "81f7372f",
   "metadata": {},
   "outputs": [],
   "source": []
  },
  {
   "cell_type": "code",
   "execution_count": 3,
   "id": "79eaf877",
   "metadata": {},
   "outputs": [],
   "source": [
    "x=np.concatenate((x_frame1_05,x_frame2_05,x_frame3_05,x_framen_05[:6000]),axis=0)\n",
    "y=np.concatenate((np.zeros(len(x_frame1_05)),np.zeros(len(x_frame2_05))+1,np.zeros(len(x_frame3_05))+2,np.zeros(len(x_framen_05[:6000]))+3),axis=0)"
   ]
  },
  {
   "cell_type": "code",
   "execution_count": 4,
   "id": "3ea7e902",
   "metadata": {},
   "outputs": [],
   "source": [
    "X, Y = shuffle(x,y, random_state=1)"
   ]
  },
  {
   "cell_type": "code",
   "execution_count": 5,
   "id": "b78a4e4f",
   "metadata": {},
   "outputs": [],
   "source": [
    "def calculate_adj(data):\n",
    "    temp1=[]\n",
    "    for p, i in enumerate(data):\n",
    "        #print(f'Converting ==> {p+1} \\r', end=\"\",flush=True)\n",
    "        vs_out = visibilityGraphCommunityDetection.createVisibilityGraph(i, range(len(i)), \"dual_natural\", weight='tan')\n",
    "        vs_out=np.asarray(vs_out)\n",
    "        temp1.append(vs_out)\n",
    "        \n",
    "    return temp1"
   ]
  },
  {
   "cell_type": "code",
   "execution_count": 6,
   "id": "0f432dd6",
   "metadata": {},
   "outputs": [
    {
     "name": "stdout",
     "output_type": "stream",
     "text": [
      "Number of CPU cores: 48\n"
     ]
    }
   ],
   "source": [
    "from multiprocessing import Pool\n",
    "import multiprocessing\n",
    "\n",
    "if __name__ == '__main__':\n",
    "    num_cores = multiprocessing.cpu_count()\n",
    "    print(\"Number of CPU cores:\", num_cores)"
   ]
  },
  {
   "cell_type": "code",
   "execution_count": 7,
   "id": "14587307",
   "metadata": {},
   "outputs": [
    {
     "name": "stdout",
     "output_type": "stream",
     "text": [
      "517\n"
     ]
    }
   ],
   "source": [
    "df=np.array_split(X, num_cores)\n",
    "print(len(df[0]))"
   ]
  },
  {
   "cell_type": "code",
   "execution_count": 8,
   "id": "c6423065",
   "metadata": {},
   "outputs": [],
   "source": [
    "with Pool(processes=num_cores) as pool:\n",
    "    results = pool.map(calculate_adj, df)\n",
    "\n",
    "pool.close()\n",
    "pool.join()"
   ]
  },
  {
   "cell_type": "code",
   "execution_count": 9,
   "id": "a34da891",
   "metadata": {},
   "outputs": [],
   "source": [
    "x_adj=[]\n",
    "for submatrix in results:\n",
    "    x_adj.extend(submatrix)"
   ]
  },
  {
   "cell_type": "code",
   "execution_count": 10,
   "id": "663f8024",
   "metadata": {},
   "outputs": [
    {
     "name": "stdout",
     "output_type": "stream",
     "text": [
      "24783\n"
     ]
    }
   ],
   "source": [
    "print(len(x_adj))"
   ]
  },
  {
   "cell_type": "code",
   "execution_count": 11,
   "id": "517065c8",
   "metadata": {},
   "outputs": [],
   "source": [
    "x_adj=np.array(x_adj)"
   ]
  },
  {
   "cell_type": "code",
   "execution_count": 12,
   "id": "79d3d717",
   "metadata": {},
   "outputs": [],
   "source": [
    "def graph_index_complexity(matrix):\n",
    "    N = len(matrix) # Number of nodes\n",
    "    E = np.sum(matrix > 0) / 2 # Number of edges (since matrix is symmetric for undirected graphs)\n",
    "    \n",
    "    if N == 0 or E == 0:\n",
    "        return 0\n",
    "    \n",
    "    GIC = (E / N) * np.log(N)\n",
    "    return GIC"
   ]
  },
  {
   "cell_type": "code",
   "execution_count": 13,
   "id": "fe9d74c9",
   "metadata": {},
   "outputs": [],
   "source": [
    "import networkx as nx\n",
    "def runall(data):\n",
    "    temp1=[]\n",
    "    for i in data:\n",
    "        G = nx.from_numpy_array(i, parallel_edges=False)\n",
    "        gic=[graph_index_complexity(i)]\n",
    "        cpl=[nx.average_shortest_path_length(G)]\n",
    "        ge=[nx.global_efficiency(G)]\n",
    "        le=[nx.local_efficiency(G)]\n",
    "        ac=[nx.degree_assortativity_coefficient(G)]\n",
    "        cc=list(nx.clustering(G).values())\n",
    "        temp1.append(gic+cpl+ge+le+ac+cc) #+cpl+ge+le+ac+cc\n",
    "    return temp1"
   ]
  },
  {
   "cell_type": "code",
   "execution_count": 14,
   "id": "6c582fda",
   "metadata": {},
   "outputs": [
    {
     "name": "stdout",
     "output_type": "stream",
     "text": [
      "Number of CPU cores: 48\n",
      "517\n"
     ]
    }
   ],
   "source": [
    "from multiprocessing import Pool\n",
    "import multiprocessing\n",
    "\n",
    "if __name__ == '__main__':\n",
    "    num_cores = multiprocessing.cpu_count()\n",
    "    print(\"Number of CPU cores:\", num_cores)\n",
    "\n",
    "\n",
    "df1=np.array_split(x_adj[:], num_cores)\n",
    "\n",
    "\n",
    "print(len(df[0]))\n",
    "\n",
    "\n"
   ]
  },
  {
   "cell_type": "code",
   "execution_count": 15,
   "id": "489e53ab",
   "metadata": {},
   "outputs": [
    {
     "name": "stdout",
     "output_type": "stream",
     "text": [
      "--- 26.64883017539978 seconds ---\n"
     ]
    }
   ],
   "source": [
    "\n",
    "import time\n",
    "start_time = time.time()\n",
    "with Pool(processes=num_cores) as pool1:\n",
    "    results1 = pool1.map(runall, df1)\n",
    "\n",
    "pool1.close()\n",
    "pool1.join()\n",
    "\n",
    "print(\"--- %s seconds ---\" % (time.time() - start_time))\n"
   ]
  },
  {
   "cell_type": "code",
   "execution_count": 16,
   "id": "4bd5c260",
   "metadata": {},
   "outputs": [],
   "source": [
    "x_g=[]\n",
    "for submatrix in results1:\n",
    "    x_g.extend(submatrix)"
   ]
  },
  {
   "cell_type": "code",
   "execution_count": 17,
   "id": "e7087c73",
   "metadata": {},
   "outputs": [],
   "source": [
    "x_g=np.array(x_g)\n"
   ]
  },
  {
   "cell_type": "code",
   "execution_count": 18,
   "id": "6a1404fa",
   "metadata": {},
   "outputs": [
    {
     "name": "stdout",
     "output_type": "stream",
     "text": [
      "(24783, 61)\n"
     ]
    }
   ],
   "source": [
    "print(x_g.shape)"
   ]
  },
  {
   "cell_type": "code",
   "execution_count": 19,
   "id": "584b0d16",
   "metadata": {},
   "outputs": [],
   "source": [
    "x_train, x_temp, y_train, y_temp = train_test_split(x_g, Y, test_size=0.30, random_state=42)\n",
    "x_val,x_test,y_val,y_test=train_test_split(x_temp,y_temp,test_size=0.50, random_state=42)"
   ]
  },
  {
   "cell_type": "code",
   "execution_count": 20,
   "id": "87ff4de7",
   "metadata": {},
   "outputs": [
    {
     "name": "stdout",
     "output_type": "stream",
     "text": [
      "(17348, 61)\n",
      "(3717, 61)\n",
      "(3718, 61)\n"
     ]
    }
   ],
   "source": [
    "print(x_train.shape)\n",
    "print(x_val.shape)\n",
    "print(x_test.shape)"
   ]
  },
  {
   "cell_type": "code",
   "execution_count": 21,
   "id": "5ee715d8",
   "metadata": {},
   "outputs": [
    {
     "name": "stderr",
     "output_type": "stream",
     "text": [
      "2023-08-13 10:23:49.113646: I tensorflow/core/platform/cpu_feature_guard.cc:193] This TensorFlow binary is optimized with oneAPI Deep Neural Network Library (oneDNN) to use the following CPU instructions in performance-critical operations:  AVX2 AVX512F AVX512_VNNI FMA\n",
      "To enable them in other operations, rebuild TensorFlow with the appropriate compiler flags.\n",
      "2023-08-13 10:23:51.017350: I tensorflow/core/util/port.cc:104] oneDNN custom operations are on. You may see slightly different numerical results due to floating-point round-off errors from different computation orders. To turn them off, set the environment variable `TF_ENABLE_ONEDNN_OPTS=0`.\n",
      "2023-08-13 10:23:52.189015: W tensorflow/compiler/xla/stream_executor/platform/default/dso_loader.cc:64] Could not load dynamic library 'libcudart.so.11.0'; dlerror: libcudart.so.11.0: cannot open shared object file: No such file or directory; LD_LIBRARY_PATH: /cm/shared/apps/slurm/18.08.9/lib64/slurm:/cm/shared/apps/slurm/18.08.9/lib64\n",
      "2023-08-13 10:23:52.189073: I tensorflow/compiler/xla/stream_executor/cuda/cudart_stub.cc:29] Ignore above cudart dlerror if you do not have a GPU set up on your machine.\n",
      "2023-08-13 10:24:05.834679: W tensorflow/compiler/xla/stream_executor/platform/default/dso_loader.cc:64] Could not load dynamic library 'libnvinfer.so.7'; dlerror: libnvinfer.so.7: cannot open shared object file: No such file or directory; LD_LIBRARY_PATH: /cm/shared/apps/slurm/18.08.9/lib64/slurm:/cm/shared/apps/slurm/18.08.9/lib64\n",
      "2023-08-13 10:24:05.834803: W tensorflow/compiler/xla/stream_executor/platform/default/dso_loader.cc:64] Could not load dynamic library 'libnvinfer_plugin.so.7'; dlerror: libnvinfer_plugin.so.7: cannot open shared object file: No such file or directory; LD_LIBRARY_PATH: /cm/shared/apps/slurm/18.08.9/lib64/slurm:/cm/shared/apps/slurm/18.08.9/lib64\n",
      "2023-08-13 10:24:05.834811: W tensorflow/compiler/tf2tensorrt/utils/py_utils.cc:38] TF-TRT Warning: Cannot dlopen some TensorRT libraries. If you would like to use Nvidia GPU with TensorRT, please make sure the missing libraries mentioned above are installed properly.\n"
     ]
    }
   ],
   "source": [
    "import tensorflow as tf\n"
   ]
  },
  {
   "cell_type": "code",
   "execution_count": 22,
   "id": "a51d8943",
   "metadata": {},
   "outputs": [
    {
     "name": "stderr",
     "output_type": "stream",
     "text": [
      "2023-08-13 10:24:19.980169: W tensorflow/compiler/xla/stream_executor/platform/default/dso_loader.cc:64] Could not load dynamic library 'libcuda.so.1'; dlerror: libcuda.so.1: cannot open shared object file: No such file or directory; LD_LIBRARY_PATH: /cm/shared/apps/slurm/18.08.9/lib64/slurm:/cm/shared/apps/slurm/18.08.9/lib64\n",
      "2023-08-13 10:24:19.986499: W tensorflow/compiler/xla/stream_executor/cuda/cuda_driver.cc:265] failed call to cuInit: UNKNOWN ERROR (303)\n",
      "2023-08-13 10:24:19.986535: I tensorflow/compiler/xla/stream_executor/cuda/cuda_diagnostics.cc:156] kernel driver does not appear to be running on this host (c0193): /proc/driver/nvidia/version does not exist\n",
      "2023-08-13 10:24:20.056036: I tensorflow/core/platform/cpu_feature_guard.cc:193] This TensorFlow binary is optimized with oneAPI Deep Neural Network Library (oneDNN) to use the following CPU instructions in performance-critical operations:  AVX2 AVX512F AVX512_VNNI FMA\n",
      "To enable them in other operations, rebuild TensorFlow with the appropriate compiler flags.\n"
     ]
    }
   ],
   "source": [
    "input_shape = (x_train.shape[1],1)\n",
    "num_classes = 4\n",
    "model3 = tf.keras.models.Sequential()\n",
    "model3.add(tf.keras.layers.Conv1D(filters= 32, kernel_size=3, activation='relu',padding='same',input_shape= input_shape))\n",
    "model3.add(tf.keras.layers.MaxPooling1D(pool_size=2,strides=None,padding='valid'))\n",
    "\n",
    "model3.add(tf.keras.layers.Conv1D(filters=32, kernel_size=3,padding='same',activation='relu'))\n",
    "model3.add(tf.keras.layers.MaxPooling1D(pool_size=2,strides=None,padding='valid'))\n",
    "\n",
    "# model3.add(tf.keras.layers.Conv1D(filters=32, kernel_size=3,padding='same',activation='relu'))\n",
    "# model3.add(tf.keras.layers.MaxPooling1D(pool_size=2,strides=None,padding='valid'))\n",
    "# model3.add(tf.keras.layers.Conv1D(filters=32, kernel_size=3,padding='same',activation='relu'))\n",
    "# model3.add(tf.keras.layers.MaxPooling1D(pool_size=2,strides=None,padding='valid'))\n",
    "# model3.add(tf.keras.layers.Conv1D(filters=32, kernel_size=3,padding='same',activation='relu'))\n",
    "# model3.add(tf.keras.layers.MaxPooling1D(pool_size=2,strides=None,padding='valid'))\n",
    "# model3.add(tf.keras.layers.Conv1D(filters=32, kernel_size=3,padding='same',activation='relu'))\n",
    "# model3.add(tf.keras.layers.MaxPooling1D(pool_size=2,strides=None,padding='valid'))\n",
    "model3.add(tf.keras.layers.Flatten())\n",
    "\n",
    "model3.add(tf.keras.layers.Dense(100, activation='relu'))\n",
    "model3.add(tf.keras.layers.Dropout(0.1))\n",
    "model3.add(tf.keras.layers.Dense(100, activation='relu'))\n",
    "model3.add(tf.keras.layers.Dense(num_classes, activation='softmax'))"
   ]
  },
  {
   "cell_type": "code",
   "execution_count": 23,
   "id": "09f1d97c",
   "metadata": {},
   "outputs": [
    {
     "name": "stdout",
     "output_type": "stream",
     "text": [
      "Model: \"sequential\"\n",
      "_________________________________________________________________\n",
      " Layer (type)                Output Shape              Param #   \n",
      "=================================================================\n",
      " conv1d (Conv1D)             (None, 61, 32)            128       \n",
      "                                                                 \n",
      " max_pooling1d (MaxPooling1D  (None, 30, 32)           0         \n",
      " )                                                               \n",
      "                                                                 \n",
      " conv1d_1 (Conv1D)           (None, 30, 32)            3104      \n",
      "                                                                 \n",
      " max_pooling1d_1 (MaxPooling  (None, 15, 32)           0         \n",
      " 1D)                                                             \n",
      "                                                                 \n",
      " flatten (Flatten)           (None, 480)               0         \n",
      "                                                                 \n",
      " dense (Dense)               (None, 100)               48100     \n",
      "                                                                 \n",
      " dropout (Dropout)           (None, 100)               0         \n",
      "                                                                 \n",
      " dense_1 (Dense)             (None, 100)               10100     \n",
      "                                                                 \n",
      " dense_2 (Dense)             (None, 4)                 404       \n",
      "                                                                 \n",
      "=================================================================\n",
      "Total params: 61,836\n",
      "Trainable params: 61,836\n",
      "Non-trainable params: 0\n",
      "_________________________________________________________________\n"
     ]
    }
   ],
   "source": [
    "model3.summary()"
   ]
  },
  {
   "cell_type": "code",
   "execution_count": 24,
   "id": "5691f34f",
   "metadata": {},
   "outputs": [],
   "source": [
    "model3.compile(loss='SparseCategoricalCrossentropy', optimizer='Adam', metrics=['acc'])\n"
   ]
  },
  {
   "cell_type": "code",
   "execution_count": 25,
   "id": "e2276cd0",
   "metadata": {},
   "outputs": [],
   "source": [
    "from tensorflow.keras.callbacks import ModelCheckpoint\n",
    "from tensorflow.keras.models import load_model\n",
    "\n",
    "\n",
    "\n",
    "checkpoint = ModelCheckpoint('F1.h5', monitor='val_accuracy', verbose=1, save_best_only=True, mode='max')\n"
   ]
  },
  {
   "cell_type": "code",
   "execution_count": 26,
   "id": "43bf0926",
   "metadata": {
    "scrolled": true
   },
   "outputs": [
    {
     "name": "stdout",
     "output_type": "stream",
     "text": [
      "Epoch 1/30\n",
      "533/543 [============================>.] - ETA: 0s - loss: 0.7062 - acc: 0.6877WARNING:tensorflow:Can save best model only with val_accuracy available, skipping.\n",
      "543/543 [==============================] - 3s 4ms/step - loss: 0.7031 - acc: 0.6893 - val_loss: 0.4865 - val_acc: 0.7996\n",
      "Epoch 2/30\n",
      "533/543 [============================>.] - ETA: 0s - loss: 0.4807 - acc: 0.7963WARNING:tensorflow:Can save best model only with val_accuracy available, skipping.\n",
      "543/543 [==============================] - 2s 3ms/step - loss: 0.4801 - acc: 0.7967 - val_loss: 0.4627 - val_acc: 0.8026\n",
      "Epoch 3/30\n",
      "540/543 [============================>.] - ETA: 0s - loss: 0.4511 - acc: 0.8103WARNING:tensorflow:Can save best model only with val_accuracy available, skipping.\n",
      "543/543 [==============================] - 2s 3ms/step - loss: 0.4506 - acc: 0.8104 - val_loss: 0.4601 - val_acc: 0.8085\n",
      "Epoch 4/30\n",
      "530/543 [============================>.] - ETA: 0s - loss: 0.4390 - acc: 0.8166WARNING:tensorflow:Can save best model only with val_accuracy available, skipping.\n",
      "543/543 [==============================] - 2s 3ms/step - loss: 0.4390 - acc: 0.8168 - val_loss: 0.4261 - val_acc: 0.8203\n",
      "Epoch 5/30\n",
      "539/543 [============================>.] - ETA: 0s - loss: 0.4329 - acc: 0.8184WARNING:tensorflow:Can save best model only with val_accuracy available, skipping.\n",
      "543/543 [==============================] - 2s 3ms/step - loss: 0.4331 - acc: 0.8183 - val_loss: 0.4486 - val_acc: 0.8141\n",
      "Epoch 6/30\n",
      "538/543 [============================>.] - ETA: 0s - loss: 0.4254 - acc: 0.8190WARNING:tensorflow:Can save best model only with val_accuracy available, skipping.\n",
      "543/543 [==============================] - 2s 3ms/step - loss: 0.4255 - acc: 0.8191 - val_loss: 0.4430 - val_acc: 0.8131\n",
      "Epoch 7/30\n",
      "532/543 [============================>.] - ETA: 0s - loss: 0.4181 - acc: 0.8237WARNING:tensorflow:Can save best model only with val_accuracy available, skipping.\n",
      "543/543 [==============================] - 2s 3ms/step - loss: 0.4181 - acc: 0.8240 - val_loss: 0.4501 - val_acc: 0.8125\n",
      "Epoch 8/30\n",
      "540/543 [============================>.] - ETA: 0s - loss: 0.4136 - acc: 0.8249WARNING:tensorflow:Can save best model only with val_accuracy available, skipping.\n",
      "543/543 [==============================] - 2s 3ms/step - loss: 0.4130 - acc: 0.8251 - val_loss: 0.4204 - val_acc: 0.8244\n",
      "Epoch 9/30\n",
      "529/543 [============================>.] - ETA: 0s - loss: 0.4060 - acc: 0.8321WARNING:tensorflow:Can save best model only with val_accuracy available, skipping.\n",
      "543/543 [==============================] - 2s 3ms/step - loss: 0.4055 - acc: 0.8324 - val_loss: 0.4245 - val_acc: 0.8209\n",
      "Epoch 10/30\n",
      "534/543 [============================>.] - ETA: 0s - loss: 0.4019 - acc: 0.8319WARNING:tensorflow:Can save best model only with val_accuracy available, skipping.\n",
      "543/543 [==============================] - 2s 3ms/step - loss: 0.4025 - acc: 0.8315 - val_loss: 0.4371 - val_acc: 0.8112\n",
      "Epoch 11/30\n",
      "530/543 [============================>.] - ETA: 0s - loss: 0.3975 - acc: 0.8338WARNING:tensorflow:Can save best model only with val_accuracy available, skipping.\n",
      "543/543 [==============================] - 2s 3ms/step - loss: 0.3975 - acc: 0.8336 - val_loss: 0.4239 - val_acc: 0.8238\n",
      "Epoch 12/30\n",
      "529/543 [============================>.] - ETA: 0s - loss: 0.3907 - acc: 0.8367WARNING:tensorflow:Can save best model only with val_accuracy available, skipping.\n",
      "543/543 [==============================] - 2s 3ms/step - loss: 0.3910 - acc: 0.8364 - val_loss: 0.4201 - val_acc: 0.8236\n",
      "Epoch 13/30\n",
      "539/543 [============================>.] - ETA: 0s - loss: 0.3907 - acc: 0.8348WARNING:tensorflow:Can save best model only with val_accuracy available, skipping.\n",
      "543/543 [==============================] - 2s 3ms/step - loss: 0.3902 - acc: 0.8351 - val_loss: 0.4272 - val_acc: 0.8228\n",
      "Epoch 14/30\n",
      "529/543 [============================>.] - ETA: 0s - loss: 0.3826 - acc: 0.8394WARNING:tensorflow:Can save best model only with val_accuracy available, skipping.\n",
      "543/543 [==============================] - 2s 3ms/step - loss: 0.3822 - acc: 0.8391 - val_loss: 0.4282 - val_acc: 0.8201\n",
      "Epoch 15/30\n",
      "532/543 [============================>.] - ETA: 0s - loss: 0.3783 - acc: 0.8430WARNING:tensorflow:Can save best model only with val_accuracy available, skipping.\n",
      "543/543 [==============================] - 2s 3ms/step - loss: 0.3770 - acc: 0.8435 - val_loss: 0.4427 - val_acc: 0.8104\n",
      "Epoch 16/30\n",
      "532/543 [============================>.] - ETA: 0s - loss: 0.3748 - acc: 0.8426WARNING:tensorflow:Can save best model only with val_accuracy available, skipping.\n",
      "543/543 [==============================] - 2s 3ms/step - loss: 0.3739 - acc: 0.8434 - val_loss: 0.4333 - val_acc: 0.8209\n",
      "Epoch 17/30\n",
      "532/543 [============================>.] - ETA: 0s - loss: 0.3664 - acc: 0.8484WARNING:tensorflow:Can save best model only with val_accuracy available, skipping.\n",
      "543/543 [==============================] - 2s 3ms/step - loss: 0.3663 - acc: 0.8482 - val_loss: 0.4291 - val_acc: 0.8206\n",
      "Epoch 18/30\n",
      "534/543 [============================>.] - ETA: 0s - loss: 0.3628 - acc: 0.8502WARNING:tensorflow:Can save best model only with val_accuracy available, skipping.\n",
      "543/543 [==============================] - 2s 3ms/step - loss: 0.3621 - acc: 0.8502 - val_loss: 0.4285 - val_acc: 0.8257\n",
      "Epoch 19/30\n",
      "534/543 [============================>.] - ETA: 0s - loss: 0.3548 - acc: 0.8523WARNING:tensorflow:Can save best model only with val_accuracy available, skipping.\n",
      "543/543 [==============================] - 2s 3ms/step - loss: 0.3548 - acc: 0.8524 - val_loss: 0.4288 - val_acc: 0.8241\n",
      "Epoch 20/30\n",
      "532/543 [============================>.] - ETA: 0s - loss: 0.3509 - acc: 0.8546WARNING:tensorflow:Can save best model only with val_accuracy available, skipping.\n",
      "543/543 [==============================] - 2s 3ms/step - loss: 0.3517 - acc: 0.8543 - val_loss: 0.4409 - val_acc: 0.8182\n",
      "Epoch 21/30\n",
      "536/543 [============================>.] - ETA: 0s - loss: 0.3426 - acc: 0.8578WARNING:tensorflow:Can save best model only with val_accuracy available, skipping.\n",
      "543/543 [==============================] - 2s 3ms/step - loss: 0.3440 - acc: 0.8573 - val_loss: 0.4363 - val_acc: 0.8158\n",
      "Epoch 22/30\n",
      "534/543 [============================>.] - ETA: 0s - loss: 0.3360 - acc: 0.8607WARNING:tensorflow:Can save best model only with val_accuracy available, skipping.\n",
      "543/543 [==============================] - 2s 3ms/step - loss: 0.3357 - acc: 0.8606 - val_loss: 0.4496 - val_acc: 0.8136\n",
      "Epoch 23/30\n",
      "531/543 [============================>.] - ETA: 0s - loss: 0.3307 - acc: 0.8625WARNING:tensorflow:Can save best model only with val_accuracy available, skipping.\n",
      "543/543 [==============================] - 2s 3ms/step - loss: 0.3305 - acc: 0.8625 - val_loss: 0.4626 - val_acc: 0.8179\n",
      "Epoch 24/30\n",
      "534/543 [============================>.] - ETA: 0s - loss: 0.3273 - acc: 0.8649WARNING:tensorflow:Can save best model only with val_accuracy available, skipping.\n",
      "543/543 [==============================] - 2s 3ms/step - loss: 0.3274 - acc: 0.8651 - val_loss: 0.4491 - val_acc: 0.8152\n",
      "Epoch 25/30\n",
      "538/543 [============================>.] - ETA: 0s - loss: 0.3174 - acc: 0.8695WARNING:tensorflow:Can save best model only with val_accuracy available, skipping.\n",
      "543/543 [==============================] - 2s 3ms/step - loss: 0.3173 - acc: 0.8700 - val_loss: 0.4654 - val_acc: 0.8174\n",
      "Epoch 26/30\n",
      "536/543 [============================>.] - ETA: 0s - loss: 0.3132 - acc: 0.8726WARNING:tensorflow:Can save best model only with val_accuracy available, skipping.\n",
      "543/543 [==============================] - 2s 3ms/step - loss: 0.3129 - acc: 0.8727 - val_loss: 0.4657 - val_acc: 0.8139\n",
      "Epoch 27/30\n",
      "536/543 [============================>.] - ETA: 0s - loss: 0.3039 - acc: 0.8785WARNING:tensorflow:Can save best model only with val_accuracy available, skipping.\n",
      "543/543 [==============================] - 2s 3ms/step - loss: 0.3042 - acc: 0.8783 - val_loss: 0.5169 - val_acc: 0.7924\n",
      "Epoch 28/30\n",
      "535/543 [============================>.] - ETA: 0s - loss: 0.3003 - acc: 0.8777WARNING:tensorflow:Can save best model only with val_accuracy available, skipping.\n",
      "543/543 [==============================] - 2s 3ms/step - loss: 0.3001 - acc: 0.8779 - val_loss: 0.4750 - val_acc: 0.8077\n"
     ]
    },
    {
     "name": "stdout",
     "output_type": "stream",
     "text": [
      "Epoch 29/30\n",
      "537/543 [============================>.] - ETA: 0s - loss: 0.2876 - acc: 0.8846WARNING:tensorflow:Can save best model only with val_accuracy available, skipping.\n",
      "543/543 [==============================] - 2s 3ms/step - loss: 0.2884 - acc: 0.8846 - val_loss: 0.5050 - val_acc: 0.8074\n",
      "Epoch 30/30\n",
      "534/543 [============================>.] - ETA: 0s - loss: 0.2846 - acc: 0.8863WARNING:tensorflow:Can save best model only with val_accuracy available, skipping.\n",
      "543/543 [==============================] - 2s 3ms/step - loss: 0.2843 - acc: 0.8862 - val_loss: 0.5117 - val_acc: 0.8101\n"
     ]
    }
   ],
   "source": [
    "history_log = model3.fit(x_train, y_train, epochs=30, verbose=1, validation_data=(x_test, y_test), callbacks=[checkpoint])\n"
   ]
  },
  {
   "cell_type": "code",
   "execution_count": 27,
   "id": "de84a26f",
   "metadata": {},
   "outputs": [],
   "source": [
    "model3.save_weights('/home/nvekariy/signal_code/New_neural_code_SNR_2_h/F1.h5')\n"
   ]
  },
  {
   "cell_type": "code",
   "execution_count": 28,
   "id": "30fd3f17",
   "metadata": {},
   "outputs": [],
   "source": [
    "model3.load_weights('/home/nvekariy/signal_code/New_neural_code_SNR_2_h/F1.h5')\n"
   ]
  },
  {
   "cell_type": "code",
   "execution_count": 29,
   "id": "994f96a7",
   "metadata": {},
   "outputs": [
    {
     "name": "stdout",
     "output_type": "stream",
     "text": [
      "117/117 [==============================] - 0s 1ms/step\n"
     ]
    }
   ],
   "source": [
    "predictions = model3.predict(x_test)\n",
    "pred_arg = np.argmax(predictions, axis=1)"
   ]
  },
  {
   "cell_type": "code",
   "execution_count": 30,
   "id": "abb59028",
   "metadata": {},
   "outputs": [
    {
     "name": "stdout",
     "output_type": "stream",
     "text": [
      "cnf_matrix_2.0_70\n",
      "\n",
      "[[704   3   2 110]\n",
      " [  1 721 194  85]\n",
      " [  4 161 846   7]\n",
      " [ 62  74   3 741]]\n"
     ]
    }
   ],
   "source": [
    "from sklearn.metrics import confusion_matrix\n",
    "cnf_matrix=confusion_matrix(y_test,pred_arg)\n",
    "print(\"cnf_matrix_2.0_70\")\n",
    "print(\"\")\n",
    "print(cnf_matrix)"
   ]
  },
  {
   "cell_type": "code",
   "execution_count": 31,
   "id": "9f134881",
   "metadata": {},
   "outputs": [],
   "source": [
    "from sklearn.metrics import accuracy_score, recall_score,precision_score,roc_auc_score,roc_curve,f1_score\n"
   ]
  },
  {
   "cell_type": "code",
   "execution_count": 32,
   "id": "0f419b16",
   "metadata": {},
   "outputs": [
    {
     "name": "stdout",
     "output_type": "stream",
     "text": [
      "81.01129639591178\n",
      "81.35898448379137\n",
      "81.01129639591178\n",
      "81.12001858257403\n"
     ]
    }
   ],
   "source": [
    "print(accuracy_score(y_test,pred_arg)*100)\n",
    "print(f1_score(y_test,pred_arg,average='macro')*100)\n",
    "print(recall_score(y_test,pred_arg, average=\"weighted\")*100)\n",
    "print(precision_score(y_test,pred_arg, average=\"weighted\")*100)"
   ]
  },
  {
   "cell_type": "code",
   "execution_count": null,
   "id": "9a6122db",
   "metadata": {},
   "outputs": [],
   "source": []
  },
  {
   "cell_type": "code",
   "execution_count": null,
   "id": "90845a20",
   "metadata": {},
   "outputs": [],
   "source": []
  },
  {
   "cell_type": "code",
   "execution_count": null,
   "id": "dd00c7be",
   "metadata": {},
   "outputs": [],
   "source": []
  }
 ],
 "metadata": {
  "anaconda-cloud": {},
  "kernelspec": {
   "display_name": "Python [conda env:root] *",
   "language": "python",
   "name": "conda-root-py"
  },
  "language_info": {
   "codemirror_mode": {
    "name": "ipython",
    "version": 3
   },
   "file_extension": ".py",
   "mimetype": "text/x-python",
   "name": "python",
   "nbconvert_exporter": "python",
   "pygments_lexer": "ipython3",
   "version": "3.9.12"
  }
 },
 "nbformat": 4,
 "nbformat_minor": 5
}
