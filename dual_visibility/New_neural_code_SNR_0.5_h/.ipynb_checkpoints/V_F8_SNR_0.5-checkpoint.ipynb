{
 "cells": [
  {
   "cell_type": "code",
   "execution_count": 1,
   "id": "89e29f03",
   "metadata": {},
   "outputs": [
    {
     "name": "stdout",
     "output_type": "stream",
     "text": [
      "Loading PyIOmica 1.3.3 (https://github.com/gmiaslab/pyiomica by G. Mias Lab)\n"
     ]
    }
   ],
   "source": [
    "import numpy as np\n",
    "import os\n",
    "import glob\n",
    "import seaborn as sns\n",
    "import matplotlib.pyplot as plt\n",
    "from pyiomica_master import pyiomica as pio\n",
    "from pyiomica_master.pyiomica import visualizationFunctions\n",
    "from pyiomica_master.pyiomica import visibilityGraphCommunityDetection\n",
    "import matplotlib as mpl\n",
    "from sklearn.utils import shuffle\n",
    "from sklearn.model_selection import train_test_split\n",
    "\n",
    "from tqdm import tqdm\n",
    "%matplotlib inline"
   ]
  },
  {
   "cell_type": "code",
   "execution_count": 2,
   "id": "b297825b",
   "metadata": {},
   "outputs": [],
   "source": [
    "x_frame1_05 = np.genfromtxt('/home/nvekariy/signal_code/datasets/neural_4_class/x_frame1_0.5_seed.csv', delimiter=',')\n",
    "x_frame2_05 = np.genfromtxt('/home/nvekariy/signal_code/datasets/neural_4_class/x_frame2_0.5_seed.csv', delimiter=',')\n",
    "x_frame3_05 = np.genfromtxt('/home/nvekariy/signal_code/datasets/neural_4_class/x_frame3_0.5_seed.csv', delimiter=',')\n",
    "x_framen_05= np.genfromtxt('/home/nvekariy/signal_code/datasets/neural_4_class/x_frame_noise_0.5_seed.csv', delimiter=',')"
   ]
  },
  {
   "cell_type": "code",
   "execution_count": null,
   "id": "c61feafd",
   "metadata": {},
   "outputs": [],
   "source": []
  },
  {
   "cell_type": "code",
   "execution_count": 3,
   "id": "112c6fdf",
   "metadata": {},
   "outputs": [],
   "source": [
    "x=np.concatenate((x_frame1_05,x_frame2_05,x_frame3_05,x_framen_05),axis=0)\n",
    "y=np.concatenate((np.zeros(len(x_frame1_05)),np.zeros(len(x_frame2_05))+1,np.zeros(len(x_frame3_05))+2,np.zeros(len(x_framen_05))+3),axis=0)"
   ]
  },
  {
   "cell_type": "code",
   "execution_count": 4,
   "id": "cfcfbda9",
   "metadata": {},
   "outputs": [],
   "source": [
    "X, Y = shuffle(x,y, random_state=1)"
   ]
  },
  {
   "cell_type": "code",
   "execution_count": 5,
   "id": "7898816c",
   "metadata": {},
   "outputs": [],
   "source": [
    "def calculate_adj(data):\n",
    "    temp1=[]\n",
    "    for p, i in enumerate(data):\n",
    "        #print(f'Converting ==> {p+1} \\r', end=\"\",flush=True)\n",
    "        vs_out = visibilityGraphCommunityDetection.createVisibilityGraph(i, range(len(i)), \"dual_natural\", weight='tan')\n",
    "        temp1.append(vs_out)\n",
    "        \n",
    "    return temp1"
   ]
  },
  {
   "cell_type": "code",
   "execution_count": 6,
   "id": "5786a500",
   "metadata": {
    "scrolled": true
   },
   "outputs": [
    {
     "name": "stdout",
     "output_type": "stream",
     "text": [
      "Number of CPU cores: 48\n"
     ]
    }
   ],
   "source": [
    "from multiprocessing import Pool\n",
    "import multiprocessing\n",
    "\n",
    "if __name__ == '__main__':\n",
    "    num_cores = multiprocessing.cpu_count()\n",
    "    print(\"Number of CPU cores:\", num_cores)"
   ]
  },
  {
   "cell_type": "code",
   "execution_count": 7,
   "id": "2f35de61",
   "metadata": {},
   "outputs": [
    {
     "name": "stdout",
     "output_type": "stream",
     "text": [
      "659\n"
     ]
    }
   ],
   "source": [
    "df=np.array_split(X, num_cores)\n",
    "print(len(df[0]))"
   ]
  },
  {
   "cell_type": "code",
   "execution_count": 8,
   "id": "682fc94e",
   "metadata": {},
   "outputs": [],
   "source": [
    "with Pool(processes=num_cores) as pool:\n",
    "    results = pool.map(calculate_adj, df)\n",
    "\n",
    "pool.close()\n",
    "pool.join()"
   ]
  },
  {
   "cell_type": "code",
   "execution_count": 9,
   "id": "37086d28",
   "metadata": {},
   "outputs": [],
   "source": [
    "x_adj=[]\n",
    "for submatrix in results:\n",
    "    x_adj.extend(submatrix)"
   ]
  },
  {
   "cell_type": "code",
   "execution_count": 10,
   "id": "d8730cf6",
   "metadata": {},
   "outputs": [],
   "source": [
    "x_adj=np.array(x_adj)"
   ]
  },
  {
   "cell_type": "code",
   "execution_count": 11,
   "id": "c8699c57",
   "metadata": {},
   "outputs": [],
   "source": [
    "def calculate_g(data):\n",
    "    temp2=[]\n",
    "    for vs_out in data:\n",
    "        a = np.sum(vs_out, axis=0).reshape(-1, 1)\n",
    "        b = np.sum(vs_out != 0, axis=1).reshape(-1, 1)\n",
    "        temp2.append(np.concatenate((a, b), axis=1))\n",
    "        \n",
    "    return temp2"
   ]
  },
  {
   "cell_type": "code",
   "execution_count": 12,
   "id": "6c582fda",
   "metadata": {},
   "outputs": [
    {
     "name": "stdout",
     "output_type": "stream",
     "text": [
      "Number of CPU cores: 48\n",
      "659\n"
     ]
    }
   ],
   "source": [
    "from multiprocessing import Pool\n",
    "import multiprocessing\n",
    "\n",
    "if __name__ == '__main__':\n",
    "    num_cores = multiprocessing.cpu_count()\n",
    "    print(\"Number of CPU cores:\", num_cores)\n",
    "\n",
    "\n",
    "df1=np.array_split(x_adj[:], num_cores)\n",
    "\n",
    "\n",
    "print(len(df[0]))\n",
    "\n",
    "\n"
   ]
  },
  {
   "cell_type": "code",
   "execution_count": 13,
   "id": "489e53ab",
   "metadata": {},
   "outputs": [
    {
     "name": "stdout",
     "output_type": "stream",
     "text": [
      "--- 1.5521104335784912 seconds ---\n"
     ]
    }
   ],
   "source": [
    "\n",
    "import time\n",
    "start_time = time.time()\n",
    "with Pool(processes=num_cores) as pool1:\n",
    "    results1 = pool1.map(calculate_g, df1)\n",
    "\n",
    "pool1.close()\n",
    "pool1.join()\n",
    "\n",
    "print(\"--- %s seconds ---\" % (time.time() - start_time))\n"
   ]
  },
  {
   "cell_type": "code",
   "execution_count": 14,
   "id": "4bd5c260",
   "metadata": {},
   "outputs": [],
   "source": [
    "x_g=[]\n",
    "for submatrix in results1:\n",
    "    x_g.extend(submatrix)"
   ]
  },
  {
   "cell_type": "code",
   "execution_count": 15,
   "id": "e7087c73",
   "metadata": {},
   "outputs": [],
   "source": [
    "x_g=np.array(x_g)\n"
   ]
  },
  {
   "cell_type": "code",
   "execution_count": 16,
   "id": "6a1404fa",
   "metadata": {},
   "outputs": [
    {
     "name": "stdout",
     "output_type": "stream",
     "text": [
      "(31615, 56, 2)\n"
     ]
    }
   ],
   "source": [
    "print(x_g.shape)"
   ]
  },
  {
   "cell_type": "code",
   "execution_count": null,
   "id": "4e388a66",
   "metadata": {},
   "outputs": [],
   "source": []
  },
  {
   "cell_type": "code",
   "execution_count": 17,
   "id": "f7c52f41",
   "metadata": {},
   "outputs": [
    {
     "data": {
      "text/plain": [
       "array([[3.07617288e-02, 1.00000000e+00],\n",
       "       [1.22697324e-01, 1.50000000e+01],\n",
       "       [7.40531007e-02, 1.10000000e+01],\n",
       "       [6.17527697e-02, 7.00000000e+00],\n",
       "       [4.85433343e-02, 4.00000000e+00],\n",
       "       [5.14107707e-02, 1.00000000e+01],\n",
       "       [4.69595670e-02, 1.00000000e+01],\n",
       "       [4.87198250e-02, 8.00000000e+00],\n",
       "       [3.05176181e-02, 4.00000000e+00],\n",
       "       [3.79232171e-02, 4.00000000e+00],\n",
       "       [5.50537909e-02, 8.00000000e+00],\n",
       "       [5.20833633e-02, 3.00000000e+00],\n",
       "       [5.20577410e-02, 9.00000000e+00],\n",
       "       [4.66308794e-02, 2.00000000e+00],\n",
       "       [2.38919725e-01, 2.30000000e+01],\n",
       "       [6.43636468e-02, 4.00000000e+00],\n",
       "       [5.49316806e-02, 4.00000000e+00],\n",
       "       [8.39030248e-02, 3.00000000e+00],\n",
       "       [1.52792126e-01, 1.40000000e+01],\n",
       "       [7.17773638e-02, 2.00000000e+00],\n",
       "       [6.98453839e-02, 6.00000000e+00],\n",
       "       [9.96298644e-02, 1.20000000e+01],\n",
       "       [8.43463877e-02, 7.00000000e+00],\n",
       "       [7.83691806e-02, 4.00000000e+00],\n",
       "       [5.10254306e-02, 4.00000000e+00],\n",
       "       [1.26713210e-01, 1.30000000e+01],\n",
       "       [8.48002616e-02, 5.00000000e+00],\n",
       "       [7.64509529e-02, 6.00000000e+00],\n",
       "       [1.10422570e-01, 9.00000000e+00],\n",
       "       [7.48291316e-02, 3.00000000e+00],\n",
       "       [1.19873077e-01, 3.00000000e+00],\n",
       "       [2.55858005e-01, 1.40000000e+01],\n",
       "       [1.01834137e-01, 8.00000000e+00],\n",
       "       [1.54570736e-01, 1.20000000e+01],\n",
       "       [2.48589931e-01, 1.70000000e+01],\n",
       "       [3.51126903e-01, 2.10000000e+01],\n",
       "       [2.46370087e-01, 1.70000000e+01],\n",
       "       [4.21966673e-01, 1.20000000e+01],\n",
       "       [7.01200119e-01, 1.00000000e+01],\n",
       "       [5.01761100e-01, 9.00000000e+00],\n",
       "       [4.79809796e-01, 8.00000000e+00],\n",
       "       [4.22261616e-01, 6.00000000e+00],\n",
       "       [4.12907988e-01, 7.00000000e+00],\n",
       "       [3.65789865e-01, 7.00000000e+00],\n",
       "       [4.94404203e-01, 1.10000000e+01],\n",
       "       [1.66388678e-01, 6.00000000e+00],\n",
       "       [2.54245899e-01, 8.00000000e+00],\n",
       "       [2.17771514e-01, 1.20000000e+01],\n",
       "       [6.62272635e-02, 5.00000000e+00],\n",
       "       [4.41894831e-02, 3.00000000e+00],\n",
       "       [5.56640925e-02, 3.00000000e+00],\n",
       "       [7.05729967e-02, 8.00000000e+00],\n",
       "       [3.66811617e-02, 5.00000000e+00],\n",
       "       [4.79053774e-02, 8.00000000e+00],\n",
       "       [1.53808794e-02, 2.00000000e+00],\n",
       "       [3.10590921e-02, 5.00000000e+00]])"
      ]
     },
     "execution_count": 17,
     "metadata": {},
     "output_type": "execute_result"
    }
   ],
   "source": [
    "x_g[0]"
   ]
  },
  {
   "cell_type": "code",
   "execution_count": 18,
   "id": "f5f0b6a9",
   "metadata": {},
   "outputs": [],
   "source": [
    "x_g_flat=np.array([np.array(i.T.flatten()).ravel() for i in x_g])\n"
   ]
  },
  {
   "cell_type": "code",
   "execution_count": 19,
   "id": "34ed68c8",
   "metadata": {},
   "outputs": [
    {
     "data": {
      "text/plain": [
       "array([3.07617288e-02, 1.22697324e-01, 7.40531007e-02, 6.17527697e-02,\n",
       "       4.85433343e-02, 5.14107707e-02, 4.69595670e-02, 4.87198250e-02,\n",
       "       3.05176181e-02, 3.79232171e-02, 5.50537909e-02, 5.20833633e-02,\n",
       "       5.20577410e-02, 4.66308794e-02, 2.38919725e-01, 6.43636468e-02,\n",
       "       5.49316806e-02, 8.39030248e-02, 1.52792126e-01, 7.17773638e-02,\n",
       "       6.98453839e-02, 9.96298644e-02, 8.43463877e-02, 7.83691806e-02,\n",
       "       5.10254306e-02, 1.26713210e-01, 8.48002616e-02, 7.64509529e-02,\n",
       "       1.10422570e-01, 7.48291316e-02, 1.19873077e-01, 2.55858005e-01,\n",
       "       1.01834137e-01, 1.54570736e-01, 2.48589931e-01, 3.51126903e-01,\n",
       "       2.46370087e-01, 4.21966673e-01, 7.01200119e-01, 5.01761100e-01,\n",
       "       4.79809796e-01, 4.22261616e-01, 4.12907988e-01, 3.65789865e-01,\n",
       "       4.94404203e-01, 1.66388678e-01, 2.54245899e-01, 2.17771514e-01,\n",
       "       6.62272635e-02, 4.41894831e-02, 5.56640925e-02, 7.05729967e-02,\n",
       "       3.66811617e-02, 4.79053774e-02, 1.53808794e-02, 3.10590921e-02,\n",
       "       1.00000000e+00, 1.50000000e+01, 1.10000000e+01, 7.00000000e+00,\n",
       "       4.00000000e+00, 1.00000000e+01, 1.00000000e+01, 8.00000000e+00,\n",
       "       4.00000000e+00, 4.00000000e+00, 8.00000000e+00, 3.00000000e+00,\n",
       "       9.00000000e+00, 2.00000000e+00, 2.30000000e+01, 4.00000000e+00,\n",
       "       4.00000000e+00, 3.00000000e+00, 1.40000000e+01, 2.00000000e+00,\n",
       "       6.00000000e+00, 1.20000000e+01, 7.00000000e+00, 4.00000000e+00,\n",
       "       4.00000000e+00, 1.30000000e+01, 5.00000000e+00, 6.00000000e+00,\n",
       "       9.00000000e+00, 3.00000000e+00, 3.00000000e+00, 1.40000000e+01,\n",
       "       8.00000000e+00, 1.20000000e+01, 1.70000000e+01, 2.10000000e+01,\n",
       "       1.70000000e+01, 1.20000000e+01, 1.00000000e+01, 9.00000000e+00,\n",
       "       8.00000000e+00, 6.00000000e+00, 7.00000000e+00, 7.00000000e+00,\n",
       "       1.10000000e+01, 6.00000000e+00, 8.00000000e+00, 1.20000000e+01,\n",
       "       5.00000000e+00, 3.00000000e+00, 3.00000000e+00, 8.00000000e+00,\n",
       "       5.00000000e+00, 8.00000000e+00, 2.00000000e+00, 5.00000000e+00])"
      ]
     },
     "execution_count": 19,
     "metadata": {},
     "output_type": "execute_result"
    }
   ],
   "source": [
    "x_g_flat[0]"
   ]
  },
  {
   "cell_type": "code",
   "execution_count": 20,
   "id": "fcb8fbe5",
   "metadata": {},
   "outputs": [],
   "source": [
    "x_train, x_temp, y_train, y_temp = train_test_split(x_g_flat, Y, test_size=0.30, random_state=42)\n",
    "x_val,x_test,y_val,y_test=train_test_split(x_temp,y_temp,test_size=0.50, random_state=42)"
   ]
  },
  {
   "cell_type": "code",
   "execution_count": 21,
   "id": "4ab593cf",
   "metadata": {},
   "outputs": [
    {
     "name": "stdout",
     "output_type": "stream",
     "text": [
      "(22130, 112)\n",
      "(4742, 112)\n",
      "(4743, 112)\n"
     ]
    }
   ],
   "source": [
    "print(x_train.shape)\n",
    "print(x_val.shape)\n",
    "print(x_test.shape)"
   ]
  },
  {
   "cell_type": "code",
   "execution_count": 22,
   "id": "c1022f00",
   "metadata": {},
   "outputs": [
    {
     "name": "stderr",
     "output_type": "stream",
     "text": [
      "2023-08-13 10:07:49.226910: I tensorflow/core/platform/cpu_feature_guard.cc:193] This TensorFlow binary is optimized with oneAPI Deep Neural Network Library (oneDNN) to use the following CPU instructions in performance-critical operations:  AVX2 AVX512F AVX512_VNNI FMA\n",
      "To enable them in other operations, rebuild TensorFlow with the appropriate compiler flags.\n",
      "2023-08-13 10:07:49.397962: I tensorflow/core/util/port.cc:104] oneDNN custom operations are on. You may see slightly different numerical results due to floating-point round-off errors from different computation orders. To turn them off, set the environment variable `TF_ENABLE_ONEDNN_OPTS=0`.\n",
      "2023-08-13 10:07:49.402073: W tensorflow/compiler/xla/stream_executor/platform/default/dso_loader.cc:64] Could not load dynamic library 'libcudart.so.11.0'; dlerror: libcudart.so.11.0: cannot open shared object file: No such file or directory; LD_LIBRARY_PATH: /cm/shared/apps/slurm/18.08.9/lib64/slurm:/cm/shared/apps/slurm/18.08.9/lib64\n",
      "2023-08-13 10:07:49.402090: I tensorflow/compiler/xla/stream_executor/cuda/cudart_stub.cc:29] Ignore above cudart dlerror if you do not have a GPU set up on your machine.\n",
      "2023-08-13 10:07:56.770626: W tensorflow/compiler/xla/stream_executor/platform/default/dso_loader.cc:64] Could not load dynamic library 'libnvinfer.so.7'; dlerror: libnvinfer.so.7: cannot open shared object file: No such file or directory; LD_LIBRARY_PATH: /cm/shared/apps/slurm/18.08.9/lib64/slurm:/cm/shared/apps/slurm/18.08.9/lib64\n",
      "2023-08-13 10:07:56.770718: W tensorflow/compiler/xla/stream_executor/platform/default/dso_loader.cc:64] Could not load dynamic library 'libnvinfer_plugin.so.7'; dlerror: libnvinfer_plugin.so.7: cannot open shared object file: No such file or directory; LD_LIBRARY_PATH: /cm/shared/apps/slurm/18.08.9/lib64/slurm:/cm/shared/apps/slurm/18.08.9/lib64\n",
      "2023-08-13 10:07:56.770726: W tensorflow/compiler/tf2tensorrt/utils/py_utils.cc:38] TF-TRT Warning: Cannot dlopen some TensorRT libraries. If you would like to use Nvidia GPU with TensorRT, please make sure the missing libraries mentioned above are installed properly.\n"
     ]
    }
   ],
   "source": [
    "import tensorflow as tf\n"
   ]
  },
  {
   "cell_type": "code",
   "execution_count": 23,
   "id": "041aca53",
   "metadata": {},
   "outputs": [
    {
     "name": "stderr",
     "output_type": "stream",
     "text": [
      "2023-08-13 10:08:11.769886: W tensorflow/compiler/xla/stream_executor/platform/default/dso_loader.cc:64] Could not load dynamic library 'libcuda.so.1'; dlerror: libcuda.so.1: cannot open shared object file: No such file or directory; LD_LIBRARY_PATH: /cm/shared/apps/slurm/18.08.9/lib64/slurm:/cm/shared/apps/slurm/18.08.9/lib64\n",
      "2023-08-13 10:08:11.769919: W tensorflow/compiler/xla/stream_executor/cuda/cuda_driver.cc:265] failed call to cuInit: UNKNOWN ERROR (303)\n",
      "2023-08-13 10:08:11.769939: I tensorflow/compiler/xla/stream_executor/cuda/cuda_diagnostics.cc:156] kernel driver does not appear to be running on this host (c0155): /proc/driver/nvidia/version does not exist\n",
      "2023-08-13 10:08:11.770655: I tensorflow/core/platform/cpu_feature_guard.cc:193] This TensorFlow binary is optimized with oneAPI Deep Neural Network Library (oneDNN) to use the following CPU instructions in performance-critical operations:  AVX2 AVX512F AVX512_VNNI FMA\n",
      "To enable them in other operations, rebuild TensorFlow with the appropriate compiler flags.\n"
     ]
    }
   ],
   "source": [
    "input_shape = (x_train.shape[1],1)\n",
    "num_classes = 4\n",
    "model3 = tf.keras.models.Sequential()\n",
    "model3.add(tf.keras.layers.Conv1D(filters= 32, kernel_size=3, activation='relu',padding='same',input_shape= input_shape))\n",
    "model3.add(tf.keras.layers.MaxPooling1D(pool_size=2,strides=None,padding='valid'))\n",
    "\n",
    "model3.add(tf.keras.layers.Conv1D(filters=32, kernel_size=3,padding='same',activation='relu'))\n",
    "model3.add(tf.keras.layers.MaxPooling1D(pool_size=2,strides=None,padding='valid'))\n",
    "\n",
    "# model3.add(tf.keras.layers.Conv1D(filters=32, kernel_size=3,padding='same',activation='relu'))\n",
    "# model3.add(tf.keras.layers.MaxPooling1D(pool_size=2,strides=None,padding='valid'))\n",
    "# model3.add(tf.keras.layers.Conv1D(filters=32, kernel_size=3,padding='same',activation='relu'))\n",
    "# model3.add(tf.keras.layers.MaxPooling1D(pool_size=2,strides=None,padding='valid'))\n",
    "# model3.add(tf.keras.layers.Conv1D(filters=32, kernel_size=3,padding='same',activation='relu'))\n",
    "# model3.add(tf.keras.layers.MaxPooling1D(pool_size=2,strides=None,padding='valid'))\n",
    "# model3.add(tf.keras.layers.Conv1D(filters=32, kernel_size=3,padding='same',activation='relu'))\n",
    "# model3.add(tf.keras.layers.MaxPooling1D(pool_size=2,strides=None,padding='valid'))\n",
    "model3.add(tf.keras.layers.Flatten())\n",
    "\n",
    "model3.add(tf.keras.layers.Dense(100, activation='relu'))\n",
    "model3.add(tf.keras.layers.Dropout(0.1))\n",
    "model3.add(tf.keras.layers.Dense(100, activation='relu'))\n",
    "model3.add(tf.keras.layers.Dense(num_classes, activation='softmax'))"
   ]
  },
  {
   "cell_type": "code",
   "execution_count": 24,
   "id": "7d7a5c18",
   "metadata": {},
   "outputs": [
    {
     "name": "stdout",
     "output_type": "stream",
     "text": [
      "Model: \"sequential\"\n",
      "_________________________________________________________________\n",
      " Layer (type)                Output Shape              Param #   \n",
      "=================================================================\n",
      " conv1d (Conv1D)             (None, 112, 32)           128       \n",
      "                                                                 \n",
      " max_pooling1d (MaxPooling1D  (None, 56, 32)           0         \n",
      " )                                                               \n",
      "                                                                 \n",
      " conv1d_1 (Conv1D)           (None, 56, 32)            3104      \n",
      "                                                                 \n",
      " max_pooling1d_1 (MaxPooling  (None, 28, 32)           0         \n",
      " 1D)                                                             \n",
      "                                                                 \n",
      " flatten (Flatten)           (None, 896)               0         \n",
      "                                                                 \n",
      " dense (Dense)               (None, 100)               89700     \n",
      "                                                                 \n",
      " dropout (Dropout)           (None, 100)               0         \n",
      "                                                                 \n",
      " dense_1 (Dense)             (None, 100)               10100     \n",
      "                                                                 \n",
      " dense_2 (Dense)             (None, 4)                 404       \n",
      "                                                                 \n",
      "=================================================================\n",
      "Total params: 103,436\n",
      "Trainable params: 103,436\n",
      "Non-trainable params: 0\n",
      "_________________________________________________________________\n"
     ]
    }
   ],
   "source": [
    "model3.summary()"
   ]
  },
  {
   "cell_type": "code",
   "execution_count": 25,
   "id": "d6573d40",
   "metadata": {},
   "outputs": [],
   "source": [
    "model3.compile(loss='SparseCategoricalCrossentropy', optimizer='Adam', metrics=['acc'])\n"
   ]
  },
  {
   "cell_type": "code",
   "execution_count": 26,
   "id": "e2276cd0",
   "metadata": {},
   "outputs": [],
   "source": [
    "from tensorflow.keras.callbacks import ModelCheckpoint\n",
    "from tensorflow.keras.models import load_model\n",
    "\n",
    "\n",
    "\n",
    "checkpoint = ModelCheckpoint('F8.h5', monitor='val_accuracy', verbose=1, save_best_only=True, mode='max')\n"
   ]
  },
  {
   "cell_type": "code",
   "execution_count": 27,
   "id": "43bf0926",
   "metadata": {
    "scrolled": true
   },
   "outputs": [
    {
     "name": "stdout",
     "output_type": "stream",
     "text": [
      "Epoch 1/30\n",
      "690/692 [============================>.] - ETA: 0s - loss: 0.1110 - acc: 0.9619WARNING:tensorflow:Can save best model only with val_accuracy available, skipping.\n",
      "692/692 [==============================] - 4s 4ms/step - loss: 0.1108 - acc: 0.9620 - val_loss: 0.0248 - val_acc: 0.9943\n",
      "Epoch 2/30\n",
      "682/692 [============================>.] - ETA: 0s - loss: 0.0227 - acc: 0.9946WARNING:tensorflow:Can save best model only with val_accuracy available, skipping.\n",
      "692/692 [==============================] - 3s 4ms/step - loss: 0.0226 - acc: 0.9946 - val_loss: 0.0187 - val_acc: 0.9949\n",
      "Epoch 3/30\n",
      "678/692 [============================>.] - ETA: 0s - loss: 0.0206 - acc: 0.9944WARNING:tensorflow:Can save best model only with val_accuracy available, skipping.\n",
      "692/692 [==============================] - 3s 4ms/step - loss: 0.0203 - acc: 0.9945 - val_loss: 0.0182 - val_acc: 0.9954\n",
      "Epoch 4/30\n",
      "689/692 [============================>.] - ETA: 0s - loss: 0.0158 - acc: 0.9963WARNING:tensorflow:Can save best model only with val_accuracy available, skipping.\n",
      "692/692 [==============================] - 3s 4ms/step - loss: 0.0158 - acc: 0.9963 - val_loss: 0.0245 - val_acc: 0.9941\n",
      "Epoch 5/30\n",
      "684/692 [============================>.] - ETA: 0s - loss: 0.0146 - acc: 0.9966WARNING:tensorflow:Can save best model only with val_accuracy available, skipping.\n",
      "692/692 [==============================] - 3s 4ms/step - loss: 0.0144 - acc: 0.9966 - val_loss: 0.0157 - val_acc: 0.9964\n",
      "Epoch 6/30\n",
      "682/692 [============================>.] - ETA: 0s - loss: 0.0141 - acc: 0.9963WARNING:tensorflow:Can save best model only with val_accuracy available, skipping.\n",
      "692/692 [==============================] - 3s 4ms/step - loss: 0.0139 - acc: 0.9963 - val_loss: 0.0186 - val_acc: 0.9960\n",
      "Epoch 7/30\n",
      "683/692 [============================>.] - ETA: 0s - loss: 0.0140 - acc: 0.9968WARNING:tensorflow:Can save best model only with val_accuracy available, skipping.\n",
      "692/692 [==============================] - 3s 4ms/step - loss: 0.0139 - acc: 0.9968 - val_loss: 0.0139 - val_acc: 0.9975\n",
      "Epoch 8/30\n",
      "687/692 [============================>.] - ETA: 0s - loss: 0.0124 - acc: 0.9972WARNING:tensorflow:Can save best model only with val_accuracy available, skipping.\n",
      "692/692 [==============================] - 3s 4ms/step - loss: 0.0124 - acc: 0.9972 - val_loss: 0.0143 - val_acc: 0.9962\n",
      "Epoch 9/30\n",
      "685/692 [============================>.] - ETA: 0s - loss: 0.0117 - acc: 0.9970WARNING:tensorflow:Can save best model only with val_accuracy available, skipping.\n",
      "692/692 [==============================] - 3s 4ms/step - loss: 0.0116 - acc: 0.9971 - val_loss: 0.0125 - val_acc: 0.9975\n",
      "Epoch 10/30\n",
      "687/692 [============================>.] - ETA: 0s - loss: 0.0108 - acc: 0.9970WARNING:tensorflow:Can save best model only with val_accuracy available, skipping.\n",
      "692/692 [==============================] - 3s 4ms/step - loss: 0.0108 - acc: 0.9970 - val_loss: 0.0136 - val_acc: 0.9966\n",
      "Epoch 11/30\n",
      "685/692 [============================>.] - ETA: 0s - loss: 0.0101 - acc: 0.9974WARNING:tensorflow:Can save best model only with val_accuracy available, skipping.\n",
      "692/692 [==============================] - 3s 4ms/step - loss: 0.0103 - acc: 0.9974 - val_loss: 0.0162 - val_acc: 0.9958\n",
      "Epoch 12/30\n",
      "679/692 [============================>.] - ETA: 0s - loss: 0.0100 - acc: 0.9975WARNING:tensorflow:Can save best model only with val_accuracy available, skipping.\n",
      "692/692 [==============================] - 3s 4ms/step - loss: 0.0101 - acc: 0.9974 - val_loss: 0.0157 - val_acc: 0.9958\n",
      "Epoch 13/30\n",
      "686/692 [============================>.] - ETA: 0s - loss: 0.0098 - acc: 0.9979WARNING:tensorflow:Can save best model only with val_accuracy available, skipping.\n",
      "692/692 [==============================] - 3s 4ms/step - loss: 0.0097 - acc: 0.9979 - val_loss: 0.0126 - val_acc: 0.9975\n",
      "Epoch 14/30\n",
      "688/692 [============================>.] - ETA: 0s - loss: 0.0093 - acc: 0.9974WARNING:tensorflow:Can save best model only with val_accuracy available, skipping.\n",
      "692/692 [==============================] - 3s 4ms/step - loss: 0.0096 - acc: 0.9973 - val_loss: 0.0142 - val_acc: 0.9968\n",
      "Epoch 15/30\n",
      "692/692 [==============================] - ETA: 0s - loss: 0.0086 - acc: 0.9979WARNING:tensorflow:Can save best model only with val_accuracy available, skipping.\n",
      "692/692 [==============================] - 3s 4ms/step - loss: 0.0086 - acc: 0.9979 - val_loss: 0.0128 - val_acc: 0.9970\n",
      "Epoch 16/30\n",
      "678/692 [============================>.] - ETA: 0s - loss: 0.0080 - acc: 0.9976WARNING:tensorflow:Can save best model only with val_accuracy available, skipping.\n",
      "692/692 [==============================] - 3s 4ms/step - loss: 0.0085 - acc: 0.9976 - val_loss: 0.0143 - val_acc: 0.9960\n",
      "Epoch 17/30\n",
      "680/692 [============================>.] - ETA: 0s - loss: 0.0065 - acc: 0.9984WARNING:tensorflow:Can save best model only with val_accuracy available, skipping.\n",
      "692/692 [==============================] - 3s 4ms/step - loss: 0.0064 - acc: 0.9984 - val_loss: 0.0120 - val_acc: 0.9981\n",
      "Epoch 18/30\n",
      "678/692 [============================>.] - ETA: 0s - loss: 0.0061 - acc: 0.9982WARNING:tensorflow:Can save best model only with val_accuracy available, skipping.\n",
      "692/692 [==============================] - 3s 4ms/step - loss: 0.0060 - acc: 0.9983 - val_loss: 0.0174 - val_acc: 0.9968\n",
      "Epoch 19/30\n",
      "680/692 [============================>.] - ETA: 0s - loss: 0.0083 - acc: 0.9977WARNING:tensorflow:Can save best model only with val_accuracy available, skipping.\n",
      "692/692 [==============================] - 3s 4ms/step - loss: 0.0082 - acc: 0.9977 - val_loss: 0.0160 - val_acc: 0.9966\n",
      "Epoch 20/30\n",
      "682/692 [============================>.] - ETA: 0s - loss: 0.0042 - acc: 0.9990WARNING:tensorflow:Can save best model only with val_accuracy available, skipping.\n",
      "692/692 [==============================] - 3s 4ms/step - loss: 0.0043 - acc: 0.9990 - val_loss: 0.0197 - val_acc: 0.9958\n",
      "Epoch 21/30\n",
      "687/692 [============================>.] - ETA: 0s - loss: 0.0067 - acc: 0.9981WARNING:tensorflow:Can save best model only with val_accuracy available, skipping.\n",
      "692/692 [==============================] - 3s 4ms/step - loss: 0.0066 - acc: 0.9981 - val_loss: 0.0194 - val_acc: 0.9966\n",
      "Epoch 22/30\n",
      "689/692 [============================>.] - ETA: 0s - loss: 0.0058 - acc: 0.9982WARNING:tensorflow:Can save best model only with val_accuracy available, skipping.\n",
      "692/692 [==============================] - 2s 4ms/step - loss: 0.0057 - acc: 0.9982 - val_loss: 0.0176 - val_acc: 0.9975\n",
      "Epoch 23/30\n",
      "689/692 [============================>.] - ETA: 0s - loss: 0.0054 - acc: 0.9985WARNING:tensorflow:Can save best model only with val_accuracy available, skipping.\n",
      "692/692 [==============================] - 2s 4ms/step - loss: 0.0054 - acc: 0.9985 - val_loss: 0.0169 - val_acc: 0.9977\n",
      "Epoch 24/30\n",
      "685/692 [============================>.] - ETA: 0s - loss: 0.0061 - acc: 0.9984WARNING:tensorflow:Can save best model only with val_accuracy available, skipping.\n",
      "692/692 [==============================] - 2s 4ms/step - loss: 0.0060 - acc: 0.9984 - val_loss: 0.0152 - val_acc: 0.9970\n",
      "Epoch 25/30\n",
      "688/692 [============================>.] - ETA: 0s - loss: 0.0062 - acc: 0.9985WARNING:tensorflow:Can save best model only with val_accuracy available, skipping.\n",
      "692/692 [==============================] - 3s 4ms/step - loss: 0.0062 - acc: 0.9985 - val_loss: 0.0133 - val_acc: 0.9975\n",
      "Epoch 26/30\n",
      "683/692 [============================>.] - ETA: 0s - loss: 0.0032 - acc: 0.9991WARNING:tensorflow:Can save best model only with val_accuracy available, skipping.\n",
      "692/692 [==============================] - 3s 4ms/step - loss: 0.0032 - acc: 0.9991 - val_loss: 0.0323 - val_acc: 0.9928\n",
      "Epoch 27/30\n",
      "688/692 [============================>.] - ETA: 0s - loss: 0.0057 - acc: 0.9984WARNING:tensorflow:Can save best model only with val_accuracy available, skipping.\n",
      "692/692 [==============================] - 2s 4ms/step - loss: 0.0057 - acc: 0.9984 - val_loss: 0.0134 - val_acc: 0.9970\n",
      "Epoch 28/30\n",
      "683/692 [============================>.] - ETA: 0s - loss: 0.0064 - acc: 0.9986WARNING:tensorflow:Can save best model only with val_accuracy available, skipping.\n",
      "692/692 [==============================] - 2s 4ms/step - loss: 0.0063 - acc: 0.9986 - val_loss: 0.0127 - val_acc: 0.9979\n"
     ]
    },
    {
     "name": "stdout",
     "output_type": "stream",
     "text": [
      "Epoch 29/30\n",
      "681/692 [============================>.] - ETA: 0s - loss: 0.0038 - acc: 0.9989WARNING:tensorflow:Can save best model only with val_accuracy available, skipping.\n",
      "692/692 [==============================] - 3s 4ms/step - loss: 0.0039 - acc: 0.9988 - val_loss: 0.0104 - val_acc: 0.9979\n",
      "Epoch 30/30\n",
      "680/692 [============================>.] - ETA: 0s - loss: 0.0054 - acc: 0.9985WARNING:tensorflow:Can save best model only with val_accuracy available, skipping.\n",
      "692/692 [==============================] - 3s 4ms/step - loss: 0.0056 - acc: 0.9984 - val_loss: 0.0241 - val_acc: 0.9949\n"
     ]
    }
   ],
   "source": [
    "history_log = model3.fit(x_train, y_train, epochs=30, verbose=1, validation_data=(x_test, y_test), callbacks=[checkpoint])\n"
   ]
  },
  {
   "cell_type": "code",
   "execution_count": 28,
   "id": "de84a26f",
   "metadata": {},
   "outputs": [],
   "source": [
    "model3.save_weights('/home/nvekariy/signal_code/New_neural_code_SNR_0.5_h/F8.h5')\n"
   ]
  },
  {
   "cell_type": "code",
   "execution_count": 29,
   "id": "30fd3f17",
   "metadata": {},
   "outputs": [],
   "source": [
    "model3.load_weights('/home/nvekariy/signal_code/New_neural_code_SNR_0.5_h/F8.h5')\n"
   ]
  },
  {
   "cell_type": "code",
   "execution_count": 30,
   "id": "994f96a7",
   "metadata": {},
   "outputs": [
    {
     "name": "stdout",
     "output_type": "stream",
     "text": [
      "149/149 [==============================] - 0s 1ms/step\n"
     ]
    }
   ],
   "source": [
    "predictions = model3.predict(x_test)\n",
    "pred_arg = np.argmax(predictions, axis=1)"
   ]
  },
  {
   "cell_type": "code",
   "execution_count": 31,
   "id": "abb59028",
   "metadata": {},
   "outputs": [
    {
     "name": "stdout",
     "output_type": "stream",
     "text": [
      "cnf_matrix_2.0_70\n",
      "\n",
      "[[1004    0    0    2]\n",
      " [   2  943   15    2]\n",
      " [   0    1  955    1]\n",
      " [   1    0    0 1817]]\n"
     ]
    }
   ],
   "source": [
    "from sklearn.metrics import confusion_matrix\n",
    "cnf_matrix=confusion_matrix(y_test,pred_arg)\n",
    "print(\"cnf_matrix_2.0_70\")\n",
    "print(\"\")\n",
    "print(cnf_matrix)"
   ]
  },
  {
   "cell_type": "code",
   "execution_count": 32,
   "id": "9f134881",
   "metadata": {},
   "outputs": [],
   "source": [
    "from sklearn.metrics import accuracy_score, recall_score,precision_score,roc_auc_score,roc_curve,f1_score\n"
   ]
  },
  {
   "cell_type": "code",
   "execution_count": 33,
   "id": "0f419b16",
   "metadata": {},
   "outputs": [
    {
     "name": "stdout",
     "output_type": "stream",
     "text": [
      "99.49399114484504\n",
      "99.41381527154401\n",
      "99.49399114484504\n",
      "99.4981218474723\n"
     ]
    }
   ],
   "source": [
    "print(accuracy_score(y_test,pred_arg)*100)\n",
    "print(f1_score(y_test,pred_arg,average='macro')*100)\n",
    "print(recall_score(y_test,pred_arg, average=\"weighted\")*100)\n",
    "print(precision_score(y_test,pred_arg, average=\"weighted\")*100)"
   ]
  },
  {
   "cell_type": "code",
   "execution_count": null,
   "id": "868acb03",
   "metadata": {},
   "outputs": [],
   "source": []
  },
  {
   "cell_type": "code",
   "execution_count": null,
   "id": "a8cadd42",
   "metadata": {},
   "outputs": [],
   "source": []
  },
  {
   "cell_type": "code",
   "execution_count": null,
   "id": "9ba39972",
   "metadata": {},
   "outputs": [],
   "source": []
  }
 ],
 "metadata": {
  "anaconda-cloud": {},
  "kernelspec": {
   "display_name": "Python [conda env:root] *",
   "language": "python",
   "name": "conda-root-py"
  },
  "language_info": {
   "codemirror_mode": {
    "name": "ipython",
    "version": 3
   },
   "file_extension": ".py",
   "mimetype": "text/x-python",
   "name": "python",
   "nbconvert_exporter": "python",
   "pygments_lexer": "ipython3",
   "version": "3.9.12"
  }
 },
 "nbformat": 4,
 "nbformat_minor": 5
}
