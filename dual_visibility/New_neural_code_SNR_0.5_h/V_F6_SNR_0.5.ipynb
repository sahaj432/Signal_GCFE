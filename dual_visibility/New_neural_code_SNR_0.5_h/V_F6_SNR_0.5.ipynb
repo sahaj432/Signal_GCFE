{
 "cells": [
  {
   "cell_type": "code",
   "execution_count": 1,
   "id": "9c4dc733",
   "metadata": {},
   "outputs": [
    {
     "name": "stdout",
     "output_type": "stream",
     "text": [
      "Loading PyIOmica 1.3.3 (https://github.com/gmiaslab/pyiomica by G. Mias Lab)\n"
     ]
    }
   ],
   "source": [
    "import numpy as np\n",
    "import os\n",
    "import glob\n",
    "import seaborn as sns\n",
    "import matplotlib.pyplot as plt\n",
    "from pyiomica_master import pyiomica as pio\n",
    "from pyiomica_master.pyiomica import visualizationFunctions\n",
    "from pyiomica_master.pyiomica import visibilityGraphCommunityDetection\n",
    "import matplotlib as mpl\n",
    "from sklearn.utils import shuffle\n",
    "from sklearn.model_selection import train_test_split\n",
    "\n",
    "from tqdm import tqdm\n",
    "%matplotlib inline"
   ]
  },
  {
   "cell_type": "code",
   "execution_count": 2,
   "id": "b297825b",
   "metadata": {},
   "outputs": [],
   "source": [
    "x_frame1_05 = np.genfromtxt('/home/nvekariy/signal_code/datasets/neural_4_class/x_frame1_0.5_seed.csv', delimiter=',')\n",
    "x_frame2_05 = np.genfromtxt('/home/nvekariy/signal_code/datasets/neural_4_class/x_frame2_0.5_seed.csv', delimiter=',')\n",
    "x_frame3_05 = np.genfromtxt('/home/nvekariy/signal_code/datasets/neural_4_class/x_frame3_0.5_seed.csv', delimiter=',')\n",
    "x_framen_05= np.genfromtxt('/home/nvekariy/signal_code/datasets/neural_4_class/x_frame_noise_0.5_seed.csv', delimiter=',')"
   ]
  },
  {
   "cell_type": "code",
   "execution_count": null,
   "id": "81f7372f",
   "metadata": {},
   "outputs": [],
   "source": []
  },
  {
   "cell_type": "code",
   "execution_count": 3,
   "id": "79eaf877",
   "metadata": {},
   "outputs": [],
   "source": [
    "x=np.concatenate((x_frame1_05,x_frame2_05,x_frame3_05,x_framen_05[:6000]),axis=0)\n",
    "y=np.concatenate((np.zeros(len(x_frame1_05)),np.zeros(len(x_frame2_05))+1,np.zeros(len(x_frame3_05))+2,np.zeros(len(x_framen_05[:6000]))+3),axis=0)"
   ]
  },
  {
   "cell_type": "code",
   "execution_count": 4,
   "id": "3ea7e902",
   "metadata": {},
   "outputs": [],
   "source": [
    "X, Y = shuffle(x,y, random_state=1)"
   ]
  },
  {
   "cell_type": "code",
   "execution_count": 5,
   "id": "b78a4e4f",
   "metadata": {},
   "outputs": [],
   "source": [
    "def calculate_adj(data):\n",
    "    temp1=[]\n",
    "    for p, i in enumerate(data):\n",
    "        #print(f'Converting ==> {p+1} \\r', end=\"\",flush=True)\n",
    "        vs_out = visibilityGraphCommunityDetection.createVisibilityGraph(i, range(len(i)), \"dual_natural\", weight='tan')\n",
    "        vs_out=np.asarray(vs_out)\n",
    "        temp1.append(vs_out)\n",
    "        \n",
    "    return temp1"
   ]
  },
  {
   "cell_type": "code",
   "execution_count": 6,
   "id": "3d605bfd",
   "metadata": {
    "scrolled": true
   },
   "outputs": [
    {
     "name": "stdout",
     "output_type": "stream",
     "text": [
      "Number of CPU cores: 48\n"
     ]
    }
   ],
   "source": [
    "from multiprocessing import Pool\n",
    "import multiprocessing\n",
    "\n",
    "if __name__ == '__main__':\n",
    "    num_cores = multiprocessing.cpu_count()\n",
    "    print(\"Number of CPU cores:\", num_cores)"
   ]
  },
  {
   "cell_type": "code",
   "execution_count": 7,
   "id": "46772fd9",
   "metadata": {},
   "outputs": [
    {
     "name": "stdout",
     "output_type": "stream",
     "text": [
      "534\n"
     ]
    }
   ],
   "source": [
    "df=np.array_split(X, num_cores)\n",
    "print(len(df[0]))"
   ]
  },
  {
   "cell_type": "code",
   "execution_count": 8,
   "id": "06f240a8",
   "metadata": {},
   "outputs": [],
   "source": [
    "with Pool(processes=num_cores) as pool:\n",
    "    results = pool.map(calculate_adj, df)\n",
    "\n",
    "pool.close()\n",
    "pool.join()"
   ]
  },
  {
   "cell_type": "code",
   "execution_count": 9,
   "id": "e7481290",
   "metadata": {},
   "outputs": [],
   "source": [
    "x_adj=[]\n",
    "for submatrix in results:\n",
    "    x_adj.extend(submatrix)"
   ]
  },
  {
   "cell_type": "code",
   "execution_count": 10,
   "id": "8c9fb616",
   "metadata": {},
   "outputs": [
    {
     "name": "stdout",
     "output_type": "stream",
     "text": [
      "25615\n"
     ]
    }
   ],
   "source": [
    "print(len(x_adj))"
   ]
  },
  {
   "cell_type": "code",
   "execution_count": 11,
   "id": "37e26890",
   "metadata": {},
   "outputs": [],
   "source": [
    "x_adj=np.array(x_adj)"
   ]
  },
  {
   "cell_type": "code",
   "execution_count": 12,
   "id": "8fe37ec4",
   "metadata": {},
   "outputs": [],
   "source": [
    "def degree(data): #The node strengths (or weighted degrees) \n",
    "    return np.sum(data, axis=0)"
   ]
  },
  {
   "cell_type": "code",
   "execution_count": 13,
   "id": "fe9d74c9",
   "metadata": {},
   "outputs": [],
   "source": [
    "import networkx as nx\n",
    "\n",
    "def runall(data):\n",
    "    temp1=[]\n",
    "    for i in data:\n",
    "        G = nx.from_numpy_array(i, parallel_edges=False)\n",
    "        \n",
    "       \n",
    "        d=degree(i).tolist()\n",
    "        \n",
    "        cc=list(nx.clustering(G).values())\n",
    "        temp1.append(d+cc) #+cpl+ge+le+ac+cc\n",
    "    return temp1"
   ]
  },
  {
   "cell_type": "code",
   "execution_count": 14,
   "id": "6c582fda",
   "metadata": {},
   "outputs": [
    {
     "name": "stdout",
     "output_type": "stream",
     "text": [
      "Number of CPU cores: 48\n",
      "534\n"
     ]
    }
   ],
   "source": [
    "from multiprocessing import Pool\n",
    "import multiprocessing\n",
    "\n",
    "if __name__ == '__main__':\n",
    "    num_cores = multiprocessing.cpu_count()\n",
    "    print(\"Number of CPU cores:\", num_cores)\n",
    "\n",
    "\n",
    "df1=np.array_split(x_adj[:], num_cores)\n",
    "\n",
    "\n",
    "print(len(df[0]))\n",
    "\n",
    "\n"
   ]
  },
  {
   "cell_type": "code",
   "execution_count": 15,
   "id": "489e53ab",
   "metadata": {},
   "outputs": [
    {
     "name": "stdout",
     "output_type": "stream",
     "text": [
      "--- 3.217320203781128 seconds ---\n"
     ]
    }
   ],
   "source": [
    "\n",
    "import time\n",
    "start_time = time.time()\n",
    "with Pool(processes=num_cores) as pool1:\n",
    "    results1 = pool1.map(runall, df1)\n",
    "\n",
    "pool1.close()\n",
    "pool1.join()\n",
    "\n",
    "print(\"--- %s seconds ---\" % (time.time() - start_time))\n"
   ]
  },
  {
   "cell_type": "code",
   "execution_count": 16,
   "id": "4bd5c260",
   "metadata": {},
   "outputs": [],
   "source": [
    "x_g=[]\n",
    "for submatrix in results1:\n",
    "    x_g.extend(submatrix)"
   ]
  },
  {
   "cell_type": "code",
   "execution_count": 17,
   "id": "e7087c73",
   "metadata": {},
   "outputs": [],
   "source": [
    "x_g=np.array(x_g)\n"
   ]
  },
  {
   "cell_type": "code",
   "execution_count": 18,
   "id": "6a1404fa",
   "metadata": {},
   "outputs": [
    {
     "name": "stdout",
     "output_type": "stream",
     "text": [
      "(25615, 112)\n"
     ]
    }
   ],
   "source": [
    "print(x_g.shape)"
   ]
  },
  {
   "cell_type": "code",
   "execution_count": 19,
   "id": "584b0d16",
   "metadata": {},
   "outputs": [],
   "source": [
    "x_train, x_temp, y_train, y_temp = train_test_split(x_g, Y, test_size=0.30, random_state=42)\n",
    "x_val,x_test,y_val,y_test=train_test_split(x_temp,y_temp,test_size=0.50, random_state=42)"
   ]
  },
  {
   "cell_type": "code",
   "execution_count": 20,
   "id": "87ff4de7",
   "metadata": {},
   "outputs": [
    {
     "name": "stdout",
     "output_type": "stream",
     "text": [
      "(17930, 112)\n",
      "(3842, 112)\n",
      "(3843, 112)\n"
     ]
    }
   ],
   "source": [
    "print(x_train.shape)\n",
    "print(x_val.shape)\n",
    "print(x_test.shape)"
   ]
  },
  {
   "cell_type": "code",
   "execution_count": 21,
   "id": "5ee715d8",
   "metadata": {},
   "outputs": [
    {
     "name": "stderr",
     "output_type": "stream",
     "text": [
      "2023-08-13 10:07:47.556617: I tensorflow/core/platform/cpu_feature_guard.cc:193] This TensorFlow binary is optimized with oneAPI Deep Neural Network Library (oneDNN) to use the following CPU instructions in performance-critical operations:  AVX2 AVX512F AVX512_VNNI FMA\n",
      "To enable them in other operations, rebuild TensorFlow with the appropriate compiler flags.\n",
      "2023-08-13 10:07:47.696688: I tensorflow/core/util/port.cc:104] oneDNN custom operations are on. You may see slightly different numerical results due to floating-point round-off errors from different computation orders. To turn them off, set the environment variable `TF_ENABLE_ONEDNN_OPTS=0`.\n",
      "2023-08-13 10:07:47.701148: W tensorflow/compiler/xla/stream_executor/platform/default/dso_loader.cc:64] Could not load dynamic library 'libcudart.so.11.0'; dlerror: libcudart.so.11.0: cannot open shared object file: No such file or directory; LD_LIBRARY_PATH: /cm/shared/apps/slurm/18.08.9/lib64/slurm:/cm/shared/apps/slurm/18.08.9/lib64\n",
      "2023-08-13 10:07:47.701165: I tensorflow/compiler/xla/stream_executor/cuda/cudart_stub.cc:29] Ignore above cudart dlerror if you do not have a GPU set up on your machine.\n",
      "2023-08-13 10:07:56.771471: W tensorflow/compiler/xla/stream_executor/platform/default/dso_loader.cc:64] Could not load dynamic library 'libnvinfer.so.7'; dlerror: libnvinfer.so.7: cannot open shared object file: No such file or directory; LD_LIBRARY_PATH: /cm/shared/apps/slurm/18.08.9/lib64/slurm:/cm/shared/apps/slurm/18.08.9/lib64\n",
      "2023-08-13 10:07:56.771581: W tensorflow/compiler/xla/stream_executor/platform/default/dso_loader.cc:64] Could not load dynamic library 'libnvinfer_plugin.so.7'; dlerror: libnvinfer_plugin.so.7: cannot open shared object file: No such file or directory; LD_LIBRARY_PATH: /cm/shared/apps/slurm/18.08.9/lib64/slurm:/cm/shared/apps/slurm/18.08.9/lib64\n",
      "2023-08-13 10:07:56.771590: W tensorflow/compiler/tf2tensorrt/utils/py_utils.cc:38] TF-TRT Warning: Cannot dlopen some TensorRT libraries. If you would like to use Nvidia GPU with TensorRT, please make sure the missing libraries mentioned above are installed properly.\n"
     ]
    }
   ],
   "source": [
    "import tensorflow as tf\n"
   ]
  },
  {
   "cell_type": "code",
   "execution_count": 22,
   "id": "a51d8943",
   "metadata": {},
   "outputs": [
    {
     "name": "stderr",
     "output_type": "stream",
     "text": [
      "2023-08-13 10:08:11.775441: W tensorflow/compiler/xla/stream_executor/platform/default/dso_loader.cc:64] Could not load dynamic library 'libcuda.so.1'; dlerror: libcuda.so.1: cannot open shared object file: No such file or directory; LD_LIBRARY_PATH: /cm/shared/apps/slurm/18.08.9/lib64/slurm:/cm/shared/apps/slurm/18.08.9/lib64\n",
      "2023-08-13 10:08:11.775472: W tensorflow/compiler/xla/stream_executor/cuda/cuda_driver.cc:265] failed call to cuInit: UNKNOWN ERROR (303)\n",
      "2023-08-13 10:08:11.775495: I tensorflow/compiler/xla/stream_executor/cuda/cuda_diagnostics.cc:156] kernel driver does not appear to be running on this host (c0193): /proc/driver/nvidia/version does not exist\n",
      "2023-08-13 10:08:11.775935: I tensorflow/core/platform/cpu_feature_guard.cc:193] This TensorFlow binary is optimized with oneAPI Deep Neural Network Library (oneDNN) to use the following CPU instructions in performance-critical operations:  AVX2 AVX512F AVX512_VNNI FMA\n",
      "To enable them in other operations, rebuild TensorFlow with the appropriate compiler flags.\n"
     ]
    }
   ],
   "source": [
    "input_shape = (x_train.shape[1],1)\n",
    "num_classes = 4\n",
    "model3 = tf.keras.models.Sequential()\n",
    "model3.add(tf.keras.layers.Conv1D(filters= 32, kernel_size=3, activation='relu',padding='same',input_shape= input_shape))\n",
    "model3.add(tf.keras.layers.MaxPooling1D(pool_size=2,strides=None,padding='valid'))\n",
    "\n",
    "model3.add(tf.keras.layers.Conv1D(filters=32, kernel_size=3,padding='same',activation='relu'))\n",
    "model3.add(tf.keras.layers.MaxPooling1D(pool_size=2,strides=None,padding='valid'))\n",
    "\n",
    "# model3.add(tf.keras.layers.Conv1D(filters=32, kernel_size=3,padding='same',activation='relu'))\n",
    "# model3.add(tf.keras.layers.MaxPooling1D(pool_size=2,strides=None,padding='valid'))\n",
    "# model3.add(tf.keras.layers.Conv1D(filters=32, kernel_size=3,padding='same',activation='relu'))\n",
    "# model3.add(tf.keras.layers.MaxPooling1D(pool_size=2,strides=None,padding='valid'))\n",
    "# model3.add(tf.keras.layers.Conv1D(filters=32, kernel_size=3,padding='same',activation='relu'))\n",
    "# model3.add(tf.keras.layers.MaxPooling1D(pool_size=2,strides=None,padding='valid'))\n",
    "# model3.add(tf.keras.layers.Conv1D(filters=32, kernel_size=3,padding='same',activation='relu'))\n",
    "# model3.add(tf.keras.layers.MaxPooling1D(pool_size=2,strides=None,padding='valid'))\n",
    "model3.add(tf.keras.layers.Flatten())\n",
    "\n",
    "model3.add(tf.keras.layers.Dense(100, activation='relu'))\n",
    "model3.add(tf.keras.layers.Dropout(0.1))\n",
    "model3.add(tf.keras.layers.Dense(100, activation='relu'))\n",
    "model3.add(tf.keras.layers.Dense(num_classes, activation='softmax'))"
   ]
  },
  {
   "cell_type": "code",
   "execution_count": 23,
   "id": "09f1d97c",
   "metadata": {},
   "outputs": [
    {
     "name": "stdout",
     "output_type": "stream",
     "text": [
      "Model: \"sequential\"\n",
      "_________________________________________________________________\n",
      " Layer (type)                Output Shape              Param #   \n",
      "=================================================================\n",
      " conv1d (Conv1D)             (None, 112, 32)           128       \n",
      "                                                                 \n",
      " max_pooling1d (MaxPooling1D  (None, 56, 32)           0         \n",
      " )                                                               \n",
      "                                                                 \n",
      " conv1d_1 (Conv1D)           (None, 56, 32)            3104      \n",
      "                                                                 \n",
      " max_pooling1d_1 (MaxPooling  (None, 28, 32)           0         \n",
      " 1D)                                                             \n",
      "                                                                 \n",
      " flatten (Flatten)           (None, 896)               0         \n",
      "                                                                 \n",
      " dense (Dense)               (None, 100)               89700     \n",
      "                                                                 \n",
      " dropout (Dropout)           (None, 100)               0         \n",
      "                                                                 \n",
      " dense_1 (Dense)             (None, 100)               10100     \n",
      "                                                                 \n",
      " dense_2 (Dense)             (None, 4)                 404       \n",
      "                                                                 \n",
      "=================================================================\n",
      "Total params: 103,436\n",
      "Trainable params: 103,436\n",
      "Non-trainable params: 0\n",
      "_________________________________________________________________\n"
     ]
    }
   ],
   "source": [
    "model3.summary()"
   ]
  },
  {
   "cell_type": "code",
   "execution_count": 24,
   "id": "5691f34f",
   "metadata": {},
   "outputs": [],
   "source": [
    "model3.compile(loss='SparseCategoricalCrossentropy', optimizer='Adam', metrics=['acc'])\n"
   ]
  },
  {
   "cell_type": "code",
   "execution_count": 25,
   "id": "e2276cd0",
   "metadata": {},
   "outputs": [],
   "source": [
    "from tensorflow.keras.callbacks import ModelCheckpoint\n",
    "from tensorflow.keras.models import load_model\n",
    "\n",
    "\n",
    "\n",
    "checkpoint = ModelCheckpoint('F6.h5', monitor='val_accuracy', verbose=1, save_best_only=True, mode='max')\n"
   ]
  },
  {
   "cell_type": "code",
   "execution_count": 26,
   "id": "43bf0926",
   "metadata": {
    "scrolled": true
   },
   "outputs": [
    {
     "name": "stdout",
     "output_type": "stream",
     "text": [
      "Epoch 1/30\n",
      "560/561 [============================>.] - ETA: 0s - loss: 0.1090 - acc: 0.9698WARNING:tensorflow:Can save best model only with val_accuracy available, skipping.\n",
      "561/561 [==============================] - 3s 4ms/step - loss: 0.1090 - acc: 0.9698 - val_loss: 0.0232 - val_acc: 0.9966\n",
      "Epoch 2/30\n",
      "557/561 [============================>.] - ETA: 0s - loss: 0.0203 - acc: 0.9959WARNING:tensorflow:Can save best model only with val_accuracy available, skipping.\n",
      "561/561 [==============================] - 2s 3ms/step - loss: 0.0203 - acc: 0.9959 - val_loss: 0.0174 - val_acc: 0.9979\n",
      "Epoch 3/30\n",
      "545/561 [============================>.] - ETA: 0s - loss: 0.0157 - acc: 0.9965WARNING:tensorflow:Can save best model only with val_accuracy available, skipping.\n",
      "561/561 [==============================] - 2s 3ms/step - loss: 0.0159 - acc: 0.9965 - val_loss: 0.0180 - val_acc: 0.9977\n",
      "Epoch 4/30\n",
      "558/561 [============================>.] - ETA: 0s - loss: 0.0133 - acc: 0.9973WARNING:tensorflow:Can save best model only with val_accuracy available, skipping.\n",
      "561/561 [==============================] - 2s 3ms/step - loss: 0.0133 - acc: 0.9973 - val_loss: 0.0186 - val_acc: 0.9969\n",
      "Epoch 5/30\n",
      "558/561 [============================>.] - ETA: 0s - loss: 0.0141 - acc: 0.9969WARNING:tensorflow:Can save best model only with val_accuracy available, skipping.\n",
      "561/561 [==============================] - 2s 4ms/step - loss: 0.0140 - acc: 0.9969 - val_loss: 0.0142 - val_acc: 0.9979\n",
      "Epoch 6/30\n",
      "546/561 [============================>.] - ETA: 0s - loss: 0.0101 - acc: 0.9977WARNING:tensorflow:Can save best model only with val_accuracy available, skipping.\n",
      "561/561 [==============================] - 2s 4ms/step - loss: 0.0105 - acc: 0.9976 - val_loss: 0.0154 - val_acc: 0.9977\n",
      "Epoch 7/30\n",
      "553/561 [============================>.] - ETA: 0s - loss: 0.0094 - acc: 0.9982WARNING:tensorflow:Can save best model only with val_accuracy available, skipping.\n",
      "561/561 [==============================] - 2s 4ms/step - loss: 0.0094 - acc: 0.9982 - val_loss: 0.0168 - val_acc: 0.9974\n",
      "Epoch 8/30\n",
      "560/561 [============================>.] - ETA: 0s - loss: 0.0087 - acc: 0.9980WARNING:tensorflow:Can save best model only with val_accuracy available, skipping.\n",
      "561/561 [==============================] - 2s 3ms/step - loss: 0.0087 - acc: 0.9980 - val_loss: 0.0176 - val_acc: 0.9971\n",
      "Epoch 9/30\n",
      "560/561 [============================>.] - ETA: 0s - loss: 0.0091 - acc: 0.9982WARNING:tensorflow:Can save best model only with val_accuracy available, skipping.\n",
      "561/561 [==============================] - 2s 3ms/step - loss: 0.0091 - acc: 0.9982 - val_loss: 0.0154 - val_acc: 0.9977\n",
      "Epoch 10/30\n",
      "556/561 [============================>.] - ETA: 0s - loss: 0.0069 - acc: 0.9983WARNING:tensorflow:Can save best model only with val_accuracy available, skipping.\n",
      "561/561 [==============================] - 2s 3ms/step - loss: 0.0068 - acc: 0.9983 - val_loss: 0.0181 - val_acc: 0.9971\n",
      "Epoch 11/30\n",
      "548/561 [============================>.] - ETA: 0s - loss: 0.0065 - acc: 0.9986WARNING:tensorflow:Can save best model only with val_accuracy available, skipping.\n",
      "561/561 [==============================] - 2s 4ms/step - loss: 0.0064 - acc: 0.9986 - val_loss: 0.0174 - val_acc: 0.9966\n",
      "Epoch 12/30\n",
      "555/561 [============================>.] - ETA: 0s - loss: 0.0056 - acc: 0.9990WARNING:tensorflow:Can save best model only with val_accuracy available, skipping.\n",
      "561/561 [==============================] - 2s 3ms/step - loss: 0.0055 - acc: 0.9990 - val_loss: 0.0194 - val_acc: 0.9969\n",
      "Epoch 13/30\n",
      "545/561 [============================>.] - ETA: 0s - loss: 0.0069 - acc: 0.9987WARNING:tensorflow:Can save best model only with val_accuracy available, skipping.\n",
      "561/561 [==============================] - 2s 3ms/step - loss: 0.0071 - acc: 0.9985 - val_loss: 0.0199 - val_acc: 0.9956\n",
      "Epoch 14/30\n",
      "555/561 [============================>.] - ETA: 0s - loss: 0.0046 - acc: 0.9988WARNING:tensorflow:Can save best model only with val_accuracy available, skipping.\n",
      "561/561 [==============================] - 2s 4ms/step - loss: 0.0047 - acc: 0.9988 - val_loss: 0.0328 - val_acc: 0.9956\n",
      "Epoch 15/30\n",
      "554/561 [============================>.] - ETA: 0s - loss: 0.0050 - acc: 0.9987WARNING:tensorflow:Can save best model only with val_accuracy available, skipping.\n",
      "561/561 [==============================] - 2s 4ms/step - loss: 0.0050 - acc: 0.9987 - val_loss: 0.0235 - val_acc: 0.9974\n",
      "Epoch 16/30\n",
      "552/561 [============================>.] - ETA: 0s - loss: 0.0052 - acc: 0.9986WARNING:tensorflow:Can save best model only with val_accuracy available, skipping.\n",
      "561/561 [==============================] - 2s 3ms/step - loss: 0.0051 - acc: 0.9986 - val_loss: 0.0220 - val_acc: 0.9971\n",
      "Epoch 17/30\n",
      "559/561 [============================>.] - ETA: 0s - loss: 0.0025 - acc: 0.9993WARNING:tensorflow:Can save best model only with val_accuracy available, skipping.\n",
      "561/561 [==============================] - 2s 4ms/step - loss: 0.0025 - acc: 0.9993 - val_loss: 0.0308 - val_acc: 0.9971\n",
      "Epoch 18/30\n",
      "557/561 [============================>.] - ETA: 0s - loss: 0.0057 - acc: 0.9987WARNING:tensorflow:Can save best model only with val_accuracy available, skipping.\n",
      "561/561 [==============================] - 2s 4ms/step - loss: 0.0056 - acc: 0.9987 - val_loss: 0.0313 - val_acc: 0.9966\n",
      "Epoch 19/30\n",
      "559/561 [============================>.] - ETA: 0s - loss: 0.0029 - acc: 0.9994WARNING:tensorflow:Can save best model only with val_accuracy available, skipping.\n",
      "561/561 [==============================] - 2s 4ms/step - loss: 0.0029 - acc: 0.9994 - val_loss: 0.0240 - val_acc: 0.9974\n",
      "Epoch 20/30\n",
      "552/561 [============================>.] - ETA: 0s - loss: 0.0043 - acc: 0.9985WARNING:tensorflow:Can save best model only with val_accuracy available, skipping.\n",
      "561/561 [==============================] - 2s 3ms/step - loss: 0.0043 - acc: 0.9985 - val_loss: 0.0283 - val_acc: 0.9966\n",
      "Epoch 21/30\n",
      "560/561 [============================>.] - ETA: 0s - loss: 0.0039 - acc: 0.9991WARNING:tensorflow:Can save best model only with val_accuracy available, skipping.\n",
      "561/561 [==============================] - 2s 3ms/step - loss: 0.0039 - acc: 0.9991 - val_loss: 0.0242 - val_acc: 0.9971\n",
      "Epoch 22/30\n",
      "560/561 [============================>.] - ETA: 0s - loss: 0.0017 - acc: 0.9995WARNING:tensorflow:Can save best model only with val_accuracy available, skipping.\n",
      "561/561 [==============================] - 2s 3ms/step - loss: 0.0017 - acc: 0.9995 - val_loss: 0.0247 - val_acc: 0.9971\n",
      "Epoch 23/30\n",
      "560/561 [============================>.] - ETA: 0s - loss: 0.0042 - acc: 0.9987WARNING:tensorflow:Can save best model only with val_accuracy available, skipping.\n",
      "561/561 [==============================] - 2s 3ms/step - loss: 0.0042 - acc: 0.9987 - val_loss: 0.0261 - val_acc: 0.9969\n",
      "Epoch 24/30\n",
      "545/561 [============================>.] - ETA: 0s - loss: 0.0035 - acc: 0.9990WARNING:tensorflow:Can save best model only with val_accuracy available, skipping.\n",
      "561/561 [==============================] - 2s 3ms/step - loss: 0.0034 - acc: 0.9991 - val_loss: 0.0281 - val_acc: 0.9964\n",
      "Epoch 25/30\n",
      "558/561 [============================>.] - ETA: 0s - loss: 0.0018 - acc: 0.9996WARNING:tensorflow:Can save best model only with val_accuracy available, skipping.\n",
      "561/561 [==============================] - 2s 3ms/step - loss: 0.0017 - acc: 0.9996 - val_loss: 0.0276 - val_acc: 0.9969\n",
      "Epoch 26/30\n",
      "559/561 [============================>.] - ETA: 0s - loss: 0.0010 - acc: 0.9998WARNING:tensorflow:Can save best model only with val_accuracy available, skipping.\n",
      "561/561 [==============================] - 2s 3ms/step - loss: 0.0010 - acc: 0.9998 - val_loss: 0.0300 - val_acc: 0.9969\n",
      "Epoch 27/30\n",
      "545/561 [============================>.] - ETA: 0s - loss: 0.0010 - acc: 0.9997WARNING:tensorflow:Can save best model only with val_accuracy available, skipping.\n",
      "561/561 [==============================] - 2s 3ms/step - loss: 9.9109e-04 - acc: 0.9997 - val_loss: 0.0357 - val_acc: 0.9974\n",
      "Epoch 28/30\n",
      "545/561 [============================>.] - ETA: 0s - loss: 0.0039 - acc: 0.9988WARNING:tensorflow:Can save best model only with val_accuracy available, skipping.\n",
      "561/561 [==============================] - 2s 3ms/step - loss: 0.0040 - acc: 0.9988 - val_loss: 0.0314 - val_acc: 0.9964\n"
     ]
    },
    {
     "name": "stdout",
     "output_type": "stream",
     "text": [
      "Epoch 29/30\n",
      "555/561 [============================>.] - ETA: 0s - loss: 0.0014 - acc: 0.9993WARNING:tensorflow:Can save best model only with val_accuracy available, skipping.\n",
      "561/561 [==============================] - 2s 3ms/step - loss: 0.0014 - acc: 0.9993 - val_loss: 0.0341 - val_acc: 0.9966\n",
      "Epoch 30/30\n",
      "552/561 [============================>.] - ETA: 0s - loss: 0.0025 - acc: 0.9994WARNING:tensorflow:Can save best model only with val_accuracy available, skipping.\n",
      "561/561 [==============================] - 2s 4ms/step - loss: 0.0025 - acc: 0.9994 - val_loss: 0.0326 - val_acc: 0.9966\n"
     ]
    }
   ],
   "source": [
    "history_log = model3.fit(x_train, y_train, epochs=30, verbose=1, validation_data=(x_test, y_test), callbacks=[checkpoint])\n"
   ]
  },
  {
   "cell_type": "code",
   "execution_count": 27,
   "id": "de84a26f",
   "metadata": {},
   "outputs": [],
   "source": [
    "model3.save_weights('/home/nvekariy/signal_code/New_neural_code_SNR_0.5_h/F6.h5')\n"
   ]
  },
  {
   "cell_type": "code",
   "execution_count": 28,
   "id": "30fd3f17",
   "metadata": {},
   "outputs": [],
   "source": [
    "model3.load_weights('/home/nvekariy/signal_code/New_neural_code_SNR_0.5_h/F6.h5')\n"
   ]
  },
  {
   "cell_type": "code",
   "execution_count": 29,
   "id": "994f96a7",
   "metadata": {},
   "outputs": [
    {
     "name": "stdout",
     "output_type": "stream",
     "text": [
      "121/121 [==============================] - 0s 1ms/step\n"
     ]
    }
   ],
   "source": [
    "predictions = model3.predict(x_test)\n",
    "pred_arg = np.argmax(predictions, axis=1)"
   ]
  },
  {
   "cell_type": "code",
   "execution_count": 30,
   "id": "abb59028",
   "metadata": {},
   "outputs": [
    {
     "name": "stdout",
     "output_type": "stream",
     "text": [
      "cnf_matrix_2.0_70\n",
      "\n",
      "[[949   2   0   0]\n",
      " [  1 984   1   0]\n",
      " [  0   5 994   0]\n",
      " [  1   1   2 903]]\n"
     ]
    }
   ],
   "source": [
    "from sklearn.metrics import confusion_matrix\n",
    "cnf_matrix=confusion_matrix(y_test,pred_arg)\n",
    "print(\"cnf_matrix_2.0_70\")\n",
    "print(\"\")\n",
    "print(cnf_matrix)"
   ]
  },
  {
   "cell_type": "code",
   "execution_count": 31,
   "id": "9f134881",
   "metadata": {},
   "outputs": [],
   "source": [
    "from sklearn.metrics import accuracy_score, recall_score,precision_score,roc_auc_score,roc_curve,f1_score\n"
   ]
  },
  {
   "cell_type": "code",
   "execution_count": 32,
   "id": "0f419b16",
   "metadata": {},
   "outputs": [
    {
     "name": "stdout",
     "output_type": "stream",
     "text": [
      "99.66172261254228\n",
      "99.66558445164685\n",
      "99.66172261254228\n",
      "99.66282511169949\n"
     ]
    }
   ],
   "source": [
    "print(accuracy_score(y_test,pred_arg)*100)\n",
    "print(f1_score(y_test,pred_arg,average='macro')*100)\n",
    "print(recall_score(y_test,pred_arg, average=\"weighted\")*100)\n",
    "print(precision_score(y_test,pred_arg, average=\"weighted\")*100)"
   ]
  },
  {
   "cell_type": "code",
   "execution_count": null,
   "id": "90845a20",
   "metadata": {},
   "outputs": [],
   "source": []
  },
  {
   "cell_type": "code",
   "execution_count": null,
   "id": "dd00c7be",
   "metadata": {},
   "outputs": [],
   "source": []
  }
 ],
 "metadata": {
  "anaconda-cloud": {},
  "kernelspec": {
   "display_name": "Python [conda env:root] *",
   "language": "python",
   "name": "conda-root-py"
  },
  "language_info": {
   "codemirror_mode": {
    "name": "ipython",
    "version": 3
   },
   "file_extension": ".py",
   "mimetype": "text/x-python",
   "name": "python",
   "nbconvert_exporter": "python",
   "pygments_lexer": "ipython3",
   "version": "3.9.12"
  }
 },
 "nbformat": 4,
 "nbformat_minor": 5
}
