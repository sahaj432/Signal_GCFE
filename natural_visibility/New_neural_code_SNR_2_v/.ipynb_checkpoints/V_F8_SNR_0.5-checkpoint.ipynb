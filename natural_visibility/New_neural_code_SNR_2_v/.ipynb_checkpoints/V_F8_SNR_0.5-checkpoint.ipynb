{
 "cells": [
  {
   "cell_type": "code",
   "execution_count": 1,
   "id": "89e29f03",
   "metadata": {},
   "outputs": [
    {
     "name": "stdout",
     "output_type": "stream",
     "text": [
      "Loading PyIOmica 1.3.3 (https://github.com/gmiaslab/pyiomica by G. Mias Lab)\n"
     ]
    },
    {
     "name": "stderr",
     "output_type": "stream",
     "text": [
      "/data/user/home/sahaj432/Desktop/code_organized/G_signal_feature_reduction_Project/New_neural_code_SNR_2_v/pyiomica_master/pyiomica/visibilityGraphAuxiliaryFunctions.py:91: NumbaDeprecationWarning: \u001b[1mThe 'nopython' keyword argument was not supplied to the 'numba.jit' decorator. The implicit default value for this argument is currently False, but it will be changed to True in Numba 0.59.0. See https://numba.readthedocs.io/en/stable/reference/deprecation.html#deprecation-of-object-mode-fall-back-behaviour-when-using-jit for details.\u001b[0m\n",
      "  @numba.jit(cache=True)\n"
     ]
    }
   ],
   "source": [
    "import numpy as np\n",
    "import os\n",
    "import glob\n",
    "import seaborn as sns\n",
    "import matplotlib.pyplot as plt\n",
    "from pyiomica_master import pyiomica as pio\n",
    "from pyiomica_master.pyiomica import visualizationFunctions\n",
    "from pyiomica_master.pyiomica import visibilityGraphCommunityDetection\n",
    "import matplotlib as mpl\n",
    "from sklearn.utils import shuffle\n",
    "from sklearn.model_selection import train_test_split\n",
    "\n",
    "from tqdm import tqdm\n",
    "%matplotlib inline"
   ]
  },
  {
   "cell_type": "code",
   "execution_count": 2,
   "id": "b297825b",
   "metadata": {},
   "outputs": [],
   "source": [
    "x_frame1_05 = np.genfromtxt('/home/sahaj432/Desktop/dataset/neural_4_class/x_frame1_2_seed.csv', delimiter=',')\n",
    "x_frame2_05 = np.genfromtxt('/home/sahaj432/Desktop/dataset/neural_4_class/x_frame2_2_seed.csv', delimiter=',')\n",
    "x_frame3_05 = np.genfromtxt('/home/sahaj432/Desktop/dataset/neural_4_class/x_frame3_2_seed.csv', delimiter=',')\n",
    "x_framen_05= np.genfromtxt('/home/sahaj432/Desktop/dataset/neural_4_class/x_frame_noise_2_seed.csv', delimiter=',')"
   ]
  },
  {
   "cell_type": "code",
   "execution_count": null,
   "id": "c61feafd",
   "metadata": {},
   "outputs": [],
   "source": []
  },
  {
   "cell_type": "code",
   "execution_count": 3,
   "id": "112c6fdf",
   "metadata": {},
   "outputs": [],
   "source": [
    "x=np.concatenate((x_frame1_05,x_frame2_05,x_frame3_05,x_framen_05),axis=0)\n",
    "y=np.concatenate((np.zeros(len(x_frame1_05)),np.zeros(len(x_frame2_05))+1,np.zeros(len(x_frame3_05))+2,np.zeros(len(x_framen_05))+3),axis=0)"
   ]
  },
  {
   "cell_type": "code",
   "execution_count": 4,
   "id": "cfcfbda9",
   "metadata": {},
   "outputs": [],
   "source": [
    "X, Y = shuffle(x,y, random_state=1)"
   ]
  },
  {
   "cell_type": "code",
   "execution_count": 5,
   "id": "7898816c",
   "metadata": {},
   "outputs": [],
   "source": [
    "def calculate_adj(data):\n",
    "    temp1=[]\n",
    "    for p, i in enumerate(data):\n",
    "        #print(f'Converting ==> {p+1} \\r', end=\"\",flush=True)\n",
    "        vs_out = visibilityGraphCommunityDetection.createVisibilityGraph(i, range(len(i)), \"natural\", weight='tan')\n",
    "        temp1.append(vs_out)\n",
    "        \n",
    "    return temp1"
   ]
  },
  {
   "cell_type": "code",
   "execution_count": 6,
   "id": "5786a500",
   "metadata": {
    "scrolled": true
   },
   "outputs": [
    {
     "name": "stdout",
     "output_type": "stream",
     "text": [
      "Number of CPU cores: 48\n"
     ]
    }
   ],
   "source": [
    "from multiprocessing import Pool\n",
    "import multiprocessing\n",
    "\n",
    "if __name__ == '__main__':\n",
    "    num_cores = multiprocessing.cpu_count()\n",
    "    print(\"Number of CPU cores:\", num_cores)"
   ]
  },
  {
   "cell_type": "code",
   "execution_count": 7,
   "id": "2f35de61",
   "metadata": {},
   "outputs": [
    {
     "name": "stdout",
     "output_type": "stream",
     "text": [
      "642\n"
     ]
    }
   ],
   "source": [
    "df=np.array_split(X, num_cores)\n",
    "print(len(df[0]))"
   ]
  },
  {
   "cell_type": "code",
   "execution_count": 8,
   "id": "682fc94e",
   "metadata": {},
   "outputs": [],
   "source": [
    "with Pool(processes=num_cores) as pool:\n",
    "    results = pool.map(calculate_adj, df)\n",
    "\n",
    "pool.close()\n",
    "pool.join()"
   ]
  },
  {
   "cell_type": "code",
   "execution_count": 9,
   "id": "37086d28",
   "metadata": {},
   "outputs": [],
   "source": [
    "x_adj=[]\n",
    "for submatrix in results:\n",
    "    x_adj.extend(submatrix)"
   ]
  },
  {
   "cell_type": "code",
   "execution_count": 10,
   "id": "d8730cf6",
   "metadata": {},
   "outputs": [],
   "source": [
    "x_adj=np.array(x_adj)"
   ]
  },
  {
   "cell_type": "code",
   "execution_count": 11,
   "id": "c8699c57",
   "metadata": {},
   "outputs": [],
   "source": [
    "def calculate_g(data):\n",
    "    temp2=[]\n",
    "    for vs_out in data:\n",
    "        a = np.sum(vs_out, axis=0).reshape(-1, 1)\n",
    "        b = np.sum(vs_out != 0, axis=1).reshape(-1, 1)\n",
    "        temp2.append(np.concatenate((a, b), axis=1))\n",
    "        \n",
    "    return temp2"
   ]
  },
  {
   "cell_type": "code",
   "execution_count": 12,
   "id": "6c582fda",
   "metadata": {},
   "outputs": [
    {
     "name": "stdout",
     "output_type": "stream",
     "text": [
      "Number of CPU cores: 48\n",
      "642\n"
     ]
    }
   ],
   "source": [
    "from multiprocessing import Pool\n",
    "import multiprocessing\n",
    "\n",
    "if __name__ == '__main__':\n",
    "    num_cores = multiprocessing.cpu_count()\n",
    "    print(\"Number of CPU cores:\", num_cores)\n",
    "\n",
    "\n",
    "df1=np.array_split(x_adj[:], num_cores)\n",
    "\n",
    "\n",
    "print(len(df[0]))\n",
    "\n",
    "\n"
   ]
  },
  {
   "cell_type": "code",
   "execution_count": 13,
   "id": "489e53ab",
   "metadata": {},
   "outputs": [
    {
     "name": "stdout",
     "output_type": "stream",
     "text": [
      "--- 1.5706143379211426 seconds ---\n"
     ]
    }
   ],
   "source": [
    "\n",
    "import time\n",
    "start_time = time.time()\n",
    "with Pool(processes=num_cores) as pool1:\n",
    "    results1 = pool1.map(calculate_g, df1)\n",
    "\n",
    "pool1.close()\n",
    "pool1.join()\n",
    "\n",
    "print(\"--- %s seconds ---\" % (time.time() - start_time))\n"
   ]
  },
  {
   "cell_type": "code",
   "execution_count": 14,
   "id": "4bd5c260",
   "metadata": {},
   "outputs": [],
   "source": [
    "x_g=[]\n",
    "for submatrix in results1:\n",
    "    x_g.extend(submatrix)"
   ]
  },
  {
   "cell_type": "code",
   "execution_count": 15,
   "id": "e7087c73",
   "metadata": {},
   "outputs": [],
   "source": [
    "x_g=np.array(x_g)\n"
   ]
  },
  {
   "cell_type": "code",
   "execution_count": 16,
   "id": "6a1404fa",
   "metadata": {},
   "outputs": [
    {
     "name": "stdout",
     "output_type": "stream",
     "text": [
      "(30783, 56, 2)\n"
     ]
    }
   ],
   "source": [
    "print(x_g.shape)"
   ]
  },
  {
   "cell_type": "code",
   "execution_count": 17,
   "id": "f5f0b6a9",
   "metadata": {},
   "outputs": [],
   "source": [
    "x_g_flat=np.array([np.array(i.T.flatten()).ravel() for i in x_g])\n"
   ]
  },
  {
   "cell_type": "code",
   "execution_count": null,
   "id": "34ed68c8",
   "metadata": {},
   "outputs": [],
   "source": []
  },
  {
   "cell_type": "code",
   "execution_count": 18,
   "id": "fcb8fbe5",
   "metadata": {},
   "outputs": [],
   "source": [
    "x_train, x_temp, y_train, y_temp = train_test_split(x_g_flat, Y, test_size=0.30, random_state=42)\n",
    "x_val,x_test,y_val,y_test=train_test_split(x_temp,y_temp,test_size=0.50, random_state=42)"
   ]
  },
  {
   "cell_type": "code",
   "execution_count": 19,
   "id": "4ab593cf",
   "metadata": {},
   "outputs": [
    {
     "name": "stdout",
     "output_type": "stream",
     "text": [
      "(21548, 112)\n",
      "(4617, 112)\n",
      "(4618, 112)\n"
     ]
    }
   ],
   "source": [
    "print(x_train.shape)\n",
    "print(x_val.shape)\n",
    "print(x_test.shape)"
   ]
  },
  {
   "cell_type": "code",
   "execution_count": 20,
   "id": "c1022f00",
   "metadata": {},
   "outputs": [
    {
     "name": "stderr",
     "output_type": "stream",
     "text": [
      "2023-08-13 09:49:12.700830: W tensorflow/stream_executor/platform/default/dso_loader.cc:64] Could not load dynamic library 'libcudart.so.11.0'; dlerror: libcudart.so.11.0: cannot open shared object file: No such file or directory; LD_LIBRARY_PATH: /cm/shared/apps/slurm/18.08.9/lib64/slurm:/cm/shared/apps/slurm/18.08.9/lib64\n",
      "2023-08-13 09:49:12.700860: I tensorflow/stream_executor/cuda/cudart_stub.cc:29] Ignore above cudart dlerror if you do not have a GPU set up on your machine.\n"
     ]
    }
   ],
   "source": [
    "import tensorflow as tf\n"
   ]
  },
  {
   "cell_type": "code",
   "execution_count": 21,
   "id": "041aca53",
   "metadata": {},
   "outputs": [
    {
     "name": "stderr",
     "output_type": "stream",
     "text": [
      "2023-08-13 09:49:32.782974: W tensorflow/stream_executor/platform/default/dso_loader.cc:64] Could not load dynamic library 'libcuda.so.1'; dlerror: libcuda.so.1: cannot open shared object file: No such file or directory; LD_LIBRARY_PATH: /cm/shared/apps/slurm/18.08.9/lib64/slurm:/cm/shared/apps/slurm/18.08.9/lib64\n",
      "2023-08-13 09:49:32.783003: W tensorflow/stream_executor/cuda/cuda_driver.cc:269] failed call to cuInit: UNKNOWN ERROR (303)\n",
      "2023-08-13 09:49:32.783022: I tensorflow/stream_executor/cuda/cuda_diagnostics.cc:156] kernel driver does not appear to be running on this host (c0186): /proc/driver/nvidia/version does not exist\n",
      "2023-08-13 09:49:32.783322: I tensorflow/core/platform/cpu_feature_guard.cc:151] This TensorFlow binary is optimized with oneAPI Deep Neural Network Library (oneDNN) to use the following CPU instructions in performance-critical operations:  AVX2 AVX512F FMA\n",
      "To enable them in other operations, rebuild TensorFlow with the appropriate compiler flags.\n"
     ]
    }
   ],
   "source": [
    "input_shape = (x_train.shape[1],1)\n",
    "num_classes = 4\n",
    "model3 = tf.keras.models.Sequential()\n",
    "model3.add(tf.keras.layers.Conv1D(filters= 32, kernel_size=3, activation='relu',padding='same',input_shape= input_shape))\n",
    "model3.add(tf.keras.layers.MaxPooling1D(pool_size=2,strides=None,padding='valid'))\n",
    "\n",
    "model3.add(tf.keras.layers.Conv1D(filters=32, kernel_size=3,padding='same',activation='relu'))\n",
    "model3.add(tf.keras.layers.MaxPooling1D(pool_size=2,strides=None,padding='valid'))\n",
    "\n",
    "# model3.add(tf.keras.layers.Conv1D(filters=32, kernel_size=3,padding='same',activation='relu'))\n",
    "# model3.add(tf.keras.layers.MaxPooling1D(pool_size=2,strides=None,padding='valid'))\n",
    "# model3.add(tf.keras.layers.Conv1D(filters=32, kernel_size=3,padding='same',activation='relu'))\n",
    "# model3.add(tf.keras.layers.MaxPooling1D(pool_size=2,strides=None,padding='valid'))\n",
    "# model3.add(tf.keras.layers.Conv1D(filters=32, kernel_size=3,padding='same',activation='relu'))\n",
    "# model3.add(tf.keras.layers.MaxPooling1D(pool_size=2,strides=None,padding='valid'))\n",
    "# model3.add(tf.keras.layers.Conv1D(filters=32, kernel_size=3,padding='same',activation='relu'))\n",
    "# model3.add(tf.keras.layers.MaxPooling1D(pool_size=2,strides=None,padding='valid'))\n",
    "model3.add(tf.keras.layers.Flatten())\n",
    "\n",
    "model3.add(tf.keras.layers.Dense(100, activation='relu'))\n",
    "model3.add(tf.keras.layers.Dropout(0.1))\n",
    "model3.add(tf.keras.layers.Dense(100, activation='relu'))\n",
    "model3.add(tf.keras.layers.Dense(num_classes, activation='softmax'))"
   ]
  },
  {
   "cell_type": "code",
   "execution_count": 22,
   "id": "7d7a5c18",
   "metadata": {},
   "outputs": [
    {
     "name": "stdout",
     "output_type": "stream",
     "text": [
      "Model: \"sequential\"\n",
      "_________________________________________________________________\n",
      " Layer (type)                Output Shape              Param #   \n",
      "=================================================================\n",
      " conv1d (Conv1D)             (None, 112, 32)           128       \n",
      "                                                                 \n",
      " max_pooling1d (MaxPooling1D  (None, 56, 32)           0         \n",
      " )                                                               \n",
      "                                                                 \n",
      " conv1d_1 (Conv1D)           (None, 56, 32)            3104      \n",
      "                                                                 \n",
      " max_pooling1d_1 (MaxPooling  (None, 28, 32)           0         \n",
      " 1D)                                                             \n",
      "                                                                 \n",
      " flatten (Flatten)           (None, 896)               0         \n",
      "                                                                 \n",
      " dense (Dense)               (None, 100)               89700     \n",
      "                                                                 \n",
      " dropout (Dropout)           (None, 100)               0         \n",
      "                                                                 \n",
      " dense_1 (Dense)             (None, 100)               10100     \n",
      "                                                                 \n",
      " dense_2 (Dense)             (None, 4)                 404       \n",
      "                                                                 \n",
      "=================================================================\n",
      "Total params: 103,436\n",
      "Trainable params: 103,436\n",
      "Non-trainable params: 0\n",
      "_________________________________________________________________\n"
     ]
    }
   ],
   "source": [
    "model3.summary()"
   ]
  },
  {
   "cell_type": "code",
   "execution_count": 23,
   "id": "d6573d40",
   "metadata": {},
   "outputs": [],
   "source": [
    "model3.compile(loss='SparseCategoricalCrossentropy', optimizer='Adam', metrics=['acc'])\n"
   ]
  },
  {
   "cell_type": "code",
   "execution_count": 24,
   "id": "854edfb4",
   "metadata": {},
   "outputs": [],
   "source": [
    "from tensorflow.keras.callbacks import ModelCheckpoint\n",
    "from tensorflow.keras.models import load_model\n",
    "\n",
    "\n",
    "\n",
    "checkpoint = ModelCheckpoint('F8.h5', monitor='val_accuracy', verbose=1, save_best_only=True, mode='max')\n"
   ]
  },
  {
   "cell_type": "code",
   "execution_count": 25,
   "id": "43bf0926",
   "metadata": {
    "scrolled": true
   },
   "outputs": [
    {
     "name": "stdout",
     "output_type": "stream",
     "text": [
      "Epoch 1/30\n",
      "666/674 [============================>.] - ETA: 0s - loss: 0.4567 - acc: 0.8123WARNING:tensorflow:Can save best model only with val_accuracy available, skipping.\n",
      "674/674 [==============================] - 3s 4ms/step - loss: 0.4554 - acc: 0.8130 - val_loss: 0.2754 - val_acc: 0.8919\n",
      "Epoch 2/30\n",
      "664/674 [============================>.] - ETA: 0s - loss: 0.2749 - acc: 0.8938WARNING:tensorflow:Can save best model only with val_accuracy available, skipping.\n",
      "674/674 [==============================] - 2s 3ms/step - loss: 0.2750 - acc: 0.8940 - val_loss: 0.2640 - val_acc: 0.8987\n",
      "Epoch 3/30\n",
      "671/674 [============================>.] - ETA: 0s - loss: 0.2553 - acc: 0.9001WARNING:tensorflow:Can save best model only with val_accuracy available, skipping.\n",
      "674/674 [==============================] - 2s 3ms/step - loss: 0.2547 - acc: 0.9005 - val_loss: 0.2482 - val_acc: 0.9056\n",
      "Epoch 4/30\n",
      "663/674 [============================>.] - ETA: 0s - loss: 0.2452 - acc: 0.9051WARNING:tensorflow:Can save best model only with val_accuracy available, skipping.\n",
      "674/674 [==============================] - 2s 4ms/step - loss: 0.2450 - acc: 0.9050 - val_loss: 0.2500 - val_acc: 0.9036\n",
      "Epoch 5/30\n",
      "663/674 [============================>.] - ETA: 0s - loss: 0.2356 - acc: 0.9076WARNING:tensorflow:Can save best model only with val_accuracy available, skipping.\n",
      "674/674 [==============================] - 2s 3ms/step - loss: 0.2354 - acc: 0.9077 - val_loss: 0.2516 - val_acc: 0.9006\n",
      "Epoch 6/30\n",
      "662/674 [============================>.] - ETA: 0s - loss: 0.2267 - acc: 0.9126WARNING:tensorflow:Can save best model only with val_accuracy available, skipping.\n",
      "674/674 [==============================] - 2s 3ms/step - loss: 0.2268 - acc: 0.9124 - val_loss: 0.2331 - val_acc: 0.9123\n",
      "Epoch 7/30\n",
      "668/674 [============================>.] - ETA: 0s - loss: 0.2191 - acc: 0.9164WARNING:tensorflow:Can save best model only with val_accuracy available, skipping.\n",
      "674/674 [==============================] - 2s 3ms/step - loss: 0.2191 - acc: 0.9164 - val_loss: 0.2510 - val_acc: 0.9028\n",
      "Epoch 8/30\n",
      "659/674 [============================>.] - ETA: 0s - loss: 0.2136 - acc: 0.9158WARNING:tensorflow:Can save best model only with val_accuracy available, skipping.\n",
      "674/674 [==============================] - 2s 3ms/step - loss: 0.2128 - acc: 0.9163 - val_loss: 0.2421 - val_acc: 0.9145\n",
      "Epoch 9/30\n",
      "658/674 [============================>.] - ETA: 0s - loss: 0.2070 - acc: 0.9194WARNING:tensorflow:Can save best model only with val_accuracy available, skipping.\n",
      "674/674 [==============================] - 2s 3ms/step - loss: 0.2076 - acc: 0.9192 - val_loss: 0.2445 - val_acc: 0.9091\n",
      "Epoch 10/30\n",
      "671/674 [============================>.] - ETA: 0s - loss: 0.2035 - acc: 0.9232WARNING:tensorflow:Can save best model only with val_accuracy available, skipping.\n",
      "674/674 [==============================] - 2s 3ms/step - loss: 0.2031 - acc: 0.9233 - val_loss: 0.2447 - val_acc: 0.9095\n",
      "Epoch 11/30\n",
      "670/674 [============================>.] - ETA: 0s - loss: 0.1940 - acc: 0.9255WARNING:tensorflow:Can save best model only with val_accuracy available, skipping.\n",
      "674/674 [==============================] - 2s 3ms/step - loss: 0.1939 - acc: 0.9255 - val_loss: 0.2536 - val_acc: 0.9097\n",
      "Epoch 12/30\n",
      "660/674 [============================>.] - ETA: 0s - loss: 0.1871 - acc: 0.9273WARNING:tensorflow:Can save best model only with val_accuracy available, skipping.\n",
      "674/674 [==============================] - 2s 3ms/step - loss: 0.1876 - acc: 0.9271 - val_loss: 0.2701 - val_acc: 0.9052\n",
      "Epoch 13/30\n",
      "671/674 [============================>.] - ETA: 0s - loss: 0.1771 - acc: 0.9310WARNING:tensorflow:Can save best model only with val_accuracy available, skipping.\n",
      "674/674 [==============================] - 2s 3ms/step - loss: 0.1773 - acc: 0.9309 - val_loss: 0.2518 - val_acc: 0.9052\n",
      "Epoch 14/30\n",
      "672/674 [============================>.] - ETA: 0s - loss: 0.1678 - acc: 0.9352WARNING:tensorflow:Can save best model only with val_accuracy available, skipping.\n",
      "674/674 [==============================] - 2s 3ms/step - loss: 0.1679 - acc: 0.9352 - val_loss: 0.2740 - val_acc: 0.9039\n",
      "Epoch 15/30\n",
      "669/674 [============================>.] - ETA: 0s - loss: 0.1606 - acc: 0.9375WARNING:tensorflow:Can save best model only with val_accuracy available, skipping.\n",
      "674/674 [==============================] - 2s 3ms/step - loss: 0.1608 - acc: 0.9376 - val_loss: 0.3019 - val_acc: 0.9047\n",
      "Epoch 16/30\n",
      "664/674 [============================>.] - ETA: 0s - loss: 0.1534 - acc: 0.9411WARNING:tensorflow:Can save best model only with val_accuracy available, skipping.\n",
      "674/674 [==============================] - 2s 3ms/step - loss: 0.1550 - acc: 0.9408 - val_loss: 0.2701 - val_acc: 0.9052\n",
      "Epoch 17/30\n",
      "662/674 [============================>.] - ETA: 0s - loss: 0.1437 - acc: 0.9443WARNING:tensorflow:Can save best model only with val_accuracy available, skipping.\n",
      "674/674 [==============================] - 2s 3ms/step - loss: 0.1445 - acc: 0.9439 - val_loss: 0.2854 - val_acc: 0.9034\n",
      "Epoch 18/30\n",
      "663/674 [============================>.] - ETA: 0s - loss: 0.1383 - acc: 0.9463WARNING:tensorflow:Can save best model only with val_accuracy available, skipping.\n",
      "674/674 [==============================] - 2s 3ms/step - loss: 0.1384 - acc: 0.9462 - val_loss: 0.2810 - val_acc: 0.9054\n",
      "Epoch 19/30\n",
      "659/674 [============================>.] - ETA: 0s - loss: 0.1248 - acc: 0.9510WARNING:tensorflow:Can save best model only with val_accuracy available, skipping.\n",
      "674/674 [==============================] - 2s 3ms/step - loss: 0.1246 - acc: 0.9511 - val_loss: 0.3445 - val_acc: 0.8987\n",
      "Epoch 20/30\n",
      "659/674 [============================>.] - ETA: 0s - loss: 0.1159 - acc: 0.9555WARNING:tensorflow:Can save best model only with val_accuracy available, skipping.\n",
      "674/674 [==============================] - 2s 4ms/step - loss: 0.1161 - acc: 0.9553 - val_loss: 0.3109 - val_acc: 0.9041\n",
      "Epoch 21/30\n",
      "671/674 [============================>.] - ETA: 0s - loss: 0.1081 - acc: 0.9579WARNING:tensorflow:Can save best model only with val_accuracy available, skipping.\n",
      "674/674 [==============================] - 2s 3ms/step - loss: 0.1084 - acc: 0.9578 - val_loss: 0.3441 - val_acc: 0.9032\n",
      "Epoch 22/30\n",
      "665/674 [============================>.] - ETA: 0s - loss: 0.0996 - acc: 0.9613WARNING:tensorflow:Can save best model only with val_accuracy available, skipping.\n",
      "674/674 [==============================] - 2s 3ms/step - loss: 0.1000 - acc: 0.9613 - val_loss: 0.3789 - val_acc: 0.8974\n",
      "Epoch 23/30\n",
      "671/674 [============================>.] - ETA: 0s - loss: 0.1010 - acc: 0.9600WARNING:tensorflow:Can save best model only with val_accuracy available, skipping.\n",
      "674/674 [==============================] - 2s 3ms/step - loss: 0.1008 - acc: 0.9602 - val_loss: 0.3632 - val_acc: 0.8952\n",
      "Epoch 24/30\n",
      "668/674 [============================>.] - ETA: 0s - loss: 0.0932 - acc: 0.9644WARNING:tensorflow:Can save best model only with val_accuracy available, skipping.\n",
      "674/674 [==============================] - 2s 3ms/step - loss: 0.0930 - acc: 0.9644 - val_loss: 0.3960 - val_acc: 0.9045\n",
      "Epoch 25/30\n",
      "673/674 [============================>.] - ETA: 0s - loss: 0.0830 - acc: 0.9680WARNING:tensorflow:Can save best model only with val_accuracy available, skipping.\n",
      "674/674 [==============================] - 2s 3ms/step - loss: 0.0830 - acc: 0.9680 - val_loss: 0.4411 - val_acc: 0.8963\n",
      "Epoch 26/30\n",
      "663/674 [============================>.] - ETA: 0s - loss: 0.0827 - acc: 0.9691WARNING:tensorflow:Can save best model only with val_accuracy available, skipping.\n",
      "674/674 [==============================] - 2s 3ms/step - loss: 0.0826 - acc: 0.9691 - val_loss: 0.4189 - val_acc: 0.9019\n",
      "Epoch 27/30\n",
      "674/674 [==============================] - ETA: 0s - loss: 0.0763 - acc: 0.9706WARNING:tensorflow:Can save best model only with val_accuracy available, skipping.\n",
      "674/674 [==============================] - 2s 3ms/step - loss: 0.0763 - acc: 0.9706 - val_loss: 0.4268 - val_acc: 0.8991\n",
      "Epoch 28/30\n",
      "662/674 [============================>.] - ETA: 0s - loss: 0.0801 - acc: 0.9695WARNING:tensorflow:Can save best model only with val_accuracy available, skipping.\n",
      "674/674 [==============================] - 2s 3ms/step - loss: 0.0797 - acc: 0.9695 - val_loss: 0.4137 - val_acc: 0.9004\n"
     ]
    },
    {
     "name": "stdout",
     "output_type": "stream",
     "text": [
      "Epoch 29/30\n",
      "670/674 [============================>.] - ETA: 0s - loss: 0.0656 - acc: 0.9746WARNING:tensorflow:Can save best model only with val_accuracy available, skipping.\n",
      "674/674 [==============================] - 2s 3ms/step - loss: 0.0658 - acc: 0.9746 - val_loss: 0.4274 - val_acc: 0.8965\n",
      "Epoch 30/30\n",
      "670/674 [============================>.] - ETA: 0s - loss: 0.0682 - acc: 0.9750WARNING:tensorflow:Can save best model only with val_accuracy available, skipping.\n",
      "674/674 [==============================] - 2s 3ms/step - loss: 0.0683 - acc: 0.9750 - val_loss: 0.4581 - val_acc: 0.8945\n"
     ]
    }
   ],
   "source": [
    "history_log = model3.fit(x_train, y_train, epochs=30, verbose=1, validation_data=(x_test, y_test), callbacks=[checkpoint])\n"
   ]
  },
  {
   "cell_type": "code",
   "execution_count": 26,
   "id": "44709207",
   "metadata": {},
   "outputs": [],
   "source": [
    "model3.save_weights('/home/sahaj432/Desktop/code_organized/G_signal_feature_reduction_Project/New_neural_code_SNR_2_v/F8.h5')\n"
   ]
  },
  {
   "cell_type": "code",
   "execution_count": 27,
   "id": "d09ba0e4",
   "metadata": {},
   "outputs": [],
   "source": [
    "model3.load_weights('/home/sahaj432/Desktop/code_organized/G_signal_feature_reduction_Project/New_neural_code_SNR_2_v/F8.h5')\n"
   ]
  },
  {
   "cell_type": "code",
   "execution_count": 28,
   "id": "994f96a7",
   "metadata": {},
   "outputs": [],
   "source": [
    "predictions = model3.predict(x_test)\n",
    "pred_arg = np.argmax(predictions, axis=1)"
   ]
  },
  {
   "cell_type": "code",
   "execution_count": 29,
   "id": "abb59028",
   "metadata": {},
   "outputs": [
    {
     "name": "stdout",
     "output_type": "stream",
     "text": [
      "cnf_matrix_2.0_70\n",
      "\n",
      "[[ 807    3    0   73]\n",
      " [   0  816  107   59]\n",
      " [   1  130  797    0]\n",
      " [  44   68    2 1711]]\n"
     ]
    }
   ],
   "source": [
    "from sklearn.metrics import confusion_matrix\n",
    "cnf_matrix=confusion_matrix(y_test,pred_arg)\n",
    "print(\"cnf_matrix_2.0_70\")\n",
    "print(\"\")\n",
    "print(cnf_matrix)"
   ]
  },
  {
   "cell_type": "code",
   "execution_count": 30,
   "id": "9f134881",
   "metadata": {},
   "outputs": [],
   "source": [
    "from sklearn.metrics import accuracy_score, recall_score,precision_score,roc_auc_score,roc_curve,f1_score\n"
   ]
  },
  {
   "cell_type": "code",
   "execution_count": 31,
   "id": "0f419b16",
   "metadata": {},
   "outputs": [
    {
     "name": "stdout",
     "output_type": "stream",
     "text": [
      "89.45430922477263\n",
      "88.71848859809965\n",
      "89.45430922477263\n",
      "89.53924823422577\n"
     ]
    }
   ],
   "source": [
    "print(accuracy_score(y_test,pred_arg)*100)\n",
    "print(f1_score(y_test,pred_arg,average='macro')*100)\n",
    "print(recall_score(y_test,pred_arg, average=\"weighted\")*100)\n",
    "print(precision_score(y_test,pred_arg, average=\"weighted\")*100)"
   ]
  },
  {
   "cell_type": "code",
   "execution_count": null,
   "id": "868acb03",
   "metadata": {},
   "outputs": [],
   "source": []
  },
  {
   "cell_type": "code",
   "execution_count": null,
   "id": "a8cadd42",
   "metadata": {},
   "outputs": [],
   "source": []
  },
  {
   "cell_type": "code",
   "execution_count": null,
   "id": "9ba39972",
   "metadata": {},
   "outputs": [],
   "source": []
  }
 ],
 "metadata": {
  "anaconda-cloud": {},
  "kernelspec": {
   "display_name": "Python [conda env:root] *",
   "language": "python",
   "name": "conda-root-py"
  },
  "language_info": {
   "codemirror_mode": {
    "name": "ipython",
    "version": 3
   },
   "file_extension": ".py",
   "mimetype": "text/x-python",
   "name": "python",
   "nbconvert_exporter": "python",
   "pygments_lexer": "ipython3",
   "version": "3.9.12"
  }
 },
 "nbformat": 4,
 "nbformat_minor": 5
}
