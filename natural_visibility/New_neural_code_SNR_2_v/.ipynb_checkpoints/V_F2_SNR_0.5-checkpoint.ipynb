{
 "cells": [
  {
   "cell_type": "code",
   "execution_count": 1,
   "id": "9c4dc733",
   "metadata": {},
   "outputs": [
    {
     "name": "stdout",
     "output_type": "stream",
     "text": [
      "Loading PyIOmica 1.3.3 (https://github.com/gmiaslab/pyiomica by G. Mias Lab)\n"
     ]
    },
    {
     "name": "stderr",
     "output_type": "stream",
     "text": [
      "/data/user/home/sahaj432/Desktop/code_organized/G_signal_feature_reduction_Project/New_neural_code_SNR_2_v/pyiomica_master/pyiomica/visibilityGraphAuxiliaryFunctions.py:91: NumbaDeprecationWarning: \u001b[1mThe 'nopython' keyword argument was not supplied to the 'numba.jit' decorator. The implicit default value for this argument is currently False, but it will be changed to True in Numba 0.59.0. See https://numba.readthedocs.io/en/stable/reference/deprecation.html#deprecation-of-object-mode-fall-back-behaviour-when-using-jit for details.\u001b[0m\n",
      "  @numba.jit(cache=True)\n"
     ]
    }
   ],
   "source": [
    "import numpy as np\n",
    "import os\n",
    "import glob\n",
    "import seaborn as sns\n",
    "import matplotlib.pyplot as plt\n",
    "from pyiomica_master import pyiomica as pio\n",
    "from pyiomica_master.pyiomica import visualizationFunctions\n",
    "from pyiomica_master.pyiomica import visibilityGraphCommunityDetection\n",
    "import matplotlib as mpl\n",
    "from sklearn.utils import shuffle\n",
    "from sklearn.model_selection import train_test_split\n",
    "\n",
    "from tqdm import tqdm\n",
    "%matplotlib inline"
   ]
  },
  {
   "cell_type": "code",
   "execution_count": 2,
   "id": "b297825b",
   "metadata": {},
   "outputs": [],
   "source": [
    "x_frame1_05 = np.genfromtxt('/home/sahaj432/Desktop/dataset/neural_4_class/x_frame1_2_seed.csv', delimiter=',')\n",
    "x_frame2_05 = np.genfromtxt('/home/sahaj432/Desktop/dataset/neural_4_class/x_frame2_2_seed.csv', delimiter=',')\n",
    "x_frame3_05 = np.genfromtxt('/home/sahaj432/Desktop/dataset/neural_4_class/x_frame3_2_seed.csv', delimiter=',')\n",
    "x_framen_05= np.genfromtxt('/home/sahaj432/Desktop/dataset/neural_4_class/x_frame_noise_2_seed.csv', delimiter=',')"
   ]
  },
  {
   "cell_type": "code",
   "execution_count": null,
   "id": "81f7372f",
   "metadata": {},
   "outputs": [],
   "source": []
  },
  {
   "cell_type": "code",
   "execution_count": 3,
   "id": "79eaf877",
   "metadata": {},
   "outputs": [],
   "source": [
    "x=np.concatenate((x_frame1_05,x_frame2_05,x_frame3_05,x_framen_05[:6000]),axis=0)\n",
    "y=np.concatenate((np.zeros(len(x_frame1_05)),np.zeros(len(x_frame2_05))+1,np.zeros(len(x_frame3_05))+2,np.zeros(len(x_framen_05[:6000]))+3),axis=0)"
   ]
  },
  {
   "cell_type": "code",
   "execution_count": 4,
   "id": "3ea7e902",
   "metadata": {},
   "outputs": [],
   "source": [
    "X, Y = shuffle(x,y, random_state=1)"
   ]
  },
  {
   "cell_type": "code",
   "execution_count": 5,
   "id": "b78a4e4f",
   "metadata": {},
   "outputs": [],
   "source": [
    "def calculate_adj(data):\n",
    "    temp1=[]\n",
    "    for p, i in enumerate(data):\n",
    "        #print(f'Converting ==> {p+1} \\r', end=\"\",flush=True)\n",
    "        vs_out = visibilityGraphCommunityDetection.createVisibilityGraph(i, range(len(i)), \"natural\", weight='tan')\n",
    "        vs_out=np.asarray(vs_out)\n",
    "        temp1.append(vs_out)\n",
    "        \n",
    "    return temp1"
   ]
  },
  {
   "cell_type": "code",
   "execution_count": 6,
   "id": "d76d37e4",
   "metadata": {},
   "outputs": [
    {
     "name": "stdout",
     "output_type": "stream",
     "text": [
      "Number of CPU cores: 48\n"
     ]
    }
   ],
   "source": [
    "from multiprocessing import Pool\n",
    "import multiprocessing\n",
    "\n",
    "if __name__ == '__main__':\n",
    "    num_cores = multiprocessing.cpu_count()\n",
    "    print(\"Number of CPU cores:\", num_cores)"
   ]
  },
  {
   "cell_type": "code",
   "execution_count": 7,
   "id": "7c17ff90",
   "metadata": {},
   "outputs": [
    {
     "name": "stdout",
     "output_type": "stream",
     "text": [
      "517\n"
     ]
    }
   ],
   "source": [
    "df=np.array_split(X, num_cores)\n",
    "print(len(df[0]))"
   ]
  },
  {
   "cell_type": "code",
   "execution_count": 8,
   "id": "83c17a05",
   "metadata": {},
   "outputs": [],
   "source": [
    "with Pool(processes=num_cores) as pool:\n",
    "    results = pool.map(calculate_adj, df)\n",
    "\n",
    "pool.close()\n",
    "pool.join()"
   ]
  },
  {
   "cell_type": "code",
   "execution_count": 9,
   "id": "8f6e3323",
   "metadata": {},
   "outputs": [],
   "source": [
    "x_adj=[]\n",
    "for submatrix in results:\n",
    "    x_adj.extend(submatrix)"
   ]
  },
  {
   "cell_type": "code",
   "execution_count": 10,
   "id": "f5de6f8d",
   "metadata": {},
   "outputs": [
    {
     "name": "stdout",
     "output_type": "stream",
     "text": [
      "24783\n"
     ]
    }
   ],
   "source": [
    "print(len(x_adj))"
   ]
  },
  {
   "cell_type": "code",
   "execution_count": 11,
   "id": "37e26890",
   "metadata": {},
   "outputs": [],
   "source": [
    "x_adj=np.array(x_adj)"
   ]
  },
  {
   "cell_type": "code",
   "execution_count": 12,
   "id": "79d3d717",
   "metadata": {},
   "outputs": [],
   "source": [
    "def graph_index_complexity(matrix):\n",
    "    N = len(matrix) # Number of nodes\n",
    "    E = np.sum(matrix > 0) / 2 # Number of edges (since matrix is symmetric for undirected graphs)\n",
    "    \n",
    "    if N == 0 or E == 0:\n",
    "        return 0\n",
    "    \n",
    "    GIC = (E / N) * np.log(N)\n",
    "    return GIC"
   ]
  },
  {
   "cell_type": "code",
   "execution_count": 13,
   "id": "baccf05e",
   "metadata": {},
   "outputs": [],
   "source": [
    "def degree(data): #The node strengths (or weighted degrees) \n",
    "    return np.sum(data, axis=0).flatten()"
   ]
  },
  {
   "cell_type": "code",
   "execution_count": 14,
   "id": "fe9d74c9",
   "metadata": {},
   "outputs": [],
   "source": [
    "import networkx as nx\n",
    "def runall(data):\n",
    "    temp1=[]\n",
    "    for i in data:\n",
    "        G = nx.from_numpy_array(i, parallel_edges=False)\n",
    "        \n",
    "        cpl=[nx.average_shortest_path_length(G)]\n",
    "        ge=[nx.global_efficiency(G)]\n",
    "        le=[nx.local_efficiency(G)]\n",
    "        ac=[nx.degree_assortativity_coefficient(G)]\n",
    "        d=degree(i).tolist()\n",
    "        bc=list(nx.betweenness_centrality(G).values())\n",
    "        cc=list(nx.clustering(G).values())\n",
    "        temp1.append(cpl+ge+le+ac+d+bc+cc) #+cpl+ge+le+ac+cc\n",
    "    return temp1"
   ]
  },
  {
   "cell_type": "code",
   "execution_count": 15,
   "id": "6c582fda",
   "metadata": {},
   "outputs": [
    {
     "name": "stdout",
     "output_type": "stream",
     "text": [
      "Number of CPU cores: 48\n",
      "517\n"
     ]
    }
   ],
   "source": [
    "from multiprocessing import Pool\n",
    "import multiprocessing\n",
    "\n",
    "if __name__ == '__main__':\n",
    "    num_cores = multiprocessing.cpu_count()\n",
    "    print(\"Number of CPU cores:\", num_cores)\n",
    "\n",
    "\n",
    "df1=np.array_split(x_adj[:], num_cores)\n",
    "\n",
    "\n",
    "print(len(df[0]))\n",
    "\n",
    "\n"
   ]
  },
  {
   "cell_type": "code",
   "execution_count": 16,
   "id": "489e53ab",
   "metadata": {},
   "outputs": [
    {
     "name": "stdout",
     "output_type": "stream",
     "text": [
      "--- 26.63321614265442 seconds ---\n"
     ]
    }
   ],
   "source": [
    "\n",
    "import time\n",
    "start_time = time.time()\n",
    "with Pool(processes=num_cores) as pool1:\n",
    "    results1 = pool1.map(runall, df1)\n",
    "\n",
    "pool1.close()\n",
    "pool1.join()\n",
    "\n",
    "print(\"--- %s seconds ---\" % (time.time() - start_time))\n"
   ]
  },
  {
   "cell_type": "code",
   "execution_count": 17,
   "id": "4bd5c260",
   "metadata": {},
   "outputs": [],
   "source": [
    "x_g=[]\n",
    "for submatrix in results1:\n",
    "    x_g.extend(submatrix)"
   ]
  },
  {
   "cell_type": "code",
   "execution_count": 18,
   "id": "e7087c73",
   "metadata": {},
   "outputs": [],
   "source": [
    "x_g=np.array(x_g)\n"
   ]
  },
  {
   "cell_type": "code",
   "execution_count": 19,
   "id": "8755a166",
   "metadata": {},
   "outputs": [
    {
     "name": "stdout",
     "output_type": "stream",
     "text": [
      "(24783, 172)\n"
     ]
    }
   ],
   "source": [
    "print(x_g.shape)"
   ]
  },
  {
   "cell_type": "code",
   "execution_count": 20,
   "id": "584b0d16",
   "metadata": {},
   "outputs": [],
   "source": [
    "x_train, x_temp, y_train, y_temp = train_test_split(x_g, Y, test_size=0.30, random_state=42)\n",
    "x_val,x_test,y_val,y_test=train_test_split(x_temp,y_temp,test_size=0.50, random_state=42)"
   ]
  },
  {
   "cell_type": "code",
   "execution_count": 21,
   "id": "87ff4de7",
   "metadata": {},
   "outputs": [
    {
     "name": "stdout",
     "output_type": "stream",
     "text": [
      "(17348, 172)\n",
      "(3717, 172)\n",
      "(3718, 172)\n"
     ]
    }
   ],
   "source": [
    "print(x_train.shape)\n",
    "print(x_val.shape)\n",
    "print(x_test.shape)"
   ]
  },
  {
   "cell_type": "code",
   "execution_count": 22,
   "id": "5ee715d8",
   "metadata": {},
   "outputs": [
    {
     "name": "stderr",
     "output_type": "stream",
     "text": [
      "2023-08-13 09:41:25.152833: W tensorflow/stream_executor/platform/default/dso_loader.cc:64] Could not load dynamic library 'libcudart.so.11.0'; dlerror: libcudart.so.11.0: cannot open shared object file: No such file or directory; LD_LIBRARY_PATH: /cm/shared/apps/slurm/18.08.9/lib64/slurm:/cm/shared/apps/slurm/18.08.9/lib64\n",
      "2023-08-13 09:41:25.152872: I tensorflow/stream_executor/cuda/cudart_stub.cc:29] Ignore above cudart dlerror if you do not have a GPU set up on your machine.\n"
     ]
    }
   ],
   "source": [
    "import tensorflow as tf\n"
   ]
  },
  {
   "cell_type": "code",
   "execution_count": 23,
   "id": "a51d8943",
   "metadata": {},
   "outputs": [
    {
     "name": "stderr",
     "output_type": "stream",
     "text": [
      "2023-08-13 09:41:49.443718: W tensorflow/stream_executor/platform/default/dso_loader.cc:64] Could not load dynamic library 'libcuda.so.1'; dlerror: libcuda.so.1: cannot open shared object file: No such file or directory; LD_LIBRARY_PATH: /cm/shared/apps/slurm/18.08.9/lib64/slurm:/cm/shared/apps/slurm/18.08.9/lib64\n",
      "2023-08-13 09:41:49.479904: W tensorflow/stream_executor/cuda/cuda_driver.cc:269] failed call to cuInit: UNKNOWN ERROR (303)\n",
      "2023-08-13 09:41:49.479955: I tensorflow/stream_executor/cuda/cuda_diagnostics.cc:156] kernel driver does not appear to be running on this host (c0158): /proc/driver/nvidia/version does not exist\n",
      "2023-08-13 09:41:49.543346: I tensorflow/core/platform/cpu_feature_guard.cc:151] This TensorFlow binary is optimized with oneAPI Deep Neural Network Library (oneDNN) to use the following CPU instructions in performance-critical operations:  AVX2 AVX512F FMA\n",
      "To enable them in other operations, rebuild TensorFlow with the appropriate compiler flags.\n"
     ]
    }
   ],
   "source": [
    "input_shape = (x_train.shape[1],1)\n",
    "num_classes = 4\n",
    "model3 = tf.keras.models.Sequential()\n",
    "model3.add(tf.keras.layers.Conv1D(filters= 32, kernel_size=3, activation='relu',padding='same',input_shape= input_shape))\n",
    "model3.add(tf.keras.layers.MaxPooling1D(pool_size=2,strides=None,padding='valid'))\n",
    "\n",
    "model3.add(tf.keras.layers.Conv1D(filters=32, kernel_size=3,padding='same',activation='relu'))\n",
    "model3.add(tf.keras.layers.MaxPooling1D(pool_size=2,strides=None,padding='valid'))\n",
    "\n",
    "# model3.add(tf.keras.layers.Conv1D(filters=32, kernel_size=3,padding='same',activation='relu'))\n",
    "# model3.add(tf.keras.layers.MaxPooling1D(pool_size=2,strides=None,padding='valid'))\n",
    "# model3.add(tf.keras.layers.Conv1D(filters=32, kernel_size=3,padding='same',activation='relu'))\n",
    "# model3.add(tf.keras.layers.MaxPooling1D(pool_size=2,strides=None,padding='valid'))\n",
    "# model3.add(tf.keras.layers.Conv1D(filters=32, kernel_size=3,padding='same',activation='relu'))\n",
    "# model3.add(tf.keras.layers.MaxPooling1D(pool_size=2,strides=None,padding='valid'))\n",
    "# model3.add(tf.keras.layers.Conv1D(filters=32, kernel_size=3,padding='same',activation='relu'))\n",
    "# model3.add(tf.keras.layers.MaxPooling1D(pool_size=2,strides=None,padding='valid'))\n",
    "model3.add(tf.keras.layers.Flatten())\n",
    "\n",
    "model3.add(tf.keras.layers.Dense(100, activation='relu'))\n",
    "model3.add(tf.keras.layers.Dropout(0.1))\n",
    "model3.add(tf.keras.layers.Dense(100, activation='relu'))\n",
    "model3.add(tf.keras.layers.Dense(num_classes, activation='softmax'))"
   ]
  },
  {
   "cell_type": "code",
   "execution_count": 24,
   "id": "09f1d97c",
   "metadata": {},
   "outputs": [
    {
     "name": "stdout",
     "output_type": "stream",
     "text": [
      "Model: \"sequential\"\n",
      "_________________________________________________________________\n",
      " Layer (type)                Output Shape              Param #   \n",
      "=================================================================\n",
      " conv1d (Conv1D)             (None, 172, 32)           128       \n",
      "                                                                 \n",
      " max_pooling1d (MaxPooling1D  (None, 86, 32)           0         \n",
      " )                                                               \n",
      "                                                                 \n",
      " conv1d_1 (Conv1D)           (None, 86, 32)            3104      \n",
      "                                                                 \n",
      " max_pooling1d_1 (MaxPooling  (None, 43, 32)           0         \n",
      " 1D)                                                             \n",
      "                                                                 \n",
      " flatten (Flatten)           (None, 1376)              0         \n",
      "                                                                 \n",
      " dense (Dense)               (None, 100)               137700    \n",
      "                                                                 \n",
      " dropout (Dropout)           (None, 100)               0         \n",
      "                                                                 \n",
      " dense_1 (Dense)             (None, 100)               10100     \n",
      "                                                                 \n",
      " dense_2 (Dense)             (None, 4)                 404       \n",
      "                                                                 \n",
      "=================================================================\n",
      "Total params: 151,436\n",
      "Trainable params: 151,436\n",
      "Non-trainable params: 0\n",
      "_________________________________________________________________\n"
     ]
    }
   ],
   "source": [
    "model3.summary()"
   ]
  },
  {
   "cell_type": "code",
   "execution_count": 25,
   "id": "5691f34f",
   "metadata": {},
   "outputs": [],
   "source": [
    "model3.compile(loss='SparseCategoricalCrossentropy', optimizer='Adam', metrics=['acc'])\n"
   ]
  },
  {
   "cell_type": "code",
   "execution_count": 26,
   "id": "854edfb4",
   "metadata": {},
   "outputs": [],
   "source": [
    "from tensorflow.keras.callbacks import ModelCheckpoint\n",
    "from tensorflow.keras.models import load_model\n",
    "\n",
    "\n",
    "\n",
    "checkpoint = ModelCheckpoint('F2.h5', monitor='val_accuracy', verbose=1, save_best_only=True, mode='max')\n"
   ]
  },
  {
   "cell_type": "code",
   "execution_count": 27,
   "id": "43bf0926",
   "metadata": {
    "scrolled": true
   },
   "outputs": [
    {
     "name": "stdout",
     "output_type": "stream",
     "text": [
      "Epoch 1/30\n",
      "530/543 [============================>.] - ETA: 0s - loss: 0.4183 - acc: 0.8337WARNING:tensorflow:Can save best model only with val_accuracy available, skipping.\n",
      "543/543 [==============================] - 3s 4ms/step - loss: 0.4151 - acc: 0.8349 - val_loss: 0.3417 - val_acc: 0.8693\n",
      "Epoch 2/30\n",
      "536/543 [============================>.] - ETA: 0s - loss: 0.2732 - acc: 0.8927WARNING:tensorflow:Can save best model only with val_accuracy available, skipping.\n",
      "543/543 [==============================] - 2s 4ms/step - loss: 0.2728 - acc: 0.8930 - val_loss: 0.2552 - val_acc: 0.9005\n",
      "Epoch 3/30\n",
      "529/543 [============================>.] - ETA: 0s - loss: 0.2493 - acc: 0.9019WARNING:tensorflow:Can save best model only with val_accuracy available, skipping.\n",
      "543/543 [==============================] - 2s 4ms/step - loss: 0.2498 - acc: 0.9015 - val_loss: 0.2390 - val_acc: 0.9088\n",
      "Epoch 4/30\n",
      "542/543 [============================>.] - ETA: 0s - loss: 0.2404 - acc: 0.9066WARNING:tensorflow:Can save best model only with val_accuracy available, skipping.\n",
      "543/543 [==============================] - 2s 4ms/step - loss: 0.2403 - acc: 0.9066 - val_loss: 0.2410 - val_acc: 0.9088\n",
      "Epoch 5/30\n",
      "533/543 [============================>.] - ETA: 0s - loss: 0.2396 - acc: 0.9051WARNING:tensorflow:Can save best model only with val_accuracy available, skipping.\n",
      "543/543 [==============================] - 2s 4ms/step - loss: 0.2398 - acc: 0.9052 - val_loss: 0.2476 - val_acc: 0.9021\n",
      "Epoch 6/30\n",
      "530/543 [============================>.] - ETA: 0s - loss: 0.2231 - acc: 0.9145WARNING:tensorflow:Can save best model only with val_accuracy available, skipping.\n",
      "543/543 [==============================] - 2s 4ms/step - loss: 0.2235 - acc: 0.9143 - val_loss: 0.2464 - val_acc: 0.9056\n",
      "Epoch 7/30\n",
      "540/543 [============================>.] - ETA: 0s - loss: 0.2204 - acc: 0.9144WARNING:tensorflow:Can save best model only with val_accuracy available, skipping.\n",
      "543/543 [==============================] - 2s 4ms/step - loss: 0.2208 - acc: 0.9142 - val_loss: 0.2529 - val_acc: 0.9010\n",
      "Epoch 8/30\n",
      "537/543 [============================>.] - ETA: 0s - loss: 0.2151 - acc: 0.9156WARNING:tensorflow:Can save best model only with val_accuracy available, skipping.\n",
      "543/543 [==============================] - 2s 4ms/step - loss: 0.2142 - acc: 0.9161 - val_loss: 0.2454 - val_acc: 0.9064\n",
      "Epoch 9/30\n",
      "529/543 [============================>.] - ETA: 0s - loss: 0.2057 - acc: 0.9198WARNING:tensorflow:Can save best model only with val_accuracy available, skipping.\n",
      "543/543 [==============================] - 2s 4ms/step - loss: 0.2071 - acc: 0.9195 - val_loss: 0.2412 - val_acc: 0.9056\n",
      "Epoch 10/30\n",
      "539/543 [============================>.] - ETA: 0s - loss: 0.2064 - acc: 0.9199WARNING:tensorflow:Can save best model only with val_accuracy available, skipping.\n",
      "543/543 [==============================] - 2s 4ms/step - loss: 0.2066 - acc: 0.9198 - val_loss: 0.2469 - val_acc: 0.9048\n",
      "Epoch 11/30\n",
      "541/543 [============================>.] - ETA: 0s - loss: 0.1986 - acc: 0.9229WARNING:tensorflow:Can save best model only with val_accuracy available, skipping.\n",
      "543/543 [==============================] - 2s 4ms/step - loss: 0.1988 - acc: 0.9230 - val_loss: 0.2456 - val_acc: 0.9064\n",
      "Epoch 12/30\n",
      "532/543 [============================>.] - ETA: 0s - loss: 0.1913 - acc: 0.9250WARNING:tensorflow:Can save best model only with val_accuracy available, skipping.\n",
      "543/543 [==============================] - 2s 4ms/step - loss: 0.1910 - acc: 0.9250 - val_loss: 0.2648 - val_acc: 0.9026\n",
      "Epoch 13/30\n",
      "536/543 [============================>.] - ETA: 0s - loss: 0.1878 - acc: 0.9260WARNING:tensorflow:Can save best model only with val_accuracy available, skipping.\n",
      "543/543 [==============================] - 2s 4ms/step - loss: 0.1881 - acc: 0.9259 - val_loss: 0.2529 - val_acc: 0.9040\n",
      "Epoch 14/30\n",
      "534/543 [============================>.] - ETA: 0s - loss: 0.1831 - acc: 0.9283WARNING:tensorflow:Can save best model only with val_accuracy available, skipping.\n",
      "543/543 [==============================] - 2s 4ms/step - loss: 0.1830 - acc: 0.9281 - val_loss: 0.2632 - val_acc: 0.9026\n",
      "Epoch 15/30\n",
      "534/543 [============================>.] - ETA: 0s - loss: 0.1768 - acc: 0.9303WARNING:tensorflow:Can save best model only with val_accuracy available, skipping.\n",
      "543/543 [==============================] - 2s 4ms/step - loss: 0.1770 - acc: 0.9301 - val_loss: 0.2599 - val_acc: 0.9005\n",
      "Epoch 16/30\n",
      "537/543 [============================>.] - ETA: 0s - loss: 0.1713 - acc: 0.9332WARNING:tensorflow:Can save best model only with val_accuracy available, skipping.\n",
      "543/543 [==============================] - 2s 4ms/step - loss: 0.1713 - acc: 0.9332 - val_loss: 0.2552 - val_acc: 0.9034\n",
      "Epoch 17/30\n",
      "541/543 [============================>.] - ETA: 0s - loss: 0.1630 - acc: 0.9370WARNING:tensorflow:Can save best model only with val_accuracy available, skipping.\n",
      "543/543 [==============================] - 2s 4ms/step - loss: 0.1629 - acc: 0.9371 - val_loss: 0.2943 - val_acc: 0.9018\n",
      "Epoch 18/30\n",
      "543/543 [==============================] - ETA: 0s - loss: 0.1569 - acc: 0.9398WARNING:tensorflow:Can save best model only with val_accuracy available, skipping.\n",
      "543/543 [==============================] - 2s 4ms/step - loss: 0.1569 - acc: 0.9398 - val_loss: 0.2935 - val_acc: 0.8970\n",
      "Epoch 19/30\n",
      "536/543 [============================>.] - ETA: 0s - loss: 0.1492 - acc: 0.9416WARNING:tensorflow:Can save best model only with val_accuracy available, skipping.\n",
      "543/543 [==============================] - 2s 4ms/step - loss: 0.1489 - acc: 0.9418 - val_loss: 0.3183 - val_acc: 0.8870\n",
      "Epoch 20/30\n",
      "539/543 [============================>.] - ETA: 0s - loss: 0.1377 - acc: 0.9463WARNING:tensorflow:Can save best model only with val_accuracy available, skipping.\n",
      "543/543 [==============================] - 2s 4ms/step - loss: 0.1379 - acc: 0.9462 - val_loss: 0.2762 - val_acc: 0.9018\n",
      "Epoch 21/30\n",
      "528/543 [============================>.] - ETA: 0s - loss: 0.1305 - acc: 0.9490WARNING:tensorflow:Can save best model only with val_accuracy available, skipping.\n",
      "543/543 [==============================] - 2s 4ms/step - loss: 0.1316 - acc: 0.9484 - val_loss: 0.3210 - val_acc: 0.8978\n",
      "Epoch 22/30\n",
      "542/543 [============================>.] - ETA: 0s - loss: 0.1232 - acc: 0.9516WARNING:tensorflow:Can save best model only with val_accuracy available, skipping.\n",
      "543/543 [==============================] - 2s 4ms/step - loss: 0.1234 - acc: 0.9516 - val_loss: 0.3224 - val_acc: 0.9010\n",
      "Epoch 23/30\n",
      "528/543 [============================>.] - ETA: 0s - loss: 0.1159 - acc: 0.9551WARNING:tensorflow:Can save best model only with val_accuracy available, skipping.\n",
      "543/543 [==============================] - 2s 4ms/step - loss: 0.1167 - acc: 0.9548 - val_loss: 0.3447 - val_acc: 0.8964\n",
      "Epoch 24/30\n",
      "542/543 [============================>.] - ETA: 0s - loss: 0.1084 - acc: 0.9576WARNING:tensorflow:Can save best model only with val_accuracy available, skipping.\n",
      "543/543 [==============================] - 2s 4ms/step - loss: 0.1084 - acc: 0.9576 - val_loss: 0.3299 - val_acc: 0.8997\n",
      "Epoch 25/30\n",
      "536/543 [============================>.] - ETA: 0s - loss: 0.1019 - acc: 0.9588WARNING:tensorflow:Can save best model only with val_accuracy available, skipping.\n",
      "543/543 [==============================] - 2s 4ms/step - loss: 0.1031 - acc: 0.9582 - val_loss: 0.3546 - val_acc: 0.8997\n",
      "Epoch 26/30\n",
      "539/543 [============================>.] - ETA: 0s - loss: 0.0904 - acc: 0.9646WARNING:tensorflow:Can save best model only with val_accuracy available, skipping.\n",
      "543/543 [==============================] - 2s 4ms/step - loss: 0.0908 - acc: 0.9645 - val_loss: 0.4196 - val_acc: 0.8795\n",
      "Epoch 27/30\n",
      "540/543 [============================>.] - ETA: 0s - loss: 0.0911 - acc: 0.9652WARNING:tensorflow:Can save best model only with val_accuracy available, skipping.\n",
      "543/543 [==============================] - 2s 4ms/step - loss: 0.0909 - acc: 0.9653 - val_loss: 0.4034 - val_acc: 0.8983\n",
      "Epoch 28/30\n",
      "534/543 [============================>.] - ETA: 0s - loss: 0.0749 - acc: 0.9721WARNING:tensorflow:Can save best model only with val_accuracy available, skipping.\n",
      "543/543 [==============================] - 2s 4ms/step - loss: 0.0749 - acc: 0.9719 - val_loss: 0.4336 - val_acc: 0.8905\n"
     ]
    },
    {
     "name": "stdout",
     "output_type": "stream",
     "text": [
      "Epoch 29/30\n",
      "532/543 [============================>.] - ETA: 0s - loss: 0.0827 - acc: 0.9681WARNING:tensorflow:Can save best model only with val_accuracy available, skipping.\n",
      "543/543 [==============================] - 2s 4ms/step - loss: 0.0828 - acc: 0.9681 - val_loss: 0.4471 - val_acc: 0.8862\n",
      "Epoch 30/30\n",
      "539/543 [============================>.] - ETA: 0s - loss: 0.0662 - acc: 0.9753WARNING:tensorflow:Can save best model only with val_accuracy available, skipping.\n",
      "543/543 [==============================] - 2s 4ms/step - loss: 0.0662 - acc: 0.9752 - val_loss: 0.4228 - val_acc: 0.8943\n"
     ]
    }
   ],
   "source": [
    "history_log = model3.fit(x_train, y_train, epochs=30, verbose=1, validation_data=(x_test, y_test), callbacks=[checkpoint])\n"
   ]
  },
  {
   "cell_type": "code",
   "execution_count": 28,
   "id": "44709207",
   "metadata": {},
   "outputs": [],
   "source": [
    "model3.save_weights('/home/sahaj432/Desktop/code_organized/G_signal_feature_reduction_Project/New_neural_code_SNR_2_v/F2.h5')\n"
   ]
  },
  {
   "cell_type": "code",
   "execution_count": 29,
   "id": "d09ba0e4",
   "metadata": {},
   "outputs": [],
   "source": [
    "model3.load_weights('/home/sahaj432/Desktop/code_organized/G_signal_feature_reduction_Project/New_neural_code_SNR_2_v/F2.h5')\n"
   ]
  },
  {
   "cell_type": "code",
   "execution_count": 30,
   "id": "994f96a7",
   "metadata": {},
   "outputs": [],
   "source": [
    "predictions = model3.predict(x_test)\n",
    "pred_arg = np.argmax(predictions, axis=1)"
   ]
  },
  {
   "cell_type": "code",
   "execution_count": 31,
   "id": "abb59028",
   "metadata": {},
   "outputs": [
    {
     "name": "stdout",
     "output_type": "stream",
     "text": [
      "cnf_matrix_2.0_70\n",
      "\n",
      "[[787   2   0  30]\n",
      " [  2 826 130  43]\n",
      " [  0 127 891   0]\n",
      " [ 30  28   1 821]]\n"
     ]
    }
   ],
   "source": [
    "from sklearn.metrics import confusion_matrix\n",
    "cnf_matrix=confusion_matrix(y_test,pred_arg)\n",
    "print(\"cnf_matrix_2.0_70\")\n",
    "print(\"\")\n",
    "print(cnf_matrix)"
   ]
  },
  {
   "cell_type": "code",
   "execution_count": 32,
   "id": "9f134881",
   "metadata": {},
   "outputs": [],
   "source": [
    "from sklearn.metrics import accuracy_score, recall_score,precision_score,roc_auc_score,roc_curve,f1_score\n"
   ]
  },
  {
   "cell_type": "code",
   "execution_count": 33,
   "id": "0f419b16",
   "metadata": {},
   "outputs": [
    {
     "name": "stdout",
     "output_type": "stream",
     "text": [
      "89.42980096826251\n",
      "89.81776364415232\n",
      "89.42980096826251\n",
      "89.39701517084686\n"
     ]
    }
   ],
   "source": [
    "print(accuracy_score(y_test,pred_arg)*100)\n",
    "print(f1_score(y_test,pred_arg,average='macro')*100)\n",
    "print(recall_score(y_test,pred_arg, average=\"weighted\")*100)\n",
    "print(precision_score(y_test,pred_arg, average=\"weighted\")*100)"
   ]
  },
  {
   "cell_type": "code",
   "execution_count": null,
   "id": "90845a20",
   "metadata": {},
   "outputs": [],
   "source": []
  },
  {
   "cell_type": "code",
   "execution_count": null,
   "id": "dd00c7be",
   "metadata": {},
   "outputs": [],
   "source": []
  },
  {
   "cell_type": "code",
   "execution_count": null,
   "id": "a287b514",
   "metadata": {},
   "outputs": [],
   "source": []
  }
 ],
 "metadata": {
  "anaconda-cloud": {},
  "kernelspec": {
   "display_name": "Python [conda env:root] *",
   "language": "python",
   "name": "conda-root-py"
  },
  "language_info": {
   "codemirror_mode": {
    "name": "ipython",
    "version": 3
   },
   "file_extension": ".py",
   "mimetype": "text/x-python",
   "name": "python",
   "nbconvert_exporter": "python",
   "pygments_lexer": "ipython3",
   "version": "3.9.12"
  }
 },
 "nbformat": 4,
 "nbformat_minor": 5
}
