{
 "cells": [
  {
   "cell_type": "code",
   "execution_count": 1,
   "id": "89e29f03",
   "metadata": {},
   "outputs": [
    {
     "name": "stdout",
     "output_type": "stream",
     "text": [
      "Loading PyIOmica 1.3.3 (https://github.com/gmiaslab/pyiomica by G. Mias Lab)\n"
     ]
    },
    {
     "name": "stderr",
     "output_type": "stream",
     "text": [
      "/data/user/home/sahaj432/Desktop/code_organized/G_signal_feature_reduction_Project/New_neural_code_SNR_2_v/pyiomica_master/pyiomica/visibilityGraphAuxiliaryFunctions.py:91: NumbaDeprecationWarning: \u001b[1mThe 'nopython' keyword argument was not supplied to the 'numba.jit' decorator. The implicit default value for this argument is currently False, but it will be changed to True in Numba 0.59.0. See https://numba.readthedocs.io/en/stable/reference/deprecation.html#deprecation-of-object-mode-fall-back-behaviour-when-using-jit for details.\u001b[0m\n",
      "  @numba.jit(cache=True)\n"
     ]
    }
   ],
   "source": [
    "import numpy as np\n",
    "import os\n",
    "import glob\n",
    "import seaborn as sns\n",
    "import matplotlib.pyplot as plt\n",
    "from pyiomica_master import pyiomica as pio\n",
    "from pyiomica_master.pyiomica import visualizationFunctions\n",
    "from pyiomica_master.pyiomica import visibilityGraphCommunityDetection\n",
    "import matplotlib as mpl\n",
    "from sklearn.utils import shuffle\n",
    "from sklearn.model_selection import train_test_split\n",
    "\n",
    "from tqdm import tqdm\n",
    "%matplotlib inline"
   ]
  },
  {
   "cell_type": "code",
   "execution_count": 2,
   "id": "b297825b",
   "metadata": {},
   "outputs": [],
   "source": [
    "x_frame1_05 = np.genfromtxt('/home/sahaj432/Desktop/dataset/neural_4_class/x_frame1_2_seed.csv', delimiter=',')\n",
    "x_frame2_05 = np.genfromtxt('/home/sahaj432/Desktop/dataset/neural_4_class/x_frame2_2_seed.csv', delimiter=',')\n",
    "x_frame3_05 = np.genfromtxt('/home/sahaj432/Desktop/dataset/neural_4_class/x_frame3_2_seed.csv', delimiter=',')\n",
    "x_framen_05= np.genfromtxt('/home/sahaj432/Desktop/dataset/neural_4_class/x_frame_noise_2_seed.csv', delimiter=',')"
   ]
  },
  {
   "cell_type": "code",
   "execution_count": null,
   "id": "c61feafd",
   "metadata": {},
   "outputs": [],
   "source": []
  },
  {
   "cell_type": "code",
   "execution_count": 3,
   "id": "112c6fdf",
   "metadata": {},
   "outputs": [],
   "source": [
    "x=np.concatenate((x_frame1_05,x_frame2_05,x_frame3_05,x_framen_05),axis=0)\n",
    "y=np.concatenate((np.zeros(len(x_frame1_05)),np.zeros(len(x_frame2_05))+1,np.zeros(len(x_frame3_05))+2,np.zeros(len(x_framen_05))+3),axis=0)"
   ]
  },
  {
   "cell_type": "code",
   "execution_count": 4,
   "id": "cfcfbda9",
   "metadata": {},
   "outputs": [],
   "source": [
    "X, Y = shuffle(x,y, random_state=1)"
   ]
  },
  {
   "cell_type": "code",
   "execution_count": 5,
   "id": "7898816c",
   "metadata": {},
   "outputs": [],
   "source": [
    "def calculate_adj(data):\n",
    "    temp1=[]\n",
    "    for p, i in enumerate(data):\n",
    "        #print(f'Converting ==> {p+1} \\r', end=\"\",flush=True)\n",
    "        vs_out = visibilityGraphCommunityDetection.createVisibilityGraph(i, range(len(i)), \"natural\", weight='tan')\n",
    "        temp1.append(vs_out)\n",
    "        \n",
    "    return temp1"
   ]
  },
  {
   "cell_type": "code",
   "execution_count": 6,
   "id": "a609f105",
   "metadata": {
    "scrolled": true
   },
   "outputs": [
    {
     "name": "stdout",
     "output_type": "stream",
     "text": [
      "Number of CPU cores: 48\n"
     ]
    }
   ],
   "source": [
    "from multiprocessing import Pool\n",
    "import multiprocessing\n",
    "\n",
    "if __name__ == '__main__':\n",
    "    num_cores = multiprocessing.cpu_count()\n",
    "    print(\"Number of CPU cores:\", num_cores)"
   ]
  },
  {
   "cell_type": "code",
   "execution_count": 7,
   "id": "8cef4d3e",
   "metadata": {},
   "outputs": [
    {
     "name": "stdout",
     "output_type": "stream",
     "text": [
      "642\n"
     ]
    }
   ],
   "source": [
    "df=np.array_split(X, num_cores)\n",
    "print(len(df[0]))"
   ]
  },
  {
   "cell_type": "code",
   "execution_count": 8,
   "id": "1cf6a2bb",
   "metadata": {},
   "outputs": [],
   "source": [
    "with Pool(processes=num_cores) as pool:\n",
    "    results = pool.map(calculate_adj, df)\n",
    "\n",
    "pool.close()\n",
    "pool.join()"
   ]
  },
  {
   "cell_type": "code",
   "execution_count": 9,
   "id": "2f80b2a9",
   "metadata": {},
   "outputs": [],
   "source": [
    "x_adj=[]\n",
    "for submatrix in results:\n",
    "    x_adj.extend(submatrix)"
   ]
  },
  {
   "cell_type": "code",
   "execution_count": 10,
   "id": "55dc354c",
   "metadata": {},
   "outputs": [],
   "source": [
    "x_adj=np.array(x_adj)"
   ]
  },
  {
   "cell_type": "code",
   "execution_count": 11,
   "id": "65307fb4",
   "metadata": {},
   "outputs": [
    {
     "name": "stdout",
     "output_type": "stream",
     "text": [
      "(30783, 56, 56)\n"
     ]
    }
   ],
   "source": [
    "print(x_adj.shape)"
   ]
  },
  {
   "cell_type": "code",
   "execution_count": 12,
   "id": "39aadf37",
   "metadata": {},
   "outputs": [],
   "source": [
    "x_adj=x_adj.reshape(x_adj.shape[0],-1)"
   ]
  },
  {
   "cell_type": "code",
   "execution_count": 13,
   "id": "89f0a5a2",
   "metadata": {},
   "outputs": [
    {
     "name": "stdout",
     "output_type": "stream",
     "text": [
      "(30783, 3136)\n"
     ]
    }
   ],
   "source": [
    "print(x_adj.shape)"
   ]
  },
  {
   "cell_type": "code",
   "execution_count": 14,
   "id": "9f7b49ae",
   "metadata": {
    "scrolled": true
   },
   "outputs": [
    {
     "name": "stdout",
     "output_type": "stream",
     "text": [
      "--- 25.149287939071655 seconds ---\n"
     ]
    }
   ],
   "source": [
    "from sklearn.decomposition import IncrementalPCA\n",
    "n_components=112\n",
    "batch_size=2000\n",
    "ipca = IncrementalPCA(n_components=n_components, batch_size=batch_size)\n",
    "import time\n",
    "start_time = time.time()\n",
    "\n",
    "for i in range(0, x_adj.shape[0], batch_size):\n",
    "    ipca.partial_fit(x_adj[i:i+batch_size])\n",
    "\n",
    "X_ipca = ipca.transform(x_adj)\n",
    "    \n",
    "print(\"--- %s seconds ---\" % (time.time() - start_time))\n"
   ]
  },
  {
   "cell_type": "code",
   "execution_count": null,
   "id": "02c585c2",
   "metadata": {},
   "outputs": [],
   "source": [
    "\n"
   ]
  },
  {
   "cell_type": "code",
   "execution_count": 15,
   "id": "fcb8fbe5",
   "metadata": {},
   "outputs": [],
   "source": [
    "x_train, x_temp, y_train, y_temp = train_test_split(X_ipca, Y, test_size=0.30, random_state=42)\n",
    "x_val,x_test,y_val,y_test=train_test_split(x_temp,y_temp,test_size=0.50, random_state=42)"
   ]
  },
  {
   "cell_type": "code",
   "execution_count": 16,
   "id": "4ab593cf",
   "metadata": {},
   "outputs": [
    {
     "name": "stdout",
     "output_type": "stream",
     "text": [
      "(21548, 112)\n",
      "(4617, 112)\n",
      "(4618, 112)\n"
     ]
    }
   ],
   "source": [
    "print(x_train.shape)\n",
    "print(x_val.shape)\n",
    "print(x_test.shape)"
   ]
  },
  {
   "cell_type": "code",
   "execution_count": 17,
   "id": "c1022f00",
   "metadata": {},
   "outputs": [
    {
     "name": "stderr",
     "output_type": "stream",
     "text": [
      "2023-08-13 09:49:08.253784: W tensorflow/stream_executor/platform/default/dso_loader.cc:64] Could not load dynamic library 'libcudart.so.11.0'; dlerror: libcudart.so.11.0: cannot open shared object file: No such file or directory; LD_LIBRARY_PATH: /cm/shared/apps/slurm/18.08.9/lib64/slurm:/cm/shared/apps/slurm/18.08.9/lib64\n",
      "2023-08-13 09:49:08.253815: I tensorflow/stream_executor/cuda/cudart_stub.cc:29] Ignore above cudart dlerror if you do not have a GPU set up on your machine.\n"
     ]
    }
   ],
   "source": [
    "import tensorflow as tf\n"
   ]
  },
  {
   "cell_type": "code",
   "execution_count": 18,
   "id": "041aca53",
   "metadata": {},
   "outputs": [
    {
     "name": "stderr",
     "output_type": "stream",
     "text": [
      "2023-08-13 09:49:32.782253: W tensorflow/stream_executor/platform/default/dso_loader.cc:64] Could not load dynamic library 'libcuda.so.1'; dlerror: libcuda.so.1: cannot open shared object file: No such file or directory; LD_LIBRARY_PATH: /cm/shared/apps/slurm/18.08.9/lib64/slurm:/cm/shared/apps/slurm/18.08.9/lib64\n",
      "2023-08-13 09:49:32.782284: W tensorflow/stream_executor/cuda/cuda_driver.cc:269] failed call to cuInit: UNKNOWN ERROR (303)\n",
      "2023-08-13 09:49:32.782307: I tensorflow/stream_executor/cuda/cuda_diagnostics.cc:156] kernel driver does not appear to be running on this host (c0158): /proc/driver/nvidia/version does not exist\n",
      "2023-08-13 09:49:32.782574: I tensorflow/core/platform/cpu_feature_guard.cc:151] This TensorFlow binary is optimized with oneAPI Deep Neural Network Library (oneDNN) to use the following CPU instructions in performance-critical operations:  AVX2 AVX512F FMA\n",
      "To enable them in other operations, rebuild TensorFlow with the appropriate compiler flags.\n"
     ]
    }
   ],
   "source": [
    "input_shape = (x_train.shape[1],1)\n",
    "num_classes = 4\n",
    "model3 = tf.keras.models.Sequential()\n",
    "model3.add(tf.keras.layers.Conv1D(filters= 32, kernel_size=3, activation='relu',padding='same',input_shape= input_shape))\n",
    "model3.add(tf.keras.layers.MaxPooling1D(pool_size=2,strides=None,padding='valid'))\n",
    "\n",
    "model3.add(tf.keras.layers.Conv1D(filters=32, kernel_size=3,padding='same',activation='relu'))\n",
    "model3.add(tf.keras.layers.MaxPooling1D(pool_size=2,strides=None,padding='valid'))\n",
    "\n",
    "# model3.add(tf.keras.layers.Conv1D(filters=32, kernel_size=3,padding='same',activation='relu'))\n",
    "# model3.add(tf.keras.layers.MaxPooling1D(pool_size=2,strides=None,padding='valid'))\n",
    "# model3.add(tf.keras.layers.Conv1D(filters=32, kernel_size=3,padding='same',activation='relu'))\n",
    "# model3.add(tf.keras.layers.MaxPooling1D(pool_size=2,strides=None,padding='valid'))\n",
    "# model3.add(tf.keras.layers.Conv1D(filters=32, kernel_size=3,padding='same',activation='relu'))\n",
    "# model3.add(tf.keras.layers.MaxPooling1D(pool_size=2,strides=None,padding='valid'))\n",
    "# model3.add(tf.keras.layers.Conv1D(filters=32, kernel_size=3,padding='same',activation='relu'))\n",
    "# model3.add(tf.keras.layers.MaxPooling1D(pool_size=2,strides=None,padding='valid'))\n",
    "model3.add(tf.keras.layers.Flatten())\n",
    "\n",
    "model3.add(tf.keras.layers.Dense(100, activation='relu'))\n",
    "model3.add(tf.keras.layers.Dropout(0.1))\n",
    "model3.add(tf.keras.layers.Dense(100, activation='relu'))\n",
    "model3.add(tf.keras.layers.Dense(num_classes, activation='softmax'))"
   ]
  },
  {
   "cell_type": "code",
   "execution_count": 19,
   "id": "7d7a5c18",
   "metadata": {},
   "outputs": [
    {
     "name": "stdout",
     "output_type": "stream",
     "text": [
      "Model: \"sequential\"\n",
      "_________________________________________________________________\n",
      " Layer (type)                Output Shape              Param #   \n",
      "=================================================================\n",
      " conv1d (Conv1D)             (None, 112, 32)           128       \n",
      "                                                                 \n",
      " max_pooling1d (MaxPooling1D  (None, 56, 32)           0         \n",
      " )                                                               \n",
      "                                                                 \n",
      " conv1d_1 (Conv1D)           (None, 56, 32)            3104      \n",
      "                                                                 \n",
      " max_pooling1d_1 (MaxPooling  (None, 28, 32)           0         \n",
      " 1D)                                                             \n",
      "                                                                 \n",
      " flatten (Flatten)           (None, 896)               0         \n",
      "                                                                 \n",
      " dense (Dense)               (None, 100)               89700     \n",
      "                                                                 \n",
      " dropout (Dropout)           (None, 100)               0         \n",
      "                                                                 \n",
      " dense_1 (Dense)             (None, 100)               10100     \n",
      "                                                                 \n",
      " dense_2 (Dense)             (None, 4)                 404       \n",
      "                                                                 \n",
      "=================================================================\n",
      "Total params: 103,436\n",
      "Trainable params: 103,436\n",
      "Non-trainable params: 0\n",
      "_________________________________________________________________\n"
     ]
    }
   ],
   "source": [
    "model3.summary()"
   ]
  },
  {
   "cell_type": "code",
   "execution_count": 20,
   "id": "d6573d40",
   "metadata": {},
   "outputs": [],
   "source": [
    "model3.compile(loss='SparseCategoricalCrossentropy', optimizer='Adam', metrics=['acc'])\n"
   ]
  },
  {
   "cell_type": "code",
   "execution_count": 21,
   "id": "854edfb4",
   "metadata": {},
   "outputs": [],
   "source": [
    "from tensorflow.keras.callbacks import ModelCheckpoint\n",
    "from tensorflow.keras.models import load_model\n",
    "\n",
    "\n",
    "\n",
    "checkpoint = ModelCheckpoint('F7.h5', monitor='val_accuracy', verbose=1, save_best_only=True, mode='max')\n"
   ]
  },
  {
   "cell_type": "code",
   "execution_count": 22,
   "id": "43bf0926",
   "metadata": {
    "scrolled": true
   },
   "outputs": [
    {
     "name": "stdout",
     "output_type": "stream",
     "text": [
      "Epoch 1/30\n",
      "669/674 [============================>.] - ETA: 0s - loss: 0.5090 - acc: 0.7969WARNING:tensorflow:Can save best model only with val_accuracy available, skipping.\n",
      "674/674 [==============================] - 3s 4ms/step - loss: 0.5077 - acc: 0.7974 - val_loss: 0.3509 - val_acc: 0.8696\n",
      "Epoch 2/30\n",
      "667/674 [============================>.] - ETA: 0s - loss: 0.3193 - acc: 0.8775WARNING:tensorflow:Can save best model only with val_accuracy available, skipping.\n",
      "674/674 [==============================] - 2s 4ms/step - loss: 0.3201 - acc: 0.8772 - val_loss: 0.3246 - val_acc: 0.8850\n",
      "Epoch 3/30\n",
      "662/674 [============================>.] - ETA: 0s - loss: 0.2917 - acc: 0.8880WARNING:tensorflow:Can save best model only with val_accuracy available, skipping.\n",
      "674/674 [==============================] - 2s 4ms/step - loss: 0.2911 - acc: 0.8883 - val_loss: 0.3089 - val_acc: 0.8826\n",
      "Epoch 4/30\n",
      "659/674 [============================>.] - ETA: 0s - loss: 0.2741 - acc: 0.8928WARNING:tensorflow:Can save best model only with val_accuracy available, skipping.\n",
      "674/674 [==============================] - 2s 3ms/step - loss: 0.2743 - acc: 0.8925 - val_loss: 0.3082 - val_acc: 0.8839\n",
      "Epoch 5/30\n",
      "671/674 [============================>.] - ETA: 0s - loss: 0.2583 - acc: 0.9004WARNING:tensorflow:Can save best model only with val_accuracy available, skipping.\n",
      "674/674 [==============================] - 2s 3ms/step - loss: 0.2582 - acc: 0.9005 - val_loss: 0.2988 - val_acc: 0.8898\n",
      "Epoch 6/30\n",
      "665/674 [============================>.] - ETA: 0s - loss: 0.2455 - acc: 0.9072WARNING:tensorflow:Can save best model only with val_accuracy available, skipping.\n",
      "674/674 [==============================] - 2s 3ms/step - loss: 0.2452 - acc: 0.9074 - val_loss: 0.2962 - val_acc: 0.8900\n",
      "Epoch 7/30\n",
      "665/674 [============================>.] - ETA: 0s - loss: 0.2359 - acc: 0.9074WARNING:tensorflow:Can save best model only with val_accuracy available, skipping.\n",
      "674/674 [==============================] - 2s 4ms/step - loss: 0.2361 - acc: 0.9074 - val_loss: 0.3043 - val_acc: 0.8874\n",
      "Epoch 8/30\n",
      "662/674 [============================>.] - ETA: 0s - loss: 0.2239 - acc: 0.9140WARNING:tensorflow:Can save best model only with val_accuracy available, skipping.\n",
      "674/674 [==============================] - 2s 3ms/step - loss: 0.2236 - acc: 0.9141 - val_loss: 0.2940 - val_acc: 0.8922\n",
      "Epoch 9/30\n",
      "659/674 [============================>.] - ETA: 0s - loss: 0.2109 - acc: 0.9196WARNING:tensorflow:Can save best model only with val_accuracy available, skipping.\n",
      "674/674 [==============================] - 2s 3ms/step - loss: 0.2112 - acc: 0.9194 - val_loss: 0.3139 - val_acc: 0.8893\n",
      "Epoch 10/30\n",
      "661/674 [============================>.] - ETA: 0s - loss: 0.1936 - acc: 0.9281WARNING:tensorflow:Can save best model only with val_accuracy available, skipping.\n",
      "674/674 [==============================] - 2s 3ms/step - loss: 0.1936 - acc: 0.9282 - val_loss: 0.2950 - val_acc: 0.8950\n",
      "Epoch 11/30\n",
      "672/674 [============================>.] - ETA: 0s - loss: 0.1796 - acc: 0.9307WARNING:tensorflow:Can save best model only with val_accuracy available, skipping.\n",
      "674/674 [==============================] - 2s 4ms/step - loss: 0.1796 - acc: 0.9307 - val_loss: 0.3165 - val_acc: 0.8885\n",
      "Epoch 12/30\n",
      "674/674 [==============================] - ETA: 0s - loss: 0.1636 - acc: 0.9396WARNING:tensorflow:Can save best model only with val_accuracy available, skipping.\n",
      "674/674 [==============================] - 2s 4ms/step - loss: 0.1636 - acc: 0.9396 - val_loss: 0.3331 - val_acc: 0.8932\n",
      "Epoch 13/30\n",
      "666/674 [============================>.] - ETA: 0s - loss: 0.1482 - acc: 0.9450WARNING:tensorflow:Can save best model only with val_accuracy available, skipping.\n",
      "674/674 [==============================] - 2s 3ms/step - loss: 0.1489 - acc: 0.9448 - val_loss: 0.3449 - val_acc: 0.8961\n",
      "Epoch 14/30\n",
      "663/674 [============================>.] - ETA: 0s - loss: 0.1267 - acc: 0.9525WARNING:tensorflow:Can save best model only with val_accuracy available, skipping.\n",
      "674/674 [==============================] - 2s 3ms/step - loss: 0.1271 - acc: 0.9523 - val_loss: 0.3836 - val_acc: 0.8854\n",
      "Epoch 15/30\n",
      "670/674 [============================>.] - ETA: 0s - loss: 0.1154 - acc: 0.9566WARNING:tensorflow:Can save best model only with val_accuracy available, skipping.\n",
      "674/674 [==============================] - 2s 3ms/step - loss: 0.1153 - acc: 0.9567 - val_loss: 0.3846 - val_acc: 0.8891\n",
      "Epoch 16/30\n",
      "661/674 [============================>.] - ETA: 0s - loss: 0.0986 - acc: 0.9640WARNING:tensorflow:Can save best model only with val_accuracy available, skipping.\n",
      "674/674 [==============================] - 2s 3ms/step - loss: 0.0991 - acc: 0.9638 - val_loss: 0.4630 - val_acc: 0.8740\n",
      "Epoch 17/30\n",
      "661/674 [============================>.] - ETA: 0s - loss: 0.0908 - acc: 0.9667WARNING:tensorflow:Can save best model only with val_accuracy available, skipping.\n",
      "674/674 [==============================] - 2s 3ms/step - loss: 0.0910 - acc: 0.9664 - val_loss: 0.4619 - val_acc: 0.8854\n",
      "Epoch 18/30\n",
      "669/674 [============================>.] - ETA: 0s - loss: 0.0805 - acc: 0.9718WARNING:tensorflow:Can save best model only with val_accuracy available, skipping.\n",
      "674/674 [==============================] - 2s 3ms/step - loss: 0.0805 - acc: 0.9717 - val_loss: 0.4708 - val_acc: 0.8878\n",
      "Epoch 19/30\n",
      "660/674 [============================>.] - ETA: 0s - loss: 0.0676 - acc: 0.9761WARNING:tensorflow:Can save best model only with val_accuracy available, skipping.\n",
      "674/674 [==============================] - 2s 3ms/step - loss: 0.0682 - acc: 0.9758 - val_loss: 0.4856 - val_acc: 0.8831\n",
      "Epoch 20/30\n",
      "668/674 [============================>.] - ETA: 0s - loss: 0.0598 - acc: 0.9791WARNING:tensorflow:Can save best model only with val_accuracy available, skipping.\n",
      "674/674 [==============================] - 2s 3ms/step - loss: 0.0598 - acc: 0.9790 - val_loss: 0.5823 - val_acc: 0.8846\n",
      "Epoch 21/30\n",
      "667/674 [============================>.] - ETA: 0s - loss: 0.0609 - acc: 0.9796WARNING:tensorflow:Can save best model only with val_accuracy available, skipping.\n",
      "674/674 [==============================] - 2s 4ms/step - loss: 0.0607 - acc: 0.9797 - val_loss: 0.6141 - val_acc: 0.8751\n",
      "Epoch 22/30\n",
      "663/674 [============================>.] - ETA: 0s - loss: 0.0531 - acc: 0.9813WARNING:tensorflow:Can save best model only with val_accuracy available, skipping.\n",
      "674/674 [==============================] - 2s 3ms/step - loss: 0.0534 - acc: 0.9812 - val_loss: 0.5771 - val_acc: 0.8874\n",
      "Epoch 23/30\n",
      "665/674 [============================>.] - ETA: 0s - loss: 0.0510 - acc: 0.9817WARNING:tensorflow:Can save best model only with val_accuracy available, skipping.\n",
      "674/674 [==============================] - 2s 4ms/step - loss: 0.0513 - acc: 0.9815 - val_loss: 0.6149 - val_acc: 0.8850\n",
      "Epoch 24/30\n",
      "663/674 [============================>.] - ETA: 0s - loss: 0.0476 - acc: 0.9839WARNING:tensorflow:Can save best model only with val_accuracy available, skipping.\n",
      "674/674 [==============================] - 2s 4ms/step - loss: 0.0481 - acc: 0.9840 - val_loss: 0.6736 - val_acc: 0.8770\n",
      "Epoch 25/30\n",
      "659/674 [============================>.] - ETA: 0s - loss: 0.0376 - acc: 0.9873WARNING:tensorflow:Can save best model only with val_accuracy available, skipping.\n",
      "674/674 [==============================] - 2s 4ms/step - loss: 0.0381 - acc: 0.9872 - val_loss: 0.7056 - val_acc: 0.8818\n",
      "Epoch 26/30\n",
      "669/674 [============================>.] - ETA: 0s - loss: 0.0455 - acc: 0.9839WARNING:tensorflow:Can save best model only with val_accuracy available, skipping.\n",
      "674/674 [==============================] - 2s 3ms/step - loss: 0.0452 - acc: 0.9840 - val_loss: 0.6579 - val_acc: 0.8876\n",
      "Epoch 27/30\n",
      "659/674 [============================>.] - ETA: 0s - loss: 0.0409 - acc: 0.9862WARNING:tensorflow:Can save best model only with val_accuracy available, skipping.\n",
      "674/674 [==============================] - 2s 4ms/step - loss: 0.0406 - acc: 0.9864 - val_loss: 0.6815 - val_acc: 0.8867\n",
      "Epoch 28/30\n",
      "658/674 [============================>.] - ETA: 0s - loss: 0.0361 - acc: 0.9874WARNING:tensorflow:Can save best model only with val_accuracy available, skipping.\n",
      "674/674 [==============================] - 2s 4ms/step - loss: 0.0363 - acc: 0.9872 - val_loss: 0.6810 - val_acc: 0.8841\n"
     ]
    },
    {
     "name": "stdout",
     "output_type": "stream",
     "text": [
      "Epoch 29/30\n",
      "672/674 [============================>.] - ETA: 0s - loss: 0.0376 - acc: 0.9874WARNING:tensorflow:Can save best model only with val_accuracy available, skipping.\n",
      "674/674 [==============================] - 2s 4ms/step - loss: 0.0376 - acc: 0.9873 - val_loss: 0.7340 - val_acc: 0.8807\n",
      "Epoch 30/30\n",
      "662/674 [============================>.] - ETA: 0s - loss: 0.0338 - acc: 0.9882WARNING:tensorflow:Can save best model only with val_accuracy available, skipping.\n",
      "674/674 [==============================] - 2s 4ms/step - loss: 0.0336 - acc: 0.9883 - val_loss: 0.7421 - val_acc: 0.8781\n"
     ]
    }
   ],
   "source": [
    "history_log = model3.fit(x_train, y_train, epochs=30, verbose=1, validation_data=(x_test, y_test), callbacks=[checkpoint])\n"
   ]
  },
  {
   "cell_type": "code",
   "execution_count": 23,
   "id": "44709207",
   "metadata": {},
   "outputs": [],
   "source": [
    "model3.save_weights('/home/sahaj432/Desktop/code_organized/G_signal_feature_reduction_Project/New_neural_code_SNR_2_v/F7.h5')\n"
   ]
  },
  {
   "cell_type": "code",
   "execution_count": 24,
   "id": "d09ba0e4",
   "metadata": {},
   "outputs": [],
   "source": [
    "model3.load_weights('/home/sahaj432/Desktop/code_organized/G_signal_feature_reduction_Project/New_neural_code_SNR_2_v/F7.h5')\n"
   ]
  },
  {
   "cell_type": "code",
   "execution_count": 25,
   "id": "994f96a7",
   "metadata": {},
   "outputs": [],
   "source": [
    "predictions = model3.predict(x_test)\n",
    "pred_arg = np.argmax(predictions, axis=1)"
   ]
  },
  {
   "cell_type": "code",
   "execution_count": 26,
   "id": "abb59028",
   "metadata": {},
   "outputs": [
    {
     "name": "stdout",
     "output_type": "stream",
     "text": [
      "cnf_matrix_2.0_70\n",
      "\n",
      "[[ 818    1    0   64]\n",
      " [   2  797  112   71]\n",
      " [   0  132  796    0]\n",
      " [ 101   75    5 1644]]\n"
     ]
    }
   ],
   "source": [
    "from sklearn.metrics import confusion_matrix\n",
    "cnf_matrix=confusion_matrix(y_test,pred_arg)\n",
    "print(\"cnf_matrix_2.0_70\")\n",
    "print(\"\")\n",
    "print(cnf_matrix)"
   ]
  },
  {
   "cell_type": "code",
   "execution_count": 27,
   "id": "9f134881",
   "metadata": {},
   "outputs": [],
   "source": [
    "from sklearn.metrics import accuracy_score, recall_score,precision_score,roc_auc_score,roc_curve,f1_score\n"
   ]
  },
  {
   "cell_type": "code",
   "execution_count": 28,
   "id": "0f419b16",
   "metadata": {},
   "outputs": [
    {
     "name": "stdout",
     "output_type": "stream",
     "text": [
      "87.80857514075358\n",
      "87.15387681170957\n",
      "87.80857514075358\n",
      "87.88646531057391\n"
     ]
    }
   ],
   "source": [
    "print(accuracy_score(y_test,pred_arg)*100)\n",
    "print(f1_score(y_test,pred_arg,average='macro')*100)\n",
    "print(recall_score(y_test,pred_arg, average=\"weighted\")*100)\n",
    "print(precision_score(y_test,pred_arg, average=\"weighted\")*100)"
   ]
  },
  {
   "cell_type": "code",
   "execution_count": null,
   "id": "a8cadd42",
   "metadata": {},
   "outputs": [],
   "source": []
  },
  {
   "cell_type": "code",
   "execution_count": null,
   "id": "9ba39972",
   "metadata": {},
   "outputs": [],
   "source": []
  }
 ],
 "metadata": {
  "anaconda-cloud": {},
  "kernelspec": {
   "display_name": "Python [conda env:root] *",
   "language": "python",
   "name": "conda-root-py"
  },
  "language_info": {
   "codemirror_mode": {
    "name": "ipython",
    "version": 3
   },
   "file_extension": ".py",
   "mimetype": "text/x-python",
   "name": "python",
   "nbconvert_exporter": "python",
   "pygments_lexer": "ipython3",
   "version": "3.9.12"
  }
 },
 "nbformat": 4,
 "nbformat_minor": 5
}
