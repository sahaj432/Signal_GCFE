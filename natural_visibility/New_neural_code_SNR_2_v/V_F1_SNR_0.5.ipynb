{
 "cells": [
  {
   "cell_type": "code",
   "execution_count": 1,
   "id": "9c4dc733",
   "metadata": {},
   "outputs": [
    {
     "name": "stdout",
     "output_type": "stream",
     "text": [
      "Loading PyIOmica 1.3.3 (https://github.com/gmiaslab/pyiomica by G. Mias Lab)\n"
     ]
    },
    {
     "name": "stderr",
     "output_type": "stream",
     "text": [
      "/data/user/home/sahaj432/Desktop/code_organized/G_signal_feature_reduction_Project/New_neural_code_SNR_2_v/pyiomica_master/pyiomica/visibilityGraphAuxiliaryFunctions.py:91: NumbaDeprecationWarning: \u001b[1mThe 'nopython' keyword argument was not supplied to the 'numba.jit' decorator. The implicit default value for this argument is currently False, but it will be changed to True in Numba 0.59.0. See https://numba.readthedocs.io/en/stable/reference/deprecation.html#deprecation-of-object-mode-fall-back-behaviour-when-using-jit for details.\u001b[0m\n",
      "  @numba.jit(cache=True)\n"
     ]
    }
   ],
   "source": [
    "import numpy as np\n",
    "import os\n",
    "import glob\n",
    "import seaborn as sns\n",
    "import matplotlib.pyplot as plt\n",
    "from pyiomica_master import pyiomica as pio\n",
    "from pyiomica_master.pyiomica import visualizationFunctions\n",
    "from pyiomica_master.pyiomica import visibilityGraphCommunityDetection\n",
    "import matplotlib as mpl\n",
    "from sklearn.utils import shuffle\n",
    "from sklearn.model_selection import train_test_split\n",
    "\n",
    "from tqdm import tqdm\n",
    "%matplotlib inline"
   ]
  },
  {
   "cell_type": "code",
   "execution_count": 2,
   "id": "b297825b",
   "metadata": {},
   "outputs": [],
   "source": [
    "x_frame1_05 = np.genfromtxt('/home/sahaj432/Desktop/dataset/neural_4_class/x_frame1_2_seed.csv', delimiter=',')\n",
    "x_frame2_05 = np.genfromtxt('/home/sahaj432/Desktop/dataset/neural_4_class/x_frame2_2_seed.csv', delimiter=',')\n",
    "x_frame3_05 = np.genfromtxt('/home/sahaj432/Desktop/dataset/neural_4_class/x_frame3_2_seed.csv', delimiter=',')\n",
    "x_framen_05= np.genfromtxt('/home/sahaj432/Desktop/dataset/neural_4_class/x_frame_noise_2_seed.csv', delimiter=',')"
   ]
  },
  {
   "cell_type": "code",
   "execution_count": null,
   "id": "81f7372f",
   "metadata": {},
   "outputs": [],
   "source": []
  },
  {
   "cell_type": "code",
   "execution_count": 3,
   "id": "79eaf877",
   "metadata": {},
   "outputs": [],
   "source": [
    "x=np.concatenate((x_frame1_05,x_frame2_05,x_frame3_05,x_framen_05[:6000]),axis=0)\n",
    "y=np.concatenate((np.zeros(len(x_frame1_05)),np.zeros(len(x_frame2_05))+1,np.zeros(len(x_frame3_05))+2,np.zeros(len(x_framen_05[:6000]))+3),axis=0)"
   ]
  },
  {
   "cell_type": "code",
   "execution_count": 4,
   "id": "3ea7e902",
   "metadata": {},
   "outputs": [],
   "source": [
    "X, Y = shuffle(x,y, random_state=1)"
   ]
  },
  {
   "cell_type": "code",
   "execution_count": 5,
   "id": "b78a4e4f",
   "metadata": {},
   "outputs": [],
   "source": [
    "def calculate_adj(data):\n",
    "    temp1=[]\n",
    "    for p, i in enumerate(data):\n",
    "        #print(f'Converting ==> {p+1} \\r', end=\"\",flush=True)\n",
    "        vs_out = visibilityGraphCommunityDetection.createVisibilityGraph(i, range(len(i)), \"natural\", weight='tan')\n",
    "        vs_out=np.asarray(vs_out)\n",
    "        temp1.append(vs_out)\n",
    "        \n",
    "    return temp1"
   ]
  },
  {
   "cell_type": "code",
   "execution_count": 6,
   "id": "0f432dd6",
   "metadata": {},
   "outputs": [
    {
     "name": "stdout",
     "output_type": "stream",
     "text": [
      "Number of CPU cores: 48\n"
     ]
    }
   ],
   "source": [
    "from multiprocessing import Pool\n",
    "import multiprocessing\n",
    "\n",
    "if __name__ == '__main__':\n",
    "    num_cores = multiprocessing.cpu_count()\n",
    "    print(\"Number of CPU cores:\", num_cores)"
   ]
  },
  {
   "cell_type": "code",
   "execution_count": 7,
   "id": "14587307",
   "metadata": {},
   "outputs": [
    {
     "name": "stdout",
     "output_type": "stream",
     "text": [
      "517\n"
     ]
    }
   ],
   "source": [
    "df=np.array_split(X, num_cores)\n",
    "print(len(df[0]))"
   ]
  },
  {
   "cell_type": "code",
   "execution_count": 8,
   "id": "c6423065",
   "metadata": {},
   "outputs": [],
   "source": [
    "with Pool(processes=num_cores) as pool:\n",
    "    results = pool.map(calculate_adj, df)\n",
    "\n",
    "pool.close()\n",
    "pool.join()"
   ]
  },
  {
   "cell_type": "code",
   "execution_count": 9,
   "id": "a34da891",
   "metadata": {},
   "outputs": [],
   "source": [
    "x_adj=[]\n",
    "for submatrix in results:\n",
    "    x_adj.extend(submatrix)"
   ]
  },
  {
   "cell_type": "code",
   "execution_count": 10,
   "id": "663f8024",
   "metadata": {},
   "outputs": [
    {
     "name": "stdout",
     "output_type": "stream",
     "text": [
      "24783\n"
     ]
    }
   ],
   "source": [
    "print(len(x_adj))"
   ]
  },
  {
   "cell_type": "code",
   "execution_count": 11,
   "id": "517065c8",
   "metadata": {},
   "outputs": [],
   "source": [
    "x_adj=np.array(x_adj)"
   ]
  },
  {
   "cell_type": "code",
   "execution_count": 12,
   "id": "79d3d717",
   "metadata": {},
   "outputs": [],
   "source": [
    "def graph_index_complexity(matrix):\n",
    "    N = len(matrix) # Number of nodes\n",
    "    E = np.sum(matrix > 0) / 2 # Number of edges (since matrix is symmetric for undirected graphs)\n",
    "    \n",
    "    if N == 0 or E == 0:\n",
    "        return 0\n",
    "    \n",
    "    GIC = (E / N) * np.log(N)\n",
    "    return GIC"
   ]
  },
  {
   "cell_type": "code",
   "execution_count": 13,
   "id": "fe9d74c9",
   "metadata": {},
   "outputs": [],
   "source": [
    "import networkx as nx\n",
    "def runall(data):\n",
    "    temp1=[]\n",
    "    for i in data:\n",
    "        G = nx.from_numpy_array(i, parallel_edges=False)\n",
    "        gic=[graph_index_complexity(i)]\n",
    "        cpl=[nx.average_shortest_path_length(G)]\n",
    "        ge=[nx.global_efficiency(G)]\n",
    "        le=[nx.local_efficiency(G)]\n",
    "        ac=[nx.degree_assortativity_coefficient(G)]\n",
    "        cc=list(nx.clustering(G).values())\n",
    "        temp1.append(gic+cpl+ge+le+ac+cc) #+cpl+ge+le+ac+cc\n",
    "    return temp1"
   ]
  },
  {
   "cell_type": "code",
   "execution_count": 14,
   "id": "6c582fda",
   "metadata": {},
   "outputs": [
    {
     "name": "stdout",
     "output_type": "stream",
     "text": [
      "Number of CPU cores: 48\n",
      "517\n"
     ]
    }
   ],
   "source": [
    "from multiprocessing import Pool\n",
    "import multiprocessing\n",
    "\n",
    "if __name__ == '__main__':\n",
    "    num_cores = multiprocessing.cpu_count()\n",
    "    print(\"Number of CPU cores:\", num_cores)\n",
    "\n",
    "\n",
    "df1=np.array_split(x_adj[:], num_cores)\n",
    "\n",
    "\n",
    "print(len(df[0]))\n",
    "\n",
    "\n"
   ]
  },
  {
   "cell_type": "code",
   "execution_count": 15,
   "id": "489e53ab",
   "metadata": {},
   "outputs": [
    {
     "name": "stdout",
     "output_type": "stream",
     "text": [
      "--- 19.680261373519897 seconds ---\n"
     ]
    }
   ],
   "source": [
    "\n",
    "import time\n",
    "start_time = time.time()\n",
    "with Pool(processes=num_cores) as pool1:\n",
    "    results1 = pool1.map(runall, df1)\n",
    "\n",
    "pool1.close()\n",
    "pool1.join()\n",
    "\n",
    "print(\"--- %s seconds ---\" % (time.time() - start_time))\n"
   ]
  },
  {
   "cell_type": "code",
   "execution_count": 16,
   "id": "4bd5c260",
   "metadata": {},
   "outputs": [],
   "source": [
    "x_g=[]\n",
    "for submatrix in results1:\n",
    "    x_g.extend(submatrix)"
   ]
  },
  {
   "cell_type": "code",
   "execution_count": 17,
   "id": "e7087c73",
   "metadata": {},
   "outputs": [],
   "source": [
    "x_g=np.array(x_g)\n"
   ]
  },
  {
   "cell_type": "code",
   "execution_count": 18,
   "id": "6a1404fa",
   "metadata": {},
   "outputs": [
    {
     "name": "stdout",
     "output_type": "stream",
     "text": [
      "(24783, 61)\n"
     ]
    }
   ],
   "source": [
    "print(x_g.shape)"
   ]
  },
  {
   "cell_type": "code",
   "execution_count": 19,
   "id": "584b0d16",
   "metadata": {},
   "outputs": [],
   "source": [
    "x_train, x_temp, y_train, y_temp = train_test_split(x_g, Y, test_size=0.30, random_state=42)\n",
    "x_val,x_test,y_val,y_test=train_test_split(x_temp,y_temp,test_size=0.50, random_state=42)"
   ]
  },
  {
   "cell_type": "code",
   "execution_count": 20,
   "id": "87ff4de7",
   "metadata": {},
   "outputs": [
    {
     "name": "stdout",
     "output_type": "stream",
     "text": [
      "(17348, 61)\n",
      "(3717, 61)\n",
      "(3718, 61)\n"
     ]
    }
   ],
   "source": [
    "print(x_train.shape)\n",
    "print(x_val.shape)\n",
    "print(x_test.shape)"
   ]
  },
  {
   "cell_type": "code",
   "execution_count": 21,
   "id": "5ee715d8",
   "metadata": {},
   "outputs": [
    {
     "name": "stderr",
     "output_type": "stream",
     "text": [
      "2023-08-13 09:41:21.488009: W tensorflow/stream_executor/platform/default/dso_loader.cc:64] Could not load dynamic library 'libcudart.so.11.0'; dlerror: libcudart.so.11.0: cannot open shared object file: No such file or directory; LD_LIBRARY_PATH: /cm/shared/apps/slurm/18.08.9/lib64/slurm:/cm/shared/apps/slurm/18.08.9/lib64\n",
      "2023-08-13 09:41:21.488044: I tensorflow/stream_executor/cuda/cudart_stub.cc:29] Ignore above cudart dlerror if you do not have a GPU set up on your machine.\n"
     ]
    }
   ],
   "source": [
    "import tensorflow as tf\n"
   ]
  },
  {
   "cell_type": "code",
   "execution_count": 22,
   "id": "a51d8943",
   "metadata": {},
   "outputs": [
    {
     "name": "stderr",
     "output_type": "stream",
     "text": [
      "2023-08-13 09:41:49.444084: W tensorflow/stream_executor/platform/default/dso_loader.cc:64] Could not load dynamic library 'libcuda.so.1'; dlerror: libcuda.so.1: cannot open shared object file: No such file or directory; LD_LIBRARY_PATH: /cm/shared/apps/slurm/18.08.9/lib64/slurm:/cm/shared/apps/slurm/18.08.9/lib64\n",
      "2023-08-13 09:41:49.480399: W tensorflow/stream_executor/cuda/cuda_driver.cc:269] failed call to cuInit: UNKNOWN ERROR (303)\n",
      "2023-08-13 09:41:49.480456: I tensorflow/stream_executor/cuda/cuda_diagnostics.cc:156] kernel driver does not appear to be running on this host (c0161): /proc/driver/nvidia/version does not exist\n",
      "2023-08-13 09:41:49.540502: I tensorflow/core/platform/cpu_feature_guard.cc:151] This TensorFlow binary is optimized with oneAPI Deep Neural Network Library (oneDNN) to use the following CPU instructions in performance-critical operations:  AVX2 AVX512F FMA\n",
      "To enable them in other operations, rebuild TensorFlow with the appropriate compiler flags.\n"
     ]
    }
   ],
   "source": [
    "input_shape = (x_train.shape[1],1)\n",
    "num_classes = 4\n",
    "model3 = tf.keras.models.Sequential()\n",
    "model3.add(tf.keras.layers.Conv1D(filters= 32, kernel_size=3, activation='relu',padding='same',input_shape= input_shape))\n",
    "model3.add(tf.keras.layers.MaxPooling1D(pool_size=2,strides=None,padding='valid'))\n",
    "\n",
    "model3.add(tf.keras.layers.Conv1D(filters=32, kernel_size=3,padding='same',activation='relu'))\n",
    "model3.add(tf.keras.layers.MaxPooling1D(pool_size=2,strides=None,padding='valid'))\n",
    "\n",
    "# model3.add(tf.keras.layers.Conv1D(filters=32, kernel_size=3,padding='same',activation='relu'))\n",
    "# model3.add(tf.keras.layers.MaxPooling1D(pool_size=2,strides=None,padding='valid'))\n",
    "# model3.add(tf.keras.layers.Conv1D(filters=32, kernel_size=3,padding='same',activation='relu'))\n",
    "# model3.add(tf.keras.layers.MaxPooling1D(pool_size=2,strides=None,padding='valid'))\n",
    "# model3.add(tf.keras.layers.Conv1D(filters=32, kernel_size=3,padding='same',activation='relu'))\n",
    "# model3.add(tf.keras.layers.MaxPooling1D(pool_size=2,strides=None,padding='valid'))\n",
    "# model3.add(tf.keras.layers.Conv1D(filters=32, kernel_size=3,padding='same',activation='relu'))\n",
    "# model3.add(tf.keras.layers.MaxPooling1D(pool_size=2,strides=None,padding='valid'))\n",
    "model3.add(tf.keras.layers.Flatten())\n",
    "\n",
    "model3.add(tf.keras.layers.Dense(100, activation='relu'))\n",
    "model3.add(tf.keras.layers.Dropout(0.1))\n",
    "model3.add(tf.keras.layers.Dense(100, activation='relu'))\n",
    "model3.add(tf.keras.layers.Dense(num_classes, activation='softmax'))"
   ]
  },
  {
   "cell_type": "code",
   "execution_count": 23,
   "id": "09f1d97c",
   "metadata": {},
   "outputs": [
    {
     "name": "stdout",
     "output_type": "stream",
     "text": [
      "Model: \"sequential\"\n",
      "_________________________________________________________________\n",
      " Layer (type)                Output Shape              Param #   \n",
      "=================================================================\n",
      " conv1d (Conv1D)             (None, 61, 32)            128       \n",
      "                                                                 \n",
      " max_pooling1d (MaxPooling1D  (None, 30, 32)           0         \n",
      " )                                                               \n",
      "                                                                 \n",
      " conv1d_1 (Conv1D)           (None, 30, 32)            3104      \n",
      "                                                                 \n",
      " max_pooling1d_1 (MaxPooling  (None, 15, 32)           0         \n",
      " 1D)                                                             \n",
      "                                                                 \n",
      " flatten (Flatten)           (None, 480)               0         \n",
      "                                                                 \n",
      " dense (Dense)               (None, 100)               48100     \n",
      "                                                                 \n",
      " dropout (Dropout)           (None, 100)               0         \n",
      "                                                                 \n",
      " dense_1 (Dense)             (None, 100)               10100     \n",
      "                                                                 \n",
      " dense_2 (Dense)             (None, 4)                 404       \n",
      "                                                                 \n",
      "=================================================================\n",
      "Total params: 61,836\n",
      "Trainable params: 61,836\n",
      "Non-trainable params: 0\n",
      "_________________________________________________________________\n"
     ]
    }
   ],
   "source": [
    "model3.summary()"
   ]
  },
  {
   "cell_type": "code",
   "execution_count": 24,
   "id": "5691f34f",
   "metadata": {},
   "outputs": [],
   "source": [
    "model3.compile(loss='SparseCategoricalCrossentropy', optimizer='Adam', metrics=['acc'])\n"
   ]
  },
  {
   "cell_type": "code",
   "execution_count": 25,
   "id": "854edfb4",
   "metadata": {},
   "outputs": [],
   "source": [
    "from tensorflow.keras.callbacks import ModelCheckpoint\n",
    "from tensorflow.keras.models import load_model\n",
    "\n",
    "\n",
    "\n",
    "checkpoint = ModelCheckpoint('F1.h5', monitor='val_accuracy', verbose=1, save_best_only=True, mode='max')\n"
   ]
  },
  {
   "cell_type": "code",
   "execution_count": 26,
   "id": "43bf0926",
   "metadata": {
    "scrolled": true
   },
   "outputs": [
    {
     "name": "stdout",
     "output_type": "stream",
     "text": [
      "Epoch 1/30\n",
      "537/543 [============================>.] - ETA: 0s - loss: 0.6671 - acc: 0.7109WARNING:tensorflow:Can save best model only with val_accuracy available, skipping.\n",
      "543/543 [==============================] - 2s 3ms/step - loss: 0.6659 - acc: 0.7111 - val_loss: 0.4597 - val_acc: 0.8125\n",
      "Epoch 2/30\n",
      "533/543 [============================>.] - ETA: 0s - loss: 0.4634 - acc: 0.8027WARNING:tensorflow:Can save best model only with val_accuracy available, skipping.\n",
      "543/543 [==============================] - 2s 3ms/step - loss: 0.4630 - acc: 0.8030 - val_loss: 0.4412 - val_acc: 0.8141\n",
      "Epoch 3/30\n",
      "541/543 [============================>.] - ETA: 0s - loss: 0.4436 - acc: 0.8124WARNING:tensorflow:Can save best model only with val_accuracy available, skipping.\n",
      "543/543 [==============================] - 2s 3ms/step - loss: 0.4434 - acc: 0.8125 - val_loss: 0.4481 - val_acc: 0.8141\n",
      "Epoch 4/30\n",
      "526/543 [============================>.] - ETA: 0s - loss: 0.4320 - acc: 0.8159WARNING:tensorflow:Can save best model only with val_accuracy available, skipping.\n",
      "543/543 [==============================] - 2s 3ms/step - loss: 0.4302 - acc: 0.8170 - val_loss: 0.4236 - val_acc: 0.8241\n",
      "Epoch 5/30\n",
      "541/543 [============================>.] - ETA: 0s - loss: 0.4271 - acc: 0.8221WARNING:tensorflow:Can save best model only with val_accuracy available, skipping.\n",
      "543/543 [==============================] - 2s 3ms/step - loss: 0.4273 - acc: 0.8222 - val_loss: 0.4310 - val_acc: 0.8168\n",
      "Epoch 6/30\n",
      "527/543 [============================>.] - ETA: 0s - loss: 0.4159 - acc: 0.8231WARNING:tensorflow:Can save best model only with val_accuracy available, skipping.\n",
      "543/543 [==============================] - 2s 3ms/step - loss: 0.4150 - acc: 0.8236 - val_loss: 0.4368 - val_acc: 0.8174\n",
      "Epoch 7/30\n",
      "541/543 [============================>.] - ETA: 0s - loss: 0.4130 - acc: 0.8249WARNING:tensorflow:Can save best model only with val_accuracy available, skipping.\n",
      "543/543 [==============================] - 2s 3ms/step - loss: 0.4134 - acc: 0.8248 - val_loss: 0.4265 - val_acc: 0.8185\n",
      "Epoch 8/30\n",
      "530/543 [============================>.] - ETA: 0s - loss: 0.4025 - acc: 0.8302WARNING:tensorflow:Can save best model only with val_accuracy available, skipping.\n",
      "543/543 [==============================] - 2s 3ms/step - loss: 0.4040 - acc: 0.8301 - val_loss: 0.4405 - val_acc: 0.8125\n",
      "Epoch 9/30\n",
      "535/543 [============================>.] - ETA: 0s - loss: 0.3977 - acc: 0.8305WARNING:tensorflow:Can save best model only with val_accuracy available, skipping.\n",
      "543/543 [==============================] - 2s 3ms/step - loss: 0.3973 - acc: 0.8307 - val_loss: 0.4275 - val_acc: 0.8206\n",
      "Epoch 10/30\n",
      "539/543 [============================>.] - ETA: 0s - loss: 0.3953 - acc: 0.8338WARNING:tensorflow:Can save best model only with val_accuracy available, skipping.\n",
      "543/543 [==============================] - 2s 3ms/step - loss: 0.3948 - acc: 0.8339 - val_loss: 0.4201 - val_acc: 0.8238\n",
      "Epoch 11/30\n",
      "537/543 [============================>.] - ETA: 0s - loss: 0.3881 - acc: 0.8366WARNING:tensorflow:Can save best model only with val_accuracy available, skipping.\n",
      "543/543 [==============================] - 2s 3ms/step - loss: 0.3883 - acc: 0.8362 - val_loss: 0.4534 - val_acc: 0.8101\n",
      "Epoch 12/30\n",
      "538/543 [============================>.] - ETA: 0s - loss: 0.3815 - acc: 0.8380WARNING:tensorflow:Can save best model only with val_accuracy available, skipping.\n",
      "543/543 [==============================] - 2s 3ms/step - loss: 0.3814 - acc: 0.8380 - val_loss: 0.4246 - val_acc: 0.8222\n",
      "Epoch 13/30\n",
      "529/543 [============================>.] - ETA: 0s - loss: 0.3749 - acc: 0.8438WARNING:tensorflow:Can save best model only with val_accuracy available, skipping.\n",
      "543/543 [==============================] - 2s 3ms/step - loss: 0.3739 - acc: 0.8442 - val_loss: 0.4288 - val_acc: 0.8225\n",
      "Epoch 14/30\n",
      "532/543 [============================>.] - ETA: 0s - loss: 0.3663 - acc: 0.8483WARNING:tensorflow:Can save best model only with val_accuracy available, skipping.\n",
      "543/543 [==============================] - 2s 3ms/step - loss: 0.3667 - acc: 0.8479 - val_loss: 0.4266 - val_acc: 0.8206\n",
      "Epoch 15/30\n",
      "529/543 [============================>.] - ETA: 0s - loss: 0.3611 - acc: 0.8484WARNING:tensorflow:Can save best model only with val_accuracy available, skipping.\n",
      "543/543 [==============================] - 2s 3ms/step - loss: 0.3608 - acc: 0.8484 - val_loss: 0.4416 - val_acc: 0.8168\n",
      "Epoch 16/30\n",
      "524/543 [===========================>..] - ETA: 0s - loss: 0.3515 - acc: 0.8546WARNING:tensorflow:Can save best model only with val_accuracy available, skipping.\n",
      "543/543 [==============================] - 2s 3ms/step - loss: 0.3515 - acc: 0.8546 - val_loss: 0.4399 - val_acc: 0.8190\n",
      "Epoch 17/30\n",
      "531/543 [============================>.] - ETA: 0s - loss: 0.3388 - acc: 0.8591WARNING:tensorflow:Can save best model only with val_accuracy available, skipping.\n",
      "543/543 [==============================] - 2s 3ms/step - loss: 0.3403 - acc: 0.8584 - val_loss: 0.4368 - val_acc: 0.8104\n",
      "Epoch 18/30\n",
      "526/543 [============================>.] - ETA: 0s - loss: 0.3304 - acc: 0.8620WARNING:tensorflow:Can save best model only with val_accuracy available, skipping.\n",
      "543/543 [==============================] - 2s 3ms/step - loss: 0.3306 - acc: 0.8620 - val_loss: 0.4824 - val_acc: 0.8069\n",
      "Epoch 19/30\n",
      "543/543 [==============================] - ETA: 0s - loss: 0.3187 - acc: 0.8680WARNING:tensorflow:Can save best model only with val_accuracy available, skipping.\n",
      "543/543 [==============================] - 2s 3ms/step - loss: 0.3187 - acc: 0.8680 - val_loss: 0.4591 - val_acc: 0.8176\n",
      "Epoch 20/30\n",
      "541/543 [============================>.] - ETA: 0s - loss: 0.3088 - acc: 0.8732WARNING:tensorflow:Can save best model only with val_accuracy available, skipping.\n",
      "543/543 [==============================] - 2s 3ms/step - loss: 0.3089 - acc: 0.8731 - val_loss: 0.4622 - val_acc: 0.8136\n",
      "Epoch 21/30\n",
      "527/543 [============================>.] - ETA: 0s - loss: 0.3009 - acc: 0.8774WARNING:tensorflow:Can save best model only with val_accuracy available, skipping.\n",
      "543/543 [==============================] - 2s 3ms/step - loss: 0.3003 - acc: 0.8780 - val_loss: 0.4858 - val_acc: 0.8082\n",
      "Epoch 22/30\n",
      "529/543 [============================>.] - ETA: 0s - loss: 0.2820 - acc: 0.8844WARNING:tensorflow:Can save best model only with val_accuracy available, skipping.\n",
      "543/543 [==============================] - 2s 3ms/step - loss: 0.2819 - acc: 0.8843 - val_loss: 0.4901 - val_acc: 0.8034\n",
      "Epoch 23/30\n",
      "527/543 [============================>.] - ETA: 0s - loss: 0.2732 - acc: 0.8864WARNING:tensorflow:Can save best model only with val_accuracy available, skipping.\n",
      "543/543 [==============================] - 2s 3ms/step - loss: 0.2743 - acc: 0.8855 - val_loss: 0.4977 - val_acc: 0.8063\n",
      "Epoch 24/30\n",
      "526/543 [============================>.] - ETA: 0s - loss: 0.2599 - acc: 0.8951WARNING:tensorflow:Can save best model only with val_accuracy available, skipping.\n",
      "543/543 [==============================] - 2s 3ms/step - loss: 0.2596 - acc: 0.8951 - val_loss: 0.5093 - val_acc: 0.8026\n",
      "Epoch 25/30\n",
      "531/543 [============================>.] - ETA: 0s - loss: 0.2485 - acc: 0.8972WARNING:tensorflow:Can save best model only with val_accuracy available, skipping.\n",
      "543/543 [==============================] - 2s 3ms/step - loss: 0.2484 - acc: 0.8977 - val_loss: 0.5446 - val_acc: 0.8037\n",
      "Epoch 26/30\n",
      "533/543 [============================>.] - ETA: 0s - loss: 0.2372 - acc: 0.9047WARNING:tensorflow:Can save best model only with val_accuracy available, skipping.\n",
      "543/543 [==============================] - 2s 3ms/step - loss: 0.2366 - acc: 0.9050 - val_loss: 0.5543 - val_acc: 0.8042\n",
      "Epoch 27/30\n",
      "540/543 [============================>.] - ETA: 0s - loss: 0.2282 - acc: 0.9073WARNING:tensorflow:Can save best model only with val_accuracy available, skipping.\n",
      "543/543 [==============================] - 2s 3ms/step - loss: 0.2280 - acc: 0.9074 - val_loss: 0.5610 - val_acc: 0.8010\n",
      "Epoch 28/30\n",
      "527/543 [============================>.] - ETA: 0s - loss: 0.2189 - acc: 0.9125WARNING:tensorflow:Can save best model only with val_accuracy available, skipping.\n",
      "543/543 [==============================] - 2s 3ms/step - loss: 0.2199 - acc: 0.9122 - val_loss: 0.5862 - val_acc: 0.7913\n"
     ]
    },
    {
     "name": "stdout",
     "output_type": "stream",
     "text": [
      "Epoch 29/30\n",
      "533/543 [============================>.] - ETA: 0s - loss: 0.2059 - acc: 0.9170WARNING:tensorflow:Can save best model only with val_accuracy available, skipping.\n",
      "543/543 [==============================] - 2s 3ms/step - loss: 0.2068 - acc: 0.9166 - val_loss: 0.6326 - val_acc: 0.7959\n",
      "Epoch 30/30\n",
      "534/543 [============================>.] - ETA: 0s - loss: 0.1974 - acc: 0.9208WARNING:tensorflow:Can save best model only with val_accuracy available, skipping.\n",
      "543/543 [==============================] - 2s 3ms/step - loss: 0.1982 - acc: 0.9203 - val_loss: 0.6200 - val_acc: 0.7964\n"
     ]
    }
   ],
   "source": [
    "history_log = model3.fit(x_train, y_train, epochs=30, verbose=1, validation_data=(x_test, y_test), callbacks=[checkpoint])\n"
   ]
  },
  {
   "cell_type": "code",
   "execution_count": 27,
   "id": "44709207",
   "metadata": {},
   "outputs": [],
   "source": [
    "model3.save_weights('/home/sahaj432/Desktop/code_organized/G_signal_feature_reduction_Project/New_neural_code_SNR_2_v/F1.h5')\n"
   ]
  },
  {
   "cell_type": "code",
   "execution_count": 28,
   "id": "d09ba0e4",
   "metadata": {},
   "outputs": [],
   "source": [
    "model3.load_weights('/home/sahaj432/Desktop/code_organized/G_signal_feature_reduction_Project/New_neural_code_SNR_2_v/F1.h5')\n"
   ]
  },
  {
   "cell_type": "code",
   "execution_count": 29,
   "id": "994f96a7",
   "metadata": {},
   "outputs": [],
   "source": [
    "predictions = model3.predict(x_test)\n",
    "pred_arg = np.argmax(predictions, axis=1)"
   ]
  },
  {
   "cell_type": "code",
   "execution_count": 30,
   "id": "abb59028",
   "metadata": {},
   "outputs": [
    {
     "name": "stdout",
     "output_type": "stream",
     "text": [
      "cnf_matrix_2.0_70\n",
      "\n",
      "[[719   2   0  98]\n",
      " [  2 726 172 101]\n",
      " [  5 211 794   8]\n",
      " [ 76  76   6 722]]\n"
     ]
    }
   ],
   "source": [
    "from sklearn.metrics import confusion_matrix\n",
    "cnf_matrix=confusion_matrix(y_test,pred_arg)\n",
    "print(\"cnf_matrix_2.0_70\")\n",
    "print(\"\")\n",
    "print(cnf_matrix)"
   ]
  },
  {
   "cell_type": "code",
   "execution_count": 31,
   "id": "9f134881",
   "metadata": {},
   "outputs": [],
   "source": [
    "from sklearn.metrics import accuracy_score, recall_score,precision_score,roc_auc_score,roc_curve,f1_score\n"
   ]
  },
  {
   "cell_type": "code",
   "execution_count": 32,
   "id": "0f419b16",
   "metadata": {},
   "outputs": [
    {
     "name": "stdout",
     "output_type": "stream",
     "text": [
      "79.63959117805271\n",
      "80.0891459029729\n",
      "79.63959117805271\n",
      "79.7665728501001\n"
     ]
    }
   ],
   "source": [
    "print(accuracy_score(y_test,pred_arg)*100)\n",
    "print(f1_score(y_test,pred_arg,average='macro')*100)\n",
    "print(recall_score(y_test,pred_arg, average=\"weighted\")*100)\n",
    "print(precision_score(y_test,pred_arg, average=\"weighted\")*100)"
   ]
  },
  {
   "cell_type": "code",
   "execution_count": null,
   "id": "90845a20",
   "metadata": {},
   "outputs": [],
   "source": []
  },
  {
   "cell_type": "code",
   "execution_count": null,
   "id": "dd00c7be",
   "metadata": {},
   "outputs": [],
   "source": []
  }
 ],
 "metadata": {
  "anaconda-cloud": {},
  "kernelspec": {
   "display_name": "Python [conda env:root] *",
   "language": "python",
   "name": "conda-root-py"
  },
  "language_info": {
   "codemirror_mode": {
    "name": "ipython",
    "version": 3
   },
   "file_extension": ".py",
   "mimetype": "text/x-python",
   "name": "python",
   "nbconvert_exporter": "python",
   "pygments_lexer": "ipython3",
   "version": "3.9.12"
  }
 },
 "nbformat": 4,
 "nbformat_minor": 5
}
