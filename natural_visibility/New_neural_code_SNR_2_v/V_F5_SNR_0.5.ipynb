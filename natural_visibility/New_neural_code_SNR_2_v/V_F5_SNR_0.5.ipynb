{
 "cells": [
  {
   "cell_type": "code",
   "execution_count": 1,
   "id": "9c4dc733",
   "metadata": {},
   "outputs": [
    {
     "name": "stdout",
     "output_type": "stream",
     "text": [
      "Loading PyIOmica 1.3.3 (https://github.com/gmiaslab/pyiomica by G. Mias Lab)\n"
     ]
    },
    {
     "name": "stderr",
     "output_type": "stream",
     "text": [
      "/data/user/home/sahaj432/Desktop/code_organized/G_signal_feature_reduction_Project/New_neural_code_SNR_2_v/pyiomica_master/pyiomica/visibilityGraphAuxiliaryFunctions.py:91: NumbaDeprecationWarning: \u001b[1mThe 'nopython' keyword argument was not supplied to the 'numba.jit' decorator. The implicit default value for this argument is currently False, but it will be changed to True in Numba 0.59.0. See https://numba.readthedocs.io/en/stable/reference/deprecation.html#deprecation-of-object-mode-fall-back-behaviour-when-using-jit for details.\u001b[0m\n",
      "  @numba.jit(cache=True)\n"
     ]
    }
   ],
   "source": [
    "import numpy as np\n",
    "import os\n",
    "import glob\n",
    "import seaborn as sns\n",
    "import matplotlib.pyplot as plt\n",
    "from pyiomica_master import pyiomica as pio\n",
    "from pyiomica_master.pyiomica import visualizationFunctions\n",
    "from pyiomica_master.pyiomica import visibilityGraphCommunityDetection\n",
    "import matplotlib as mpl\n",
    "from sklearn.utils import shuffle\n",
    "from sklearn.model_selection import train_test_split\n",
    "\n",
    "from tqdm import tqdm\n",
    "%matplotlib inline"
   ]
  },
  {
   "cell_type": "code",
   "execution_count": 2,
   "id": "b297825b",
   "metadata": {},
   "outputs": [],
   "source": [
    "x_frame1_05 = np.genfromtxt('/home/sahaj432/Desktop/dataset/neural_4_class/x_frame1_2_seed.csv', delimiter=',')\n",
    "x_frame2_05 = np.genfromtxt('/home/sahaj432/Desktop/dataset/neural_4_class/x_frame2_2_seed.csv', delimiter=',')\n",
    "x_frame3_05 = np.genfromtxt('/home/sahaj432/Desktop/dataset/neural_4_class/x_frame3_2_seed.csv', delimiter=',')\n",
    "x_framen_05= np.genfromtxt('/home/sahaj432/Desktop/dataset/neural_4_class/x_frame_noise_2_seed.csv', delimiter=',')"
   ]
  },
  {
   "cell_type": "code",
   "execution_count": null,
   "id": "81f7372f",
   "metadata": {},
   "outputs": [],
   "source": []
  },
  {
   "cell_type": "code",
   "execution_count": 3,
   "id": "79eaf877",
   "metadata": {},
   "outputs": [],
   "source": [
    "x=np.concatenate((x_frame1_05,x_frame2_05,x_frame3_05,x_framen_05[:6000]),axis=0)\n",
    "y=np.concatenate((np.zeros(len(x_frame1_05)),np.zeros(len(x_frame2_05))+1,np.zeros(len(x_frame3_05))+2,np.zeros(len(x_framen_05[:6000]))+3),axis=0)"
   ]
  },
  {
   "cell_type": "code",
   "execution_count": 4,
   "id": "3ea7e902",
   "metadata": {},
   "outputs": [],
   "source": [
    "X, Y = shuffle(x,y, random_state=1)"
   ]
  },
  {
   "cell_type": "code",
   "execution_count": 5,
   "id": "b78a4e4f",
   "metadata": {},
   "outputs": [],
   "source": [
    "def calculate_adj(data):\n",
    "    temp1=[]\n",
    "    for p, i in enumerate(data):\n",
    "        #print(f'Converting ==> {p+1} \\r', end=\"\",flush=True)\n",
    "        vs_out = visibilityGraphCommunityDetection.createVisibilityGraph(i, range(len(i)), \"natural\", weight='tan')\n",
    "        vs_out=np.asarray(vs_out)\n",
    "        temp1.append(vs_out)\n",
    "        \n",
    "    return temp1"
   ]
  },
  {
   "cell_type": "code",
   "execution_count": 6,
   "id": "a666b1e1",
   "metadata": {
    "scrolled": true
   },
   "outputs": [
    {
     "name": "stdout",
     "output_type": "stream",
     "text": [
      "Number of CPU cores: 48\n"
     ]
    }
   ],
   "source": [
    "from multiprocessing import Pool\n",
    "import multiprocessing\n",
    "\n",
    "if __name__ == '__main__':\n",
    "    num_cores = multiprocessing.cpu_count()\n",
    "    print(\"Number of CPU cores:\", num_cores)"
   ]
  },
  {
   "cell_type": "code",
   "execution_count": 7,
   "id": "1c9f289e",
   "metadata": {},
   "outputs": [
    {
     "name": "stdout",
     "output_type": "stream",
     "text": [
      "517\n"
     ]
    }
   ],
   "source": [
    "df=np.array_split(X, num_cores)\n",
    "print(len(df[0]))"
   ]
  },
  {
   "cell_type": "code",
   "execution_count": 8,
   "id": "25c7ec9d",
   "metadata": {},
   "outputs": [],
   "source": [
    "with Pool(processes=num_cores) as pool:\n",
    "    results = pool.map(calculate_adj, df)\n",
    "\n",
    "pool.close()\n",
    "pool.join()"
   ]
  },
  {
   "cell_type": "code",
   "execution_count": 9,
   "id": "2d507239",
   "metadata": {},
   "outputs": [],
   "source": [
    "x_adj=[]\n",
    "for submatrix in results:\n",
    "    x_adj.extend(submatrix)"
   ]
  },
  {
   "cell_type": "code",
   "execution_count": 10,
   "id": "fb4be57d",
   "metadata": {},
   "outputs": [
    {
     "name": "stdout",
     "output_type": "stream",
     "text": [
      "24783\n"
     ]
    }
   ],
   "source": [
    "print(len(x_adj))"
   ]
  },
  {
   "cell_type": "code",
   "execution_count": 11,
   "id": "37e26890",
   "metadata": {},
   "outputs": [],
   "source": [
    "x_adj=np.array(x_adj)"
   ]
  },
  {
   "cell_type": "code",
   "execution_count": 12,
   "id": "8fe37ec4",
   "metadata": {},
   "outputs": [],
   "source": [
    "def degree(data): #The node strengths (or weighted degrees) \n",
    "    return np.average(np.sum(data, axis=0))"
   ]
  },
  {
   "cell_type": "code",
   "execution_count": 13,
   "id": "fe9d74c9",
   "metadata": {},
   "outputs": [],
   "source": [
    "import networkx as nx\n",
    "def runall(data):\n",
    "    temp1=[]\n",
    "    for i in data:\n",
    "        G = nx.from_numpy_array(i, parallel_edges=False)\n",
    "        \n",
    "        t=[nx.transitivity(G)]\n",
    "        ge=[nx.global_efficiency(G)]\n",
    "        le=[nx.local_efficiency(G)]\n",
    "        \n",
    "        cc=list(nx.clustering(G).values())\n",
    "        temp1.append(t+ge+le+cc) #+cpl+ge+le+ac+cc\n",
    "    return temp1"
   ]
  },
  {
   "cell_type": "code",
   "execution_count": 14,
   "id": "6c582fda",
   "metadata": {},
   "outputs": [
    {
     "name": "stdout",
     "output_type": "stream",
     "text": [
      "Number of CPU cores: 48\n",
      "517\n"
     ]
    }
   ],
   "source": [
    "from multiprocessing import Pool\n",
    "import multiprocessing\n",
    "\n",
    "if __name__ == '__main__':\n",
    "    num_cores = multiprocessing.cpu_count()\n",
    "    print(\"Number of CPU cores:\", num_cores)\n",
    "\n",
    "\n",
    "df1=np.array_split(x_adj[:], num_cores)\n",
    "\n",
    "\n",
    "print(len(df[0]))\n",
    "\n",
    "\n"
   ]
  },
  {
   "cell_type": "code",
   "execution_count": 15,
   "id": "489e53ab",
   "metadata": {},
   "outputs": [
    {
     "name": "stdout",
     "output_type": "stream",
     "text": [
      "--- 17.66571354866028 seconds ---\n"
     ]
    }
   ],
   "source": [
    "\n",
    "import time\n",
    "start_time = time.time()\n",
    "with Pool(processes=num_cores) as pool1:\n",
    "    results1 = pool1.map(runall, df1)\n",
    "\n",
    "pool1.close()\n",
    "pool1.join()\n",
    "\n",
    "print(\"--- %s seconds ---\" % (time.time() - start_time))\n"
   ]
  },
  {
   "cell_type": "code",
   "execution_count": 16,
   "id": "4bd5c260",
   "metadata": {},
   "outputs": [],
   "source": [
    "x_g=[]\n",
    "for submatrix in results1:\n",
    "    x_g.extend(submatrix)"
   ]
  },
  {
   "cell_type": "code",
   "execution_count": 17,
   "id": "e7087c73",
   "metadata": {},
   "outputs": [],
   "source": [
    "x_g=np.array(x_g)\n"
   ]
  },
  {
   "cell_type": "code",
   "execution_count": 18,
   "id": "6a1404fa",
   "metadata": {},
   "outputs": [
    {
     "name": "stdout",
     "output_type": "stream",
     "text": [
      "(24783, 59)\n"
     ]
    }
   ],
   "source": [
    "print(x_g.shape)"
   ]
  },
  {
   "cell_type": "code",
   "execution_count": 19,
   "id": "584b0d16",
   "metadata": {},
   "outputs": [],
   "source": [
    "x_train, x_temp, y_train, y_temp = train_test_split(x_g, Y, test_size=0.30, random_state=42)\n",
    "x_val,x_test,y_val,y_test=train_test_split(x_temp,y_temp,test_size=0.50, random_state=42)"
   ]
  },
  {
   "cell_type": "code",
   "execution_count": 20,
   "id": "87ff4de7",
   "metadata": {},
   "outputs": [
    {
     "name": "stdout",
     "output_type": "stream",
     "text": [
      "(17348, 59)\n",
      "(3717, 59)\n",
      "(3718, 59)\n"
     ]
    }
   ],
   "source": [
    "print(x_train.shape)\n",
    "print(x_val.shape)\n",
    "print(x_test.shape)"
   ]
  },
  {
   "cell_type": "code",
   "execution_count": 21,
   "id": "5ee715d8",
   "metadata": {},
   "outputs": [
    {
     "name": "stderr",
     "output_type": "stream",
     "text": [
      "2023-08-13 09:42:34.766711: W tensorflow/stream_executor/platform/default/dso_loader.cc:64] Could not load dynamic library 'libcudart.so.11.0'; dlerror: libcudart.so.11.0: cannot open shared object file: No such file or directory; LD_LIBRARY_PATH: /cm/shared/apps/slurm/18.08.9/lib64/slurm:/cm/shared/apps/slurm/18.08.9/lib64\n",
      "2023-08-13 09:42:34.766758: I tensorflow/stream_executor/cuda/cudart_stub.cc:29] Ignore above cudart dlerror if you do not have a GPU set up on your machine.\n"
     ]
    }
   ],
   "source": [
    "import tensorflow as tf\n"
   ]
  },
  {
   "cell_type": "code",
   "execution_count": 22,
   "id": "a51d8943",
   "metadata": {},
   "outputs": [
    {
     "name": "stderr",
     "output_type": "stream",
     "text": [
      "2023-08-13 09:43:02.122819: W tensorflow/stream_executor/platform/default/dso_loader.cc:64] Could not load dynamic library 'libcuda.so.1'; dlerror: libcuda.so.1: cannot open shared object file: No such file or directory; LD_LIBRARY_PATH: /cm/shared/apps/slurm/18.08.9/lib64/slurm:/cm/shared/apps/slurm/18.08.9/lib64\n",
      "2023-08-13 09:43:02.122916: W tensorflow/stream_executor/cuda/cuda_driver.cc:269] failed call to cuInit: UNKNOWN ERROR (303)\n",
      "2023-08-13 09:43:02.122957: I tensorflow/stream_executor/cuda/cuda_diagnostics.cc:156] kernel driver does not appear to be running on this host (c0191): /proc/driver/nvidia/version does not exist\n",
      "2023-08-13 09:43:02.123491: I tensorflow/core/platform/cpu_feature_guard.cc:151] This TensorFlow binary is optimized with oneAPI Deep Neural Network Library (oneDNN) to use the following CPU instructions in performance-critical operations:  AVX2 AVX512F FMA\n",
      "To enable them in other operations, rebuild TensorFlow with the appropriate compiler flags.\n"
     ]
    }
   ],
   "source": [
    "input_shape = (x_train.shape[1],1)\n",
    "num_classes = 4\n",
    "model3 = tf.keras.models.Sequential()\n",
    "model3.add(tf.keras.layers.Conv1D(filters= 32, kernel_size=3, activation='relu',padding='same',input_shape= input_shape))\n",
    "model3.add(tf.keras.layers.MaxPooling1D(pool_size=2,strides=None,padding='valid'))\n",
    "\n",
    "model3.add(tf.keras.layers.Conv1D(filters=32, kernel_size=3,padding='same',activation='relu'))\n",
    "model3.add(tf.keras.layers.MaxPooling1D(pool_size=2,strides=None,padding='valid'))\n",
    "\n",
    "# model3.add(tf.keras.layers.Conv1D(filters=32, kernel_size=3,padding='same',activation='relu'))\n",
    "# model3.add(tf.keras.layers.MaxPooling1D(pool_size=2,strides=None,padding='valid'))\n",
    "# model3.add(tf.keras.layers.Conv1D(filters=32, kernel_size=3,padding='same',activation='relu'))\n",
    "# model3.add(tf.keras.layers.MaxPooling1D(pool_size=2,strides=None,padding='valid'))\n",
    "# model3.add(tf.keras.layers.Conv1D(filters=32, kernel_size=3,padding='same',activation='relu'))\n",
    "# model3.add(tf.keras.layers.MaxPooling1D(pool_size=2,strides=None,padding='valid'))\n",
    "# model3.add(tf.keras.layers.Conv1D(filters=32, kernel_size=3,padding='same',activation='relu'))\n",
    "# model3.add(tf.keras.layers.MaxPooling1D(pool_size=2,strides=None,padding='valid'))\n",
    "model3.add(tf.keras.layers.Flatten())\n",
    "\n",
    "model3.add(tf.keras.layers.Dense(100, activation='relu'))\n",
    "model3.add(tf.keras.layers.Dropout(0.1))\n",
    "model3.add(tf.keras.layers.Dense(100, activation='relu'))\n",
    "model3.add(tf.keras.layers.Dense(num_classes, activation='softmax'))"
   ]
  },
  {
   "cell_type": "code",
   "execution_count": 23,
   "id": "09f1d97c",
   "metadata": {},
   "outputs": [
    {
     "name": "stdout",
     "output_type": "stream",
     "text": [
      "Model: \"sequential\"\n",
      "_________________________________________________________________\n",
      " Layer (type)                Output Shape              Param #   \n",
      "=================================================================\n",
      " conv1d (Conv1D)             (None, 59, 32)            128       \n",
      "                                                                 \n",
      " max_pooling1d (MaxPooling1D  (None, 29, 32)           0         \n",
      " )                                                               \n",
      "                                                                 \n",
      " conv1d_1 (Conv1D)           (None, 29, 32)            3104      \n",
      "                                                                 \n",
      " max_pooling1d_1 (MaxPooling  (None, 14, 32)           0         \n",
      " 1D)                                                             \n",
      "                                                                 \n",
      " flatten (Flatten)           (None, 448)               0         \n",
      "                                                                 \n",
      " dense (Dense)               (None, 100)               44900     \n",
      "                                                                 \n",
      " dropout (Dropout)           (None, 100)               0         \n",
      "                                                                 \n",
      " dense_1 (Dense)             (None, 100)               10100     \n",
      "                                                                 \n",
      " dense_2 (Dense)             (None, 4)                 404       \n",
      "                                                                 \n",
      "=================================================================\n",
      "Total params: 58,636\n",
      "Trainable params: 58,636\n",
      "Non-trainable params: 0\n",
      "_________________________________________________________________\n"
     ]
    }
   ],
   "source": [
    "model3.summary()"
   ]
  },
  {
   "cell_type": "code",
   "execution_count": 24,
   "id": "5691f34f",
   "metadata": {},
   "outputs": [],
   "source": [
    "model3.compile(loss='SparseCategoricalCrossentropy', optimizer='Adam', metrics=['acc'])\n"
   ]
  },
  {
   "cell_type": "code",
   "execution_count": 25,
   "id": "854edfb4",
   "metadata": {},
   "outputs": [],
   "source": [
    "from tensorflow.keras.callbacks import ModelCheckpoint\n",
    "from tensorflow.keras.models import load_model\n",
    "\n",
    "\n",
    "\n",
    "checkpoint = ModelCheckpoint('F5.h5', monitor='val_accuracy', verbose=1, save_best_only=True, mode='max')\n"
   ]
  },
  {
   "cell_type": "code",
   "execution_count": 26,
   "id": "43bf0926",
   "metadata": {
    "scrolled": true
   },
   "outputs": [
    {
     "name": "stdout",
     "output_type": "stream",
     "text": [
      "Epoch 1/30\n",
      "524/543 [===========================>..] - ETA: 0s - loss: 0.6506 - acc: 0.7139WARNING:tensorflow:Can save best model only with val_accuracy available, skipping.\n",
      "543/543 [==============================] - 3s 3ms/step - loss: 0.6470 - acc: 0.7150 - val_loss: 0.5664 - val_acc: 0.7378\n",
      "Epoch 2/30\n",
      "528/543 [============================>.] - ETA: 0s - loss: 0.4790 - acc: 0.7957WARNING:tensorflow:Can save best model only with val_accuracy available, skipping.\n",
      "543/543 [==============================] - 2s 3ms/step - loss: 0.4774 - acc: 0.7964 - val_loss: 0.4432 - val_acc: 0.8093\n",
      "Epoch 3/30\n",
      "538/543 [============================>.] - ETA: 0s - loss: 0.4511 - acc: 0.8089WARNING:tensorflow:Can save best model only with val_accuracy available, skipping.\n",
      "543/543 [==============================] - 1s 3ms/step - loss: 0.4512 - acc: 0.8090 - val_loss: 0.4614 - val_acc: 0.8034\n",
      "Epoch 4/30\n",
      "526/543 [============================>.] - ETA: 0s - loss: 0.4346 - acc: 0.8161WARNING:tensorflow:Can save best model only with val_accuracy available, skipping.\n",
      "543/543 [==============================] - 1s 3ms/step - loss: 0.4345 - acc: 0.8161 - val_loss: 0.4345 - val_acc: 0.8136\n",
      "Epoch 5/30\n",
      "524/543 [===========================>..] - ETA: 0s - loss: 0.4261 - acc: 0.8203WARNING:tensorflow:Can save best model only with val_accuracy available, skipping.\n",
      "543/543 [==============================] - 2s 3ms/step - loss: 0.4268 - acc: 0.8199 - val_loss: 0.4337 - val_acc: 0.8136\n",
      "Epoch 6/30\n",
      "542/543 [============================>.] - ETA: 0s - loss: 0.4217 - acc: 0.8217WARNING:tensorflow:Can save best model only with val_accuracy available, skipping.\n",
      "543/543 [==============================] - 2s 3ms/step - loss: 0.4216 - acc: 0.8217 - val_loss: 0.4491 - val_acc: 0.8101\n",
      "Epoch 7/30\n",
      "539/543 [============================>.] - ETA: 0s - loss: 0.4133 - acc: 0.8257WARNING:tensorflow:Can save best model only with val_accuracy available, skipping.\n",
      "543/543 [==============================] - 2s 3ms/step - loss: 0.4135 - acc: 0.8255 - val_loss: 0.4271 - val_acc: 0.8182\n",
      "Epoch 8/30\n",
      "542/543 [============================>.] - ETA: 0s - loss: 0.4091 - acc: 0.8259WARNING:tensorflow:Can save best model only with val_accuracy available, skipping.\n",
      "543/543 [==============================] - 2s 3ms/step - loss: 0.4091 - acc: 0.8258 - val_loss: 0.4454 - val_acc: 0.8088\n",
      "Epoch 9/30\n",
      "538/543 [============================>.] - ETA: 0s - loss: 0.4011 - acc: 0.8318WARNING:tensorflow:Can save best model only with val_accuracy available, skipping.\n",
      "543/543 [==============================] - 2s 3ms/step - loss: 0.4018 - acc: 0.8315 - val_loss: 0.4309 - val_acc: 0.8147\n",
      "Epoch 10/30\n",
      "533/543 [============================>.] - ETA: 0s - loss: 0.3947 - acc: 0.8326WARNING:tensorflow:Can save best model only with val_accuracy available, skipping.\n",
      "543/543 [==============================] - 1s 3ms/step - loss: 0.3955 - acc: 0.8327 - val_loss: 0.4456 - val_acc: 0.8182\n",
      "Epoch 11/30\n",
      "523/543 [===========================>..] - ETA: 0s - loss: 0.3905 - acc: 0.8369WARNING:tensorflow:Can save best model only with val_accuracy available, skipping.\n",
      "543/543 [==============================] - 2s 3ms/step - loss: 0.3911 - acc: 0.8366 - val_loss: 0.4369 - val_acc: 0.8206\n",
      "Epoch 12/30\n",
      "535/543 [============================>.] - ETA: 0s - loss: 0.3871 - acc: 0.8366WARNING:tensorflow:Can save best model only with val_accuracy available, skipping.\n",
      "543/543 [==============================] - 2s 3ms/step - loss: 0.3867 - acc: 0.8369 - val_loss: 0.4311 - val_acc: 0.8160\n",
      "Epoch 13/30\n",
      "527/543 [============================>.] - ETA: 0s - loss: 0.3750 - acc: 0.8421WARNING:tensorflow:Can save best model only with val_accuracy available, skipping.\n",
      "543/543 [==============================] - 2s 3ms/step - loss: 0.3754 - acc: 0.8419 - val_loss: 0.4566 - val_acc: 0.8050\n",
      "Epoch 14/30\n",
      "524/543 [===========================>..] - ETA: 0s - loss: 0.3766 - acc: 0.8433WARNING:tensorflow:Can save best model only with val_accuracy available, skipping.\n",
      "543/543 [==============================] - 2s 3ms/step - loss: 0.3760 - acc: 0.8434 - val_loss: 0.4533 - val_acc: 0.8107\n",
      "Epoch 15/30\n",
      "540/543 [============================>.] - ETA: 0s - loss: 0.3651 - acc: 0.8493WARNING:tensorflow:Can save best model only with val_accuracy available, skipping.\n",
      "543/543 [==============================] - 2s 3ms/step - loss: 0.3652 - acc: 0.8491 - val_loss: 0.4669 - val_acc: 0.8042\n",
      "Epoch 16/30\n",
      "525/543 [============================>.] - ETA: 0s - loss: 0.3574 - acc: 0.8502WARNING:tensorflow:Can save best model only with val_accuracy available, skipping.\n",
      "543/543 [==============================] - 2s 3ms/step - loss: 0.3588 - acc: 0.8497 - val_loss: 0.4439 - val_acc: 0.8077\n",
      "Epoch 17/30\n",
      "542/543 [============================>.] - ETA: 0s - loss: 0.3538 - acc: 0.8522WARNING:tensorflow:Can save best model only with val_accuracy available, skipping.\n",
      "543/543 [==============================] - 2s 3ms/step - loss: 0.3538 - acc: 0.8521 - val_loss: 0.4490 - val_acc: 0.8090\n",
      "Epoch 18/30\n",
      "525/543 [============================>.] - ETA: 0s - loss: 0.3430 - acc: 0.8561WARNING:tensorflow:Can save best model only with val_accuracy available, skipping.\n",
      "543/543 [==============================] - 2s 3ms/step - loss: 0.3438 - acc: 0.8558 - val_loss: 0.4472 - val_acc: 0.8160\n",
      "Epoch 19/30\n",
      "534/543 [============================>.] - ETA: 0s - loss: 0.3389 - acc: 0.8584WARNING:tensorflow:Can save best model only with val_accuracy available, skipping.\n",
      "543/543 [==============================] - 1s 3ms/step - loss: 0.3379 - acc: 0.8587 - val_loss: 0.4686 - val_acc: 0.8047\n",
      "Epoch 20/30\n",
      "528/543 [============================>.] - ETA: 0s - loss: 0.3300 - acc: 0.8614WARNING:tensorflow:Can save best model only with val_accuracy available, skipping.\n",
      "543/543 [==============================] - 1s 3ms/step - loss: 0.3302 - acc: 0.8614 - val_loss: 0.4633 - val_acc: 0.8155\n",
      "Epoch 21/30\n",
      "540/543 [============================>.] - ETA: 0s - loss: 0.3216 - acc: 0.8633WARNING:tensorflow:Can save best model only with val_accuracy available, skipping.\n",
      "543/543 [==============================] - 2s 3ms/step - loss: 0.3215 - acc: 0.8636 - val_loss: 0.4633 - val_acc: 0.8085\n",
      "Epoch 22/30\n",
      "531/543 [============================>.] - ETA: 0s - loss: 0.3077 - acc: 0.8726WARNING:tensorflow:Can save best model only with val_accuracy available, skipping.\n",
      "543/543 [==============================] - 2s 3ms/step - loss: 0.3090 - acc: 0.8716 - val_loss: 0.4926 - val_acc: 0.8029\n",
      "Epoch 23/30\n",
      "538/543 [============================>.] - ETA: 0s - loss: 0.2985 - acc: 0.8735WARNING:tensorflow:Can save best model only with val_accuracy available, skipping.\n",
      "543/543 [==============================] - 2s 3ms/step - loss: 0.2988 - acc: 0.8735 - val_loss: 0.4863 - val_acc: 0.8002\n",
      "Epoch 24/30\n",
      "540/543 [============================>.] - ETA: 0s - loss: 0.2925 - acc: 0.8790WARNING:tensorflow:Can save best model only with val_accuracy available, skipping.\n",
      "543/543 [==============================] - 2s 3ms/step - loss: 0.2929 - acc: 0.8789 - val_loss: 0.4980 - val_acc: 0.8034\n",
      "Epoch 25/30\n",
      "543/543 [==============================] - ETA: 0s - loss: 0.2810 - acc: 0.8837WARNING:tensorflow:Can save best model only with val_accuracy available, skipping.\n",
      "543/543 [==============================] - 2s 3ms/step - loss: 0.2810 - acc: 0.8837 - val_loss: 0.5287 - val_acc: 0.8058\n",
      "Epoch 26/30\n",
      "535/543 [============================>.] - ETA: 0s - loss: 0.2693 - acc: 0.8883WARNING:tensorflow:Can save best model only with val_accuracy available, skipping.\n",
      "543/543 [==============================] - 2s 3ms/step - loss: 0.2692 - acc: 0.8880 - val_loss: 0.5281 - val_acc: 0.8029\n",
      "Epoch 27/30\n",
      "537/543 [============================>.] - ETA: 0s - loss: 0.2622 - acc: 0.8920WARNING:tensorflow:Can save best model only with val_accuracy available, skipping.\n",
      "543/543 [==============================] - 2s 3ms/step - loss: 0.2623 - acc: 0.8918 - val_loss: 0.5445 - val_acc: 0.7999\n",
      "Epoch 28/30\n",
      "539/543 [============================>.] - ETA: 0s - loss: 0.2513 - acc: 0.8953WARNING:tensorflow:Can save best model only with val_accuracy available, skipping.\n",
      "543/543 [==============================] - 2s 3ms/step - loss: 0.2513 - acc: 0.8954 - val_loss: 0.5365 - val_acc: 0.8020\n"
     ]
    },
    {
     "name": "stdout",
     "output_type": "stream",
     "text": [
      "Epoch 29/30\n",
      "539/543 [============================>.] - ETA: 0s - loss: 0.2426 - acc: 0.9014WARNING:tensorflow:Can save best model only with val_accuracy available, skipping.\n",
      "543/543 [==============================] - 2s 3ms/step - loss: 0.2431 - acc: 0.9014 - val_loss: 0.5698 - val_acc: 0.7994\n",
      "Epoch 30/30\n",
      "533/543 [============================>.] - ETA: 0s - loss: 0.2367 - acc: 0.9031WARNING:tensorflow:Can save best model only with val_accuracy available, skipping.\n",
      "543/543 [==============================] - 2s 3ms/step - loss: 0.2362 - acc: 0.9034 - val_loss: 0.5823 - val_acc: 0.7961\n"
     ]
    }
   ],
   "source": [
    "history_log = model3.fit(x_train, y_train, epochs=30, verbose=1, validation_data=(x_test, y_test), callbacks=[checkpoint])\n"
   ]
  },
  {
   "cell_type": "code",
   "execution_count": 27,
   "id": "44709207",
   "metadata": {},
   "outputs": [],
   "source": [
    "model3.save_weights('/home/sahaj432/Desktop/code_organized/G_signal_feature_reduction_Project/New_neural_code_SNR_2_v/F5.h5')\n"
   ]
  },
  {
   "cell_type": "code",
   "execution_count": 28,
   "id": "d09ba0e4",
   "metadata": {},
   "outputs": [],
   "source": [
    "model3.load_weights('/home/sahaj432/Desktop/code_organized/G_signal_feature_reduction_Project/New_neural_code_SNR_2_v/F5.h5')\n"
   ]
  },
  {
   "cell_type": "code",
   "execution_count": 29,
   "id": "994f96a7",
   "metadata": {},
   "outputs": [],
   "source": [
    "predictions = model3.predict(x_test)\n",
    "pred_arg = np.argmax(predictions, axis=1)"
   ]
  },
  {
   "cell_type": "code",
   "execution_count": 30,
   "id": "abb59028",
   "metadata": {},
   "outputs": [
    {
     "name": "stdout",
     "output_type": "stream",
     "text": [
      "cnf_matrix_2.0_70\n",
      "\n",
      "[[708   3   3 105]\n",
      " [  1 716 208  76]\n",
      " [  1 179 832   6]\n",
      " [ 73  95   8 704]]\n"
     ]
    }
   ],
   "source": [
    "from sklearn.metrics import confusion_matrix\n",
    "cnf_matrix=confusion_matrix(y_test,pred_arg)\n",
    "print(\"cnf_matrix_2.0_70\")\n",
    "print(\"\")\n",
    "print(cnf_matrix)"
   ]
  },
  {
   "cell_type": "code",
   "execution_count": 31,
   "id": "9f134881",
   "metadata": {},
   "outputs": [],
   "source": [
    "from sklearn.metrics import accuracy_score, recall_score,precision_score,roc_auc_score,roc_curve,f1_score\n"
   ]
  },
  {
   "cell_type": "code",
   "execution_count": 32,
   "id": "0f419b16",
   "metadata": {},
   "outputs": [
    {
     "name": "stdout",
     "output_type": "stream",
     "text": [
      "79.61269499731038\n",
      "80.03334782056399\n",
      "79.61269499731038\n",
      "79.70696753742936\n"
     ]
    }
   ],
   "source": [
    "print(accuracy_score(y_test,pred_arg)*100)\n",
    "print(f1_score(y_test,pred_arg,average='macro')*100)\n",
    "print(recall_score(y_test,pred_arg, average=\"weighted\")*100)\n",
    "print(precision_score(y_test,pred_arg, average=\"weighted\")*100)"
   ]
  },
  {
   "cell_type": "code",
   "execution_count": null,
   "id": "90845a20",
   "metadata": {},
   "outputs": [],
   "source": []
  },
  {
   "cell_type": "code",
   "execution_count": null,
   "id": "dd00c7be",
   "metadata": {},
   "outputs": [],
   "source": []
  },
  {
   "cell_type": "code",
   "execution_count": null,
   "id": "0c3d06db",
   "metadata": {},
   "outputs": [],
   "source": []
  },
  {
   "cell_type": "code",
   "execution_count": null,
   "id": "5a139a0a",
   "metadata": {},
   "outputs": [],
   "source": []
  }
 ],
 "metadata": {
  "anaconda-cloud": {},
  "kernelspec": {
   "display_name": "Python [conda env:root] *",
   "language": "python",
   "name": "conda-root-py"
  },
  "language_info": {
   "codemirror_mode": {
    "name": "ipython",
    "version": 3
   },
   "file_extension": ".py",
   "mimetype": "text/x-python",
   "name": "python",
   "nbconvert_exporter": "python",
   "pygments_lexer": "ipython3",
   "version": "3.9.12"
  }
 },
 "nbformat": 4,
 "nbformat_minor": 5
}
