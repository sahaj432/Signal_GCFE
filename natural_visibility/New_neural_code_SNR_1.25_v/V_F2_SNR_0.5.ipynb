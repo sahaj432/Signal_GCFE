{
 "cells": [
  {
   "cell_type": "code",
   "execution_count": 1,
   "id": "9c4dc733",
   "metadata": {},
   "outputs": [
    {
     "name": "stdout",
     "output_type": "stream",
     "text": [
      "Loading PyIOmica 1.3.3 (https://github.com/gmiaslab/pyiomica by G. Mias Lab)\n"
     ]
    },
    {
     "name": "stderr",
     "output_type": "stream",
     "text": [
      "/data/user/home/sahaj432/Desktop/code_organized/G_signal_feature_reduction_Project/New_neural_code_SNR_1.25_v/pyiomica_master/pyiomica/visibilityGraphAuxiliaryFunctions.py:91: NumbaDeprecationWarning: \u001b[1mThe 'nopython' keyword argument was not supplied to the 'numba.jit' decorator. The implicit default value for this argument is currently False, but it will be changed to True in Numba 0.59.0. See https://numba.readthedocs.io/en/stable/reference/deprecation.html#deprecation-of-object-mode-fall-back-behaviour-when-using-jit for details.\u001b[0m\n",
      "  @numba.jit(cache=True)\n"
     ]
    }
   ],
   "source": [
    "import numpy as np\n",
    "import os\n",
    "import glob\n",
    "import seaborn as sns\n",
    "import matplotlib.pyplot as plt\n",
    "from pyiomica_master import pyiomica as pio\n",
    "from pyiomica_master.pyiomica import visualizationFunctions\n",
    "from pyiomica_master.pyiomica import visibilityGraphCommunityDetection\n",
    "import matplotlib as mpl\n",
    "from sklearn.utils import shuffle\n",
    "from sklearn.model_selection import train_test_split\n",
    "\n",
    "from tqdm import tqdm\n",
    "%matplotlib inline"
   ]
  },
  {
   "cell_type": "code",
   "execution_count": 2,
   "id": "b297825b",
   "metadata": {},
   "outputs": [],
   "source": [
    "x_frame1_05 = np.genfromtxt('/home/sahaj432/Desktop/dataset/neural_4_class/x_frame1_1.25_seed.csv', delimiter=',')\n",
    "x_frame2_05 = np.genfromtxt('/home/sahaj432/Desktop/dataset/neural_4_class/x_frame2_1.25_seed.csv', delimiter=',')\n",
    "x_frame3_05 = np.genfromtxt('/home/sahaj432/Desktop/dataset/neural_4_class/x_frame3_1.25_seed.csv', delimiter=',')\n",
    "x_framen_05= np.genfromtxt('/home/sahaj432/Desktop/dataset/neural_4_class/x_frame_noise_1.25_seed.csv', delimiter=',')"
   ]
  },
  {
   "cell_type": "code",
   "execution_count": null,
   "id": "81f7372f",
   "metadata": {},
   "outputs": [],
   "source": []
  },
  {
   "cell_type": "code",
   "execution_count": 3,
   "id": "79eaf877",
   "metadata": {},
   "outputs": [],
   "source": [
    "x=np.concatenate((x_frame1_05,x_frame2_05,x_frame3_05,x_framen_05[:6000]),axis=0)\n",
    "y=np.concatenate((np.zeros(len(x_frame1_05)),np.zeros(len(x_frame2_05))+1,np.zeros(len(x_frame3_05))+2,np.zeros(len(x_framen_05[:6000]))+3),axis=0)"
   ]
  },
  {
   "cell_type": "code",
   "execution_count": 4,
   "id": "3ea7e902",
   "metadata": {},
   "outputs": [],
   "source": [
    "X, Y = shuffle(x,y, random_state=1)"
   ]
  },
  {
   "cell_type": "code",
   "execution_count": 5,
   "id": "b78a4e4f",
   "metadata": {},
   "outputs": [],
   "source": [
    "def calculate_adj(data):\n",
    "    temp1=[]\n",
    "    for p, i in enumerate(data):\n",
    "        #print(f'Converting ==> {p+1} \\r', end=\"\",flush=True)\n",
    "        vs_out = visibilityGraphCommunityDetection.createVisibilityGraph(i, range(len(i)), \"natural\", weight='tan')\n",
    "        vs_out=np.asarray(vs_out)\n",
    "        temp1.append(vs_out)\n",
    "        \n",
    "    return temp1"
   ]
  },
  {
   "cell_type": "code",
   "execution_count": 6,
   "id": "d76d37e4",
   "metadata": {},
   "outputs": [
    {
     "name": "stdout",
     "output_type": "stream",
     "text": [
      "Number of CPU cores: 48\n"
     ]
    }
   ],
   "source": [
    "from multiprocessing import Pool\n",
    "import multiprocessing\n",
    "\n",
    "if __name__ == '__main__':\n",
    "    num_cores = multiprocessing.cpu_count()\n",
    "    print(\"Number of CPU cores:\", num_cores)"
   ]
  },
  {
   "cell_type": "code",
   "execution_count": 7,
   "id": "7c17ff90",
   "metadata": {},
   "outputs": [
    {
     "name": "stdout",
     "output_type": "stream",
     "text": [
      "533\n"
     ]
    }
   ],
   "source": [
    "df=np.array_split(X, num_cores)\n",
    "print(len(df[0]))"
   ]
  },
  {
   "cell_type": "code",
   "execution_count": 8,
   "id": "83c17a05",
   "metadata": {},
   "outputs": [],
   "source": [
    "with Pool(processes=num_cores) as pool:\n",
    "    results = pool.map(calculate_adj, df)\n",
    "\n",
    "pool.close()\n",
    "pool.join()"
   ]
  },
  {
   "cell_type": "code",
   "execution_count": 9,
   "id": "8f6e3323",
   "metadata": {},
   "outputs": [],
   "source": [
    "x_adj=[]\n",
    "for submatrix in results:\n",
    "    x_adj.extend(submatrix)"
   ]
  },
  {
   "cell_type": "code",
   "execution_count": 10,
   "id": "f5de6f8d",
   "metadata": {},
   "outputs": [
    {
     "name": "stdout",
     "output_type": "stream",
     "text": [
      "25578\n"
     ]
    }
   ],
   "source": [
    "print(len(x_adj))"
   ]
  },
  {
   "cell_type": "code",
   "execution_count": 11,
   "id": "37e26890",
   "metadata": {},
   "outputs": [],
   "source": [
    "x_adj=np.array(x_adj)"
   ]
  },
  {
   "cell_type": "code",
   "execution_count": 12,
   "id": "79d3d717",
   "metadata": {},
   "outputs": [],
   "source": [
    "def graph_index_complexity(matrix):\n",
    "    N = len(matrix) # Number of nodes\n",
    "    E = np.sum(matrix > 0) / 2 # Number of edges (since matrix is symmetric for undirected graphs)\n",
    "    \n",
    "    if N == 0 or E == 0:\n",
    "        return 0\n",
    "    \n",
    "    GIC = (E / N) * np.log(N)\n",
    "    return GIC"
   ]
  },
  {
   "cell_type": "code",
   "execution_count": 13,
   "id": "baccf05e",
   "metadata": {},
   "outputs": [],
   "source": [
    "def degree(data): #The node strengths (or weighted degrees) \n",
    "    return np.sum(data, axis=0).flatten()"
   ]
  },
  {
   "cell_type": "code",
   "execution_count": 14,
   "id": "fe9d74c9",
   "metadata": {},
   "outputs": [],
   "source": [
    "import networkx as nx\n",
    "def runall(data):\n",
    "    temp1=[]\n",
    "    for i in data:\n",
    "        G = nx.from_numpy_array(i, parallel_edges=False)\n",
    "        \n",
    "        cpl=[nx.average_shortest_path_length(G)]\n",
    "        ge=[nx.global_efficiency(G)]\n",
    "        le=[nx.local_efficiency(G)]\n",
    "        ac=[nx.degree_assortativity_coefficient(G)]\n",
    "        d=degree(i).tolist()\n",
    "        bc=list(nx.betweenness_centrality(G).values())\n",
    "        cc=list(nx.clustering(G).values())\n",
    "        temp1.append(cpl+ge+le+ac+d+bc+cc) #+cpl+ge+le+ac+cc\n",
    "    return temp1"
   ]
  },
  {
   "cell_type": "code",
   "execution_count": 15,
   "id": "6c582fda",
   "metadata": {},
   "outputs": [
    {
     "name": "stdout",
     "output_type": "stream",
     "text": [
      "Number of CPU cores: 48\n",
      "533\n"
     ]
    }
   ],
   "source": [
    "from multiprocessing import Pool\n",
    "import multiprocessing\n",
    "\n",
    "if __name__ == '__main__':\n",
    "    num_cores = multiprocessing.cpu_count()\n",
    "    print(\"Number of CPU cores:\", num_cores)\n",
    "\n",
    "\n",
    "df1=np.array_split(x_adj[:], num_cores)\n",
    "\n",
    "\n",
    "print(len(df[0]))\n",
    "\n",
    "\n"
   ]
  },
  {
   "cell_type": "code",
   "execution_count": 16,
   "id": "489e53ab",
   "metadata": {},
   "outputs": [
    {
     "name": "stdout",
     "output_type": "stream",
     "text": [
      "--- 30.50870156288147 seconds ---\n"
     ]
    }
   ],
   "source": [
    "\n",
    "import time\n",
    "start_time = time.time()\n",
    "with Pool(processes=num_cores) as pool1:\n",
    "    results1 = pool1.map(runall, df1)\n",
    "\n",
    "pool1.close()\n",
    "pool1.join()\n",
    "\n",
    "print(\"--- %s seconds ---\" % (time.time() - start_time))\n"
   ]
  },
  {
   "cell_type": "code",
   "execution_count": 17,
   "id": "4bd5c260",
   "metadata": {},
   "outputs": [],
   "source": [
    "x_g=[]\n",
    "for submatrix in results1:\n",
    "    x_g.extend(submatrix)"
   ]
  },
  {
   "cell_type": "code",
   "execution_count": 18,
   "id": "e7087c73",
   "metadata": {},
   "outputs": [],
   "source": [
    "x_g=np.array(x_g)\n"
   ]
  },
  {
   "cell_type": "code",
   "execution_count": 19,
   "id": "8755a166",
   "metadata": {},
   "outputs": [
    {
     "name": "stdout",
     "output_type": "stream",
     "text": [
      "(25578, 172)\n"
     ]
    }
   ],
   "source": [
    "print(x_g.shape)"
   ]
  },
  {
   "cell_type": "code",
   "execution_count": 20,
   "id": "584b0d16",
   "metadata": {},
   "outputs": [],
   "source": [
    "x_train, x_temp, y_train, y_temp = train_test_split(x_g, Y, test_size=0.30, random_state=42)\n",
    "x_val,x_test,y_val,y_test=train_test_split(x_temp,y_temp,test_size=0.50, random_state=42)"
   ]
  },
  {
   "cell_type": "code",
   "execution_count": 21,
   "id": "87ff4de7",
   "metadata": {},
   "outputs": [
    {
     "name": "stdout",
     "output_type": "stream",
     "text": [
      "(17904, 172)\n",
      "(3837, 172)\n",
      "(3837, 172)\n"
     ]
    }
   ],
   "source": [
    "print(x_train.shape)\n",
    "print(x_val.shape)\n",
    "print(x_test.shape)"
   ]
  },
  {
   "cell_type": "code",
   "execution_count": 22,
   "id": "5ee715d8",
   "metadata": {},
   "outputs": [
    {
     "name": "stderr",
     "output_type": "stream",
     "text": [
      "2023-08-13 09:35:30.231265: W tensorflow/stream_executor/platform/default/dso_loader.cc:64] Could not load dynamic library 'libcudart.so.11.0'; dlerror: libcudart.so.11.0: cannot open shared object file: No such file or directory; LD_LIBRARY_PATH: /cm/shared/apps/slurm/18.08.9/lib64/slurm:/cm/shared/apps/slurm/18.08.9/lib64\n",
      "2023-08-13 09:35:30.231296: I tensorflow/stream_executor/cuda/cudart_stub.cc:29] Ignore above cudart dlerror if you do not have a GPU set up on your machine.\n"
     ]
    }
   ],
   "source": [
    "import tensorflow as tf\n"
   ]
  },
  {
   "cell_type": "code",
   "execution_count": 23,
   "id": "a51d8943",
   "metadata": {},
   "outputs": [
    {
     "name": "stderr",
     "output_type": "stream",
     "text": [
      "2023-08-13 09:35:55.893246: W tensorflow/stream_executor/platform/default/dso_loader.cc:64] Could not load dynamic library 'libcuda.so.1'; dlerror: libcuda.so.1: cannot open shared object file: No such file or directory; LD_LIBRARY_PATH: /cm/shared/apps/slurm/18.08.9/lib64/slurm:/cm/shared/apps/slurm/18.08.9/lib64\n",
      "2023-08-13 09:35:55.893277: W tensorflow/stream_executor/cuda/cuda_driver.cc:269] failed call to cuInit: UNKNOWN ERROR (303)\n",
      "2023-08-13 09:35:55.893296: I tensorflow/stream_executor/cuda/cuda_diagnostics.cc:156] kernel driver does not appear to be running on this host (c0158): /proc/driver/nvidia/version does not exist\n",
      "2023-08-13 09:35:55.893582: I tensorflow/core/platform/cpu_feature_guard.cc:151] This TensorFlow binary is optimized with oneAPI Deep Neural Network Library (oneDNN) to use the following CPU instructions in performance-critical operations:  AVX2 AVX512F FMA\n",
      "To enable them in other operations, rebuild TensorFlow with the appropriate compiler flags.\n"
     ]
    }
   ],
   "source": [
    "input_shape = (x_train.shape[1],1)\n",
    "num_classes = 4\n",
    "model3 = tf.keras.models.Sequential()\n",
    "model3.add(tf.keras.layers.Conv1D(filters= 32, kernel_size=3, activation='relu',padding='same',input_shape= input_shape))\n",
    "model3.add(tf.keras.layers.MaxPooling1D(pool_size=2,strides=None,padding='valid'))\n",
    "\n",
    "model3.add(tf.keras.layers.Conv1D(filters=32, kernel_size=3,padding='same',activation='relu'))\n",
    "model3.add(tf.keras.layers.MaxPooling1D(pool_size=2,strides=None,padding='valid'))\n",
    "\n",
    "# model3.add(tf.keras.layers.Conv1D(filters=32, kernel_size=3,padding='same',activation='relu'))\n",
    "# model3.add(tf.keras.layers.MaxPooling1D(pool_size=2,strides=None,padding='valid'))\n",
    "# model3.add(tf.keras.layers.Conv1D(filters=32, kernel_size=3,padding='same',activation='relu'))\n",
    "# model3.add(tf.keras.layers.MaxPooling1D(pool_size=2,strides=None,padding='valid'))\n",
    "# model3.add(tf.keras.layers.Conv1D(filters=32, kernel_size=3,padding='same',activation='relu'))\n",
    "# model3.add(tf.keras.layers.MaxPooling1D(pool_size=2,strides=None,padding='valid'))\n",
    "# model3.add(tf.keras.layers.Conv1D(filters=32, kernel_size=3,padding='same',activation='relu'))\n",
    "# model3.add(tf.keras.layers.MaxPooling1D(pool_size=2,strides=None,padding='valid'))\n",
    "model3.add(tf.keras.layers.Flatten())\n",
    "\n",
    "model3.add(tf.keras.layers.Dense(100, activation='relu'))\n",
    "model3.add(tf.keras.layers.Dropout(0.1))\n",
    "model3.add(tf.keras.layers.Dense(100, activation='relu'))\n",
    "model3.add(tf.keras.layers.Dense(num_classes, activation='softmax'))"
   ]
  },
  {
   "cell_type": "code",
   "execution_count": 24,
   "id": "09f1d97c",
   "metadata": {},
   "outputs": [
    {
     "name": "stdout",
     "output_type": "stream",
     "text": [
      "Model: \"sequential\"\n",
      "_________________________________________________________________\n",
      " Layer (type)                Output Shape              Param #   \n",
      "=================================================================\n",
      " conv1d (Conv1D)             (None, 172, 32)           128       \n",
      "                                                                 \n",
      " max_pooling1d (MaxPooling1D  (None, 86, 32)           0         \n",
      " )                                                               \n",
      "                                                                 \n",
      " conv1d_1 (Conv1D)           (None, 86, 32)            3104      \n",
      "                                                                 \n",
      " max_pooling1d_1 (MaxPooling  (None, 43, 32)           0         \n",
      " 1D)                                                             \n",
      "                                                                 \n",
      " flatten (Flatten)           (None, 1376)              0         \n",
      "                                                                 \n",
      " dense (Dense)               (None, 100)               137700    \n",
      "                                                                 \n",
      " dropout (Dropout)           (None, 100)               0         \n",
      "                                                                 \n",
      " dense_1 (Dense)             (None, 100)               10100     \n",
      "                                                                 \n",
      " dense_2 (Dense)             (None, 4)                 404       \n",
      "                                                                 \n",
      "=================================================================\n",
      "Total params: 151,436\n",
      "Trainable params: 151,436\n",
      "Non-trainable params: 0\n",
      "_________________________________________________________________\n"
     ]
    }
   ],
   "source": [
    "model3.summary()"
   ]
  },
  {
   "cell_type": "code",
   "execution_count": 25,
   "id": "5691f34f",
   "metadata": {},
   "outputs": [],
   "source": [
    "model3.compile(loss='SparseCategoricalCrossentropy', optimizer='Adam', metrics=['acc'])\n"
   ]
  },
  {
   "cell_type": "code",
   "execution_count": 26,
   "id": "854edfb4",
   "metadata": {},
   "outputs": [],
   "source": [
    "from tensorflow.keras.callbacks import ModelCheckpoint\n",
    "from tensorflow.keras.models import load_model\n",
    "\n",
    "\n",
    "\n",
    "checkpoint = ModelCheckpoint('F2.h5', monitor='val_accuracy', verbose=1, save_best_only=True, mode='max')\n"
   ]
  },
  {
   "cell_type": "code",
   "execution_count": 27,
   "id": "43bf0926",
   "metadata": {
    "scrolled": true
   },
   "outputs": [
    {
     "name": "stdout",
     "output_type": "stream",
     "text": [
      "Epoch 1/30\n",
      "559/560 [============================>.] - ETA: 0s - loss: 0.2070 - acc: 0.9255WARNING:tensorflow:Can save best model only with val_accuracy available, skipping.\n",
      "560/560 [==============================] - 3s 4ms/step - loss: 0.2069 - acc: 0.9255 - val_loss: 0.0775 - val_acc: 0.9721\n",
      "Epoch 2/30\n",
      "547/560 [============================>.] - ETA: 0s - loss: 0.0892 - acc: 0.9713WARNING:tensorflow:Can save best model only with val_accuracy available, skipping.\n",
      "560/560 [==============================] - 2s 4ms/step - loss: 0.0887 - acc: 0.9714 - val_loss: 0.0593 - val_acc: 0.9784\n",
      "Epoch 3/30\n",
      "548/560 [============================>.] - ETA: 0s - loss: 0.0781 - acc: 0.9723WARNING:tensorflow:Can save best model only with val_accuracy available, skipping.\n",
      "560/560 [==============================] - 2s 4ms/step - loss: 0.0775 - acc: 0.9725 - val_loss: 0.0681 - val_acc: 0.9758\n",
      "Epoch 4/30\n",
      "547/560 [============================>.] - ETA: 0s - loss: 0.0683 - acc: 0.9773WARNING:tensorflow:Can save best model only with val_accuracy available, skipping.\n",
      "560/560 [==============================] - 2s 4ms/step - loss: 0.0675 - acc: 0.9775 - val_loss: 0.0776 - val_acc: 0.9737\n",
      "Epoch 5/30\n",
      "558/560 [============================>.] - ETA: 0s - loss: 0.0632 - acc: 0.9792WARNING:tensorflow:Can save best model only with val_accuracy available, skipping.\n",
      "560/560 [==============================] - 2s 4ms/step - loss: 0.0630 - acc: 0.9792 - val_loss: 0.0583 - val_acc: 0.9807\n",
      "Epoch 6/30\n",
      "549/560 [============================>.] - ETA: 0s - loss: 0.0585 - acc: 0.9810WARNING:tensorflow:Can save best model only with val_accuracy available, skipping.\n",
      "560/560 [==============================] - 2s 4ms/step - loss: 0.0581 - acc: 0.9813 - val_loss: 0.0497 - val_acc: 0.9828\n",
      "Epoch 7/30\n",
      "552/560 [============================>.] - ETA: 0s - loss: 0.0558 - acc: 0.9808WARNING:tensorflow:Can save best model only with val_accuracy available, skipping.\n",
      "560/560 [==============================] - 2s 4ms/step - loss: 0.0565 - acc: 0.9807 - val_loss: 0.0599 - val_acc: 0.9794\n",
      "Epoch 8/30\n",
      "559/560 [============================>.] - ETA: 0s - loss: 0.0555 - acc: 0.9822WARNING:tensorflow:Can save best model only with val_accuracy available, skipping.\n",
      "560/560 [==============================] - 2s 4ms/step - loss: 0.0555 - acc: 0.9822 - val_loss: 0.0710 - val_acc: 0.9784\n",
      "Epoch 9/30\n",
      "560/560 [==============================] - ETA: 0s - loss: 0.0520 - acc: 0.9834WARNING:tensorflow:Can save best model only with val_accuracy available, skipping.\n",
      "560/560 [==============================] - 2s 4ms/step - loss: 0.0520 - acc: 0.9834 - val_loss: 0.0492 - val_acc: 0.9831\n",
      "Epoch 10/30\n",
      "552/560 [============================>.] - ETA: 0s - loss: 0.0520 - acc: 0.9826WARNING:tensorflow:Can save best model only with val_accuracy available, skipping.\n",
      "560/560 [==============================] - 2s 4ms/step - loss: 0.0514 - acc: 0.9829 - val_loss: 0.0441 - val_acc: 0.9844\n",
      "Epoch 11/30\n",
      "558/560 [============================>.] - ETA: 0s - loss: 0.0463 - acc: 0.9845WARNING:tensorflow:Can save best model only with val_accuracy available, skipping.\n",
      "560/560 [==============================] - 2s 4ms/step - loss: 0.0464 - acc: 0.9844 - val_loss: 0.0784 - val_acc: 0.9719\n",
      "Epoch 12/30\n",
      "547/560 [============================>.] - ETA: 0s - loss: 0.0461 - acc: 0.9853WARNING:tensorflow:Can save best model only with val_accuracy available, skipping.\n",
      "560/560 [==============================] - 2s 4ms/step - loss: 0.0461 - acc: 0.9852 - val_loss: 0.0547 - val_acc: 0.9833\n",
      "Epoch 13/30\n",
      "546/560 [============================>.] - ETA: 0s - loss: 0.0456 - acc: 0.9848WARNING:tensorflow:Can save best model only with val_accuracy available, skipping.\n",
      "560/560 [==============================] - 2s 4ms/step - loss: 0.0458 - acc: 0.9846 - val_loss: 0.0650 - val_acc: 0.9797\n",
      "Epoch 14/30\n",
      "556/560 [============================>.] - ETA: 0s - loss: 0.0412 - acc: 0.9866WARNING:tensorflow:Can save best model only with val_accuracy available, skipping.\n",
      "560/560 [==============================] - 2s 4ms/step - loss: 0.0411 - acc: 0.9865 - val_loss: 0.0530 - val_acc: 0.9815\n",
      "Epoch 15/30\n",
      "558/560 [============================>.] - ETA: 0s - loss: 0.0423 - acc: 0.9858WARNING:tensorflow:Can save best model only with val_accuracy available, skipping.\n",
      "560/560 [==============================] - 2s 4ms/step - loss: 0.0423 - acc: 0.9858 - val_loss: 0.0934 - val_acc: 0.9661\n",
      "Epoch 16/30\n",
      "549/560 [============================>.] - ETA: 0s - loss: 0.0410 - acc: 0.9863WARNING:tensorflow:Can save best model only with val_accuracy available, skipping.\n",
      "560/560 [==============================] - 2s 4ms/step - loss: 0.0408 - acc: 0.9863 - val_loss: 0.0489 - val_acc: 0.9854\n",
      "Epoch 17/30\n",
      "554/560 [============================>.] - ETA: 0s - loss: 0.0380 - acc: 0.9879WARNING:tensorflow:Can save best model only with val_accuracy available, skipping.\n",
      "560/560 [==============================] - 2s 4ms/step - loss: 0.0378 - acc: 0.9879 - val_loss: 0.0596 - val_acc: 0.9818\n",
      "Epoch 18/30\n",
      "547/560 [============================>.] - ETA: 0s - loss: 0.0359 - acc: 0.9879WARNING:tensorflow:Can save best model only with val_accuracy available, skipping.\n",
      "560/560 [==============================] - 2s 4ms/step - loss: 0.0356 - acc: 0.9880 - val_loss: 0.0505 - val_acc: 0.9849\n",
      "Epoch 19/30\n",
      "547/560 [============================>.] - ETA: 0s - loss: 0.0374 - acc: 0.9874WARNING:tensorflow:Can save best model only with val_accuracy available, skipping.\n",
      "560/560 [==============================] - 2s 4ms/step - loss: 0.0374 - acc: 0.9873 - val_loss: 0.0576 - val_acc: 0.9831\n",
      "Epoch 20/30\n",
      "553/560 [============================>.] - ETA: 0s - loss: 0.0333 - acc: 0.9881WARNING:tensorflow:Can save best model only with val_accuracy available, skipping.\n",
      "560/560 [==============================] - 2s 4ms/step - loss: 0.0332 - acc: 0.9882 - val_loss: 0.0560 - val_acc: 0.9836\n",
      "Epoch 21/30\n",
      "555/560 [============================>.] - ETA: 0s - loss: 0.0316 - acc: 0.9889WARNING:tensorflow:Can save best model only with val_accuracy available, skipping.\n",
      "560/560 [==============================] - 2s 4ms/step - loss: 0.0317 - acc: 0.9888 - val_loss: 0.0762 - val_acc: 0.9802\n",
      "Epoch 22/30\n",
      "557/560 [============================>.] - ETA: 0s - loss: 0.0299 - acc: 0.9893WARNING:tensorflow:Can save best model only with val_accuracy available, skipping.\n",
      "560/560 [==============================] - 2s 4ms/step - loss: 0.0300 - acc: 0.9893 - val_loss: 0.0516 - val_acc: 0.9857\n",
      "Epoch 23/30\n",
      "554/560 [============================>.] - ETA: 0s - loss: 0.0284 - acc: 0.9907WARNING:tensorflow:Can save best model only with val_accuracy available, skipping.\n",
      "560/560 [==============================] - 2s 4ms/step - loss: 0.0282 - acc: 0.9908 - val_loss: 0.0614 - val_acc: 0.9812\n",
      "Epoch 24/30\n",
      "554/560 [============================>.] - ETA: 0s - loss: 0.0278 - acc: 0.9903WARNING:tensorflow:Can save best model only with val_accuracy available, skipping.\n",
      "560/560 [==============================] - 2s 4ms/step - loss: 0.0277 - acc: 0.9904 - val_loss: 0.0652 - val_acc: 0.9797\n",
      "Epoch 25/30\n",
      "551/560 [============================>.] - ETA: 0s - loss: 0.0285 - acc: 0.9905WARNING:tensorflow:Can save best model only with val_accuracy available, skipping.\n",
      "560/560 [==============================] - 2s 4ms/step - loss: 0.0292 - acc: 0.9904 - val_loss: 0.0717 - val_acc: 0.9818\n",
      "Epoch 26/30\n",
      "550/560 [============================>.] - ETA: 0s - loss: 0.0264 - acc: 0.9907WARNING:tensorflow:Can save best model only with val_accuracy available, skipping.\n",
      "560/560 [==============================] - 2s 4ms/step - loss: 0.0262 - acc: 0.9907 - val_loss: 0.0592 - val_acc: 0.9831\n",
      "Epoch 27/30\n",
      "548/560 [============================>.] - ETA: 0s - loss: 0.0254 - acc: 0.9918WARNING:tensorflow:Can save best model only with val_accuracy available, skipping.\n",
      "560/560 [==============================] - 2s 4ms/step - loss: 0.0251 - acc: 0.9918 - val_loss: 0.0533 - val_acc: 0.9846\n",
      "Epoch 28/30\n",
      "553/560 [============================>.] - ETA: 0s - loss: 0.0213 - acc: 0.9929WARNING:tensorflow:Can save best model only with val_accuracy available, skipping.\n",
      "560/560 [==============================] - 2s 4ms/step - loss: 0.0216 - acc: 0.9927 - val_loss: 0.0642 - val_acc: 0.9849\n"
     ]
    },
    {
     "name": "stdout",
     "output_type": "stream",
     "text": [
      "Epoch 29/30\n",
      "548/560 [============================>.] - ETA: 0s - loss: 0.0193 - acc: 0.9931WARNING:tensorflow:Can save best model only with val_accuracy available, skipping.\n",
      "560/560 [==============================] - 2s 4ms/step - loss: 0.0193 - acc: 0.9931 - val_loss: 0.0714 - val_acc: 0.9810\n",
      "Epoch 30/30\n",
      "553/560 [============================>.] - ETA: 0s - loss: 0.0206 - acc: 0.9933WARNING:tensorflow:Can save best model only with val_accuracy available, skipping.\n",
      "560/560 [==============================] - 2s 4ms/step - loss: 0.0205 - acc: 0.9934 - val_loss: 0.0671 - val_acc: 0.9823\n"
     ]
    }
   ],
   "source": [
    "history_log = model3.fit(x_train, y_train, epochs=30, verbose=1, validation_data=(x_test, y_test), callbacks=[checkpoint])\n"
   ]
  },
  {
   "cell_type": "code",
   "execution_count": 28,
   "id": "44709207",
   "metadata": {},
   "outputs": [],
   "source": [
    "model3.save_weights('/home/sahaj432/Desktop/code_organized/G_signal_feature_reduction_Project/New_neural_code_SNR_1.25_v/F2.h5')\n"
   ]
  },
  {
   "cell_type": "code",
   "execution_count": 29,
   "id": "d09ba0e4",
   "metadata": {},
   "outputs": [],
   "source": [
    "model3.load_weights('/home/sahaj432/Desktop/code_organized/G_signal_feature_reduction_Project/New_neural_code_SNR_1.25_v/F2.h5')\n"
   ]
  },
  {
   "cell_type": "code",
   "execution_count": 30,
   "id": "994f96a7",
   "metadata": {},
   "outputs": [],
   "source": [
    "predictions = model3.predict(x_test)\n",
    "pred_arg = np.argmax(predictions, axis=1)"
   ]
  },
  {
   "cell_type": "code",
   "execution_count": 31,
   "id": "abb59028",
   "metadata": {},
   "outputs": [
    {
     "name": "stdout",
     "output_type": "stream",
     "text": [
      "cnf_matrix_2.0_70\n",
      "\n",
      "[[960   1   0   2]\n",
      " [  0 965  34   2]\n",
      " [  0  19 963   0]\n",
      " [  8   1   1 881]]\n"
     ]
    }
   ],
   "source": [
    "from sklearn.metrics import confusion_matrix\n",
    "cnf_matrix=confusion_matrix(y_test,pred_arg)\n",
    "print(\"cnf_matrix_2.0_70\")\n",
    "print(\"\")\n",
    "print(cnf_matrix)"
   ]
  },
  {
   "cell_type": "code",
   "execution_count": 32,
   "id": "9f134881",
   "metadata": {},
   "outputs": [],
   "source": [
    "from sklearn.metrics import accuracy_score, recall_score,precision_score,roc_auc_score,roc_curve,f1_score\n"
   ]
  },
  {
   "cell_type": "code",
   "execution_count": 33,
   "id": "0f419b16",
   "metadata": {
    "scrolled": true
   },
   "outputs": [
    {
     "name": "stdout",
     "output_type": "stream",
     "text": [
      "98.22778212144905\n",
      "98.26153493865466\n",
      "98.22778212144905\n",
      "98.23445017716544\n"
     ]
    }
   ],
   "source": [
    "print(accuracy_score(y_test,pred_arg)*100)\n",
    "print(f1_score(y_test,pred_arg,average='macro')*100)\n",
    "print(recall_score(y_test,pred_arg, average=\"weighted\")*100)\n",
    "print(precision_score(y_test,pred_arg, average=\"weighted\")*100)"
   ]
  },
  {
   "cell_type": "code",
   "execution_count": null,
   "id": "9a6122db",
   "metadata": {},
   "outputs": [],
   "source": []
  },
  {
   "cell_type": "code",
   "execution_count": null,
   "id": "90845a20",
   "metadata": {},
   "outputs": [],
   "source": []
  },
  {
   "cell_type": "code",
   "execution_count": null,
   "id": "dd00c7be",
   "metadata": {},
   "outputs": [],
   "source": []
  }
 ],
 "metadata": {
  "anaconda-cloud": {},
  "kernelspec": {
   "display_name": "Python [conda env:root] *",
   "language": "python",
   "name": "conda-root-py"
  },
  "language_info": {
   "codemirror_mode": {
    "name": "ipython",
    "version": 3
   },
   "file_extension": ".py",
   "mimetype": "text/x-python",
   "name": "python",
   "nbconvert_exporter": "python",
   "pygments_lexer": "ipython3",
   "version": "3.9.12"
  }
 },
 "nbformat": 4,
 "nbformat_minor": 5
}
