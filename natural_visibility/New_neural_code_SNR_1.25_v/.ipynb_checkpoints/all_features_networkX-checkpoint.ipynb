{
 "cells": [
  {
   "cell_type": "code",
   "execution_count": 1,
   "id": "9c4dc733",
   "metadata": {},
   "outputs": [
    {
     "name": "stdout",
     "output_type": "stream",
     "text": [
      "Loading PyIOmica 1.3.3 (https://github.com/gmiaslab/pyiomica by G. Mias Lab)\n"
     ]
    },
    {
     "name": "stderr",
     "output_type": "stream",
     "text": [
      "/data/user/home/sahaj432/Desktop/code_organized/G_signal_feature_reduction_Project/New_neural_code/pyiomica_master/pyiomica/visibilityGraphAuxiliaryFunctions.py:91: NumbaDeprecationWarning: \u001b[1mThe 'nopython' keyword argument was not supplied to the 'numba.jit' decorator. The implicit default value for this argument is currently False, but it will be changed to True in Numba 0.59.0. See https://numba.readthedocs.io/en/stable/reference/deprecation.html#deprecation-of-object-mode-fall-back-behaviour-when-using-jit for details.\u001b[0m\n",
      "  @numba.jit(cache=True)\n"
     ]
    }
   ],
   "source": [
    "import numpy as np\n",
    "import os\n",
    "import glob\n",
    "import seaborn as sns\n",
    "import matplotlib.pyplot as plt\n",
    "from pyiomica_master import pyiomica as pio\n",
    "from pyiomica_master.pyiomica import visualizationFunctions\n",
    "from pyiomica_master.pyiomica import visibilityGraphCommunityDetection\n",
    "import matplotlib as mpl\n",
    "from sklearn.utils import shuffle\n",
    "from sklearn.model_selection import train_test_split\n",
    "\n",
    "from tqdm import tqdm\n",
    "%matplotlib inline"
   ]
  },
  {
   "cell_type": "code",
   "execution_count": 2,
   "id": "b297825b",
   "metadata": {},
   "outputs": [],
   "source": [
    "x_frame1_05 = np.genfromtxt('/home/sahaj432/Desktop/dataset/neural_4_class/x_frame1_2_seed.csv', delimiter=',')\n",
    "x_frame2_05 = np.genfromtxt('/home/sahaj432/Desktop/dataset/neural_4_class/x_frame2_2_seed.csv', delimiter=',')\n",
    "x_frame3_05 = np.genfromtxt('/home/sahaj432/Desktop/dataset/neural_4_class/x_frame3_2_seed.csv', delimiter=',')\n",
    "x_framen_05= np.genfromtxt('/home/sahaj432/Desktop/dataset/neural_4_class/x_frame_noise_2_seed.csv', delimiter=',')"
   ]
  },
  {
   "cell_type": "code",
   "execution_count": 3,
   "id": "79eaf877",
   "metadata": {},
   "outputs": [],
   "source": [
    "x=np.concatenate((x_frame1_05,x_frame2_05,x_frame3_05,x_framen_05),axis=0)\n",
    "y=np.concatenate((np.zeros(len(x_frame1_05)),np.zeros(len(x_frame2_05))+1,np.zeros(len(x_frame3_05))+2,np.zeros(len(x_framen_05))+3),axis=0)"
   ]
  },
  {
   "cell_type": "code",
   "execution_count": 4,
   "id": "3ea7e902",
   "metadata": {},
   "outputs": [],
   "source": [
    "X, Y = shuffle(x,y, random_state=1)"
   ]
  },
  {
   "cell_type": "code",
   "execution_count": 6,
   "id": "b78a4e4f",
   "metadata": {},
   "outputs": [],
   "source": [
    "def calculate_adj(data):\n",
    "    temp1=[]\n",
    "    for p, i in enumerate(data):\n",
    "        #print(f'Converting ==> {p+1} \\r', end=\"\",flush=True)\n",
    "        vs_out = visibilityGraphCommunityDetection.createVisibilityGraph(i, range(len(i)), \"natural\", weight='tan')\n",
    "        \n",
    "        temp1.append(vs_out)\n",
    "        \n",
    "    return np.asarray(temp1)"
   ]
  },
  {
   "cell_type": "code",
   "execution_count": 7,
   "id": "72622fca",
   "metadata": {},
   "outputs": [],
   "source": [
    "def degree(data): #The node strengths (or weighted degrees) \n",
    "    return np.sum(data, axis=0).flatten()"
   ]
  },
  {
   "cell_type": "code",
   "execution_count": 8,
   "id": "4d75824f",
   "metadata": {},
   "outputs": [],
   "source": [
    "def graph_index_complexity(matrix):\n",
    "    N = len(matrix) # Number of nodes\n",
    "    E = np.sum(matrix > 0) / 2 # Number of edges (since matrix is symmetric for undirected graphs)\n",
    "    \n",
    "    if N == 0 or E == 0:\n",
    "        return 0\n",
    "    \n",
    "    GIC = (E / N) * np.log(N)\n",
    "    return GIC"
   ]
  },
  {
   "cell_type": "code",
   "execution_count": 9,
   "id": "9b55ca07",
   "metadata": {},
   "outputs": [],
   "source": [
    "x_adj=calculate_adj(X[:4])"
   ]
  },
  {
   "cell_type": "code",
   "execution_count": 10,
   "id": "37e26890",
   "metadata": {},
   "outputs": [],
   "source": [
    "import networkx as nx\n",
    "\n",
    "G = nx.from_numpy_array(x_adj[0], parallel_edges=False)"
   ]
  },
  {
   "cell_type": "code",
   "execution_count": 16,
   "id": "a89ba311",
   "metadata": {
    "collapsed": true
   },
   "outputs": [
    {
     "data": {
      "text/plain": [
       "[0,\n",
       " 0,\n",
       " 0.3333333333333333,\n",
       " 1.0,\n",
       " 0.3333333333333333,\n",
       " 0.6071428571428571,\n",
       " 1.0,\n",
       " 0.6428571428571429,\n",
       " 1.0,\n",
       " 0.9,\n",
       " 0.7619047619047619,\n",
       " 1.0,\n",
       " 0.8,\n",
       " 0.5047619047619047,\n",
       " 0.5904761904761905,\n",
       " 0.5769230769230769,\n",
       " 1.0,\n",
       " 1.0,\n",
       " 0.7333333333333333,\n",
       " 1.0,\n",
       " 0.41830065359477125,\n",
       " 0.8,\n",
       " 1.0,\n",
       " 0.6666666666666666,\n",
       " 0.8,\n",
       " 0.5824175824175825,\n",
       " 1.0,\n",
       " 0.7575757575757576,\n",
       " 1.0,\n",
       " 0.9111111111111111,\n",
       " 0.55,\n",
       " 0.9,\n",
       " 0.8,\n",
       " 1.0,\n",
       " 0.5333333333333333,\n",
       " 0.6666666666666666,\n",
       " 1.0,\n",
       " 0.8333333333333334,\n",
       " 0.6,\n",
       " 0.7272727272727273,\n",
       " 0.6190476190476191,\n",
       " 0.29347826086956524,\n",
       " 0.4722222222222222,\n",
       " 0.8333333333333334,\n",
       " 1.0,\n",
       " 0.8333333333333334,\n",
       " 0.4166666666666667,\n",
       " 1.0,\n",
       " 1.0,\n",
       " 0.6,\n",
       " 0.8,\n",
       " 0.9,\n",
       " 0.4444444444444444,\n",
       " 1.0,\n",
       " 1.0,\n",
       " 0.6666666666666666]"
      ]
     },
     "execution_count": 16,
     "metadata": {},
     "output_type": "execute_result"
    }
   ],
   "source": [
    "#list\n",
    "list(nx.clustering(G).values())"
   ]
  },
  {
   "cell_type": "code",
   "execution_count": 42,
   "id": "188712cf",
   "metadata": {},
   "outputs": [
    {
     "data": {
      "text/plain": [
       "0.732860133809382"
      ]
     },
     "execution_count": 42,
     "metadata": {},
     "output_type": "execute_result"
    }
   ],
   "source": [
    "nx.average_clustering(G)"
   ]
  },
  {
   "cell_type": "code",
   "execution_count": 13,
   "id": "3e784b94",
   "metadata": {},
   "outputs": [
    {
     "data": {
      "text/plain": [
       "0.4655411255411216"
      ]
     },
     "execution_count": 13,
     "metadata": {},
     "output_type": "execute_result"
    }
   ],
   "source": [
    "nx.global_efficiency(G)"
   ]
  },
  {
   "cell_type": "code",
   "execution_count": 14,
   "id": "7b33d2e6",
   "metadata": {},
   "outputs": [
    {
     "data": {
      "text/plain": [
       "0.841908791396573"
      ]
     },
     "execution_count": 14,
     "metadata": {},
     "output_type": "execute_result"
    }
   ],
   "source": [
    "nx.local_efficiency(G)"
   ]
  },
  {
   "cell_type": "code",
   "execution_count": 31,
   "id": "26053d6c",
   "metadata": {},
   "outputs": [
    {
     "data": {
      "text/plain": [
       "2.575974025974026"
      ]
     },
     "execution_count": 31,
     "metadata": {},
     "output_type": "execute_result"
    }
   ],
   "source": [
    "nx.average_shortest_path_length(G)"
   ]
  },
  {
   "cell_type": "code",
   "execution_count": 38,
   "id": "95413ea3",
   "metadata": {},
   "outputs": [
    {
     "data": {
      "text/plain": [
       "1.9839124389113407"
      ]
     },
     "execution_count": 38,
     "metadata": {},
     "output_type": "execute_result"
    }
   ],
   "source": [
    "nx.sigma(G, niter=1, nrand=1, seed=None)"
   ]
  },
  {
   "cell_type": "code",
   "execution_count": 39,
   "id": "4e2f635a",
   "metadata": {
    "collapsed": true
   },
   "outputs": [
    {
     "data": {
      "text/plain": [
       "{0: 0.0019383105590825473,\n",
       " 1: 0.021692401202581434,\n",
       " 2: 0.2408298671328287,\n",
       " 3: 0.08575591677154656,\n",
       " 4: 0.05583639621266519,\n",
       " 5: 0.2983011911554717,\n",
       " 6: 0.12455315872529041,\n",
       " 7: 0.1168520803001281,\n",
       " 8: 0.04858121169500769,\n",
       " 9: 0.1285380365714691,\n",
       " 10: 0.1424680357033355,\n",
       " 11: 0.09475596133643394,\n",
       " 12: 0.014417791738671306,\n",
       " 13: 0.06659916237565344,\n",
       " 14: 0.021490034377100856,\n",
       " 15: 0.17390422838794994,\n",
       " 16: 0.04494372572914804,\n",
       " 17: 0.08916599796017881,\n",
       " 18: 0.23991262498694285,\n",
       " 19: 0.12076598852129468,\n",
       " 20: 0.09263112760676578,\n",
       " 21: 0.09491224035612215,\n",
       " 22: 0.02780993950099496,\n",
       " 23: 0.2163196280375032,\n",
       " 24: 0.04535090943466113,\n",
       " 25: 0.04535090943466113,\n",
       " 26: 0.04535090943466113,\n",
       " 27: 0.20051837454561275,\n",
       " 28: 0.14348014201875833,\n",
       " 29: 0.2614198192859432,\n",
       " 30: 0.10014322788809134,\n",
       " 31: 0.15155854292722654,\n",
       " 32: 0.14334428310016373,\n",
       " 33: 0.15353519053056822,\n",
       " 34: 0.1242413361021908,\n",
       " 35: 0.12862210217628187,\n",
       " 36: 0.11843119474587735,\n",
       " 37: 0.08851167418699597,\n",
       " 38: 0.07056772070287158,\n",
       " 39: 0.12879387367250428,\n",
       " 40: 0.20115100681806394,\n",
       " 41: 0.343003123733721,\n",
       " 42: 0.3647600858252587,\n",
       " 43: 0.04336996197088741,\n",
       " 44: 0.012036907701301666,\n",
       " 45: 0.01235097238546577,\n",
       " 46: 0.010660263330233805,\n",
       " 47: 0.01008431127806037,\n",
       " 48: 0.011433736369787891,\n",
       " 49: 0.006833066124736385,\n",
       " 50: 0.00961337219173165,\n",
       " 51: 0.010873101075853493,\n",
       " 52: 0.012101016320278515,\n",
       " 53: 0.0065674372432794215,\n",
       " 54: 0.00856853808108917,\n",
       " 55: 0.009443238059187673}"
      ]
     },
     "execution_count": 39,
     "metadata": {},
     "output_type": "execute_result"
    }
   ],
   "source": [
    "#list\n",
    "nx.eigenvector_centrality(G)"
   ]
  },
  {
   "cell_type": "code",
   "execution_count": 41,
   "id": "342ad0e9",
   "metadata": {},
   "outputs": [
    {
     "data": {
      "text/plain": [
       "0.40116154556574707"
      ]
     },
     "execution_count": 41,
     "metadata": {},
     "output_type": "execute_result"
    }
   ],
   "source": [
    "nx.community.modularity(G,nx.community.label_propagation_communities(G))"
   ]
  },
  {
   "cell_type": "code",
   "execution_count": 45,
   "id": "c3cdfb14",
   "metadata": {
    "scrolled": true
   },
   "outputs": [
    {
     "data": {
      "text/plain": [
       "{0: 0.0,\n",
       " 1: 0.03636363636363637,\n",
       " 2: 0.10057496104141046,\n",
       " 3: 0.004019026241248466,\n",
       " 4: 0.0,\n",
       " 5: 0.10894489012499771,\n",
       " 6: 0.0001346801346801347,\n",
       " 7: 0.00547218213884881,\n",
       " 8: 0.0,\n",
       " 9: 0.005943562610229278,\n",
       " 10: 0.007393560423863454,\n",
       " 11: 0.030905738481496053,\n",
       " 12: 0.0,\n",
       " 13: 0.0114995902940567,\n",
       " 14: 0.0,\n",
       " 15: 0.05856961659333198,\n",
       " 16: 0.0,\n",
       " 17: 0.001985463096574208,\n",
       " 18: 0.03848177701909529,\n",
       " 19: 0.0006320515092444917,\n",
       " 20: 0.0,\n",
       " 21: 0.009474106140772806,\n",
       " 22: 0.0,\n",
       " 23: 0.08462456646667173,\n",
       " 24: 0.0,\n",
       " 25: 0.0,\n",
       " 26: 0.0,\n",
       " 27: 0.04884960718294051,\n",
       " 28: 0.0,\n",
       " 29: 0.030088347588174247,\n",
       " 30: 0.0,\n",
       " 31: 0.004289074718309858,\n",
       " 32: 0.0032789737082088498,\n",
       " 33: 0.003683014112249252,\n",
       " 34: 0.00995477452542381,\n",
       " 35: 0.01351927960508041,\n",
       " 36: 0.013272366024833495,\n",
       " 37: 0.0014637529064406532,\n",
       " 38: 0.00024691358024691364,\n",
       " 39: 0.004770723104056438,\n",
       " 40: 0.02755872130927028,\n",
       " 41: 0.09565943775846002,\n",
       " 42: 0.507032473883016,\n",
       " 43: 0.35385521885521887,\n",
       " 44: 0.0029854096520763184,\n",
       " 45: 0.0017789001122334456,\n",
       " 46: 0.0007968574635241302,\n",
       " 47: 8.417508417508418e-05,\n",
       " 48: 0.001318742985409652,\n",
       " 49: 0.0,\n",
       " 50: 0.0006453423120089787,\n",
       " 51: 0.00030864197530864197,\n",
       " 52: 0.0027328843995510664,\n",
       " 53: 0.0,\n",
       " 54: 0.0003367003367003367,\n",
       " 55: 0.000813692480359147}"
      ]
     },
     "execution_count": 45,
     "metadata": {},
     "output_type": "execute_result"
    }
   ],
   "source": [
    "#list\n",
    "nx.betweenness_centrality(G)"
   ]
  },
  {
   "cell_type": "code",
   "execution_count": 43,
   "id": "457a8208",
   "metadata": {},
   "outputs": [
    {
     "data": {
      "text/plain": [
       "0.5150093808630394"
      ]
     },
     "execution_count": 43,
     "metadata": {},
     "output_type": "execute_result"
    }
   ],
   "source": [
    "nx.transitivity(G)"
   ]
  },
  {
   "cell_type": "code",
   "execution_count": 15,
   "id": "e2677228",
   "metadata": {
    "collapsed": true
   },
   "outputs": [
    {
     "data": {
      "text/plain": [
       "-0.0690998546448585"
      ]
     },
     "execution_count": 15,
     "metadata": {},
     "output_type": "execute_result"
    }
   ],
   "source": [
    "nx.degree_assortativity_coefficient(G)"
   ]
  },
  {
   "cell_type": "code",
   "execution_count": null,
   "id": "9a6122db",
   "metadata": {},
   "outputs": [],
   "source": [
    "graph_index_complexity(x_adj)"
   ]
  },
  {
   "cell_type": "code",
   "execution_count": null,
   "id": "90845a20",
   "metadata": {},
   "outputs": [],
   "source": []
  },
  {
   "cell_type": "code",
   "execution_count": null,
   "id": "2f5cac89",
   "metadata": {},
   "outputs": [],
   "source": []
  }
 ],
 "metadata": {
  "anaconda-cloud": {},
  "kernelspec": {
   "display_name": "Python [conda env:root] *",
   "language": "python",
   "name": "conda-root-py"
  },
  "language_info": {
   "codemirror_mode": {
    "name": "ipython",
    "version": 3
   },
   "file_extension": ".py",
   "mimetype": "text/x-python",
   "name": "python",
   "nbconvert_exporter": "python",
   "pygments_lexer": "ipython3",
   "version": "3.9.12"
  }
 },
 "nbformat": 4,
 "nbformat_minor": 5
}
