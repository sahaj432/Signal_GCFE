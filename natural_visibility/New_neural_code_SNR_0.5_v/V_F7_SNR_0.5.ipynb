{
 "cells": [
  {
   "cell_type": "code",
   "execution_count": 1,
   "id": "89e29f03",
   "metadata": {},
   "outputs": [
    {
     "name": "stdout",
     "output_type": "stream",
     "text": [
      "Loading PyIOmica 1.3.3 (https://github.com/gmiaslab/pyiomica by G. Mias Lab)\n"
     ]
    },
    {
     "name": "stderr",
     "output_type": "stream",
     "text": [
      "/data/user/home/sahaj432/Desktop/code_organized/G_signal_feature_reduction_Project/New_neural_code_SNR_0.5_v/pyiomica_master/pyiomica/visibilityGraphAuxiliaryFunctions.py:91: NumbaDeprecationWarning: \u001b[1mThe 'nopython' keyword argument was not supplied to the 'numba.jit' decorator. The implicit default value for this argument is currently False, but it will be changed to True in Numba 0.59.0. See https://numba.readthedocs.io/en/stable/reference/deprecation.html#deprecation-of-object-mode-fall-back-behaviour-when-using-jit for details.\u001b[0m\n",
      "  @numba.jit(cache=True)\n"
     ]
    }
   ],
   "source": [
    "import numpy as np\n",
    "import os\n",
    "import glob\n",
    "import seaborn as sns\n",
    "import matplotlib.pyplot as plt\n",
    "from pyiomica_master import pyiomica as pio\n",
    "from pyiomica_master.pyiomica import visualizationFunctions\n",
    "from pyiomica_master.pyiomica import visibilityGraphCommunityDetection\n",
    "import matplotlib as mpl\n",
    "from sklearn.utils import shuffle\n",
    "from sklearn.model_selection import train_test_split\n",
    "\n",
    "from tqdm import tqdm\n",
    "%matplotlib inline"
   ]
  },
  {
   "cell_type": "code",
   "execution_count": 2,
   "id": "b297825b",
   "metadata": {},
   "outputs": [],
   "source": [
    "x_frame1_05 = np.genfromtxt('/home/sahaj432/Desktop/dataset/neural_4_class/x_frame1_0.5_seed.csv', delimiter=',')\n",
    "x_frame2_05 = np.genfromtxt('/home/sahaj432/Desktop/dataset/neural_4_class/x_frame2_0.5_seed.csv', delimiter=',')\n",
    "x_frame3_05 = np.genfromtxt('/home/sahaj432/Desktop/dataset/neural_4_class/x_frame3_0.5_seed.csv', delimiter=',')\n",
    "x_framen_05= np.genfromtxt('/home/sahaj432/Desktop/dataset/neural_4_class/x_frame_noise_0.5_seed.csv', delimiter=',')"
   ]
  },
  {
   "cell_type": "code",
   "execution_count": null,
   "id": "c61feafd",
   "metadata": {},
   "outputs": [],
   "source": []
  },
  {
   "cell_type": "code",
   "execution_count": 3,
   "id": "112c6fdf",
   "metadata": {},
   "outputs": [],
   "source": [
    "x=np.concatenate((x_frame1_05,x_frame2_05,x_frame3_05,x_framen_05),axis=0)\n",
    "y=np.concatenate((np.zeros(len(x_frame1_05)),np.zeros(len(x_frame2_05))+1,np.zeros(len(x_frame3_05))+2,np.zeros(len(x_framen_05))+3),axis=0)"
   ]
  },
  {
   "cell_type": "code",
   "execution_count": 4,
   "id": "cfcfbda9",
   "metadata": {},
   "outputs": [],
   "source": [
    "X, Y = shuffle(x,y, random_state=1)"
   ]
  },
  {
   "cell_type": "code",
   "execution_count": 5,
   "id": "7898816c",
   "metadata": {},
   "outputs": [],
   "source": [
    "def calculate_adj(data):\n",
    "    temp1=[]\n",
    "    for p, i in enumerate(data):\n",
    "        #print(f'Converting ==> {p+1} \\r', end=\"\",flush=True)\n",
    "        vs_out = visibilityGraphCommunityDetection.createVisibilityGraph(i, range(len(i)), \"natural\", weight='tan')\n",
    "        temp1.append(vs_out)\n",
    "        \n",
    "    return temp1"
   ]
  },
  {
   "cell_type": "code",
   "execution_count": 6,
   "id": "a609f105",
   "metadata": {
    "scrolled": true
   },
   "outputs": [
    {
     "name": "stdout",
     "output_type": "stream",
     "text": [
      "Number of CPU cores: 48\n"
     ]
    }
   ],
   "source": [
    "from multiprocessing import Pool\n",
    "import multiprocessing\n",
    "\n",
    "if __name__ == '__main__':\n",
    "    num_cores = multiprocessing.cpu_count()\n",
    "    print(\"Number of CPU cores:\", num_cores)"
   ]
  },
  {
   "cell_type": "code",
   "execution_count": 7,
   "id": "8cef4d3e",
   "metadata": {},
   "outputs": [
    {
     "name": "stdout",
     "output_type": "stream",
     "text": [
      "659\n"
     ]
    }
   ],
   "source": [
    "df=np.array_split(X, num_cores)\n",
    "print(len(df[0]))"
   ]
  },
  {
   "cell_type": "code",
   "execution_count": 8,
   "id": "1cf6a2bb",
   "metadata": {},
   "outputs": [],
   "source": [
    "with Pool(processes=num_cores) as pool:\n",
    "    results = pool.map(calculate_adj, df)\n",
    "\n",
    "pool.close()\n",
    "pool.join()"
   ]
  },
  {
   "cell_type": "code",
   "execution_count": 9,
   "id": "2f80b2a9",
   "metadata": {},
   "outputs": [],
   "source": [
    "x_adj=[]\n",
    "for submatrix in results:\n",
    "    x_adj.extend(submatrix)"
   ]
  },
  {
   "cell_type": "code",
   "execution_count": 10,
   "id": "55dc354c",
   "metadata": {},
   "outputs": [],
   "source": [
    "x_adj=np.array(x_adj)"
   ]
  },
  {
   "cell_type": "code",
   "execution_count": 11,
   "id": "65307fb4",
   "metadata": {},
   "outputs": [
    {
     "name": "stdout",
     "output_type": "stream",
     "text": [
      "(31615, 56, 56)\n"
     ]
    }
   ],
   "source": [
    "print(x_adj.shape)"
   ]
  },
  {
   "cell_type": "code",
   "execution_count": 12,
   "id": "39aadf37",
   "metadata": {},
   "outputs": [],
   "source": [
    "x_adj=x_adj.reshape(x_adj.shape[0],-1)"
   ]
  },
  {
   "cell_type": "code",
   "execution_count": 13,
   "id": "89f0a5a2",
   "metadata": {},
   "outputs": [
    {
     "name": "stdout",
     "output_type": "stream",
     "text": [
      "(31615, 3136)\n"
     ]
    }
   ],
   "source": [
    "print(x_adj.shape)"
   ]
  },
  {
   "cell_type": "code",
   "execution_count": 14,
   "id": "9f7b49ae",
   "metadata": {
    "scrolled": true
   },
   "outputs": [
    {
     "name": "stdout",
     "output_type": "stream",
     "text": [
      "--- 27.42267346382141 seconds ---\n"
     ]
    }
   ],
   "source": [
    "from sklearn.decomposition import IncrementalPCA\n",
    "n_components=112\n",
    "batch_size=2000\n",
    "ipca = IncrementalPCA(n_components=n_components, batch_size=batch_size)\n",
    "import time\n",
    "start_time = time.time()\n",
    "\n",
    "for i in range(0, x_adj.shape[0], batch_size):\n",
    "    ipca.partial_fit(x_adj[i:i+batch_size])\n",
    "\n",
    "X_ipca = ipca.transform(x_adj)\n",
    "    \n",
    "print(\"--- %s seconds ---\" % (time.time() - start_time))\n"
   ]
  },
  {
   "cell_type": "code",
   "execution_count": null,
   "id": "02c585c2",
   "metadata": {},
   "outputs": [],
   "source": [
    "\n"
   ]
  },
  {
   "cell_type": "code",
   "execution_count": 15,
   "id": "fcb8fbe5",
   "metadata": {},
   "outputs": [],
   "source": [
    "x_train, x_temp, y_train, y_temp = train_test_split(X_ipca, Y, test_size=0.30, random_state=42)\n",
    "x_val,x_test,y_val,y_test=train_test_split(x_temp,y_temp,test_size=0.50, random_state=42)"
   ]
  },
  {
   "cell_type": "code",
   "execution_count": 16,
   "id": "4ab593cf",
   "metadata": {},
   "outputs": [
    {
     "name": "stdout",
     "output_type": "stream",
     "text": [
      "(22130, 112)\n",
      "(4742, 112)\n",
      "(4743, 112)\n"
     ]
    }
   ],
   "source": [
    "print(x_train.shape)\n",
    "print(x_val.shape)\n",
    "print(x_test.shape)"
   ]
  },
  {
   "cell_type": "code",
   "execution_count": 17,
   "id": "c1022f00",
   "metadata": {},
   "outputs": [
    {
     "name": "stderr",
     "output_type": "stream",
     "text": [
      "2023-08-13 09:13:57.609688: W tensorflow/stream_executor/platform/default/dso_loader.cc:64] Could not load dynamic library 'libcudart.so.11.0'; dlerror: libcudart.so.11.0: cannot open shared object file: No such file or directory; LD_LIBRARY_PATH: /cm/shared/apps/slurm/18.08.9/lib64/slurm:/cm/shared/apps/slurm/18.08.9/lib64\n",
      "2023-08-13 09:13:57.609720: I tensorflow/stream_executor/cuda/cudart_stub.cc:29] Ignore above cudart dlerror if you do not have a GPU set up on your machine.\n"
     ]
    }
   ],
   "source": [
    "import tensorflow as tf\n"
   ]
  },
  {
   "cell_type": "code",
   "execution_count": 18,
   "id": "041aca53",
   "metadata": {},
   "outputs": [
    {
     "name": "stderr",
     "output_type": "stream",
     "text": [
      "2023-08-13 09:14:19.705546: W tensorflow/stream_executor/platform/default/dso_loader.cc:64] Could not load dynamic library 'libcuda.so.1'; dlerror: libcuda.so.1: cannot open shared object file: No such file or directory; LD_LIBRARY_PATH: /cm/shared/apps/slurm/18.08.9/lib64/slurm:/cm/shared/apps/slurm/18.08.9/lib64\n",
      "2023-08-13 09:14:19.705582: W tensorflow/stream_executor/cuda/cuda_driver.cc:269] failed call to cuInit: UNKNOWN ERROR (303)\n",
      "2023-08-13 09:14:19.705665: I tensorflow/stream_executor/cuda/cuda_diagnostics.cc:156] kernel driver does not appear to be running on this host (c0179): /proc/driver/nvidia/version does not exist\n",
      "2023-08-13 09:14:19.706070: I tensorflow/core/platform/cpu_feature_guard.cc:151] This TensorFlow binary is optimized with oneAPI Deep Neural Network Library (oneDNN) to use the following CPU instructions in performance-critical operations:  AVX2 AVX512F FMA\n",
      "To enable them in other operations, rebuild TensorFlow with the appropriate compiler flags.\n"
     ]
    }
   ],
   "source": [
    "input_shape = (x_train.shape[1],1)\n",
    "num_classes = 4\n",
    "model3 = tf.keras.models.Sequential()\n",
    "model3.add(tf.keras.layers.Conv1D(filters= 32, kernel_size=3, activation='relu',padding='same',input_shape= input_shape))\n",
    "model3.add(tf.keras.layers.MaxPooling1D(pool_size=2,strides=None,padding='valid'))\n",
    "\n",
    "model3.add(tf.keras.layers.Conv1D(filters=32, kernel_size=3,padding='same',activation='relu'))\n",
    "model3.add(tf.keras.layers.MaxPooling1D(pool_size=2,strides=None,padding='valid'))\n",
    "\n",
    "# model3.add(tf.keras.layers.Conv1D(filters=32, kernel_size=3,padding='same',activation='relu'))\n",
    "# model3.add(tf.keras.layers.MaxPooling1D(pool_size=2,strides=None,padding='valid'))\n",
    "# model3.add(tf.keras.layers.Conv1D(filters=32, kernel_size=3,padding='same',activation='relu'))\n",
    "# model3.add(tf.keras.layers.MaxPooling1D(pool_size=2,strides=None,padding='valid'))\n",
    "# model3.add(tf.keras.layers.Conv1D(filters=32, kernel_size=3,padding='same',activation='relu'))\n",
    "# model3.add(tf.keras.layers.MaxPooling1D(pool_size=2,strides=None,padding='valid'))\n",
    "# model3.add(tf.keras.layers.Conv1D(filters=32, kernel_size=3,padding='same',activation='relu'))\n",
    "# model3.add(tf.keras.layers.MaxPooling1D(pool_size=2,strides=None,padding='valid'))\n",
    "model3.add(tf.keras.layers.Flatten())\n",
    "\n",
    "model3.add(tf.keras.layers.Dense(100, activation='relu'))\n",
    "model3.add(tf.keras.layers.Dropout(0.1))\n",
    "model3.add(tf.keras.layers.Dense(100, activation='relu'))\n",
    "model3.add(tf.keras.layers.Dense(num_classes, activation='softmax'))"
   ]
  },
  {
   "cell_type": "code",
   "execution_count": 19,
   "id": "7d7a5c18",
   "metadata": {},
   "outputs": [
    {
     "name": "stdout",
     "output_type": "stream",
     "text": [
      "Model: \"sequential\"\n",
      "_________________________________________________________________\n",
      " Layer (type)                Output Shape              Param #   \n",
      "=================================================================\n",
      " conv1d (Conv1D)             (None, 112, 32)           128       \n",
      "                                                                 \n",
      " max_pooling1d (MaxPooling1D  (None, 56, 32)           0         \n",
      " )                                                               \n",
      "                                                                 \n",
      " conv1d_1 (Conv1D)           (None, 56, 32)            3104      \n",
      "                                                                 \n",
      " max_pooling1d_1 (MaxPooling  (None, 28, 32)           0         \n",
      " 1D)                                                             \n",
      "                                                                 \n",
      " flatten (Flatten)           (None, 896)               0         \n",
      "                                                                 \n",
      " dense (Dense)               (None, 100)               89700     \n",
      "                                                                 \n",
      " dropout (Dropout)           (None, 100)               0         \n",
      "                                                                 \n",
      " dense_1 (Dense)             (None, 100)               10100     \n",
      "                                                                 \n",
      " dense_2 (Dense)             (None, 4)                 404       \n",
      "                                                                 \n",
      "=================================================================\n",
      "Total params: 103,436\n",
      "Trainable params: 103,436\n",
      "Non-trainable params: 0\n",
      "_________________________________________________________________\n"
     ]
    }
   ],
   "source": [
    "model3.summary()"
   ]
  },
  {
   "cell_type": "code",
   "execution_count": 20,
   "id": "d6573d40",
   "metadata": {},
   "outputs": [],
   "source": [
    "model3.compile(loss='SparseCategoricalCrossentropy', optimizer='Adam', metrics=['acc'])\n"
   ]
  },
  {
   "cell_type": "code",
   "execution_count": 21,
   "id": "722b40ed",
   "metadata": {},
   "outputs": [],
   "source": [
    "from tensorflow.keras.callbacks import ModelCheckpoint\n",
    "from tensorflow.keras.models import load_model\n",
    "\n",
    "\n",
    "\n",
    "checkpoint = ModelCheckpoint('F7.h5', monitor='val_accuracy', verbose=1, save_best_only=True, mode='max')\n"
   ]
  },
  {
   "cell_type": "code",
   "execution_count": 22,
   "id": "43bf0926",
   "metadata": {
    "scrolled": true
   },
   "outputs": [
    {
     "name": "stdout",
     "output_type": "stream",
     "text": [
      "Epoch 1/30\n",
      "679/692 [============================>.] - ETA: 0s - loss: 0.1381 - acc: 0.9627WARNING:tensorflow:Can save best model only with val_accuracy available, skipping.\n",
      "692/692 [==============================] - 3s 4ms/step - loss: 0.1357 - acc: 0.9633 - val_loss: 0.0125 - val_acc: 0.9981\n",
      "Epoch 2/30\n",
      "690/692 [============================>.] - ETA: 0s - loss: 0.0150 - acc: 0.9971WARNING:tensorflow:Can save best model only with val_accuracy available, skipping.\n",
      "692/692 [==============================] - 2s 4ms/step - loss: 0.0150 - acc: 0.9971 - val_loss: 0.0086 - val_acc: 0.9983\n",
      "Epoch 3/30\n",
      "689/692 [============================>.] - ETA: 0s - loss: 0.0118 - acc: 0.9976WARNING:tensorflow:Can save best model only with val_accuracy available, skipping.\n",
      "692/692 [==============================] - 2s 4ms/step - loss: 0.0118 - acc: 0.9977 - val_loss: 0.0092 - val_acc: 0.9981\n",
      "Epoch 4/30\n",
      "681/692 [============================>.] - ETA: 0s - loss: 0.0103 - acc: 0.9977WARNING:tensorflow:Can save best model only with val_accuracy available, skipping.\n",
      "692/692 [==============================] - 2s 3ms/step - loss: 0.0105 - acc: 0.9976 - val_loss: 0.0087 - val_acc: 0.9981\n",
      "Epoch 5/30\n",
      "681/692 [============================>.] - ETA: 0s - loss: 0.0104 - acc: 0.9977WARNING:tensorflow:Can save best model only with val_accuracy available, skipping.\n",
      "692/692 [==============================] - 2s 3ms/step - loss: 0.0104 - acc: 0.9977 - val_loss: 0.0109 - val_acc: 0.9973\n",
      "Epoch 6/30\n",
      "688/692 [============================>.] - ETA: 0s - loss: 0.0084 - acc: 0.9984WARNING:tensorflow:Can save best model only with val_accuracy available, skipping.\n",
      "692/692 [==============================] - 2s 4ms/step - loss: 0.0086 - acc: 0.9984 - val_loss: 0.0090 - val_acc: 0.9985\n",
      "Epoch 7/30\n",
      "692/692 [==============================] - ETA: 0s - loss: 0.0078 - acc: 0.9985WARNING:tensorflow:Can save best model only with val_accuracy available, skipping.\n",
      "692/692 [==============================] - 2s 4ms/step - loss: 0.0078 - acc: 0.9985 - val_loss: 0.0102 - val_acc: 0.9977\n",
      "Epoch 8/30\n",
      "680/692 [============================>.] - ETA: 0s - loss: 0.0071 - acc: 0.9987WARNING:tensorflow:Can save best model only with val_accuracy available, skipping.\n",
      "692/692 [==============================] - 2s 3ms/step - loss: 0.0070 - acc: 0.9987 - val_loss: 0.0111 - val_acc: 0.9977\n",
      "Epoch 9/30\n",
      "688/692 [============================>.] - ETA: 0s - loss: 0.0071 - acc: 0.9985WARNING:tensorflow:Can save best model only with val_accuracy available, skipping.\n",
      "692/692 [==============================] - 2s 4ms/step - loss: 0.0071 - acc: 0.9985 - val_loss: 0.0118 - val_acc: 0.9975\n",
      "Epoch 10/30\n",
      "683/692 [============================>.] - ETA: 0s - loss: 0.0069 - acc: 0.9988WARNING:tensorflow:Can save best model only with val_accuracy available, skipping.\n",
      "692/692 [==============================] - 2s 3ms/step - loss: 0.0068 - acc: 0.9988 - val_loss: 0.0121 - val_acc: 0.9981\n",
      "Epoch 11/30\n",
      "682/692 [============================>.] - ETA: 0s - loss: 0.0065 - acc: 0.9985WARNING:tensorflow:Can save best model only with val_accuracy available, skipping.\n",
      "692/692 [==============================] - 2s 3ms/step - loss: 0.0064 - acc: 0.9986 - val_loss: 0.0181 - val_acc: 0.9973\n",
      "Epoch 12/30\n",
      "683/692 [============================>.] - ETA: 0s - loss: 0.0057 - acc: 0.9989WARNING:tensorflow:Can save best model only with val_accuracy available, skipping.\n",
      "692/692 [==============================] - 2s 3ms/step - loss: 0.0057 - acc: 0.9988 - val_loss: 0.0097 - val_acc: 0.9983\n",
      "Epoch 13/30\n",
      "691/692 [============================>.] - ETA: 0s - loss: 0.0044 - acc: 0.9991WARNING:tensorflow:Can save best model only with val_accuracy available, skipping.\n",
      "692/692 [==============================] - 2s 3ms/step - loss: 0.0044 - acc: 0.9991 - val_loss: 0.0112 - val_acc: 0.9981\n",
      "Epoch 14/30\n",
      "684/692 [============================>.] - ETA: 0s - loss: 0.0052 - acc: 0.9989WARNING:tensorflow:Can save best model only with val_accuracy available, skipping.\n",
      "692/692 [==============================] - 2s 3ms/step - loss: 0.0052 - acc: 0.9989 - val_loss: 0.0087 - val_acc: 0.9983\n",
      "Epoch 15/30\n",
      "680/692 [============================>.] - ETA: 0s - loss: 0.0044 - acc: 0.9990WARNING:tensorflow:Can save best model only with val_accuracy available, skipping.\n",
      "692/692 [==============================] - 2s 4ms/step - loss: 0.0043 - acc: 0.9990 - val_loss: 0.0096 - val_acc: 0.9983\n",
      "Epoch 16/30\n",
      "680/692 [============================>.] - ETA: 0s - loss: 0.0040 - acc: 0.9989WARNING:tensorflow:Can save best model only with val_accuracy available, skipping.\n",
      "692/692 [==============================] - 2s 4ms/step - loss: 0.0042 - acc: 0.9988 - val_loss: 0.0126 - val_acc: 0.9973\n",
      "Epoch 17/30\n",
      "686/692 [============================>.] - ETA: 0s - loss: 0.0039 - acc: 0.9988WARNING:tensorflow:Can save best model only with val_accuracy available, skipping.\n",
      "692/692 [==============================] - 2s 3ms/step - loss: 0.0039 - acc: 0.9988 - val_loss: 0.0140 - val_acc: 0.9983\n",
      "Epoch 18/30\n",
      "685/692 [============================>.] - ETA: 0s - loss: 0.0033 - acc: 0.9991WARNING:tensorflow:Can save best model only with val_accuracy available, skipping.\n",
      "692/692 [==============================] - 2s 3ms/step - loss: 0.0033 - acc: 0.9991 - val_loss: 0.0131 - val_acc: 0.9979\n",
      "Epoch 19/30\n",
      "681/692 [============================>.] - ETA: 0s - loss: 0.0035 - acc: 0.9991WARNING:tensorflow:Can save best model only with val_accuracy available, skipping.\n",
      "692/692 [==============================] - 2s 3ms/step - loss: 0.0034 - acc: 0.9991 - val_loss: 0.0148 - val_acc: 0.9983\n",
      "Epoch 20/30\n",
      "683/692 [============================>.] - ETA: 0s - loss: 0.0032 - acc: 0.9992WARNING:tensorflow:Can save best model only with val_accuracy available, skipping.\n",
      "692/692 [==============================] - 2s 3ms/step - loss: 0.0032 - acc: 0.9992 - val_loss: 0.0155 - val_acc: 0.9975\n",
      "Epoch 21/30\n",
      "686/692 [============================>.] - ETA: 0s - loss: 0.0050 - acc: 0.9985WARNING:tensorflow:Can save best model only with val_accuracy available, skipping.\n",
      "692/692 [==============================] - 2s 3ms/step - loss: 0.0050 - acc: 0.9985 - val_loss: 0.0110 - val_acc: 0.9981\n",
      "Epoch 22/30\n",
      "680/692 [============================>.] - ETA: 0s - loss: 0.0023 - acc: 0.9994WARNING:tensorflow:Can save best model only with val_accuracy available, skipping.\n",
      "692/692 [==============================] - 2s 4ms/step - loss: 0.0023 - acc: 0.9994 - val_loss: 0.0115 - val_acc: 0.9983\n",
      "Epoch 23/30\n",
      "692/692 [==============================] - ETA: 0s - loss: 0.0017 - acc: 0.9994 WARNING:tensorflow:Can save best model only with val_accuracy available, skipping.\n",
      "692/692 [==============================] - 2s 4ms/step - loss: 0.0017 - acc: 0.9994 - val_loss: 0.0188 - val_acc: 0.9956\n",
      "Epoch 24/30\n",
      "686/692 [============================>.] - ETA: 0s - loss: 0.0037 - acc: 0.9990WARNING:tensorflow:Can save best model only with val_accuracy available, skipping.\n",
      "692/692 [==============================] - 2s 3ms/step - loss: 0.0037 - acc: 0.9991 - val_loss: 0.0134 - val_acc: 0.9979\n",
      "Epoch 25/30\n",
      "686/692 [============================>.] - ETA: 0s - loss: 0.0017 - acc: 0.9995WARNING:tensorflow:Can save best model only with val_accuracy available, skipping.\n",
      "692/692 [==============================] - 2s 3ms/step - loss: 0.0017 - acc: 0.9995 - val_loss: 0.0122 - val_acc: 0.9979\n",
      "Epoch 26/30\n",
      "686/692 [============================>.] - ETA: 0s - loss: 9.7184e-04 - acc: 0.9997WARNING:tensorflow:Can save best model only with val_accuracy available, skipping.\n",
      "692/692 [==============================] - 2s 3ms/step - loss: 9.7799e-04 - acc: 0.9997 - val_loss: 0.0139 - val_acc: 0.9983\n",
      "Epoch 27/30\n",
      "687/692 [============================>.] - ETA: 0s - loss: 0.0027 - acc: 0.9990WARNING:tensorflow:Can save best model only with val_accuracy available, skipping.\n",
      "692/692 [==============================] - 2s 3ms/step - loss: 0.0027 - acc: 0.9991 - val_loss: 0.0141 - val_acc: 0.9983\n",
      "Epoch 28/30\n",
      "691/692 [============================>.] - ETA: 0s - loss: 0.0015 - acc: 0.9995WARNING:tensorflow:Can save best model only with val_accuracy available, skipping.\n",
      "692/692 [==============================] - 2s 3ms/step - loss: 0.0015 - acc: 0.9995 - val_loss: 0.0169 - val_acc: 0.9979\n"
     ]
    },
    {
     "name": "stdout",
     "output_type": "stream",
     "text": [
      "Epoch 29/30\n",
      "687/692 [============================>.] - ETA: 0s - loss: 8.9379e-04 - acc: 0.9995WARNING:tensorflow:Can save best model only with val_accuracy available, skipping.\n",
      "692/692 [==============================] - 2s 3ms/step - loss: 8.8800e-04 - acc: 0.9995 - val_loss: 0.0167 - val_acc: 0.9981\n",
      "Epoch 30/30\n",
      "691/692 [============================>.] - ETA: 0s - loss: 9.9977e-04 - acc: 0.9996WARNING:tensorflow:Can save best model only with val_accuracy available, skipping.\n",
      "692/692 [==============================] - 2s 4ms/step - loss: 9.9897e-04 - acc: 0.9996 - val_loss: 0.0168 - val_acc: 0.9981\n"
     ]
    }
   ],
   "source": [
    "history_log = model3.fit(x_train, y_train, epochs=30, verbose=1, validation_data=(x_test, y_test), callbacks=[checkpoint])\n"
   ]
  },
  {
   "cell_type": "code",
   "execution_count": 23,
   "id": "44709207",
   "metadata": {},
   "outputs": [],
   "source": [
    "model3.save_weights('/home/sahaj432/Desktop/code_organized/G_signal_feature_reduction_Project/New_neural_code_SNR_0.5_v/F7.h5')\n"
   ]
  },
  {
   "cell_type": "code",
   "execution_count": 24,
   "id": "d09ba0e4",
   "metadata": {},
   "outputs": [],
   "source": [
    "model3.load_weights('/home/sahaj432/Desktop/code_organized/G_signal_feature_reduction_Project/New_neural_code_SNR_0.5_v/F7.h5')\n"
   ]
  },
  {
   "cell_type": "code",
   "execution_count": 25,
   "id": "994f96a7",
   "metadata": {},
   "outputs": [],
   "source": [
    "predictions = model3.predict(x_test)\n",
    "pred_arg = np.argmax(predictions, axis=1)"
   ]
  },
  {
   "cell_type": "code",
   "execution_count": 26,
   "id": "abb59028",
   "metadata": {},
   "outputs": [
    {
     "name": "stdout",
     "output_type": "stream",
     "text": [
      "cnf_matrix_2.0_70\n",
      "\n",
      "[[1005    0    0    1]\n",
      " [   0  959    1    2]\n",
      " [   0    3  954    0]\n",
      " [   0    0    2 1816]]\n"
     ]
    }
   ],
   "source": [
    "from sklearn.metrics import confusion_matrix\n",
    "cnf_matrix=confusion_matrix(y_test,pred_arg)\n",
    "print(\"cnf_matrix_2.0_70\")\n",
    "print(\"\")\n",
    "print(cnf_matrix)"
   ]
  },
  {
   "cell_type": "code",
   "execution_count": 27,
   "id": "9f134881",
   "metadata": {},
   "outputs": [],
   "source": [
    "from sklearn.metrics import accuracy_score, recall_score,precision_score,roc_auc_score,roc_curve,f1_score\n"
   ]
  },
  {
   "cell_type": "code",
   "execution_count": 28,
   "id": "0f419b16",
   "metadata": {},
   "outputs": [
    {
     "name": "stdout",
     "output_type": "stream",
     "text": [
      "99.81024667931689\n",
      "99.79686690459707\n",
      "99.81024667931689\n",
      "99.81028145177808\n"
     ]
    }
   ],
   "source": [
    "print(accuracy_score(y_test,pred_arg)*100)\n",
    "print(f1_score(y_test,pred_arg,average='macro')*100)\n",
    "print(recall_score(y_test,pred_arg, average=\"weighted\")*100)\n",
    "print(precision_score(y_test,pred_arg, average=\"weighted\")*100)"
   ]
  },
  {
   "cell_type": "code",
   "execution_count": null,
   "id": "868acb03",
   "metadata": {},
   "outputs": [],
   "source": []
  },
  {
   "cell_type": "code",
   "execution_count": null,
   "id": "a8cadd42",
   "metadata": {},
   "outputs": [],
   "source": []
  },
  {
   "cell_type": "code",
   "execution_count": null,
   "id": "9ba39972",
   "metadata": {},
   "outputs": [],
   "source": []
  }
 ],
 "metadata": {
  "anaconda-cloud": {},
  "kernelspec": {
   "display_name": "Python [conda env:root] *",
   "language": "python",
   "name": "conda-root-py"
  },
  "language_info": {
   "codemirror_mode": {
    "name": "ipython",
    "version": 3
   },
   "file_extension": ".py",
   "mimetype": "text/x-python",
   "name": "python",
   "nbconvert_exporter": "python",
   "pygments_lexer": "ipython3",
   "version": "3.9.12"
  }
 },
 "nbformat": 4,
 "nbformat_minor": 5
}
