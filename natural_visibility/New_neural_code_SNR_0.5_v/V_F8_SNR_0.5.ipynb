{
 "cells": [
  {
   "cell_type": "code",
   "execution_count": 1,
   "id": "89e29f03",
   "metadata": {},
   "outputs": [
    {
     "name": "stdout",
     "output_type": "stream",
     "text": [
      "Loading PyIOmica 1.3.3 (https://github.com/gmiaslab/pyiomica by G. Mias Lab)\n"
     ]
    },
    {
     "name": "stderr",
     "output_type": "stream",
     "text": [
      "/data/user/home/sahaj432/Desktop/code_organized/G_signal_feature_reduction_Project/New_neural_code_SNR_0.5_v/pyiomica_master/pyiomica/visibilityGraphAuxiliaryFunctions.py:91: NumbaDeprecationWarning: \u001b[1mThe 'nopython' keyword argument was not supplied to the 'numba.jit' decorator. The implicit default value for this argument is currently False, but it will be changed to True in Numba 0.59.0. See https://numba.readthedocs.io/en/stable/reference/deprecation.html#deprecation-of-object-mode-fall-back-behaviour-when-using-jit for details.\u001b[0m\n",
      "  @numba.jit(cache=True)\n"
     ]
    }
   ],
   "source": [
    "import numpy as np\n",
    "import os\n",
    "import glob\n",
    "import seaborn as sns\n",
    "import matplotlib.pyplot as plt\n",
    "from pyiomica_master import pyiomica as pio\n",
    "from pyiomica_master.pyiomica import visualizationFunctions\n",
    "from pyiomica_master.pyiomica import visibilityGraphCommunityDetection\n",
    "import matplotlib as mpl\n",
    "from sklearn.utils import shuffle\n",
    "from sklearn.model_selection import train_test_split\n",
    "\n",
    "from tqdm import tqdm\n",
    "%matplotlib inline"
   ]
  },
  {
   "cell_type": "code",
   "execution_count": 2,
   "id": "b297825b",
   "metadata": {},
   "outputs": [],
   "source": [
    "x_frame1_05 = np.genfromtxt('/home/sahaj432/Desktop/dataset/neural_4_class/x_frame1_0.5_seed.csv', delimiter=',')\n",
    "x_frame2_05 = np.genfromtxt('/home/sahaj432/Desktop/dataset/neural_4_class/x_frame2_0.5_seed.csv', delimiter=',')\n",
    "x_frame3_05 = np.genfromtxt('/home/sahaj432/Desktop/dataset/neural_4_class/x_frame3_0.5_seed.csv', delimiter=',')\n",
    "x_framen_05= np.genfromtxt('/home/sahaj432/Desktop/dataset/neural_4_class/x_frame_noise_0.5_seed.csv', delimiter=',')"
   ]
  },
  {
   "cell_type": "code",
   "execution_count": null,
   "id": "c61feafd",
   "metadata": {},
   "outputs": [],
   "source": []
  },
  {
   "cell_type": "code",
   "execution_count": 3,
   "id": "112c6fdf",
   "metadata": {},
   "outputs": [],
   "source": [
    "x=np.concatenate((x_frame1_05,x_frame2_05,x_frame3_05,x_framen_05),axis=0)\n",
    "y=np.concatenate((np.zeros(len(x_frame1_05)),np.zeros(len(x_frame2_05))+1,np.zeros(len(x_frame3_05))+2,np.zeros(len(x_framen_05))+3),axis=0)"
   ]
  },
  {
   "cell_type": "code",
   "execution_count": 4,
   "id": "cfcfbda9",
   "metadata": {},
   "outputs": [],
   "source": [
    "X, Y = shuffle(x,y, random_state=1)"
   ]
  },
  {
   "cell_type": "code",
   "execution_count": 5,
   "id": "7898816c",
   "metadata": {},
   "outputs": [],
   "source": [
    "def calculate_adj(data):\n",
    "    temp1=[]\n",
    "    for p, i in enumerate(data):\n",
    "        #print(f'Converting ==> {p+1} \\r', end=\"\",flush=True)\n",
    "        vs_out = visibilityGraphCommunityDetection.createVisibilityGraph(i, range(len(i)), \"natural\", weight='tan')\n",
    "        temp1.append(vs_out)\n",
    "        \n",
    "    return temp1"
   ]
  },
  {
   "cell_type": "code",
   "execution_count": 6,
   "id": "5786a500",
   "metadata": {
    "scrolled": true
   },
   "outputs": [
    {
     "name": "stdout",
     "output_type": "stream",
     "text": [
      "Number of CPU cores: 48\n"
     ]
    }
   ],
   "source": [
    "from multiprocessing import Pool\n",
    "import multiprocessing\n",
    "\n",
    "if __name__ == '__main__':\n",
    "    num_cores = multiprocessing.cpu_count()\n",
    "    print(\"Number of CPU cores:\", num_cores)"
   ]
  },
  {
   "cell_type": "code",
   "execution_count": 7,
   "id": "2f35de61",
   "metadata": {},
   "outputs": [
    {
     "name": "stdout",
     "output_type": "stream",
     "text": [
      "659\n"
     ]
    }
   ],
   "source": [
    "df=np.array_split(X, num_cores)\n",
    "print(len(df[0]))"
   ]
  },
  {
   "cell_type": "code",
   "execution_count": 8,
   "id": "682fc94e",
   "metadata": {},
   "outputs": [],
   "source": [
    "with Pool(processes=num_cores) as pool:\n",
    "    results = pool.map(calculate_adj, df)\n",
    "\n",
    "pool.close()\n",
    "pool.join()"
   ]
  },
  {
   "cell_type": "code",
   "execution_count": 9,
   "id": "37086d28",
   "metadata": {},
   "outputs": [],
   "source": [
    "x_adj=[]\n",
    "for submatrix in results:\n",
    "    x_adj.extend(submatrix)"
   ]
  },
  {
   "cell_type": "code",
   "execution_count": 10,
   "id": "d8730cf6",
   "metadata": {},
   "outputs": [],
   "source": [
    "x_adj=np.array(x_adj)"
   ]
  },
  {
   "cell_type": "code",
   "execution_count": 11,
   "id": "c8699c57",
   "metadata": {},
   "outputs": [],
   "source": [
    "def calculate_g(data):\n",
    "    temp2=[]\n",
    "    for vs_out in data:\n",
    "        a = np.sum(vs_out, axis=0).reshape(-1, 1)\n",
    "        b = np.sum(vs_out != 0, axis=1).reshape(-1, 1)\n",
    "        temp2.append(np.concatenate((a, b), axis=1))\n",
    "        \n",
    "    return temp2"
   ]
  },
  {
   "cell_type": "code",
   "execution_count": 12,
   "id": "6c582fda",
   "metadata": {},
   "outputs": [
    {
     "name": "stdout",
     "output_type": "stream",
     "text": [
      "Number of CPU cores: 48\n",
      "659\n"
     ]
    }
   ],
   "source": [
    "from multiprocessing import Pool\n",
    "import multiprocessing\n",
    "\n",
    "if __name__ == '__main__':\n",
    "    num_cores = multiprocessing.cpu_count()\n",
    "    print(\"Number of CPU cores:\", num_cores)\n",
    "\n",
    "\n",
    "df1=np.array_split(x_adj[:], num_cores)\n",
    "\n",
    "\n",
    "print(len(df[0]))\n",
    "\n",
    "\n"
   ]
  },
  {
   "cell_type": "code",
   "execution_count": 13,
   "id": "489e53ab",
   "metadata": {},
   "outputs": [
    {
     "name": "stdout",
     "output_type": "stream",
     "text": [
      "--- 1.5474345684051514 seconds ---\n"
     ]
    }
   ],
   "source": [
    "\n",
    "import time\n",
    "start_time = time.time()\n",
    "with Pool(processes=num_cores) as pool1:\n",
    "    results1 = pool1.map(calculate_g, df1)\n",
    "\n",
    "pool1.close()\n",
    "pool1.join()\n",
    "\n",
    "print(\"--- %s seconds ---\" % (time.time() - start_time))\n"
   ]
  },
  {
   "cell_type": "code",
   "execution_count": 14,
   "id": "4bd5c260",
   "metadata": {},
   "outputs": [],
   "source": [
    "x_g=[]\n",
    "for submatrix in results1:\n",
    "    x_g.extend(submatrix)"
   ]
  },
  {
   "cell_type": "code",
   "execution_count": 15,
   "id": "e7087c73",
   "metadata": {},
   "outputs": [],
   "source": [
    "x_g=np.array(x_g)\n"
   ]
  },
  {
   "cell_type": "code",
   "execution_count": 16,
   "id": "6a1404fa",
   "metadata": {},
   "outputs": [
    {
     "name": "stdout",
     "output_type": "stream",
     "text": [
      "(31615, 56, 2)\n"
     ]
    }
   ],
   "source": [
    "print(x_g.shape)"
   ]
  },
  {
   "cell_type": "code",
   "execution_count": 17,
   "id": "f5f0b6a9",
   "metadata": {},
   "outputs": [],
   "source": [
    "x_g_flat=np.array([np.array(i.T.flatten()).ravel() for i in x_g])\n"
   ]
  },
  {
   "cell_type": "code",
   "execution_count": null,
   "id": "34ed68c8",
   "metadata": {},
   "outputs": [],
   "source": []
  },
  {
   "cell_type": "code",
   "execution_count": 18,
   "id": "fcb8fbe5",
   "metadata": {},
   "outputs": [],
   "source": [
    "x_train, x_temp, y_train, y_temp = train_test_split(x_g_flat, Y, test_size=0.30, random_state=42)\n",
    "x_val,x_test,y_val,y_test=train_test_split(x_temp,y_temp,test_size=0.50, random_state=42)"
   ]
  },
  {
   "cell_type": "code",
   "execution_count": 19,
   "id": "4ab593cf",
   "metadata": {},
   "outputs": [
    {
     "name": "stdout",
     "output_type": "stream",
     "text": [
      "(22130, 112)\n",
      "(4742, 112)\n",
      "(4743, 112)\n"
     ]
    }
   ],
   "source": [
    "print(x_train.shape)\n",
    "print(x_val.shape)\n",
    "print(x_test.shape)"
   ]
  },
  {
   "cell_type": "code",
   "execution_count": 20,
   "id": "c1022f00",
   "metadata": {},
   "outputs": [
    {
     "name": "stderr",
     "output_type": "stream",
     "text": [
      "2023-08-13 09:06:25.618079: W tensorflow/stream_executor/platform/default/dso_loader.cc:64] Could not load dynamic library 'libcudart.so.11.0'; dlerror: libcudart.so.11.0: cannot open shared object file: No such file or directory; LD_LIBRARY_PATH: /cm/shared/apps/slurm/18.08.9/lib64/slurm:/cm/shared/apps/slurm/18.08.9/lib64\n",
      "2023-08-13 09:06:25.618115: I tensorflow/stream_executor/cuda/cudart_stub.cc:29] Ignore above cudart dlerror if you do not have a GPU set up on your machine.\n"
     ]
    }
   ],
   "source": [
    "import tensorflow as tf\n"
   ]
  },
  {
   "cell_type": "code",
   "execution_count": 21,
   "id": "041aca53",
   "metadata": {},
   "outputs": [
    {
     "name": "stderr",
     "output_type": "stream",
     "text": [
      "2023-08-13 09:06:49.040731: W tensorflow/stream_executor/platform/default/dso_loader.cc:64] Could not load dynamic library 'libcuda.so.1'; dlerror: libcuda.so.1: cannot open shared object file: No such file or directory; LD_LIBRARY_PATH: /cm/shared/apps/slurm/18.08.9/lib64/slurm:/cm/shared/apps/slurm/18.08.9/lib64\n",
      "2023-08-13 09:06:49.040763: W tensorflow/stream_executor/cuda/cuda_driver.cc:269] failed call to cuInit: UNKNOWN ERROR (303)\n",
      "2023-08-13 09:06:49.040794: I tensorflow/stream_executor/cuda/cuda_diagnostics.cc:156] kernel driver does not appear to be running on this host (c0186): /proc/driver/nvidia/version does not exist\n",
      "2023-08-13 09:06:49.041075: I tensorflow/core/platform/cpu_feature_guard.cc:151] This TensorFlow binary is optimized with oneAPI Deep Neural Network Library (oneDNN) to use the following CPU instructions in performance-critical operations:  AVX2 AVX512F FMA\n",
      "To enable them in other operations, rebuild TensorFlow with the appropriate compiler flags.\n"
     ]
    }
   ],
   "source": [
    "input_shape = (x_train.shape[1],1)\n",
    "num_classes = 4\n",
    "model3 = tf.keras.models.Sequential()\n",
    "model3.add(tf.keras.layers.Conv1D(filters= 32, kernel_size=3, activation='relu',padding='same',input_shape= input_shape))\n",
    "model3.add(tf.keras.layers.MaxPooling1D(pool_size=2,strides=None,padding='valid'))\n",
    "\n",
    "model3.add(tf.keras.layers.Conv1D(filters=32, kernel_size=3,padding='same',activation='relu'))\n",
    "model3.add(tf.keras.layers.MaxPooling1D(pool_size=2,strides=None,padding='valid'))\n",
    "\n",
    "# model3.add(tf.keras.layers.Conv1D(filters=32, kernel_size=3,padding='same',activation='relu'))\n",
    "# model3.add(tf.keras.layers.MaxPooling1D(pool_size=2,strides=None,padding='valid'))\n",
    "# model3.add(tf.keras.layers.Conv1D(filters=32, kernel_size=3,padding='same',activation='relu'))\n",
    "# model3.add(tf.keras.layers.MaxPooling1D(pool_size=2,strides=None,padding='valid'))\n",
    "# model3.add(tf.keras.layers.Conv1D(filters=32, kernel_size=3,padding='same',activation='relu'))\n",
    "# model3.add(tf.keras.layers.MaxPooling1D(pool_size=2,strides=None,padding='valid'))\n",
    "# model3.add(tf.keras.layers.Conv1D(filters=32, kernel_size=3,padding='same',activation='relu'))\n",
    "# model3.add(tf.keras.layers.MaxPooling1D(pool_size=2,strides=None,padding='valid'))\n",
    "model3.add(tf.keras.layers.Flatten())\n",
    "\n",
    "model3.add(tf.keras.layers.Dense(100, activation='relu'))\n",
    "model3.add(tf.keras.layers.Dropout(0.1))\n",
    "model3.add(tf.keras.layers.Dense(100, activation='relu'))\n",
    "model3.add(tf.keras.layers.Dense(num_classes, activation='softmax'))"
   ]
  },
  {
   "cell_type": "code",
   "execution_count": 22,
   "id": "7d7a5c18",
   "metadata": {},
   "outputs": [
    {
     "name": "stdout",
     "output_type": "stream",
     "text": [
      "Model: \"sequential\"\n",
      "_________________________________________________________________\n",
      " Layer (type)                Output Shape              Param #   \n",
      "=================================================================\n",
      " conv1d (Conv1D)             (None, 112, 32)           128       \n",
      "                                                                 \n",
      " max_pooling1d (MaxPooling1D  (None, 56, 32)           0         \n",
      " )                                                               \n",
      "                                                                 \n",
      " conv1d_1 (Conv1D)           (None, 56, 32)            3104      \n",
      "                                                                 \n",
      " max_pooling1d_1 (MaxPooling  (None, 28, 32)           0         \n",
      " 1D)                                                             \n",
      "                                                                 \n",
      " flatten (Flatten)           (None, 896)               0         \n",
      "                                                                 \n",
      " dense (Dense)               (None, 100)               89700     \n",
      "                                                                 \n",
      " dropout (Dropout)           (None, 100)               0         \n",
      "                                                                 \n",
      " dense_1 (Dense)             (None, 100)               10100     \n",
      "                                                                 \n",
      " dense_2 (Dense)             (None, 4)                 404       \n",
      "                                                                 \n",
      "=================================================================\n",
      "Total params: 103,436\n",
      "Trainable params: 103,436\n",
      "Non-trainable params: 0\n",
      "_________________________________________________________________\n"
     ]
    }
   ],
   "source": [
    "model3.summary()"
   ]
  },
  {
   "cell_type": "code",
   "execution_count": 23,
   "id": "d6573d40",
   "metadata": {},
   "outputs": [],
   "source": [
    "model3.compile(loss='SparseCategoricalCrossentropy', optimizer='Adam', metrics=['acc'])\n"
   ]
  },
  {
   "cell_type": "code",
   "execution_count": 24,
   "id": "722b40ed",
   "metadata": {},
   "outputs": [],
   "source": [
    "from tensorflow.keras.callbacks import ModelCheckpoint\n",
    "from tensorflow.keras.models import load_model\n",
    "\n",
    "\n",
    "\n",
    "checkpoint = ModelCheckpoint('F8.h5', monitor='val_accuracy', verbose=1, save_best_only=True, mode='max')\n"
   ]
  },
  {
   "cell_type": "code",
   "execution_count": 25,
   "id": "43bf0926",
   "metadata": {
    "scrolled": true
   },
   "outputs": [
    {
     "name": "stdout",
     "output_type": "stream",
     "text": [
      "Epoch 1/30\n",
      "692/692 [==============================] - ETA: 0s - loss: 0.1086 - acc: 0.9616WARNING:tensorflow:Can save best model only with val_accuracy available, skipping.\n",
      "692/692 [==============================] - 3s 4ms/step - loss: 0.1086 - acc: 0.9616 - val_loss: 0.0204 - val_acc: 0.9958\n",
      "Epoch 2/30\n",
      "690/692 [============================>.] - ETA: 0s - loss: 0.0261 - acc: 0.9937WARNING:tensorflow:Can save best model only with val_accuracy available, skipping.\n",
      "692/692 [==============================] - 2s 3ms/step - loss: 0.0264 - acc: 0.9937 - val_loss: 0.0164 - val_acc: 0.9952\n",
      "Epoch 3/30\n",
      "679/692 [============================>.] - ETA: 0s - loss: 0.0186 - acc: 0.9957WARNING:tensorflow:Can save best model only with val_accuracy available, skipping.\n",
      "692/692 [==============================] - 2s 3ms/step - loss: 0.0185 - acc: 0.9957 - val_loss: 0.0151 - val_acc: 0.9966\n",
      "Epoch 4/30\n",
      "682/692 [============================>.] - ETA: 0s - loss: 0.0191 - acc: 0.9954WARNING:tensorflow:Can save best model only with val_accuracy available, skipping.\n",
      "692/692 [==============================] - 2s 3ms/step - loss: 0.0189 - acc: 0.9954 - val_loss: 0.0133 - val_acc: 0.9973\n",
      "Epoch 5/30\n",
      "692/692 [==============================] - ETA: 0s - loss: 0.0150 - acc: 0.9965WARNING:tensorflow:Can save best model only with val_accuracy available, skipping.\n",
      "692/692 [==============================] - 2s 3ms/step - loss: 0.0150 - acc: 0.9965 - val_loss: 0.0147 - val_acc: 0.9966\n",
      "Epoch 6/30\n",
      "686/692 [============================>.] - ETA: 0s - loss: 0.0119 - acc: 0.9974WARNING:tensorflow:Can save best model only with val_accuracy available, skipping.\n",
      "692/692 [==============================] - 2s 4ms/step - loss: 0.0118 - acc: 0.9974 - val_loss: 0.0156 - val_acc: 0.9968\n",
      "Epoch 7/30\n",
      "686/692 [============================>.] - ETA: 0s - loss: 0.0141 - acc: 0.9964WARNING:tensorflow:Can save best model only with val_accuracy available, skipping.\n",
      "692/692 [==============================] - 2s 3ms/step - loss: 0.0149 - acc: 0.9963 - val_loss: 0.0143 - val_acc: 0.9970\n",
      "Epoch 8/30\n",
      "685/692 [============================>.] - ETA: 0s - loss: 0.0106 - acc: 0.9974WARNING:tensorflow:Can save best model only with val_accuracy available, skipping.\n",
      "692/692 [==============================] - 2s 3ms/step - loss: 0.0106 - acc: 0.9974 - val_loss: 0.0182 - val_acc: 0.9947\n",
      "Epoch 9/30\n",
      "682/692 [============================>.] - ETA: 0s - loss: 0.0113 - acc: 0.9971WARNING:tensorflow:Can save best model only with val_accuracy available, skipping.\n",
      "692/692 [==============================] - 2s 3ms/step - loss: 0.0115 - acc: 0.9971 - val_loss: 0.0218 - val_acc: 0.9945\n",
      "Epoch 10/30\n",
      "679/692 [============================>.] - ETA: 0s - loss: 0.0104 - acc: 0.9976WARNING:tensorflow:Can save best model only with val_accuracy available, skipping.\n",
      "692/692 [==============================] - 2s 3ms/step - loss: 0.0102 - acc: 0.9976 - val_loss: 0.0121 - val_acc: 0.9973\n",
      "Epoch 11/30\n",
      "685/692 [============================>.] - ETA: 0s - loss: 0.0080 - acc: 0.9981WARNING:tensorflow:Can save best model only with val_accuracy available, skipping.\n",
      "692/692 [==============================] - 2s 3ms/step - loss: 0.0079 - acc: 0.9981 - val_loss: 0.0131 - val_acc: 0.9968\n",
      "Epoch 12/30\n",
      "686/692 [============================>.] - ETA: 0s - loss: 0.0080 - acc: 0.9977WARNING:tensorflow:Can save best model only with val_accuracy available, skipping.\n",
      "692/692 [==============================] - 2s 3ms/step - loss: 0.0080 - acc: 0.9977 - val_loss: 0.0221 - val_acc: 0.9958\n",
      "Epoch 13/30\n",
      "680/692 [============================>.] - ETA: 0s - loss: 0.0080 - acc: 0.9980WARNING:tensorflow:Can save best model only with val_accuracy available, skipping.\n",
      "692/692 [==============================] - 2s 3ms/step - loss: 0.0079 - acc: 0.9980 - val_loss: 0.0191 - val_acc: 0.9958\n",
      "Epoch 14/30\n",
      "681/692 [============================>.] - ETA: 0s - loss: 0.0076 - acc: 0.9981WARNING:tensorflow:Can save best model only with val_accuracy available, skipping.\n",
      "692/692 [==============================] - 2s 3ms/step - loss: 0.0076 - acc: 0.9981 - val_loss: 0.0186 - val_acc: 0.9962\n",
      "Epoch 15/30\n",
      "680/692 [============================>.] - ETA: 0s - loss: 0.0063 - acc: 0.9984WARNING:tensorflow:Can save best model only with val_accuracy available, skipping.\n",
      "692/692 [==============================] - 2s 3ms/step - loss: 0.0062 - acc: 0.9985 - val_loss: 0.0151 - val_acc: 0.9960\n",
      "Epoch 16/30\n",
      "682/692 [============================>.] - ETA: 0s - loss: 0.0067 - acc: 0.9983WARNING:tensorflow:Can save best model only with val_accuracy available, skipping.\n",
      "692/692 [==============================] - 2s 3ms/step - loss: 0.0066 - acc: 0.9983 - val_loss: 0.0153 - val_acc: 0.9970\n",
      "Epoch 17/30\n",
      "682/692 [============================>.] - ETA: 0s - loss: 0.0055 - acc: 0.9987WARNING:tensorflow:Can save best model only with val_accuracy available, skipping.\n",
      "692/692 [==============================] - 2s 3ms/step - loss: 0.0055 - acc: 0.9987 - val_loss: 0.0136 - val_acc: 0.9973\n",
      "Epoch 18/30\n",
      "687/692 [============================>.] - ETA: 0s - loss: 0.0059 - acc: 0.9978WARNING:tensorflow:Can save best model only with val_accuracy available, skipping.\n",
      "692/692 [==============================] - 2s 3ms/step - loss: 0.0058 - acc: 0.9978 - val_loss: 0.0173 - val_acc: 0.9964\n",
      "Epoch 19/30\n",
      "681/692 [============================>.] - ETA: 0s - loss: 0.0063 - acc: 0.9985WARNING:tensorflow:Can save best model only with val_accuracy available, skipping.\n",
      "692/692 [==============================] - 2s 3ms/step - loss: 0.0062 - acc: 0.9985 - val_loss: 0.0178 - val_acc: 0.9970\n",
      "Epoch 20/30\n",
      "688/692 [============================>.] - ETA: 0s - loss: 0.0047 - acc: 0.9989WARNING:tensorflow:Can save best model only with val_accuracy available, skipping.\n",
      "692/692 [==============================] - 2s 3ms/step - loss: 0.0047 - acc: 0.9989 - val_loss: 0.0152 - val_acc: 0.9975\n",
      "Epoch 21/30\n",
      "680/692 [============================>.] - ETA: 0s - loss: 0.0031 - acc: 0.9990WARNING:tensorflow:Can save best model only with val_accuracy available, skipping.\n",
      "692/692 [==============================] - 2s 3ms/step - loss: 0.0031 - acc: 0.9991 - val_loss: 0.0153 - val_acc: 0.9975\n",
      "Epoch 22/30\n",
      "690/692 [============================>.] - ETA: 0s - loss: 0.0046 - acc: 0.9985WARNING:tensorflow:Can save best model only with val_accuracy available, skipping.\n",
      "692/692 [==============================] - 2s 3ms/step - loss: 0.0046 - acc: 0.9985 - val_loss: 0.0145 - val_acc: 0.9964\n",
      "Epoch 23/30\n",
      "679/692 [============================>.] - ETA: 0s - loss: 0.0033 - acc: 0.9990WARNING:tensorflow:Can save best model only with val_accuracy available, skipping.\n",
      "692/692 [==============================] - 2s 3ms/step - loss: 0.0033 - acc: 0.9990 - val_loss: 0.0200 - val_acc: 0.9964\n",
      "Epoch 24/30\n",
      "677/692 [============================>.] - ETA: 0s - loss: 0.0054 - acc: 0.9987WARNING:tensorflow:Can save best model only with val_accuracy available, skipping.\n",
      "692/692 [==============================] - 2s 3ms/step - loss: 0.0053 - acc: 0.9987 - val_loss: 0.0233 - val_acc: 0.9945\n",
      "Epoch 25/30\n",
      "686/692 [============================>.] - ETA: 0s - loss: 0.0045 - acc: 0.9986WARNING:tensorflow:Can save best model only with val_accuracy available, skipping.\n",
      "692/692 [==============================] - 2s 3ms/step - loss: 0.0044 - acc: 0.9986 - val_loss: 0.0163 - val_acc: 0.9977\n",
      "Epoch 26/30\n",
      "684/692 [============================>.] - ETA: 0s - loss: 0.0047 - acc: 0.9989WARNING:tensorflow:Can save best model only with val_accuracy available, skipping.\n",
      "692/692 [==============================] - 2s 3ms/step - loss: 0.0046 - acc: 0.9989 - val_loss: 0.0122 - val_acc: 0.9975\n",
      "Epoch 27/30\n",
      "686/692 [============================>.] - ETA: 0s - loss: 0.0039 - acc: 0.9987WARNING:tensorflow:Can save best model only with val_accuracy available, skipping.\n",
      "692/692 [==============================] - 2s 3ms/step - loss: 0.0041 - acc: 0.9986 - val_loss: 0.0187 - val_acc: 0.9966\n",
      "Epoch 28/30\n",
      "677/692 [============================>.] - ETA: 0s - loss: 0.0039 - acc: 0.9988WARNING:tensorflow:Can save best model only with val_accuracy available, skipping.\n",
      "692/692 [==============================] - 2s 3ms/step - loss: 0.0039 - acc: 0.9988 - val_loss: 0.0181 - val_acc: 0.9968\n"
     ]
    },
    {
     "name": "stdout",
     "output_type": "stream",
     "text": [
      "Epoch 29/30\n",
      "690/692 [============================>.] - ETA: 0s - loss: 0.0020 - acc: 0.9994WARNING:tensorflow:Can save best model only with val_accuracy available, skipping.\n",
      "692/692 [==============================] - 2s 3ms/step - loss: 0.0020 - acc: 0.9994 - val_loss: 0.0217 - val_acc: 0.9968\n",
      "Epoch 30/30\n",
      "676/692 [============================>.] - ETA: 0s - loss: 0.0047 - acc: 0.9988WARNING:tensorflow:Can save best model only with val_accuracy available, skipping.\n",
      "692/692 [==============================] - 2s 3ms/step - loss: 0.0046 - acc: 0.9988 - val_loss: 0.0247 - val_acc: 0.9958\n"
     ]
    }
   ],
   "source": [
    "history_log = model3.fit(x_train, y_train, epochs=30, verbose=1, validation_data=(x_test, y_test), callbacks=[checkpoint])\n"
   ]
  },
  {
   "cell_type": "code",
   "execution_count": 26,
   "id": "44709207",
   "metadata": {},
   "outputs": [],
   "source": [
    "model3.save_weights('/home/sahaj432/Desktop/code_organized/G_signal_feature_reduction_Project/New_neural_code_SNR_0.5_v/F8.h5')\n"
   ]
  },
  {
   "cell_type": "code",
   "execution_count": 27,
   "id": "d09ba0e4",
   "metadata": {},
   "outputs": [],
   "source": [
    "model3.load_weights('/home/sahaj432/Desktop/code_organized/G_signal_feature_reduction_Project/New_neural_code_SNR_0.5_v/F8.h5')\n"
   ]
  },
  {
   "cell_type": "code",
   "execution_count": 28,
   "id": "994f96a7",
   "metadata": {},
   "outputs": [],
   "source": [
    "predictions = model3.predict(x_test)\n",
    "pred_arg = np.argmax(predictions, axis=1)"
   ]
  },
  {
   "cell_type": "code",
   "execution_count": 29,
   "id": "abb59028",
   "metadata": {},
   "outputs": [
    {
     "name": "stdout",
     "output_type": "stream",
     "text": [
      "cnf_matrix_2.0_70\n",
      "\n",
      "[[1005    0    0    1]\n",
      " [   2  957    0    3]\n",
      " [   0    7  950    0]\n",
      " [   3    2    2 1811]]\n"
     ]
    }
   ],
   "source": [
    "from sklearn.metrics import confusion_matrix\n",
    "cnf_matrix=confusion_matrix(y_test,pred_arg)\n",
    "print(\"cnf_matrix_2.0_70\")\n",
    "print(\"\")\n",
    "print(cnf_matrix)"
   ]
  },
  {
   "cell_type": "code",
   "execution_count": 30,
   "id": "9f134881",
   "metadata": {},
   "outputs": [],
   "source": [
    "from sklearn.metrics import accuracy_score, recall_score,precision_score,roc_auc_score,roc_curve,f1_score\n"
   ]
  },
  {
   "cell_type": "code",
   "execution_count": 31,
   "id": "0f419b16",
   "metadata": {},
   "outputs": [
    {
     "name": "stdout",
     "output_type": "stream",
     "text": [
      "99.57832595403752\n",
      "99.55050219512485\n",
      "99.57832595403752\n",
      "99.57916831728896\n"
     ]
    }
   ],
   "source": [
    "print(accuracy_score(y_test,pred_arg)*100)\n",
    "print(f1_score(y_test,pred_arg,average='macro')*100)\n",
    "print(recall_score(y_test,pred_arg, average=\"weighted\")*100)\n",
    "print(precision_score(y_test,pred_arg, average=\"weighted\")*100)"
   ]
  },
  {
   "cell_type": "code",
   "execution_count": null,
   "id": "a8cadd42",
   "metadata": {},
   "outputs": [],
   "source": []
  },
  {
   "cell_type": "code",
   "execution_count": null,
   "id": "9ba39972",
   "metadata": {},
   "outputs": [],
   "source": []
  }
 ],
 "metadata": {
  "anaconda-cloud": {},
  "kernelspec": {
   "display_name": "Python [conda env:root] *",
   "language": "python",
   "name": "conda-root-py"
  },
  "language_info": {
   "codemirror_mode": {
    "name": "ipython",
    "version": 3
   },
   "file_extension": ".py",
   "mimetype": "text/x-python",
   "name": "python",
   "nbconvert_exporter": "python",
   "pygments_lexer": "ipython3",
   "version": "3.9.12"
  }
 },
 "nbformat": 4,
 "nbformat_minor": 5
}
